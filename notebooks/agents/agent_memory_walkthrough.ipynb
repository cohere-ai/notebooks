{
 "cells": [
  {
   "cell_type": "markdown",
   "metadata": {
    "collapsed": false
   },
   "source": [
    "# Notebook Overview\n",
    "\n",
    "## Motivation\n",
    "Users frequently engage in long conversations with LLMs with the expectation that the LLM fully recalls what was said in the previous turns.\n",
    "The way we make LLMs aware of previous information is by simply providing them the full conversation history, i.e., the concatenation of previous input queries and generations.\n",
    "\n",
    "As Agents become more and more used, we face the issue to make Agents fully aware of the info from previous turns.\n",
    "The current approach is to pass the Agent the generations of the previous turns (see https://python.langchain.com/docs/modules/agents/how_to/custom_agent/). However, as we show below, while this is a good approach for LLMs it is not for Agents. Given the same input, LLMs *only* produce the final generation; conversely, Agents *first* produce a reasoning chain (intermediate steps), *then* produce the final outcome. Hence, if we only retain the final generation we lose some crucial info: the reasoning chain.\n",
    "\n",
    "A straightforward solution to this issue would be to append to the conversation history from both the reasoning chain and the generations. This is problematic due to the fact that reasoning chains can be very long, especially when the model makes mistakes and corrects itself. Using the full reasoning chains would (i) introduce a lot of noise; (ii) quickly fill the whole input window of the model.\n",
    "\n",
    "## Objective\n",
    "\n",
    "In this notebook we introduce a simple approach to address the issue described above. We propose to use *augmented memory objects*, which we define as compact and interpretable pieces of information based on the reasoning chain and the generation.\n",
    "\n",
    "Below, we show that, with augmented memory objects, the Agent is more aware of the information that emerged in the conversation, and, in turn, this makes the Agent behaviour more robust and effective.\n",
    "\n",
    "## Table of Contents\n",
    "\n",
    "- [Step 1: Setup the Prompt and the Agent](#sec_step1)\n",
    "- [Step 2: Conversation without memory](#sec_step2)\n",
    "- [Step 3: Conversation with Memory using AI Messages](#sec_step3)\n",
    "- [Step 4: Conversation with Memory using AI Messages and Human Messages](#sec_step4)\n",
    "- [Step 5: Conversation with Memory using AI Messages and Human Messages](#sec_step5)"
   ]
  },
  {
   "cell_type": "markdown",
   "metadata": {
    "collapsed": false
   },
   "source": [
    "<a name=\"sec_step1\"></a>\n",
    "# Step 1: Setup the Prompt and the Agent"
   ]
  },
  {
   "cell_type": "code",
   "execution_count": null,
   "metadata": {
    "collapsed": false,
    "is_executing": true
   },
   "outputs": [],
   "source": [
    "# Uncomment if you need to install the following packages\n",
    "# !pip install cohere\n",
    "# !pip install python-dotenv\n",
    "# !pip install pandas"
   ]
  },
  {
   "cell_type": "code",
   "execution_count": 17,
   "metadata": {
    "collapsed": false
   },
   "outputs": [],
   "source": [
    "import os\n",
    "import pandas as pd\n",
    "import getpass\n",
    "from langchain_core.prompts import ChatPromptTemplate\n",
    "from langchain_experimental.utilities import PythonREPL\n",
    "from langchain_core.pydantic_v1 import BaseModel, Field\n",
    "from langchain.agents import Tool\n",
    "from langchain_cohere.chat_models import ChatCohere\n",
    "from langchain_cohere.react_multi_hop.agent import create_cohere_react_agent\n",
    "from langchain.agents import AgentExecutor\n",
    "from langchain_core.messages.ai import AIMessage\n",
    "from langchain_core.messages.system import SystemMessage\n",
    "from langchain_core.messages.human import HumanMessage"
   ]
  },
  {
   "cell_type": "code",
   "execution_count": 2,
   "metadata": {
    "collapsed": false
   },
   "outputs": [],
   "source": [
    "# load the cohere api key\n",
    "os.environ[\"COHERE_API_KEY\"] = getpass.getpass()"
   ]
  },
  {
   "cell_type": "code",
   "execution_count": 3,
   "metadata": {
    "collapsed": false
   },
   "outputs": [],
   "source": [
    "# Load the data\n",
    "revenue_table = pd.read_csv('revenue_table.csv')"
   ]
  },
  {
   "cell_type": "code",
   "execution_count": 4,
   "metadata": {
    "collapsed": false
   },
   "outputs": [],
   "source": [
    "# Define the prompt\n",
    "prompt = ChatPromptTemplate.from_template(\"{input}\")"
   ]
  },
  {
   "cell_type": "code",
   "execution_count": 5,
   "metadata": {
    "collapsed": false
   },
   "outputs": [],
   "source": [
    "# Define the tools\n",
    "python_repl = PythonREPL()\n",
    "python_tool = Tool(\n",
    "    name=\"python_repl\",\n",
    "    description=\"Executes python code and returns the result. The code runs in a static sandbox without interactive mode, so print output or save output to a file.\",\n",
    "    func=python_repl.run,\n",
    ")\n",
    "python_tool.name = \"python_interpreter\"\n",
    "\n",
    "class ToolInput(BaseModel):\n",
    "    code: str = Field(description=\"Python code to execute.\")\n",
    "python_tool.args_schema = ToolInput\n",
    "\n",
    "tools=[python_tool]"
   ]
  },
  {
   "cell_type": "code",
   "execution_count": 18,
   "metadata": {
    "collapsed": false
   },
   "outputs": [],
   "source": [
    "# Define the agent\n",
    "llm = ChatCohere(model=\"command-r\", temperature=0)\n",
    "\n",
    "# instantiate agent and agent executor\n",
    "agent = create_cohere_react_agent(\n",
    "   llm=llm,\n",
    "   tools=tools,\n",
    "   prompt=prompt,\n",
    ")\n",
    "agent_executor = AgentExecutor(agent=agent,\n",
    "                               tools=tools,\n",
    "                               verbose=True,\n",
    "                               return_intermediate_steps=True\n",
    "                    )"
   ]
  },
  {
   "cell_type": "markdown",
   "metadata": {
    "collapsed": false
   },
   "source": [
    "<a name=\"sec_step2\"></a>\n",
    "# Step 2: Conversation without memory\n"
   ]
  },
  {
   "cell_type": "code",
   "execution_count": 10,
   "metadata": {
    "collapsed": false
   },
   "outputs": [
    {
     "name": "stdout",
     "output_type": "stream",
     "text": [
      "\n",
      "\n",
      "\u001B[1m> Entering new AgentExecutor chain...\u001B[0m\n",
      "\u001B[32;1m\u001B[1;3m\n",
      "I will use python to read the CSV file and extract the column names.\n",
      "{'tool_name': 'python_interpreter', 'parameters': {'code': \"import pandas as pd\\n\\ndf = pd.read_csv('revenue_table.csv')\\n\\nprint(df.columns)\"}}\n",
      "\u001B[0m\u001B[36;1m\u001B[1;3mIndex(['Unnamed: 0', 'time', 'revenue', 'loss'], dtype='object')\n",
      "\u001B[0m\u001B[32;1m\u001B[1;3mRelevant Documents: 0\n",
      "Cited Documents: 0\n",
      "Answer: The column names in the CSV file are:\n",
      "- Unnamed: 0\n",
      "- time\n",
      "- revenue\n",
      "- loss\n",
      "Grounded answer: The column names in the CSV file are:\n",
      "- <co: 0>Unnamed: 0</co: 0>\n",
      "- <co: 0>time</co: 0>\n",
      "- <co: 0>revenue</co: 0>\n",
      "- <co: 0>loss</co: 0>\u001B[0m\n",
      "\n",
      "\u001B[1m> Finished chain.\u001B[0m\n"
     ]
    }
   ],
   "source": [
    "# let's start the conversation with a question about the csv we have loaded\n",
    "q1 = \"read revenue_table.csv and show me the column names\"\n",
    "a1=agent_executor.invoke({\n",
    "   \"input\": q1,\n",
    "})"
   ]
  },
  {
   "cell_type": "code",
   "execution_count": 12,
   "metadata": {
    "collapsed": false
   },
   "outputs": [
    {
     "name": "stdout",
     "output_type": "stream",
     "text": [
      "\n",
      "\n",
      "\u001B[1m> Entering new AgentExecutor chain...\u001B[0m\n",
      "\u001B[32;1m\u001B[1;3mPlan: I will ask the user for clarification on what data they would like to visualise.\n",
      "Action: ```json\n",
      "[\n",
      "    {\n",
      "        \"tool_name\": \"directly_answer\",\n",
      "        \"parameters\": {}\n",
      "    }\n",
      "]\n",
      "```\n",
      "Relevant Documents: None\n",
      "Cited Documents: None\n",
      "Answer: Hello, could you please clarify what data you would like to see plotted?\n",
      "Grounded answer: Hello, could you please clarify what data you would like to see plotted?\u001B[0m\n",
      "\n",
      "\u001B[1m> Finished chain.\u001B[0m\n"
     ]
    }
   ],
   "source": [
    "# nice! now let's ask a follow-up question\n",
    "q2 = \"plot revenue numbers\"\n",
    "a2_no_mem = agent_executor.invoke({\n",
    "   \"input\": q2,\n",
    "})"
   ]
  },
  {
   "cell_type": "markdown",
   "metadata": {
    "collapsed": false
   },
   "source": [
    "Without memory, the model cannot answer follow up questions because it misses the necessary previous context"
   ]
  },
  {
   "cell_type": "markdown",
   "metadata": {
    "collapsed": false
   },
   "source": [
    "<a name=\"sec_step3\"></a>\n",
    "# Step 3. Conversation with Memory using AI Messages\n",
    "\n",
    "Here we will populate the chat history only with the generations from the model. This is the current approach used, e.g., here: https://python.langchain.com/docs/modules/agents/how_to/custom_agent/"
   ]
  },
  {
   "cell_type": "code",
   "execution_count": 88,
   "metadata": {
    "collapsed": false
   },
   "outputs": [
    {
     "name": "stdout",
     "output_type": "stream",
     "text": [
      "\n",
      "\n",
      "\u001B[1m> Entering new AgentExecutor chain...\u001B[0m\n",
      "\u001B[32;1m\u001B[1;3m\n",
      "I will copy and paste the code from the previous conversation and add code to plot the revenue numbers.\n",
      "{'tool_name': 'python_interpreter', 'parameters': {'code': \"import pandas as pd\\nimport matplotlib.pyplot as plt\\n\\ndata = pd.read_csv('data/sample.csv')\\n\\n# Plot revenue numbers\\nplt.plot(data['revenue'])\\n\\nplt.savefig('revenue_plot.png')\"}}\n",
      "\u001B[0m\u001B[36;1m\u001B[1;3mFileNotFoundError(2, 'No such file or directory')\u001B[0m\u001B[32;1m\u001B[1;3m\n",
      "The code is throwing an error because the file doesn't exist in the specified location. I will amend the file path and re-run the code.\n",
      "{'tool_name': 'python_interpreter', 'parameters': {'code': \"import pandas as pd\\nimport matplotlib.pyplot as plt\\n\\ndata = pd.read_csv('sample.csv')\\n\\n# Plot revenue numbers\\nplt.plot(data['revenue'])\\n\\nplt.savefig('revenue_plot.png')\"}}\n",
      "\u001B[0m\u001B[36;1m\u001B[1;3mFileNotFoundError(2, 'No such file or directory')\u001B[0m\u001B[32;1m\u001B[1;3m\n",
      "The file path is still incorrect. I will amend it and re-run the code.\n",
      "{'tool_name': 'python_interpreter', 'parameters': {'code': \"import pandas as pd\\nimport matplotlib.pyplot as plt\\n\\ndata = pd.read_csv('../data/sample.csv')\\n\\n# Plot revenue numbers\\nplt.plot(data['revenue'])\\n\\nplt.savefig('revenue_plot.png')\"}}\n",
      "\u001B[0m\u001B[36;1m\u001B[1;3mFileNotFoundError(2, 'No such file or directory')\u001B[0m\u001B[32;1m\u001B[1;3mReflection: The file path is still incorrect. I will ask the user to provide the correct file path.\n",
      "Relevant Documents: 0,1,2\n",
      "Cited Documents: 0,1,2\n",
      "Answer: The file path provided is incorrect. Please provide the correct file path so that I can plot the revenue numbers. I have tried '../data/sample.csv' but this also doesn't work.\n",
      "Grounded answer: The file path provided is <co: 0,1,2>incorrect</co: 0,1,2>. Please provide the correct file path so that I can plot the revenue numbers. I have tried '../data/sample.csv' but this also doesn't work.\u001B[0m\n",
      "\n",
      "\u001B[1m> Finished chain.\u001B[0m\n"
     ]
    }
   ],
   "source": [
    "# let's answer the followup question above with the new setup\n",
    "a2_mem_ai = agent_executor.invoke({\n",
    "   \"input\": q2,\n",
    "   \"chat_history\": [AIMessage(content=a1['output'])] # we add here the generation of the model at turn 1\n",
    "})"
   ]
  },
  {
   "cell_type": "markdown",
   "metadata": {
    "collapsed": false
   },
   "source": [
    "Also in this case, the model cannot manage the follow up question. The reason is that the AI message only tells part of the necessary context: we need more info from previous turns.\n"
   ]
  },
  {
   "cell_type": "markdown",
   "metadata": {
    "collapsed": false
   },
   "source": [
    "<a name=\"sec_step4\"></a>\n",
    "# Step 4: Conversation with Memory using AI Messages and Human Messages"
   ]
  },
  {
   "cell_type": "code",
   "execution_count": 14,
   "metadata": {
    "collapsed": false
   },
   "outputs": [
    {
     "name": "stdout",
     "output_type": "stream",
     "text": [
      "\n",
      "\n",
      "\u001B[1m> Entering new AgentExecutor chain...\u001B[0m\n",
      "\u001B[32;1m\u001B[1;3m\n",
      "I will copy and paste the code from the previous conversation into this one, and then use it to plot the revenue numbers.\n",
      "{'tool_name': 'python_interpreter', 'parameters': {'code': \"import pandas as pd\\nimport matplotlib.pyplot as plt\\n\\ndata = pd.read_csv('modified_revenue_table.csv')\\n\\n# Plot the revenue numbers\\nplt.plot(data['revenue'])\\n\\nplt.savefig('revenue_plot.png')\"}}\n",
      "\u001B[0m\u001B[36;1m\u001B[1;3m\u001B[0m\u001B[32;1m\u001B[1;3mRelevant Documents: 0\n",
      "Cited Documents: 0\n",
      "Answer: Here's a plot of the revenue numbers:\n",
      "![Revenue plot](\"revenue_plot.png\")\n",
      "Grounded answer: Here's a plot of the revenue numbers:\n",
      "<co: 0>! [Revenue plot](\"revenue_plot.png\")</co: 0>\u001B[0m\n",
      "\n",
      "\u001B[1m> Finished chain.\u001B[0m\n"
     ]
    },
    {
     "data": {
      "image/png": "[encoded data removed]",
      "text/plain": [
       "<Figure size 432x288 with 1 Axes>"
      ]
     },
     "metadata": {
      "needs_background": "light"
     },
     "output_type": "display_data"
    }
   ],
   "source": [
    "a2_mem_ai_hum = agent_executor.invoke({\n",
    "   \"input\": q2,\n",
    "   \"chat_history\": [HumanMessage(content=q1),\n",
    "                    AIMessage(content=a1['output'])] # we add here the human query and the generation of the model at turn 1\n",
    "})"
   ]
  },
  {
   "cell_type": "markdown",
   "metadata": {
    "collapsed": false
   },
   "source": [
    "It works! Let's go on with the conversation."
   ]
  },
  {
   "cell_type": "code",
   "execution_count": 15,
   "metadata": {
    "collapsed": false
   },
   "outputs": [
    {
     "name": "stdout",
     "output_type": "stream",
     "text": [
      "\n",
      "\n",
      "\u001B[1m> Entering new AgentExecutor chain...\u001B[0m\n",
      "\u001B[32;1m\u001B[1;3m\n",
      "I will copy and paste the previous code and make the changes requested by the user. Then I will execute the code to plot the graph with the changes applied.\n",
      "{'tool_name': 'python_interpreter', 'parameters': {'code': 'import pandas as pd\\nimport matplotlib.pyplot as plt\\n\\n# Read the CSV file into a DataFrame\\ndf = pd.read_csv(\"modified_revenue_table.csv\")\\n\\n# Plot revenue against time\\nplt.plot(df[\"time\"], df[\"revenue\"], marker=\"o\")\\n\\n# Set minimum and maximum values for y-axis\\nplt.ylim(0, 1000)\\n\\nplt.savefig(\"revenue_plot.png\")'}}\n",
      "\u001B[0m\u001B[36;1m\u001B[1;3m\u001B[0m\u001B[32;1m\u001B[1;3mRelevant Documents: 0\n",
      "Cited Documents: 0\n",
      "Answer: Here's the plot with the requested changes:\n",
      "![Revenue plot](\"revenue_plot.png\")\n",
      "Grounded answer: Here's the plot with the requested changes:\n",
      "<co: 0>! [Revenue plot](\"revenue_plot.png\")</co: 0>\u001B[0m\n",
      "\n",
      "\u001B[1m> Finished chain.\u001B[0m\n"
     ]
    },
    {
     "data": {
      "image/png": "[encoded data removed]",
      "text/plain": [
       "<Figure size 432x288 with 1 Axes>"
      ]
     },
     "metadata": {
      "needs_background": "light"
     },
     "output_type": "display_data"
    }
   ],
   "source": [
    "q3 = \"set the min of y axis to zero and the max to 1000\"\n",
    "a3_mem_ai_hum = agent_executor.invoke({\n",
    "   \"input\": q3,\n",
    "   \"chat_history\": [HumanMessage(content=q1),\n",
    "                    AIMessage(content=a1['output']),\n",
    "                    HumanMessage(content=q2), # we now add info from turn 2\n",
    "                    AIMessage(content=a2_mem_ai_hum['output'])]\n",
    "})"
   ]
  },
  {
   "cell_type": "markdown",
   "metadata": {
    "collapsed": false
   },
   "source": [
    "The model does what we asked, but it decides to introduce the marker=\"o\" in the plotting function. While in this case the modification of the code does not affect the quality of the output, this is still an undesidered behaviour, since the model is introducing a modification that was not required.\n",
    "\n",
    "To address this problem, we can further enrich the chat history by adding information from the reasoning chain.\n"
   ]
  },
  {
   "cell_type": "markdown",
   "metadata": {
    "collapsed": false
   },
   "source": [
    "<a name=\"sec_step5\"></a>\n",
    "# Step 5: Conversation with Memory using AI Messages, Human Messages and the Reasoning Chain\n",
    "\n",
    "Reasoning chains can be very long, especially in the cases that contain errors and the agent needs several attempts to get to the final output. Hence, by concatenating all the reasoning chains, we might have two issues: (i) noisy information; (ii) we would quickly hit max input length.\n",
    "\n",
    "To avoid this issue, we need a way to extract the relevant info from the previous turns. Below, we propose a simple approach to info extraction. We format the extracted info in such a way to enhance human interpretability. We call the objects passed in the chat history *augmented memory objects*."
   ]
  },
  {
   "cell_type": "code",
   "execution_count": 14,
   "metadata": {
    "collapsed": false
   },
   "outputs": [],
   "source": [
    "# function to create augmented memory objects\n",
    "def create_augmented_mem_objs(output_previous_turn: dict) -> str:\n",
    "    \"\"\"Function to convert the output of a ReAct agent to a compact and interpretable representation\"\"\"\n",
    "    all_steps_info = []\n",
    "    # loop though the steps of the previous turns\n",
    "    for i, step in enumerate(output_previous_turn['intermediate_steps']):\n",
    "        # remove failed attempts\n",
    "        if \"error\" not in step[1].lower():\n",
    "            # collect the relevant info\n",
    "            step_info = {'tool': step[0].tool,\n",
    "                         'tool_input': step[0].tool_input}\n",
    "            all_steps_info.append(step_info)\n",
    "    # format the memory object in an interpretable way\n",
    "    augmented_mem_obj = \"This is the sequence of tools you used in the previous turn:\\n\"\n",
    "    for i, item in enumerate(all_steps_info):\n",
    "        augmented_mem_obj = augmented_mem_obj + f\"\\nSTART TOOL {i} NAME:\\n{item['tool']}\\nEND TOOL {i} NAME\" \\\n",
    "                                                f\"\\n\\nSTART INPUT {i} NAME:\\n{item['tool_input']}\\nEND INPUT {i} NAME\\n\"\n",
    "    # add the final output generated by the agent\n",
    "    augmented_mem_obj = augmented_mem_obj + f\"\\n\\nThis is the output you produced in the previous turn:\\nSTART OUTPUT\\n{output_previous_turn['output']}\\nEND OUTPUT\"\n",
    "\n",
    "    return augmented_mem_obj"
   ]
  },
  {
   "cell_type": "code",
   "execution_count": 91,
   "metadata": {
    "collapsed": false
   },
   "outputs": [],
   "source": [
    "augmented_mem_obj_a1 = create_augmented_mem_objs(a1)\n",
    "augmented_mem_obj_a2 = create_augmented_mem_objs(a2_mem_ai_hum)"
   ]
  },
  {
   "cell_type": "markdown",
   "metadata": {
    "collapsed": false
   },
   "source": [
    "Below, an example of the augmented memory object generated by the model. You can see that the agent now has full visibility on what it did in the previous step."
   ]
  },
  {
   "cell_type": "code",
   "execution_count": 92,
   "metadata": {
    "collapsed": false
   },
   "outputs": [
    {
     "name": "stdout",
     "output_type": "stream",
     "text": [
      "This is the sequence of tools you used in the previous turn:\n",
      "\n",
      "START TOOL 0 NAME:\n",
      "python_interpreter\n",
      "END TOOL 0 NAME\n",
      "\n",
      "START INPUT 0 NAME:\n",
      "{'code': \"import pandas as pd\\nimport matplotlib.pyplot as plt\\n\\ndata = pd.read_csv('modified_revenue_table.csv')\\n\\n# Plot the revenue numbers\\nplt.plot(data['revenue'])\\n\\nplt.savefig('revenue_plot.png')\"}\n",
      "END INPUT 0 NAME\n",
      "\n",
      "\n",
      "This is the output you produced in the previous turn:\n",
      "START OUTPUT\n",
      "Here's a plot of the revenue numbers:\n",
      "! [Revenue plot](\"revenue_plot.png\")\n",
      "END OUTPUT\n"
     ]
    }
   ],
   "source": [
    "print(augmented_mem_obj_a2)"
   ]
  },
  {
   "cell_type": "code",
   "execution_count": 87,
   "metadata": {
    "collapsed": false
   },
   "outputs": [
    {
     "name": "stdout",
     "output_type": "stream",
     "text": [
      "\n",
      "\n",
      "\u001B[1m> Entering new AgentExecutor chain...\u001B[0m\n",
      "\u001B[32;1m\u001B[1;3m\n",
      "I will copy and paste the previous code, and modify the y axis limits as requested.\n",
      "{'tool_name': 'python_interpreter', 'parameters': {'code': \"import pandas as pd\\nimport matplotlib.pyplot as plt\\n\\ndata = pd.read_csv('modified_revenue_table.csv')\\n\\n# Plot the revenue numbers\\nplt.plot(data['revenue'])\\n\\n# Set y axis limits\\nplt.ylim(0, 1000)\\n\\nplt.savefig('revenue_plot.png')\"}}\n",
      "\u001B[0m\u001B[36;1m\u001B[1;3m\u001B[0m\u001B[32;1m\u001B[1;3mRelevant Documents: 0\n",
      "Cited Documents: 0\n",
      "Answer: Here's the plot with the requested y axis limits:\n",
      "\n",
      "![Revenue plot](\"revenue_plot.png\")\n",
      "Grounded answer: Here's the plot with the requested y axis limits:\n",
      "\n",
      "<co: 0>! [Revenue plot](\"revenue_plot.png\")</co: 0>\u001B[0m\n",
      "\n",
      "\u001B[1m> Finished chain.\u001B[0m\n"
     ]
    },
    {
     "data": {
      "image/png": "[encoded data removed]",
      "text/plain": [
       "<Figure size 432x288 with 1 Axes>"
      ]
     },
     "metadata": {
      "needs_background": "light"
     },
     "output_type": "display_data"
    }
   ],
   "source": [
    "a3_mem_ai_hum_amo = agent_executor.invoke({\n",
    "    \"input\": q3,\n",
    "    \"chat_history\": [SystemMessage(content=augmented_mem_obj_a1),\n",
    "                     SystemMessage(content=augmented_mem_obj_a2)]\n",
    "})\n"
   ]
  },
  {
   "cell_type": "markdown",
   "metadata": {
    "collapsed": false
   },
   "source": [
    "We can see that, now, the plot only includes the modification we asked for, and nothing else. This is possible because we are now providing the Agent with the code it previously generated, and the Agent re-uses that code, making only the necessary modifications. This is fundamentally different from what we observed before, when the Agent had to re-create from scratch the code.\n",
    "\n",
    "In sum, by providing the Agent with the information about its previous Reasoning Chain, we make it more robust and able to generate consistent outputs.\n",
    "\n",
    "In a future post, we will explore how to handle really long historical context using vector databases."
   ]
  }
 ],
 "metadata": {
  "kernelspec": {
   "display_name": "Python 3 (ipykernel)",
   "language": "python",
   "name": "python3"
  },
  "language_info": {
   "codemirror_mode": {
    "name": "ipython",
    "version": 3
   },
   "file_extension": ".py",
   "mimetype": "text/x-python",
   "name": "python",
   "nbconvert_exporter": "python",
   "pygments_lexer": "ipython3",
   "version": "3.10.14"
  }
 },
 "nbformat": 4,
 "nbformat_minor": 4
}
