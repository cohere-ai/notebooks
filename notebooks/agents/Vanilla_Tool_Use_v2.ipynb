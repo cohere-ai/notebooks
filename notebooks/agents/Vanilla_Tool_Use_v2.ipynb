{
  "cells": [
    {
      "cell_type": "markdown",
      "metadata": {},
      "source": [
        "<a target=\"_blank\" href=\"https://colab.research.google.com/github/cohere-ai/notebooks/blob/main/notebooks/agents/Vanilla_Tool_Use.ipynb\">\n",
        "  <img src=\"https://colab.research.google.com/assets/colab-badge.svg\" alt=\"Open In Colab\"/>\n",
        "</a>"
      ]
    },
    {
      "cell_type": "markdown",
      "metadata": {
        "id": "YN-eakfxtLGd"
      },
      "source": [
        "# Tool Use\n",
        "\n",
        "Tool use allows customers to **connect their large language models to external tools like search engines, APIs, functions, databases**, etc.\n",
        "\n",
        "This allows the customer's model to unlock a richer set of behaviors by leveraging data stored in tools, taking actions through APIs, interacting with a vector database, querying a search engine, etc.\n",
        "\n",
        "This is particularly valuable for enterprise customers, since a lot of enterprise data lives in external sources.\n",
        "\n",
        "Tool Use consists of 4 steps:\n",
        "- Step 1: the user configures the request to the model\n",
        "- Step 2: the **model smartly decides which tool(s) to use and how**\n",
        "- Step 3: the tool calls are executed to mock database\n",
        "- Step 4: the **model generates a final answer with precise citations based on the tool results**"
      ]
    },
    {
      "cell_type": "code",
      "execution_count": 13,
      "metadata": {},
      "outputs": [],
      "source": [
        "import cohere\n",
        "import json\n",
        "\n",
        "co = cohere.ClientV2(\"COHERE_API_KEY\") # Get your free API key: https://dashboard.cohere.com/api-keys"
      ]
    },
    {
      "cell_type": "markdown",
      "metadata": {
        "id": "0T7yc1PltLGp"
      },
      "source": [
        "## Step 0: Create a mock database\n",
        "First, we'll define the mock data that our tools will query. This data represents sales reports and a product catalog."
      ]
    },
    {
      "cell_type": "code",
      "execution_count": 2,
      "metadata": {
        "id": "yZffY8xItLGp"
      },
      "outputs": [],
      "source": [
        "# Mock database containing daily sales reports\n",
        "sales_database = {\n",
        "    '2023-09-28': {\n",
        "        'total_sales_amount': 5000,\n",
        "        'total_units_sold': 100,\n",
        "    },\n",
        "    '2023-09-29': {\n",
        "        'total_sales_amount': 10000,\n",
        "        'total_units_sold': 250,\n",
        "    },\n",
        "    '2023-09-30': {\n",
        "        'total_sales_amount': 8000,\n",
        "        'total_units_sold': 200,\n",
        "    }\n",
        "}\n",
        "\n",
        "# Mock product catalog\n",
        "product_catalog = {\n",
        "    'Electronics': [\n",
        "        {'product_id': 'E1001', 'name': 'Smartphone', 'price': 500, 'stock_level': 20},\n",
        "        {'product_id': 'E1002', 'name': 'Laptop', 'price': 1000, 'stock_level': 15},\n",
        "        {'product_id': 'E1003', 'name': 'Tablet', 'price': 300, 'stock_level': 25},\n",
        "    ],\n",
        "    'Clothing': [\n",
        "        {'product_id': 'C1001', 'name': 'T-Shirt', 'price': 20, 'stock_level': 100},\n",
        "        {'product_id': 'C1002', 'name': 'Jeans', 'price': 50, 'stock_level': 80},\n",
        "        {'product_id': 'C1003', 'name': 'Jacket', 'price': 100, 'stock_level': 40},\n",
        "    ]\n",
        "}"
      ]
    },
    {
      "cell_type": "markdown",
      "metadata": {
        "id": "6TGWYiOdtLGp"
      },
      "source": [
        "Now, we'll define the tools that simulate querying this database.  \n",
        "You could for example use the API of an enterprise sales platform.\n",
        "\n"
      ]
    },
    {
      "cell_type": "code",
      "execution_count": 3,
      "metadata": {
        "id": "YuIH4us8tLGp"
      },
      "outputs": [],
      "source": [
        "# Function definitions\n",
        "def query_daily_sales_report(day: str) -> dict:\n",
        "    \"\"\"\n",
        "    Function to retrieve the sales report for the given day\n",
        "    \"\"\"\n",
        "    report = sales_database.get(day, {})\n",
        "    if report:\n",
        "        return [{\n",
        "            \"date\": day,\n",
        "            \"summary\": f\"Total Sales Amount: {report['total_sales_amount']}, Total Units Sold: {report['total_units_sold']}\",\n",
        "        }]\n",
        "    else:\n",
        "        return [{\"date\": day, \"summary\": \"No sales data available for this day.\"}] \n",
        "    # You can return a list of objects e.g. [{\"url\": \"abc.com\", \"text\": \"...\"}, {\"url\": \"xyz.com\", \"text\": \"...\"}]\n",
        "\n",
        "def query_product_catalog(category: str) -> dict:\n",
        "    \"\"\"\n",
        "    Function to retrieve products for the given category\n",
        "    \"\"\"\n",
        "    products = product_catalog.get(category, [])\n",
        "    return [{\"category\": category, \"products\": products}]\n",
        "    # You can return a list of objects e.g. [{\"url\": \"abc.com\", \"text\": \"...\"}, {\"url\": \"xyz.com\", \"text\": \"...\"}]\n",
        "\n",
        "\n",
        "functions_map = {\n",
        "    \"query_daily_sales_report\": query_daily_sales_report,\n",
        "    \"query_product_catalog\": query_product_catalog,\n",
        "}"
      ]
    },
    {
      "cell_type": "markdown",
      "metadata": {
        "id": "HZRhTu4ftLGp"
      },
      "source": [
        "## Step 1 - the user configures the request to the model\n",
        "\n",
        "The developer provides a few things to the model:\n",
        "- A preamble containing instructions about the task and the desired style for the output.\n",
        "- The user request.\n",
        "- A list of tools to the model.\n",
        "- (Optionally) a chat history for the model to work with.\n",
        "\n",
        "\n",
        "You can specify one or many tools to the model. Every tool needs to be described with a JSON schema, indicating the tool name, description, and parameters (code snippets below).\n",
        "\n",
        "In our example, we provide two tools to the model: `daily_sales_report` and `product_catalog`.\n"
      ]
    },
    {
      "cell_type": "code",
      "execution_count": 4,
      "metadata": {
        "id": "aIk-of_OtLGp"
      },
      "outputs": [],
      "source": [
        "# tool descriptions that the model has access to\n",
        "# note: Cohere always adds a \"directly_answer\" tool under the hood, so that the model can decide to not leverage any tool, if they're not needed.\n",
        "tools = [\n",
        "    {\n",
        "        \"type\": \"function\",\n",
        "        \"function\": {\n",
        "            \"name\": \"query_daily_sales_report\",\n",
        "            \"description\": \"Connects to a database to retrieve overall sales volumes and sales information for a given day.\",\n",
        "            \"parameters\": {\n",
        "                \"type\": \"object\",\n",
        "                \"properties\": {\n",
        "                    \"day\": {\n",
        "                        \"type\": \"string\",\n",
        "                        \"description\": \"Retrieves sales data for this day, formatted as YYYY-MM-DD.\"\n",
        "                    }\n",
        "                },\n",
        "                \"required\": [\"day\"]\n",
        "            }\n",
        "        }\n",
        "    },\n",
        "    {\n",
        "        \"type\": \"function\",\n",
        "        \"function\": {\n",
        "            \"name\": \"query_product_catalog\",\n",
        "            \"description\": \"Connects to a product catalog with information about all the products being sold, including categories, prices, and stock levels.\",\n",
        "            \"parameters\": {\n",
        "                \"type\": \"object\",\n",
        "                \"properties\": {\n",
        "                    \"category\": {\n",
        "                        \"type\": \"string\",\n",
        "                        \"description\": \"Retrieves product information data for all products in this category.\"\n",
        "                    }\n",
        "                },\n",
        "                \"required\": [\"category\"]\n",
        "            }\n",
        "        }\n",
        "    }\n",
        "]"
      ]
    },
    {
      "cell_type": "markdown",
      "metadata": {
        "id": "k2AHJRnztLGp"
      },
      "source": [
        "Now let's define the user request.  \n",
        "\n",
        "In our example we'll use: \"Can you provide a sales summary for 29th September 2023, and also give me the details of all products in the 'Electronics' category that were sold that day, including their prices and stock levels?\"\n",
        "\n",
        "Only a langage model with Tool Use can answer this request: it requires looking up information in the right external tools (step 2), and then providing a final answer based on the tool results (step 4)."
      ]
    },
    {
      "cell_type": "code",
      "execution_count": 7,
      "metadata": {
        "id": "JuDgJ7fjtLGq"
      },
      "outputs": [],
      "source": [
        "# System message containing instructions about the task and the desired style for the output.\n",
        "system_message = \"\"\"\n",
        "## Task and Context\n",
        "You help people answer their questions and other requests interactively. You will be asked a very wide array of requests on all kinds of topics. You will be equipped with a wide range of search engines or similar tools to help you, which you use to research your answer. You should focus on serving the user's needs as best you can, which will be wide-ranging.\n",
        "\n",
        "## Style Guide\n",
        "Unless the user asks for a different style of answer, you should answer in full sentences, using proper grammar and spelling.\n",
        "\"\"\"\n",
        "\n",
        "# User request\n",
        "message = \"Can you provide a sales summary for 29th September 2023, and also give me some details about the products in the 'Electronics' category, for example their prices and stock levels?\""
      ]
    },
    {
      "cell_type": "markdown",
      "metadata": {
        "id": "1NhW-G_JtLGq"
      },
      "source": [
        "## Step 2 – the model smartly decides which tool(s) to use and how\n",
        "The model intelligently selects the right tool(s) to call -- and the right parameters for each tool call -- based on the content of the user message."
      ]
    },
    {
      "cell_type": "code",
      "execution_count": 11,
      "metadata": {
        "colab": {
          "base_uri": "https://localhost:8080/"
        },
        "id": "o79_n99GtLGq",
        "outputId": "81789d00-01b9-4c17-d1b0-1668d75a2b86"
      },
      "outputs": [
        {
          "name": "stdout",
          "output_type": "stream",
          "text": [
            "The model recommends doing the following tool calls:\n",
            "\n",
            "Tool plan:\n",
            "I will first search for the sales summary for 29th September 2023. Then, I will search for the products in the 'Electronics' category. \n",
            "\n",
            "Tool calls:\n",
            "Tool name: query_daily_sales_report | Parameters: {\"day\":\"2023-09-29\"}\n",
            "Tool name: query_product_catalog | Parameters: {\"category\":\"Electronics\"}\n"
          ]
        }
      ],
      "source": [
        "messages=[{\"role\": \"system\", \"content\": system_message},\n",
        "          {\"role\": \"user\", \"content\": message}]\n",
        "\n",
        "\n",
        "response = co.chat(model=\"command-r-plus-08-2024\",\n",
        "                   messages=messages,\n",
        "                   tools=tools)\n",
        "\n",
        "print(\"The model recommends doing the following tool calls:\\n\")\n",
        "print(\"Tool plan:\")\n",
        "print(response.message.tool_plan, \"\\n\")\n",
        "print(\"Tool calls:\")\n",
        "for tc in response.message.tool_calls:\n",
        "    print(f\"Tool name: {tc.function.name} | Parameters: {tc.function.arguments}\")\n",
        "\n",
        "# append the chat history\n",
        "messages.append(\n",
        "    {\n",
        "        \"role\": \"assistant\",\n",
        "        \"tool_calls\": response.message.tool_calls,\n",
        "        \"tool_plan\": response.message.tool_plan,\n",
        "    }\n",
        ")"
      ]
    },
    {
      "cell_type": "markdown",
      "metadata": {
        "id": "md_9QPcxtLGq"
      },
      "source": [
        "## Step 3 – the tool calls are executed\n",
        "\n",
        "You can then execute the appropriate calls, using the tool calls and tool parameters generated by the model.  \n",
        "These tool calls return tool results that will be fed to the model in Step 4."
      ]
    },
    {
      "cell_type": "code",
      "execution_count": 14,
      "metadata": {
        "colab": {
          "base_uri": "https://localhost:8080/"
        },
        "id": "1LuDCRpFtLGr",
        "outputId": "42ead35e-225a-4b9a-c954-b526f2865350"
      },
      "outputs": [
        {
          "name": "stdout",
          "output_type": "stream",
          "text": [
            "Tool results that will be fed back to the model in step 4:\n",
            "{'type': 'document', 'document': {'data': '{\"date\": \"2023-09-29\", \"summary\": \"Total Sales Amount: 10000, Total Units Sold: 250\"}'}}\n",
            "Tool results that will be fed back to the model in step 4:\n",
            "{'type': 'document', 'document': {'data': '{\"category\": \"Electronics\", \"products\": [{\"product_id\": \"E1001\", \"name\": \"Smartphone\", \"price\": 500, \"stock_level\": 20}, {\"product_id\": \"E1002\", \"name\": \"Laptop\", \"price\": 1000, \"stock_level\": 15}, {\"product_id\": \"E1003\", \"name\": \"Tablet\", \"price\": 300, \"stock_level\": 25}]}'}}\n"
          ]
        }
      ],
      "source": [
        "# Iterate over the tool calls generated by the model\n",
        "for tc in response.message.tool_calls:\n",
        "    # here is where you would call the tool recommended by the model, using the parameters recommended by the model\n",
        "    tool_result = functions_map[tc.function.name](**json.loads(tc.function.arguments))\n",
        "    # store the output in a list\n",
        "    tool_content = []\n",
        "    for data in tool_result:\n",
        "        tool_content.append({\"type\": \"document\", \"document\": {\"data\": json.dumps(data)}})\n",
        "        # Optional: add an \"id\" field in the \"document\" object, otherwise IDs are auto-generated\n",
        "    # append the chat history\n",
        "    messages.append(\n",
        "        {\"role\": \"tool\", \"tool_call_id\": tc.id, \"content\": tool_content}\n",
        "    )\n",
        "    \n",
        "    print(\"Tool results that will be fed back to the model in step 4:\")\n",
        "    for result in tool_content:\n",
        "        print(result)"
      ]
    },
    {
      "cell_type": "markdown",
      "metadata": {
        "id": "8cKlLk18tLGr"
      },
      "source": [
        "## Step 4 - the model generates a final answer based on the tool results\n",
        "Finally, the developer calls the Cohere model, providing the tools results, in order to generate the model's final answer.  \n",
        "\n",
        "Bonus: At Cohere, all Tool Use calls come with... **precise citations**! 🎉\n",
        "The model cites which tool results were used to generate the final answer.  \n",
        "These citations make it easy to check where the model’s generated response claims are coming from.  \n",
        "They help users gain visibility into the model reasoning, and sanity check the final model generation.  \n",
        "These citations are optional — you can decide to ignore them.\n",
        "\n"
      ]
    },
    {
      "cell_type": "code",
      "execution_count": 15,
      "metadata": {
        "id": "MKnjXVfXtLGr"
      },
      "outputs": [
        {
          "name": "stdout",
          "output_type": "stream",
          "text": [
            "Final answer:\n",
            "On 29th September 2023, the total sales amount was 10,000, and the total units sold were 250.\n",
            "\n",
            "The following products are available in the Electronics category:\n",
            "- Smartphone (E1001) - £500, 20 in stock\n",
            "- Laptop (E1002) - £1,000, 15 in stock\n",
            "- Tablet (E1003) - £300, 25 in stock\n"
          ]
        }
      ],
      "source": [
        "response = co.chat(\n",
        "    model=\"command-r-plus-08-2024\",\n",
        "    messages=messages,\n",
        "    tools=tools\n",
        ")\n",
        "\n",
        "print(\"Final answer:\")\n",
        "print(response.message.content[0].text)"
      ]
    },
    {
      "cell_type": "markdown",
      "metadata": {
        "id": "niMkAr2PN9j4"
      },
      "source": [
        "## Bonus: Citations come for free with Cohere! 🎉\n",
        "\n",
        "At Cohere, model generations come with... precise citations! 🎉\n",
        "The model cites which groups of words, in the tool results, were used to generate the final answer.  \n",
        "These citations make it easy to check where the model’s generated response claims are coming from.  \n",
        "They help users gain visibility into the model reasoning, and sanity check the final model generation.  \n",
        "These citations are optional — you can decide to ignore them."
      ]
    },
    {
      "cell_type": "code",
      "execution_count": 16,
      "metadata": {
        "colab": {
          "base_uri": "https://localhost:8080/"
        },
        "id": "9wuoCUBwtLGr",
        "outputId": "da3c0dc5-6b87-42ea-d64b-e7e85c40273e"
      },
      "outputs": [
        {
          "name": "stdout",
          "output_type": "stream",
          "text": [
            "Citations that support the final answer:\n",
            "Start: 28 | End: 57 | Text: 'total sales amount was 10,000'\n",
            "Start: 67 | End: 93 | Text: 'total units sold were 250.'\n",
            "Start: 163 | End: 201 | Text: 'Smartphone (E1001) - £500, 20 in stock'\n",
            "Start: 204 | End: 240 | Text: 'Laptop (E1002) - £1,000, 15 in stock'\n",
            "Start: 243 | End: 277 | Text: 'Tablet (E1003) - £300, 25 in stock'\n"
          ]
        }
      ],
      "source": [
        "print(\"Citations that support the final answer:\")\n",
        "for citation in response.message.citations:\n",
        "    print(f\"Start: {citation.start} | End: {citation.end} | Text: '{citation.text}'\")"
      ]
    },
    {
      "cell_type": "code",
      "execution_count": 17,
      "metadata": {},
      "outputs": [
        {
          "name": "stdout",
          "output_type": "stream",
          "text": [
            "On 29th September 2023, the total sales amount was 10,000[2], and the total units sold were 250.[2]\n",
            "\n",
            "The following products are available in the Electronics category:\n",
            "- Smartphone (E1001) - £500, 20 in stock[1]\n",
            "- Laptop (E1002) - £1,000, 15 in stock[1]\n",
            "- Tablet (E1003) - £300, 25 in stock[1]\n",
            "\n",
            "Source tools:\n",
            "[1]: query_product_catalog_zeq4jk768e19:0 | {'content': '{\"category\": \"Electronics\", \"products\": [{\"product_id\": \"E1001\", \"name\": \"Smartphone\", \"price\": 500, \"stock_level\": 20}, {\"product_id\": \"E1002\", \"name\": \"Laptop\", \"price\": 1000, \"stock_level\": 15}, {\"product_id\": \"E1003\", \"name\": \"Tablet\", \"price\": 300, \"stock_level\": 25}]}'}\n",
            "[2]: query_daily_sales_report_7me1rzpgww1x:0 | {'date': '2023-09-29', 'summary': 'Total Sales Amount: 10000, Total Units Sold: 250'}\n"
          ]
        }
      ],
      "source": [
        "def insert_inline_citations(text, citations):\n",
        "    sorted_citations = sorted(citations, key=lambda c: c.start, reverse=True)\n",
        "    source_index = {}\n",
        "    current_index = 1\n",
        "    \n",
        "    for citation in sorted_citations:\n",
        "        citation_ids = []\n",
        "        for source in citation.sources:\n",
        "            if source.id not in source_index:\n",
        "                source_index[source.id] = current_index\n",
        "                current_index += 1\n",
        "            citation_ids.append(str(source_index[source.id]))\n",
        "        \n",
        "        citation_text = f\"[{','.join(citation_ids)}]\"\n",
        "        text = text[:citation.end] + citation_text + text[citation.end:]\n",
        "    \n",
        "    return text, source_index\n",
        "\n",
        "def list_sources(citations, source_index):\n",
        "    unique_sources = {}\n",
        "    for citation in citations:\n",
        "        for source in citation.sources:\n",
        "            if hasattr(source, 'tool_output'):\n",
        "                source_text = str(source.tool_output)\n",
        "            else:\n",
        "                source_text = str(source.document)\n",
        "            unique_sources[source.id] = source_text\n",
        "    \n",
        "    footnotes = []\n",
        "    for source_id, source_text in sorted(unique_sources.items(), key=lambda x: source_index[x[0]]):\n",
        "        index = source_index[source_id]\n",
        "        footnotes.append(f\"[{index}]: {source_id} | {source_text}\")\n",
        "    \n",
        "    return \"Source tools:\\n\" + \"\\n\".join(footnotes)\n",
        "\n",
        "# Usage example:\n",
        "cited_text, source_index = insert_inline_citations(response.message.content[0].text, response.message.citations)\n",
        "\n",
        "print(cited_text)\n",
        "\n",
        "print(\"\\n\" + list_sources(response.message.citations, source_index))"
      ]
    },
    {
      "cell_type": "markdown",
      "metadata": {
        "id": "RwH2O3FptLGr"
      },
      "source": [
        "Yiha. You've used Cohere for Tool Use.  Tool use opens up a wide range of new use cases. Here are a few examples:\n",
        "\n",
        "- **Function calling**: It's now possible to ask the model to output a JSON object with specific function parameters.\n",
        "For instance, this allows your chatbot to interact with your CRM to change the status of a deal, or to engage with a Python interpreter to conduct data science analyses.\n",
        "\n",
        "- **Query transformation**: You can transform a user message into a search query for a vector database or any search engine.\n",
        "For instance, this enables your work assistant to automatically retrieve the appropriate data from your company's documentation by creating the right query for your vector database.\n",
        "\n",
        "- **Advanced searches**: You can transform a user message into one-or-many queries, to do multiple subtasks based on the content of the message.\n",
        "For instance, this allows your chatbot to search across different databases and platforms to retrieve relevant information or to conduct comparative analysis.\n",
        "\n"
      ]
    },
    {
      "cell_type": "code",
      "execution_count": null,
      "metadata": {
        "id": "FXOSzfqRCLBH"
      },
      "outputs": [],
      "source": []
    }
  ],
  "metadata": {
    "colab": {
      "provenance": []
    },
    "kernelspec": {
      "display_name": "base",
      "language": "python",
      "name": "base"
    },
    "language_info": {
      "codemirror_mode": {
        "name": "ipython",
        "version": 3
      },
      "file_extension": ".py",
      "mimetype": "text/x-python",
      "name": "python",
      "nbconvert_exporter": "python",
      "pygments_lexer": "ipython3",
      "version": "3.11.4"
    }
  },
  "nbformat": 4,
  "nbformat_minor": 0
}
