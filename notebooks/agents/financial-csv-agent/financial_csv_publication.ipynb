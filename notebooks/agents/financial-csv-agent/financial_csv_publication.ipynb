{
 "cells": [
  {
   "cell_type": "markdown",
   "id": "1d71f595-01ef-4c24-99eb-81b01eec048b",
   "metadata": {},
   "source": [
    "# Financial CSV Agent with Langchain\n",
    "\n",
    "# Notebook Overview\n",
    "\n",
    "## Motivation\n",
    "Tabular data reasoning continues to be an exciting application of Agents, particularly in the financial domain, where multiple reasoning steps may be needed to identify the right answer. For example, a financial analyst working with financial statements may be interested in computing various financial ratios with natural language queries.\n",
    "\n",
    "Some examples may include:\n",
    "- ROE (Return on Equity) = Net Income / Shareholder's Equity\n",
    "- Net Profit Margin = Net Income / Revenue\n",
    "- Asset Turnover = Revenue / Average Total Assets\n",
    "- Financial Leverage = Average Total Assets / Shareholder's Equity\n",
    "\n",
    "Having an Agent which is able to correctly compute these and other ratios would be a great help for any analyst in the field of Finance.\n",
    "\n",
    "## Objective\n",
    "In this notebook we explore how to setup a [Cohere ReAct Agent](https://github.com/langchain-ai/langchain-cohere/blob/main/libs/cohere/langchain_cohere/cohere_agent.py) to answer questions over tables in Apple's SEC10K 2020 form. We show how this can be done with two variants of a Langchain Python tool, one that requires you to pass the full path of the dataframe and another that requires the dataframe objects to be loaded in memory. While there is no major difference between the two approaches, we present both to show how to manage files that are loaded in memory vs files in storage. \n",
    "\n",
    "## Table of Contents\n",
    "\n",
    "- [Setup](#sec_step0)\n",
    "- [Introduction](#sec_step1)\n",
    "- [QnA over Single Table](#sec_step2)\n",
    "    - [Agent with Python Tool](#sec_step2_sub1)\n",
    "    - [Agent with Python Tool that takes tables as input](#sec_step2_sub2)\n",
    "- [QnA over Multiple Tables](#sec_step3)"
   ]
  },
  {
   "cell_type": "markdown",
   "id": "68e373fd",
   "metadata": {
    "collapsed": false,
    "jupyter": {
     "outputs_hidden": false
    }
   },
   "source": [
    "<a id=\"sec_step0\"></a>\n",
    "# Setup"
   ]
  },
  {
   "cell_type": "code",
   "execution_count": 3,
   "id": "bce0ca82-fc00-40bb-9d0e-a274bd2eb8a7",
   "metadata": {
    "colab": {
     "base_uri": "https://localhost:8080/"
    },
    "id": "bce0ca82-fc00-40bb-9d0e-a274bd2eb8a7",
    "outputId": "c6c45466-2abc-40fb-8e0e-823d5339e902"
   },
   "outputs": [],
   "source": [
    "from langchain_core.pydantic_v1 import BaseModel, Field\n",
    "from langchain.agents import AgentExecutor\n",
    "from langchain_cohere.react_multi_hop.agent import create_cohere_react_agent\n",
    "from langchain_core.prompts import ChatPromptTemplate\n",
    "from langchain_cohere.chat_models import ChatCohere\n",
    "import pandas as pd\n",
    "from langchain.agents import Tool\n",
    "from langchain_experimental.utilities import PythonREPL\n",
    "from langchain_experimental.tools.python.tool import PythonAstREPLTool"
   ]
  },
  {
   "cell_type": "code",
   "execution_count": 5,
   "id": "76287bf9-d98d-4a34-84c8-46134b85de53",
   "metadata": {},
   "outputs": [],
   "source": [
    "# Uncomment if you need to install the following packages\n",
    "#!pip install --quiet langchain langchain_cohere langchain_experimental --upgrade\n",
    "#!pip install sec-api"
   ]
  },
  {
   "cell_type": "markdown",
   "id": "b0d3275d",
   "metadata": {
    "collapsed": false,
    "jupyter": {
     "outputs_hidden": false
    }
   },
   "source": [
    "<a id=\"sec_step1\"></a>\n",
    "# Introduction\n",
    "\n",
    "The aim of this notebook is to showcase how Cohere Langchain Agents can be used to answer questions over tabular data.\n",
    "This notebook assumes the input is a set of csv files extracted from Apple's SEC 10K filings."
   ]
  },
  {
   "cell_type": "markdown",
   "id": "b698a511-8f2a-4094-9770-ebea661982bc",
   "metadata": {},
   "source": [
    "### Data Loading\n",
    "\n",
    "We use the sec-api to download the income statement and balance sheet from the SEC 10K .htm file. Please note that the tables need to be parsed such that the index is numerical as the python code generation struggles to filter based on index. We have processed the tables and provided them for you. They can be found [here](https://github.com/cohere-ai/notebooks/tree/main/notebooks/agents/financial-csv-agent). "
   ]
  },
  {
   "cell_type": "code",
   "execution_count": 6,
   "id": "936212a7-fda6-4e12-a5e3-2fdd373660ae",
   "metadata": {},
   "outputs": [],
   "source": [
    "income_statement = pd.read_csv('income_statement.csv')\n",
    "balance_sheet = pd.read_csv('balance_sheet.csv')"
   ]
  },
  {
   "cell_type": "markdown",
   "id": "d3e42dd8-20d0-4b97-90fd-4a4ce5836c64",
   "metadata": {},
   "source": [
    "<a id=\"sec_step2\"></a>\n",
    "# QnA over Single Table "
   ]
  },
  {
   "cell_type": "markdown",
   "id": "fa7a67ef-7dbf-40cb-acce-cfec61eac855",
   "metadata": {},
   "source": [
    "<a id=\"sec_step2_sub1\"></a>\n",
    "## Agent with Python Tool\n",
    "\n",
    "In the example below, we show how the python tool can be used to load a dataframe and extract information from it. To do this successfully we need to:\n",
    "\n",
    "* Pass the file name to the preamble so the model knows how to load the dataframe.\n",
    "* Pass a preview of the dataframe in the preamble so the model knows which columns/rows to query.\n",
    "\n",
    "First, let's implement the ReAct agent."
   ]
  },
  {
   "cell_type": "code",
   "execution_count": 9,
   "id": "9be6f9eb-b1ba-4a4f-a5f3-5b775f0db69f",
   "metadata": {},
   "outputs": [],
   "source": [
    "# instantiate the Cohere llm\n",
    "llm = ChatCohere(model=\"command-r\", temperature=0.1,cohere_api_key=\"\",verbose=True)\n",
    "\n",
    "# create the python tool\n",
    "python_repl = PythonREPL()\n",
    "python_tool = Tool(\n",
    "    name=\"python_repl\",\n",
    "    description=\"Executes python code and returns the result. The code runs in a static sandbox without interactive mode, so print output or save output to a file.\",\n",
    "    func=python_repl.run,\n",
    ")\n",
    "python_tool.name = \"python_interpreter\"\n",
    "\n",
    "class ToolInput(BaseModel):\n",
    "    code: str = Field(description=\"Python code to execute.\")\n",
    "python_tool.args_schema = ToolInput\n",
    "tools=[python_tool]\n",
    "\n",
    "# define the prompt template\n",
    "prompt = ChatPromptTemplate.from_template(\"{input}\")\n",
    "\n",
    "# instantiate the ReAct agent\n",
    "agent = create_cohere_react_agent(\n",
    "   llm=llm,\n",
    "   tools=tools,\n",
    "   prompt=prompt,\n",
    ")\n",
    "agent_executor = AgentExecutor(agent=agent,\n",
    "                               tools=tools,\n",
    "                               verbose=True,\n",
    "                               return_intermediate_steps=True\n",
    "                    )\n",
    "# finally, define the preamble\n",
    "preamble = \"\"\"\n",
    "You are an expert who answers the user's question. You are working with a pandas dataframe in Python. The name of the dataframe is `income_statement.csv`.\n",
    "Here is a preview of the dataframe:\n",
    "{head_df}\n",
    "\"\"\".format(head_df=income_statement.head(3).to_markdown())\n"
   ]
  },
  {
   "cell_type": "markdown",
   "id": "e82dd596",
   "metadata": {
    "collapsed": false,
    "jupyter": {
     "outputs_hidden": false
    }
   },
   "source": [
    "Then, we define the dictionary including the questions we want the Agent to answer, and their answer."
   ]
  },
  {
   "cell_type": "code",
   "execution_count": 10,
   "id": "6b478e3c",
   "metadata": {
    "collapsed": false,
    "jupyter": {
     "outputs_hidden": false
    }
   },
   "outputs": [],
   "source": [
    "question_dict ={\n",
    "    'q1': ['what is the highest value of cost of goods and service?',169559000000],\n",
    "    'q2': ['what is the largest gross profit margin?',0.3836194330595236],\n",
    "    'q3': ['what is the minimum ratio of operating income loss divided by non operating income expense',35.360599]\n",
    "}"
   ]
  },
  {
   "cell_type": "markdown",
   "id": "d8b575d3",
   "metadata": {
    "collapsed": false,
    "jupyter": {
     "outputs_hidden": false
    }
   },
   "source": [
    "Let's now see how the Agent answers each of the questions."
   ]
  },
  {
   "cell_type": "code",
   "execution_count": 19,
   "id": "5ebb2d00-315d-462c-919b-749027133d89",
   "metadata": {},
   "outputs": [
    {
     "name": "stdout",
     "output_type": "stream",
     "text": [
      "question:q1\n",
      "\n",
      "\n",
      "\u001b[1m> Entering new AgentExecutor chain...\u001b[0m\n",
      "\u001b[32;1m\u001b[1;3m\n",
      "I will write and execute Python code to find the highest value of Cost of Goods and Services Sold from the provided dataframe.\n",
      "{'tool_name': 'python_interpreter', 'parameters': {'code': 'import pandas as pd\\n\\n# Read the CSV file into a DataFrame\\ndf = pd.read_csv(\\'income_statement.csv\\')\\n\\n# Find the highest value in the \\'CostOfGoodsAndServicesSold\\' column\\nmax_value = df[\\'CostOfGoodsAndServicesSold\\'].max()\\n\\nprint(f\"The highest value of Cost of Goods and Services Sold is {max_value}\")'}}\n",
      "\u001b[0m\u001b[36;1m\u001b[1;3mThe highest value of Cost of Goods and Services Sold is 169559000000.0\n",
      "\u001b[0m\u001b[32;1m\u001b[1;3mRelevant Documents: 0\n",
      "Cited Documents: 0\n",
      "Answer: The highest value of Cost of Goods and Services Sold is 169559000000.0.\n",
      "Grounded answer: The highest value of Cost of Goods and Services Sold is <co: 0>169559000000.0</co: 0>.\u001b[0m\n",
      "\n",
      "\u001b[1m> Finished chain.\u001b[0m\n",
      "GT Answer:169559000000\n",
      "--------------------------------------------------\n",
      "question:q2\n",
      "\n",
      "\n",
      "\u001b[1m> Entering new AgentExecutor chain...\u001b[0m\n",
      "\u001b[32;1m\u001b[1;3m\n",
      "I will write and execute Python code to calculate the largest gross profit margin from the data frame provided.\n",
      "{'tool_name': 'python_interpreter', 'parameters': {'code': 'import pandas as pd\\n\\n# Read the CSV file into a DataFrame\\ndf = pd.read_csv(\\'income_statement.csv\\')\\n\\n# Calculate the gross profit margin as a percentage\\ndf[\\'GrossProfitMargin\\'] = (df[\\'GrossProfit\\'] / df[\\'RevenueFromContractWithCustomerExcludingAssessedTax\\']) * 100\\n\\n# Find the row with the maximum gross profit margin\\nmax_margin_row = df.loc[df[\\'GrossProfitMargin\\'].idxmax()]\\n\\nprint(f\"The largest gross profit margin is {max_margin_row[\\'GrossProfitMargin\\']}% on {max_margin_row[\\'index\\']}\")\\n'}}\n",
      "\u001b[0m\u001b[36;1m\u001b[1;3mThe largest gross profit margin is 38.36194330595236% on 2019-12-29-2020-03-28\n",
      "\u001b[0m\u001b[32;1m\u001b[1;3mRelevant Documents: 0\n",
      "Cited Documents: 0\n",
      "Answer: The largest gross profit margin is approximately 38.36% on 2019-12-29 to 2020-03-28.\n",
      "Grounded answer: The largest gross profit margin is <co: 0>approximately 38.36</co: 0>% on <co: 0>2019-12-29 to 2020-03-28</co: 0>.\u001b[0m\n",
      "\n",
      "\u001b[1m> Finished chain.\u001b[0m\n",
      "GT Answer:0.3836194330595236\n",
      "--------------------------------------------------\n",
      "question:q3\n",
      "\n",
      "\n",
      "\u001b[1m> Entering new AgentExecutor chain...\u001b[0m\n",
      "\u001b[32;1m\u001b[1;3m\n",
      "I will write and execute Python code to calculate the minimum ratio of Operating Income Loss divided by Non Operating Income Expense.\n",
      "{'tool_name': 'python_interpreter', 'parameters': {'code': 'import pandas as pd\\n\\n# Read the CSV file into a DataFrame\\ndf = pd.read_csv(\\'income_statement.csv\\')\\n\\n# Calculate the ratio\\nratios = df[\\'OperatingIncomeLoss\\'] / df[\\'NonoperatingIncomeExpense\\']\\n\\nprint(\"Minimum ratio:\", ratios.min())'}}\n",
      "\u001b[0m\u001b[36;1m\u001b[1;3mMinimum ratio: 35.36059850374065\n",
      "\u001b[0m\u001b[32;1m\u001b[1;3mRelevant Documents: 0\n",
      "Cited Documents: 0\n",
      "Answer: The minimum ratio of Operating Income Loss divided by Non Operating Income Expense is approximately **35.36**.\n",
      "Grounded answer: The minimum ratio of Operating Income Loss divided by Non Operating Income Expense is approximately *<co: 0>*35.36</co: 0>**.\u001b[0m\n",
      "\n",
      "\u001b[1m> Finished chain.\u001b[0m\n",
      "GT Answer:35.360599\n",
      "--------------------------------------------------\n"
     ]
    }
   ],
   "source": [
    "for qsn,val in question_dict.items():\n",
    "    print(f'question:{qsn}')\n",
    "    agent_executor.invoke({\n",
    "       \"input\": val[0],\n",
    "       \"preamble\": preamble,\n",
    "    })\n",
    "    print(f'GT Answer:{val[1]}')\n",
    "    print('-'*50)"
   ]
  },
  {
   "cell_type": "markdown",
   "id": "8a1fc000",
   "metadata": {
    "collapsed": false,
    "jupyter": {
     "outputs_hidden": false
    }
   },
   "source": [
    "Nice! The agent uses the Python tool to write the code to access the data in the tables, and perform the required calculations."
   ]
  },
  {
   "cell_type": "markdown",
   "id": "899e9b6e-3d3d-4127-85eb-7d8d2fb35920",
   "metadata": {},
   "source": [
    "<a id=\"sec_step2_sub2\"></a>\n",
    "## Agent with Python Tool that takes tables as input\n",
    "\n",
    "In the example above, the model needs to load the dataframe in the python call before carrying out operations. In this example, we show how to pass the dataframes to the python tool so it has the file already loaded."
   ]
  },
  {
   "cell_type": "code",
   "execution_count": 163,
   "id": "88cb7c3d-6862-42af-865f-39b45b87defb",
   "metadata": {},
   "outputs": [],
   "source": [
    "# call the PythonAstREPLTool in order to pass tables to the tool\n",
    "df_locals = {'df':pd.read_csv('income_statement.csv')}\n",
    "tools = [PythonAstREPLTool(locals=df_locals)]\n",
    "\n",
    "agent = create_cohere_react_agent(\n",
    "   llm=llm,\n",
    "   tools=tools,\n",
    "   prompt=prompt,\n",
    ")\n",
    "agent_executor = AgentExecutor(agent=agent,\n",
    "                               tools=tools,\n",
    "                               verbose=True,\n",
    "                               return_intermediate_steps=True\n",
    "                    )\n",
    "\n",
    "preamble = \"\"\"\n",
    "You are an expert who answers the user's question. You are working with a pandas dataframe in Python. The name of the dataframe is `df`.\n",
    "Here is a preview of the dataframe:\n",
    "{head_df}\n",
    "\"\"\".format(head_df=income_statement.head(3).to_markdown())\n"
   ]
  },
  {
   "cell_type": "markdown",
   "id": "2af2fa42",
   "metadata": {
    "collapsed": false,
    "jupyter": {
     "outputs_hidden": false
    }
   },
   "source": [
    "Let's loop again over the same dictionary of questions."
   ]
  },
  {
   "cell_type": "code",
   "execution_count": 20,
   "id": "7bd700bd-d3ac-44ac-acb0-bebf8c0a09bf",
   "metadata": {},
   "outputs": [
    {
     "name": "stdout",
     "output_type": "stream",
     "text": [
      "question:q1\n",
      "\n",
      "\n",
      "\u001b[1m> Entering new AgentExecutor chain...\u001b[0m\n",
      "\u001b[32;1m\u001b[1;3m\n",
      "I will write and execute Python code to find the highest value of Cost of Goods and Services Sold from the provided dataframe.\n",
      "{'tool_name': 'python_interpreter', 'parameters': {'code': \"import pandas as pd\\n\\n# Read the CSV file into a DataFrame\\ndf = pd.read_csv('income_statement.csv')\\n\\n# Find the highest value in the 'CostOfGoodsAndServicesSold' column\\nmax_value = df['CostOfGoodsAndServicesSold'].max()\\n\\nprint(f'The highest value of Cost of Goods and Services Sold is {max_value:.2f}')\\n\"}}\n",
      "\u001b[0m\u001b[36;1m\u001b[1;3mThe highest value of Cost of Goods and Services Sold is 169559000000.00\n",
      "\u001b[0m\u001b[32;1m\u001b[1;3mRelevant Documents: 0\n",
      "Cited Documents: 0\n",
      "Answer: The highest value of Cost of Goods and Services Sold is 169559000000.00.\n",
      "Grounded answer: The highest value of Cost of Goods and Services Sold is <co: 0>169559000000.00</co: 0>.\u001b[0m\n",
      "\n",
      "\u001b[1m> Finished chain.\u001b[0m\n",
      "GT Answer:169559000000\n",
      "--------------------------------------------------\n",
      "question:q2\n",
      "\n",
      "\n",
      "\u001b[1m> Entering new AgentExecutor chain...\u001b[0m\n",
      "\u001b[32;1m\u001b[1;3m\n",
      "I will write and execute Python code to calculate the largest gross profit margin from the data frame provided.\n",
      "{'tool_name': 'python_interpreter', 'parameters': {'code': 'import pandas as pd\\n\\n# Read the CSV file into a DataFrame\\ndf = pd.read_csv(\\'income_statement.csv\\')\\n\\n# Calculate the gross profit margin as a percentage\\ndf[\\'GrossProfitMargin\\'] = (df[\\'GrossProfit\\'] / df[\\'RevenueFromContractWithCustomerExcludingAssessedTax\\']) * 100\\n\\n# Find the row with the maximum gross profit margin\\nmax_margin_row = df.loc[df[\\'GrossProfitMargin\\'].idxmax()]\\n\\nprint(f\"The largest gross profit margin is {max_margin_row[\\'GrossProfitMargin\\']}% on {max_margin_row[\\'index\\']}\")\\n'}}\n",
      "\u001b[0m\u001b[36;1m\u001b[1;3mThe largest gross profit margin is 38.36194330595236% on 2019-12-29-2020-03-28\n",
      "\u001b[0m\u001b[32;1m\u001b[1;3mRelevant Documents: 0\n",
      "Cited Documents: 0\n",
      "Answer: The largest gross profit margin is approximately 38.36% on 2019-12-29 to 2020-03-28.\n",
      "Grounded answer: The largest gross profit margin is <co: 0>approximately 38.36</co: 0>% on <co: 0>2019-12-29 to 2020-03-28</co: 0>.\u001b[0m\n",
      "\n",
      "\u001b[1m> Finished chain.\u001b[0m\n",
      "GT Answer:0.3836194330595236\n",
      "--------------------------------------------------\n",
      "question:q3\n",
      "\n",
      "\n",
      "\u001b[1m> Entering new AgentExecutor chain...\u001b[0m\n",
      "\u001b[32;1m\u001b[1;3m\n",
      "I will write and execute Python code to calculate the minimum ratio of Operating Income Loss divided by Non Operating Income Expense.\n",
      "{'tool_name': 'python_interpreter', 'parameters': {'code': \"import pandas as pd\\n\\n# Read the CSV file into a DataFrame\\ndf = pd.read_csv('income_statement.csv')\\n\\n# Calculate the ratio\\nratios = df['OperatingIncomeLoss'] / df['NonoperatingIncomeExpense']\\n\\n# Find the minimum ratio\\nmin_ratio = ratios.min()\\n\\nprint(f'Minimum ratio: {min_ratio:.2f}')\\n\"}}\n",
      "\u001b[0m\u001b[36;1m\u001b[1;3mMinimum ratio: 35.36\n",
      "\u001b[0m\u001b[32;1m\u001b[1;3mRelevant Documents: 0\n",
      "Cited Documents: 0\n",
      "Answer: The minimum ratio of Operating Income Loss divided by Non Operating Income Expense is approximately **35.36**.\n",
      "Grounded answer: The minimum ratio of Operating Income Loss divided by Non Operating Income Expense is approximately *<co: 0>*35.36</co: 0>**.\u001b[0m\n",
      "\n",
      "\u001b[1m> Finished chain.\u001b[0m\n",
      "GT Answer:35.360599\n",
      "--------------------------------------------------\n"
     ]
    }
   ],
   "source": [
    "for qsn,val in question_dict.items():\n",
    "    print(f'question:{qsn}')\n",
    "    agent_executor.invoke({\n",
    "       \"input\": val[0],\n",
    "       \"preamble\": preamble,\n",
    "    })\n",
    "    print(f'GT Answer:{val[1]}')\n",
    "    print('-'*50)"
   ]
  },
  {
   "cell_type": "markdown",
   "id": "61b9d964",
   "metadata": {
    "collapsed": false,
    "jupyter": {
     "outputs_hidden": false
    }
   },
   "source": [
    "Also in this case, the Agent correctly answers all the questions."
   ]
  },
  {
   "cell_type": "markdown",
   "id": "f6d9adda-9836-4ef9-a40c-cdda3fe76658",
   "metadata": {},
   "source": [
    "<a id=\"sec_step3\"></a>\n",
    "# QnA over Multiple Tables\n",
    "\n",
    "We now make the task for the Agent more complicated, by asking it questions whose answer can be computed only by retrieving relevant information from multiple tables."
   ]
  },
  {
   "cell_type": "code",
   "execution_count": 21,
   "id": "4f799645-c2a3-4f9b-a5cb-b9a6e57a3650",
   "metadata": {},
   "outputs": [],
   "source": [
    "# define the Agent\n",
    "python_repl = PythonREPL()\n",
    "python_tool = Tool(\n",
    "    name=\"python_repl\",\n",
    "    description=\"Executes python code and returns the result. The code runs in a static sandbox without interactive mode, so print output or save output to a file.\",\n",
    "    func=python_repl.run,\n",
    ")\n",
    "python_tool.name = \"python_interpreter\"\n",
    "\n",
    "class ToolInput(BaseModel):\n",
    "    code: str = Field(description=\"Python code to execute.\")\n",
    "python_tool.args_schema = ToolInput\n",
    "tools=[python_tool]\n",
    "\n",
    "prompt = ChatPromptTemplate.from_template(\"{input}\")\n",
    "agent = create_cohere_react_agent(\n",
    "   llm=llm,\n",
    "   tools=tools,\n",
    "   prompt=prompt,\n",
    ")\n",
    "agent_executor = AgentExecutor(agent=agent,\n",
    "                               tools=tools,\n",
    "                               verbose=True,\n",
    "                               return_intermediate_steps=True\n",
    "                    )\n",
    "\n",
    "preamble = \"\"\"\n",
    "You are an expert who answers the user's question in complete sentences. You are working with two pandas dataframe in Python. Ensure your output is a string.\n",
    "\n",
    "Here is a preview of the `income_statement.csv` dataframe:\n",
    "{table_1}\n",
    "\n",
    "Here is a preview of the `balance_sheet.csv` dataframe:\n",
    "{table_2}\n",
    "\"\"\".format(table_1=income_statement.head(3).to_markdown(),table_2=balance_sheet.head(3).to_markdown())\n"
   ]
  },
  {
   "cell_type": "markdown",
   "id": "538efc17",
   "metadata": {
    "collapsed": false,
    "jupyter": {
     "outputs_hidden": false
    }
   },
   "source": [
    "We now define a new question."
   ]
  },
  {
   "cell_type": "code",
   "execution_count": 27,
   "id": "f2662094",
   "metadata": {
    "collapsed": false,
    "jupyter": {
     "outputs_hidden": false
    }
   },
   "outputs": [],
   "source": [
    "question_dict ={\n",
    "    'q1': ['what is the ratio of the largest stockholders equity to the smallest revenue'],\n",
    "}"
   ]
  },
  {
   "cell_type": "markdown",
   "id": "3e6442e1",
   "metadata": {
    "collapsed": false,
    "jupyter": {
     "outputs_hidden": false
    }
   },
   "source": [
    "The answer to this question can be obtained only by accessing both the balance sheet and the income statement, as shown below:"
   ]
  },
  {
   "cell_type": "code",
   "execution_count": 29,
   "id": "236ecbf8-74a2-4d31-af89-2c557ed511cd",
   "metadata": {},
   "outputs": [
    {
     "name": "stdout",
     "output_type": "stream",
     "text": [
      "The largest stockholders equity value is: 134047000000.0\n",
      "The smallest revenue value is: 53809000000.0\n",
      "Their ratio is: 2.4911631883142227\n"
     ]
    }
   ],
   "source": [
    "# get the largest stockholders equity\n",
    "x = balance_sheet['StockholdersEquity'].astype(float).max()\n",
    "print(f\"The largest stockholders equity value is: {x}\")\n",
    "\n",
    "# get the smallest revenue\n",
    "y = income_statement['RevenueFromContractWithCustomerExcludingAssessedTax'].astype(float).min()\n",
    "print(f\"The smallest revenue value is: {y}\")\n",
    "\n",
    "# compute the ratio\n",
    "ratio = x/y\n",
    "print(f\"Their ratio is: {ratio}\")"
   ]
  },
  {
   "cell_type": "markdown",
   "id": "6fbf6bb3",
   "metadata": {
    "collapsed": false,
    "jupyter": {
     "outputs_hidden": false
    }
   },
   "source": [
    "Let's now get the answer from the Agent."
   ]
  },
  {
   "cell_type": "code",
   "execution_count": 34,
   "id": "bf5d72f4-2243-4cc8-a36a-34cec927ee42",
   "metadata": {},
   "outputs": [
    {
     "name": "stdout",
     "output_type": "stream",
     "text": [
      "question:q1\n",
      "\n",
      "\n",
      "\u001b[1m> Entering new AgentExecutor chain...\u001b[0m\n",
      "\u001b[32;1m\u001b[1;3m\n",
      "I will write and execute Python code to find the largest and smallest values in the relevant columns of the dataframes, then calculate the ratio.\n",
      "{'tool_name': 'python_interpreter', 'parameters': {'code': \"import pandas as pd\\n\\nincome_statement = pd.read_csv('income_statement.csv')\\nbalance_sheet = pd.read_csv('balance_sheet.csv')\\n\\n# Find largest and smallest values in relevant columns\\nmax_stockholders_equity = max([balance_sheet['StockholdersEquity'].iloc[i] for i in range(len(balance_sheet))])\\nmin_revenue = min([income_statement['RevenueFromContractWithCustomerExcludingAssessedTax'].iloc[i] for i in range(len(income_statement))])\\n\\n# Calculate ratio\\nratio = max_stockholders_equity / min_revenue\\n\\nprint(f'The ratio of the largest stockholders equity to the smallest revenue is {ratio:.2f}'\\n    )\"}}\n",
      "\u001b[0m\u001b[36;1m\u001b[1;3mNameError(\"name 'balance_sheet' is not defined\")\u001b[0m\u001b[32;1m\u001b[1;3m\n",
      "My code has thrown an error because the variable `balance_sheet` has not been defined. I will fix this by adding the line `balance_sheet = pd.read_csv('balance_sheet.csv')` to the beginning of my code.\n",
      "{'tool_name': 'python_interpreter', 'parameters': {'code': \"import pandas as pd\\n\\nincome_statement = pd.read_csv('income_statement.csv')\\n\\nbalance_sheet = pd.read_csv('balance_sheet.csv')\\n\\n# Find largest and smallest values in relevant columns\\nmax_stockholders_equity = max([balance_sheet['StockholdersEquity'].iloc[i] for i in range(len(balance_sheet))])\\nmin_revenue = min([income_statement['RevenueFromContractWithCustomerExcludingAssessedTax'].iloc[i] for i in range(len(income_statement))])\\n\\n# Calculate ratio\\nratio = max_stockholders_equity / min_revenue\\n\\nprint(f'The ratio of the largest stockholders equity to the smallest revenue is {ratio:.2f}'\\n    )\"}}\n",
      "\u001b[0m\u001b[36;1m\u001b[1;3mNameError(\"name 'balance_sheet' is not defined\")\u001b[0m\u001b[32;1m\u001b[1;3m\n",
      "The same error has occurred again, so I will check my code carefully to make sure the variable is being defined correctly.\n",
      "{'tool_name': 'python_interpreter', 'parameters': {'code': \"import pandas as pd\\n\\n# Load data\\nincome_statement = pd.read_csv('income_statement.csv')\\nbalance_sheet = pd.read_csv('balance_sheet.csv')\\n\\n# Find largest and smallest values in relevant columns\\nmax_stockholders_equity = max(balance_sheet['StockholdersEquity'])\\nmin_revenue = min(income_statement['RevenueFromContractWithCustomerExcludingAssessedTax'])\\n\\n# Calculate ratio\\nratio = max_stockholders_equity / min_revenue\\n\\nprint(f'The ratio of the largest stockholders equity to the smallest revenue is {ratio:.2f}')\"}}\n",
      "\u001b[0m\u001b[36;1m\u001b[1;3mThe ratio of the largest stockholders equity to the smallest revenue is 2.49\n",
      "\u001b[0m\u001b[32;1m\u001b[1;3mRelevant Documents: 0,1,2\n",
      "Cited Documents: 2\n",
      "Answer: The ratio of the largest stockholders equity to the smallest revenue is approximately **2.49**.\n",
      "Grounded answer: The ratio of the largest stockholders equity to the smallest revenue is approximately *<co: 2>*2.49</co: 2>**.\u001b[0m\n",
      "\n",
      "\u001b[1m> Finished chain.\u001b[0m\n"
     ]
    }
   ],
   "source": [
    "for qsn,val in question_dict.items():\n",
    "    print(f'question:{qsn}')\n",
    "    agent_executor.invoke({\n",
    "       \"input\": val[0],\n",
    "       \"preamble\": preamble,\n",
    "    })"
   ]
  },
  {
   "cell_type": "markdown",
   "id": "077a5aa5",
   "metadata": {
    "collapsed": false,
    "jupyter": {
     "outputs_hidden": false
    }
   },
   "source": [
    "The Agent defined a plan (\"write and execute Python code to find the largest and smallest values in the relevant columns of the dataframes, then calculate the ratio\") and executed it. It made some mistakes when coding, that resulted in NameError errors, but it fixed them and finally got to the correct answer"
   ]
  }
 ],
 "metadata": {
  "colab": {
   "provenance": []
  },
  "kernelspec": {
   "display_name": "Python 3 (ipykernel)",
   "language": "python",
   "name": "python3"
  },
  "language_info": {
   "codemirror_mode": {
    "name": "ipython",
    "version": 3
   },
   "file_extension": ".py",
   "mimetype": "text/x-python",
   "name": "python",
   "nbconvert_exporter": "python",
   "pygments_lexer": "ipython3",
   "version": "3.10.14"
  }
 },
 "nbformat": 4,
 "nbformat_minor": 5
}
