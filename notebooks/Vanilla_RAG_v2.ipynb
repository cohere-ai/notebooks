{
  "cells": [
    {
      "cell_type": "markdown",
      "metadata": {
        "id": "mz33G3t6gbOl"
      },
      "source": [
        "# RAG\n",
        "\n",
        "Retrieval-Augmented Generation (RAG) is a technique that combines the strengths of pre-trained language models with the ability to retrieve information from a large corpus of documents. RAG **enables the language model to produce more informed, accurate, and contextually relevant answers** than by relying on its pre-trained knowledge alone.\n",
        "\n",
        "At Cohere, all RAG calls come with... **precise citations**! 🎉\n",
        "The model cites which groups of words, in the RAG chunks, were used to generate the final answer.  \n",
        "These citations make it easy to check where the model’s generated response claims are coming from and they help users gain visibility into the model reasoning.  \n",
        "\n",
        "RAG consists of 3 steps:\n",
        "- Step 1: Indexing and given a user query, retrieve the relevant chunks from the index\n",
        "- Step 2: Optionally, rerank the retrieved chunks\n",
        "- Step 3: Generate the model final answer with **precise citations**, given the retrieved and reranked chunks\n",
        "\n",
        "\n"
      ]
    },
    {
      "cell_type": "markdown",
      "metadata": {
        "id": "nSB0pnt0gbOo"
      },
      "source": [
        "## Step 0 - Imports & Getting some data\n",
        "\n",
        "In this example, we'll use a recent piece of text, that wasn't in the training data: the Wikipedia page of the movie \"Dune 2\".   \n",
        "\n",
        "In practice, you would typically do RAG on much longer text, that doesn't fit in the context window of the model."
      ]
    },
    {
      "cell_type": "code",
      "execution_count": 1,
      "metadata": {
        "id": "rACbepFGgbOo"
      },
      "outputs": [],
      "source": [
        "# pip install cohere\n",
        "\n",
        "import cohere\n",
        "\n",
        "co = cohere.ClientV2(api_key=\"YOUR_COHERE_API_KEY\") # Get your free API key: https://dashboard.cohere.com/api-keys"
      ]
    },
    {
      "cell_type": "code",
      "execution_count": 3,
      "metadata": {
        "colab": {
          "base_uri": "https://localhost:8080/"
        },
        "id": "QdvbqfFrgbOq",
        "outputId": "3882c95c-46bf-4dcc-99a2-453b3c2fc7c4"
      },
      "outputs": [],
      "source": [
        "# we'll get some wikipedia data\n",
        "# ! pip install wikipedia -qq\n",
        "\n",
        "import wikipedia"
      ]
    },
    {
      "cell_type": "code",
      "execution_count": 4,
      "metadata": {
        "colab": {
          "base_uri": "https://localhost:8080/"
        },
        "id": "xP-bWt9XgbOq",
        "outputId": "72276fb2-0d6b-415d-af74-452a013ae84b"
      },
      "outputs": [
        {
          "name": "stdout",
          "output_type": "stream",
          "text": [
            "The text has roughly 5896 words.\n"
          ]
        }
      ],
      "source": [
        "# let's get the wikipedia article about Dune Part Two\n",
        "article = wikipedia.page('Dune Part Two')\n",
        "text = article.content\n",
        "print(f\"The text has roughly {len(text.split())} words.\")"
      ]
    },
    {
      "cell_type": "markdown",
      "metadata": {
        "id": "-1aJ7hKGgbOr"
      },
      "source": [
        "## Step 1 - Indexing and given a user query, retrieve the relevant chunks from the index\n",
        "\n",
        "We index the document in a vector database. This requires getting the documents, chunking them, embedding, and indexing them in a vector database. Then we retrieved relevant results based on the users' query.\n",
        "\n",
        "### We split the document into chunks of roughly 512 words"
      ]
    },
    {
      "cell_type": "code",
      "execution_count": 5,
      "metadata": {
        "colab": {
          "base_uri": "https://localhost:8080/"
        },
        "id": "ZUph1JX41665",
        "outputId": "6c63a93f-6999-47af-e704-d4a88727bc75"
      },
      "outputs": [],
      "source": [
        "# For chunking let's use langchain to help us split the text\n",
        "! pip install -qU langchain-text-splitters -qq\n",
        "\n",
        "from langchain_text_splitters import RecursiveCharacterTextSplitter"
      ]
    },
    {
      "cell_type": "code",
      "execution_count": 6,
      "metadata": {
        "colab": {
          "base_uri": "https://localhost:8080/"
        },
        "id": "uhXW7iHC1-Q6",
        "outputId": "d68ac348-4b73-4c6a-a445-6c510bdb0881"
      },
      "outputs": [
        {
          "name": "stdout",
          "output_type": "stream",
          "text": [
            "The text has been broken down in 108 chunks.\n"
          ]
        }
      ],
      "source": [
        "# Create basic configurations to chunk the text\n",
        "text_splitter = RecursiveCharacterTextSplitter(\n",
        "    chunk_size=512,\n",
        "    chunk_overlap=50,\n",
        "    length_function=len,\n",
        "    is_separator_regex=False,\n",
        ")\n",
        "\n",
        "# Split the text into chunks with some overlap\n",
        "chunks_ = text_splitter.create_documents([text])\n",
        "chunks = [c.page_content for c in chunks_]\n",
        "print(f\"The text has been broken down in {len(chunks)} chunks.\")"
      ]
    },
    {
      "cell_type": "markdown",
      "metadata": {
        "id": "P8g0sE2hgbOs"
      },
      "source": [
        "### Embed every text chunk\n",
        "\n",
        "Cohere embeddings are state-of-the-art."
      ]
    },
    {
      "cell_type": "code",
      "execution_count": 8,
      "metadata": {
        "colab": {
          "base_uri": "https://localhost:8080/"
        },
        "id": "KEarMPEqgbOs",
        "outputId": "7da0e06d-f637-4470-8e01-6de8249be64b"
      },
      "outputs": [
        {
          "name": "stdout",
          "output_type": "stream",
          "text": [
            "We just computed 108 embeddings.\n"
          ]
        }
      ],
      "source": [
        "# Because the texts being embedded are the chunks we are searching over, we set the input type as search_doc\n",
        "model = \"embed-english-v3.0\"\n",
        "\n",
        "def batch_embed(texts, batch_size=96):\n",
        "    all_embeddings = []\n",
        "    for i in range(0, len(texts), batch_size):\n",
        "        batch = texts[i:i+batch_size]\n",
        "        response = co.embed(\n",
        "            texts=batch,\n",
        "            model=model,\n",
        "            input_type=\"search_document\",\n",
        "            embedding_types=['float']\n",
        "        )\n",
        "        all_embeddings.extend(response.embeddings.float)\n",
        "    return all_embeddings\n",
        "\n",
        "embeddings = batch_embed(chunks)\n",
        "print(f\"We just computed {len(embeddings)} embeddings.\")"
      ]
    },
    {
      "cell_type": "markdown",
      "metadata": {
        "id": "HM6vKeypgbOs"
      },
      "source": [
        "### Store the embeddings in a vector database\n",
        "\n",
        "We use the simplest vector database ever: a python dictionary using `np.array()`."
      ]
    },
    {
      "cell_type": "code",
      "execution_count": 10,
      "metadata": {
        "id": "sdW7M8HLvB-9"
      },
      "outputs": [],
      "source": [
        "# We use the simplest vector database ever: a python dictionary\n",
        "! pip install numpy -qq"
      ]
    },
    {
      "cell_type": "code",
      "execution_count": 9,
      "metadata": {
        "id": "H2srFH-IgbOs"
      },
      "outputs": [],
      "source": [
        "import numpy as np\n",
        "vector_database = {i: np.array(embedding) for i, embedding in enumerate(embeddings)}\n",
        "# { 0: array([...]), 1: array([...]), 2: array([...]), ..., 10: array([...]) }"
      ]
    },
    {
      "cell_type": "markdown",
      "metadata": {
        "id": "q6NGVurZgbOs"
      },
      "source": [
        "## Given a user query, retrieve the relevant chunks from the vector database\n"
      ]
    },
    {
      "cell_type": "markdown",
      "metadata": {
        "id": "eC05yJQ7jlek"
      },
      "source": [
        "### Define the user question"
      ]
    },
    {
      "cell_type": "code",
      "execution_count": 10,
      "metadata": {
        "id": "Y2HTxspKgbOs"
      },
      "outputs": [],
      "source": [
        "query = \"Name everyone involved in writing the script, directing, and producing 'Dune: Part Two'?\"\n",
        "\n",
        "# Note: the relevant passage in the wikipedia page we're looking for is:\n",
        "# \"[...] Dune: Part Two was originally scheduled to be released on October 20, 2023, but was delayed to November 17, 2023, before moving forward two weeks to November 3, 2023, to adjust to changes in release schedules from other studios. It was later postponed by over four months to March 15, 2024, due to the 2023 Hollywood labor disputes. After the strikes were resolved, the film moved once more up two weeks to March 1, 2024. [...]\""
      ]
    },
    {
      "cell_type": "markdown",
      "metadata": {
        "id": "9oULg1tOjjOW"
      },
      "source": [
        "### Embed the user question\n",
        "\n",
        "Cohere embeddings are state-of-the-art."
      ]
    },
    {
      "cell_type": "code",
      "execution_count": 11,
      "metadata": {
        "colab": {
          "base_uri": "https://localhost:8080/"
        },
        "id": "yrUuS6vXgbOs",
        "outputId": "0c64a930-f817-43c2-d775-1d9145cb304e"
      },
      "outputs": [
        {
          "name": "stdout",
          "output_type": "stream",
          "text": [
            "query_embedding:  [-0.068603516, -0.02947998, -0.06274414, -0.015449524, -0.033294678, 0.0056877136, -0.047210693, 0.04714966, -0.024871826, 0.008148193, '...']\n"
          ]
        }
      ],
      "source": [
        "# Because the text being embedded is the search query, we set the input type as search_query\n",
        "response = co.embed(\n",
        "    texts=[query],\n",
        "    model=model,\n",
        "    input_type=\"search_query\",\n",
        "    embedding_types=['float']\n",
        ")\n",
        "query_embedding = response.embeddings.float[0]\n",
        "print(\"query_embedding: \", query_embedding[:10] + [\"...\"])"
      ]
    },
    {
      "cell_type": "markdown",
      "metadata": {
        "id": "8K8B87CGgbOt"
      },
      "source": [
        "### Retrieve the most relevant chunks from the vector database\n",
        "\n",
        "We use cosine similarity to find the most similar chunks"
      ]
    },
    {
      "cell_type": "code",
      "execution_count": 12,
      "metadata": {
        "colab": {
          "base_uri": "https://localhost:8080/"
        },
        "id": "nik3es32gbOt",
        "outputId": "a1c30024-52e1-42c7-8836-a2c590559aca"
      },
      "outputs": [
        {
          "name": "stdout",
          "output_type": "stream",
          "text": [
            "similarity scores:  [0.6880419226352857, 0.3923392545434105, 0.6386815248269733, 0.43618145115797535, 0.35780784367307705, 0.3923210354894715, 0.3406860631010847, 0.2957357005793907, 0.4255159555931599, 0.14503223489330883, 0.3997846789722547, 0.3743933002525113, 0.4083288113267294, 0.26194266616864986, 0.31982912150076953, 0.3531164824914523, 0.23203650717727414, 0.497148799385201, 0.34487158221487835, 0.28824423308146263, 0.5782290303802001, 0.5489319961327446, 0.778415400224538, 0.5236541350938922, 0.5481962732642285, 0.7135549552247115, 0.5205999648021981, 0.5872268968480292, 0.26489409375108064, 0.6410858426784221, 0.5367759890829636, 0.6816158875713925, 0.39144361423311, 0.4827300300834518, 0.4502725966061075, 0.2462873309174519, 0.443300705486635, 0.39120172781317253, 0.20620678706300988, 0.4371599199261209, 0.37572638119299867, 0.4614621126654143, 0.29906070488176123, 0.36477353501504023, 0.36024747243912564, 0.3929914083901088, 0.23114430973151348, 0.4646991530089856, 0.1187422018303958, 0.4217084543208151, 0.36510789830148477, 0.26769253214700306, 0.36598547319281477, 0.3792997473359336, 0.4596196436425069, 0.43869634271638114, 0.20089603894036867, 0.42191807980549356, 0.4387291730859993, 0.4488941445207048, 0.1299006327023146, 0.3832393275291005, 0.14269299802866453, 0.5386575762368317, 0.29891892602821285, 0.4128023121085502, 0.15622874884471297, 0.5037411178038066, 0.3403791753246366, 0.4518658626088099, 0.3588444212378783, 0.39024780342329135, 0.48874362388129355, 0.2970250944589432, 0.4890213355379532, 0.2601457789171118, 0.5098062623890619, 0.41745989801233, 0.18695460607524733, 0.5309005848922221, 0.5226886534429271, 0.5478914338259878, 0.5004863890173412, 0.1968363843203233, 0.4210806632601615, 0.5341083271502703, 0.28640413417722466, 0.31654174678868613, 0.21754347066657245, 0.46012838286736324, 0.14089744261122422, 0.20637564356989352, 0.5713764499847603, 0.3808494424653835, 0.5832486106225127, 0.41007417198464485, 0.2604390796614135, 0.3801380463864371, 0.2867894923131921, 0.3135170641699137, 0.3470364583530195, 0.21980436849993726, 0.1414052619528618, 0.468511284019416, 0.4496650446352944, 0.5239361429406763, 0.19838970836663622, 0.42025656379414894]\n",
            "Here are the indices of the top 10 chunks after retrieval:  [22 25  0 31 29  2 27 94 20 92]\n",
            "Here are the top 10 chunks after retrieval: \n",
            "== Dune: Part Two was produced by Villeneuve, Mary Parent, and Cale Boyter, with Tanya Lapointe, Brian Herbert, Byron Merritt, Kim Herbert, Thomas Tull, Jon Spaihts, Richard P. Rubinstein, John Harrison, and Herbert W. Gain serving as executive producers and Kevin J. Anderson as creative consultant. Legendary CEO Joshua Grode confirmed in April 2019 that they plan to make a sequel, adding that \"there's a logical place to stop the [first] movie before the book is over\".\n",
            "== On October 26, 2021, Legendary officially greenlit Dune: Part Two, with a spokesperson for the company stating, \"We would not have gotten to this point without the extraordinary vision of Denis and the amazing work of his talented crew, the writers, our stellar cast, our partners at Warner Bros., and of course the fans! Here's to more Dune.\" Production work had occurred back-to-back with the first film, as Villeneuve and his wife Lapointe immediately took a flight to Budapest in order to begin\n",
            "== Dune: Part Two is a 2024 American epic science fiction film directed and co-produced by Denis Villeneuve, who co-wrote the screenplay with Jon Spaihts. The sequel to Dune (2021), it is the second of a two-part adaptation of the 1965 novel Dune by Frank Herbert. It follows Paul Atreides as he unites with the Fremen people of the desert planet Arrakis to wage war against House Harkonnen. Timothée Chalamet, Rebecca Ferguson, Josh Brolin, Stellan Skarsgård, Dave Bautista, Zendaya, Charlotte Rampling, and Javier\n",
            "== Between the release of Dune and the confirmation of Dune: Part Two, Villeneuve started working the script in a way that production could begin immediately once the film was greenlit. By February 2021, Roth created a full treatment for the sequel, with writing beginning that August. He confirmed that Feyd-Rautha would appear in the film, and stated he will be a \"very important character\". In March 2022, Villeneuve had mostly finished writing the screenplay. Craig Mazin and Roth wrote additional literary\n",
            "== Eric Roth was hired to co-write the screenplay in April 2017 for the Dune films, and Jon Spaihts was later confirmed to be co-writing the script alongside Roth and Villeneuve. Game of Thrones language creator David Peterson was confirmed to be developing languages for the film in April 2019. Villeneuve and Peterson had created the Chakobsa language, which was used by actors on set. In November 2019, Spaihts stepped down as show-runner for Dune: Prophecy to focus on Dune: Part Two. In June 2020, Greig\n",
            "== Development began after Legendary Entertainment acquired film and television rights for the Dune franchise in 2016. Villeneuve signed on as director in 2017, intending to make a two-part adaptation of the novel due to its complexity. Production contracts were only secured for the first film before the second film was greenlit by Legendary in October 2021, subject to the success of the first. Principal photography took place in Budapest, Italy, Jordan, and Abu Dhabi between July and December 2022.\n",
            "== theatrical experience is at the very heart of the cinematic language for me\". With Dune: Part Two being greenlit, Villeneuve said that his primary concern was to complete the filming as soon as possible, with the earliest he expected to start in the last quarter of 2022. He noted that production would be expedited by the work already done for the first film.\n",
            "== Richard Roeper, writing for the Chicago Sun-Times, gave the film three stars out of four, praising the technical and narrative aspects, saying, \"Even as we marvel at the stunning and immersive and Oscar-level cinematography, editing, score, visual effects, production design and sound in Denis Villeneuve's Dune: Part Two, we're reminded at every turn that this is an absolutely bat-bleep [sic] crazy story.\"\n",
            "== In November 2016, Legendary Pictures obtained the film and TV rights for the Dune franchise, based on the eponymous 1965 novel by Frank Herbert. Vice chair of worldwide production for Legendary Mary Parent began discussing with Denis Villeneuve about directing a film adaptation, quickly hiring him after realizing his passion for Dune. In February 2018, Villeneuve was confirmed to be hired as director, and intended to adapt the novel as a two-part film series. Villeneuve ultimately secured a two-film deal\n",
            "== The film \"largely received rave reviews from critics\", and was praised for its visual effects and cast performances. Some reviews considered it one of the greatest science fiction films ever made. On the review aggregator website Rotten Tomatoes, 92% of 442 critics' reviews are positive, with an average rating of 8.3/10. The website's consensus reads: \"Visually thrilling and narratively epic, Dune: Part Two continues Denis Villeneuve's adaptation of the beloved sci-fi series in spectacular form.\"\n"
          ]
        }
      ],
      "source": [
        "def cosine_similarity(a, b):\n",
        "    return np.dot(a, b) / (np.linalg.norm(a) * np.linalg.norm(b))\n",
        "\n",
        "# Calculate similarity between the user question & each chunk\n",
        "similarities = [cosine_similarity(query_embedding, chunk) for chunk in embeddings]\n",
        "print(\"similarity scores: \", similarities)\n",
        "\n",
        "# Get indices of the top 10 most similar chunks\n",
        "sorted_indices = np.argsort(similarities)[::-1]\n",
        "\n",
        "# Keep only the top 10 indices\n",
        "top_indices = sorted_indices[:10]\n",
        "print(\"Here are the indices of the top 10 chunks after retrieval: \", top_indices)\n",
        "\n",
        "# Retrieve the top 10 most similar chunks\n",
        "top_chunks_after_retrieval = [chunks[i] for i in top_indices]\n",
        "print(\"Here are the top 10 chunks after retrieval: \")\n",
        "for t in top_chunks_after_retrieval:\n",
        "    print(\"== \" + t)"
      ]
    },
    {
      "cell_type": "markdown",
      "metadata": {
        "id": "qzcpds3VgbOt"
      },
      "source": [
        "## Step 2 - Rerank the chunks retrieved from the vector database\n",
        "\n",
        "We rerank the 10 chunks retrieved from the vector database. Reranking boosts retrieval accuracy.\n",
        "\n",
        "Reranking lets us go from 10 chunks retrieved from the vector database, to the 3 most relevant chunks."
      ]
    },
    {
      "cell_type": "code",
      "execution_count": 13,
      "metadata": {
        "colab": {
          "base_uri": "https://localhost:8080/"
        },
        "id": "2J4LywVygbOt",
        "outputId": "7a4c89bf-fc5e-409f-9304-fce006b9d8bf"
      },
      "outputs": [
        {
          "name": "stdout",
          "output_type": "stream",
          "text": [
            "Here are the top 3 chunks after rerank: \n",
            "== Dune: Part Two was produced by Villeneuve, Mary Parent, and Cale Boyter, with Tanya Lapointe, Brian Herbert, Byron Merritt, Kim Herbert, Thomas Tull, Jon Spaihts, Richard P. Rubinstein, John Harrison, and Herbert W. Gain serving as executive producers and Kevin J. Anderson as creative consultant. Legendary CEO Joshua Grode confirmed in April 2019 that they plan to make a sequel, adding that \"there's a logical place to stop the [first] movie before the book is over\".\n",
            "== Dune: Part Two is a 2024 American epic science fiction film directed and co-produced by Denis Villeneuve, who co-wrote the screenplay with Jon Spaihts. The sequel to Dune (2021), it is the second of a two-part adaptation of the 1965 novel Dune by Frank Herbert. It follows Paul Atreides as he unites with the Fremen people of the desert planet Arrakis to wage war against House Harkonnen. Timothée Chalamet, Rebecca Ferguson, Josh Brolin, Stellan Skarsgård, Dave Bautista, Zendaya, Charlotte Rampling, and Javier\n",
            "== On October 26, 2021, Legendary officially greenlit Dune: Part Two, with a spokesperson for the company stating, \"We would not have gotten to this point without the extraordinary vision of Denis and the amazing work of his talented crew, the writers, our stellar cast, our partners at Warner Bros., and of course the fans! Here's to more Dune.\" Production work had occurred back-to-back with the first film, as Villeneuve and his wife Lapointe immediately took a flight to Budapest in order to begin\n"
          ]
        }
      ],
      "source": [
        "response = co.rerank(\n",
        "    query=query,\n",
        "    documents=top_chunks_after_retrieval,\n",
        "    top_n=3,\n",
        "    model=\"rerank-english-v3.0\",\n",
        ")\n",
        "\n",
        "# top_chunks_after_rerank = [result.document['text'] for result in response]\n",
        "\n",
        "top_chunks_after_rerank = [top_chunks_after_retrieval[result.index] for result in response.results]\n",
        "\n",
        "print(\"Here are the top 3 chunks after rerank: \")\n",
        "for t in top_chunks_after_rerank:\n",
        "    print(\"== \" + t)"
      ]
    },
    {
      "cell_type": "markdown",
      "metadata": {
        "id": "KuPL0VUXgbOt"
      },
      "source": [
        "## Step 3 - Generate the model final answer, given the retrieved and reranked chunks"
      ]
    },
    {
      "cell_type": "code",
      "execution_count": 14,
      "metadata": {
        "id": "oCNXWH8GgbOt"
      },
      "outputs": [],
      "source": [
        "# preamble containing instructions about the task and the desired style for the output.\n",
        "preamble = \"\"\"\n",
        "## Task & Context\n",
        "You help people answer their questions and other requests interactively. You will be asked a very wide array of requests on all kinds of topics. You will be equipped with a wide range of search engines or similar tools to help you, which you use to research your answer. You should focus on serving the user's needs as best you can, which will be wide-ranging.\n",
        "\n",
        "## Style Guide\n",
        "Unless the user asks for a different style of answer, you should answer in full sentences, using proper grammar and spelling.\n",
        "\"\"\""
      ]
    },
    {
      "cell_type": "code",
      "execution_count": 16,
      "metadata": {
        "colab": {
          "base_uri": "https://localhost:8080/"
        },
        "id": "BevatShtgbOt",
        "outputId": "af71f4a9-787a-4ee3-9598-20692fb3bf16"
      },
      "outputs": [
        {
          "name": "stdout",
          "output_type": "stream",
          "text": [
            "Final answer:\n",
            "*Dune: Part Two* is a 2024 American epic science fiction film directed and co-produced by Denis Villeneuve, who co-wrote the screenplay with Jon Spaihts. The film was produced by Villeneuve, Mary Parent, and Cale Boyter, with Tanya Lapointe, Brian Herbert, Byron Merritt, Kim Herbert, Thomas Tull, Richard P. Rubinstein, John Harrison, and Herbert W. Gain serving as executive producers. Kevin J. Anderson was the creative consultant.\n"
          ]
        }
      ],
      "source": [
        "# retrieved documents\n",
        "documents = [\n",
        "    {\"data\": {\"title\": \"chunk 0\", \"snippet\": top_chunks_after_rerank[0]}},\n",
        "    {\"data\": {\"title\": \"chunk 1\", \"snippet\": top_chunks_after_rerank[1]}},\n",
        "    {\"data\": {\"title\": \"chunk 2\", \"snippet\": top_chunks_after_rerank[2]}},\n",
        "  ]\n",
        "\n",
        "# get model response\n",
        "response = co.chat(\n",
        "  model=\"command-r-08-2024\",\n",
        "  messages=[{\"role\" : \"system\", \"content\" : preamble},\n",
        "            {\"role\" : \"user\", \"content\" : query}],\n",
        "  documents=documents,  \n",
        "  temperature=0.3\n",
        ")\n",
        "\n",
        "print(\"Final answer:\")\n",
        "print(response.message.content[0].text)"
      ]
    },
    {
      "cell_type": "markdown",
      "metadata": {
        "id": "20wcn-EjlXZd"
      },
      "source": [
        "Note: this is indeed the answer you'd expect, and here was the passage of text in wikipedia explaining it!\n",
        "\n",
        "\" [...] Dune: Part Two was originally scheduled to be released on October 20, 2023, but was delayed to November 17, 2023, before moving forward two weeks to November 3, 2023, to adjust to changes in release schedules from other studios. It was later postponed by over four months to March 15, 2024, due to the 2023 Hollywood labor disputes. After the strikes were resolved, the film moved once more up two weeks to March 1, 2024. [...]\""
      ]
    },
    {
      "cell_type": "markdown",
      "metadata": {
        "id": "RoSVDXSsgbOt"
      },
      "source": [
        "## Bonus: Citations come for free with Cohere! 🎉\n",
        "\n",
        "At Cohere, all RAG calls come with... precise citations! 🎉\n",
        "The model cites which groups of words, in the RAG chunks, were used to generate the final answer.  \n",
        "These citations make it easy to check where the model’s generated response claims are coming from.  \n",
        "They help users gain visibility into the model reasoning, and sanity check the final model generation.  \n",
        "These citations are optional — you can decide to ignore them.\n"
      ]
    },
    {
      "cell_type": "code",
      "execution_count": 18,
      "metadata": {
        "colab": {
          "base_uri": "https://localhost:8080/"
        },
        "id": "BVTuQdmDgbOt",
        "outputId": "f843b262-d8bb-45ba-cbfb-9915da104eda"
      },
      "outputs": [
        {
          "name": "stdout",
          "output_type": "stream",
          "text": [
            "Citations that support the final answer:\n",
            "start=22 end=61 text='2024 American epic science fiction film' sources=[DocumentSource(type='document', id='doc:1', document={'id': 'doc:1', 'snippet': 'Dune: Part Two is a 2024 American epic science fiction film directed and co-produced by Denis Villeneuve, who co-wrote the screenplay with Jon Spaihts. The sequel to Dune (2021), it is the second of a two-part adaptation of the 1965 novel Dune by Frank Herbert. It follows Paul Atreides as he unites with the Fremen people of the desert planet Arrakis to wage war against House Harkonnen. Timothée Chalamet, Rebecca Ferguson, Josh Brolin, Stellan Skarsgård, Dave Bautista, Zendaya, Charlotte Rampling, and Javier', 'title': 'chunk 1'})]\n",
            "start=62 end=106 text='directed and co-produced by Denis Villeneuve' sources=[DocumentSource(type='document', id='doc:1', document={'id': 'doc:1', 'snippet': 'Dune: Part Two is a 2024 American epic science fiction film directed and co-produced by Denis Villeneuve, who co-wrote the screenplay with Jon Spaihts. The sequel to Dune (2021), it is the second of a two-part adaptation of the 1965 novel Dune by Frank Herbert. It follows Paul Atreides as he unites with the Fremen people of the desert planet Arrakis to wage war against House Harkonnen. Timothée Chalamet, Rebecca Ferguson, Josh Brolin, Stellan Skarsgård, Dave Bautista, Zendaya, Charlotte Rampling, and Javier', 'title': 'chunk 1'})]\n",
            "start=112 end=153 text='co-wrote the screenplay with Jon Spaihts.' sources=[DocumentSource(type='document', id='doc:1', document={'id': 'doc:1', 'snippet': 'Dune: Part Two is a 2024 American epic science fiction film directed and co-produced by Denis Villeneuve, who co-wrote the screenplay with Jon Spaihts. The sequel to Dune (2021), it is the second of a two-part adaptation of the 1965 novel Dune by Frank Herbert. It follows Paul Atreides as he unites with the Fremen people of the desert planet Arrakis to wage war against House Harkonnen. Timothée Chalamet, Rebecca Ferguson, Josh Brolin, Stellan Skarsgård, Dave Bautista, Zendaya, Charlotte Rampling, and Javier', 'title': 'chunk 1'})]\n",
            "start=167 end=189 text='produced by Villeneuve' sources=[DocumentSource(type='document', id='doc:0', document={'id': 'doc:0', 'snippet': 'Dune: Part Two was produced by Villeneuve, Mary Parent, and Cale Boyter, with Tanya Lapointe, Brian Herbert, Byron Merritt, Kim Herbert, Thomas Tull, Jon Spaihts, Richard P. Rubinstein, John Harrison, and Herbert W. Gain serving as executive producers and Kevin J. Anderson as creative consultant. Legendary CEO Joshua Grode confirmed in April 2019 that they plan to make a sequel, adding that \"there\\'s a logical place to stop the [first] movie before the book is over\".', 'title': 'chunk 0'})]\n",
            "start=191 end=202 text='Mary Parent' sources=[DocumentSource(type='document', id='doc:0', document={'id': 'doc:0', 'snippet': 'Dune: Part Two was produced by Villeneuve, Mary Parent, and Cale Boyter, with Tanya Lapointe, Brian Herbert, Byron Merritt, Kim Herbert, Thomas Tull, Jon Spaihts, Richard P. Rubinstein, John Harrison, and Herbert W. Gain serving as executive producers and Kevin J. Anderson as creative consultant. Legendary CEO Joshua Grode confirmed in April 2019 that they plan to make a sequel, adding that \"there\\'s a logical place to stop the [first] movie before the book is over\".', 'title': 'chunk 0'})]\n",
            "start=208 end=219 text='Cale Boyter' sources=[DocumentSource(type='document', id='doc:0', document={'id': 'doc:0', 'snippet': 'Dune: Part Two was produced by Villeneuve, Mary Parent, and Cale Boyter, with Tanya Lapointe, Brian Herbert, Byron Merritt, Kim Herbert, Thomas Tull, Jon Spaihts, Richard P. Rubinstein, John Harrison, and Herbert W. Gain serving as executive producers and Kevin J. Anderson as creative consultant. Legendary CEO Joshua Grode confirmed in April 2019 that they plan to make a sequel, adding that \"there\\'s a logical place to stop the [first] movie before the book is over\".', 'title': 'chunk 0'})]\n",
            "start=226 end=240 text='Tanya Lapointe' sources=[DocumentSource(type='document', id='doc:0', document={'id': 'doc:0', 'snippet': 'Dune: Part Two was produced by Villeneuve, Mary Parent, and Cale Boyter, with Tanya Lapointe, Brian Herbert, Byron Merritt, Kim Herbert, Thomas Tull, Jon Spaihts, Richard P. Rubinstein, John Harrison, and Herbert W. Gain serving as executive producers and Kevin J. Anderson as creative consultant. Legendary CEO Joshua Grode confirmed in April 2019 that they plan to make a sequel, adding that \"there\\'s a logical place to stop the [first] movie before the book is over\".', 'title': 'chunk 0'})]\n",
            "start=242 end=255 text='Brian Herbert' sources=[DocumentSource(type='document', id='doc:0', document={'id': 'doc:0', 'snippet': 'Dune: Part Two was produced by Villeneuve, Mary Parent, and Cale Boyter, with Tanya Lapointe, Brian Herbert, Byron Merritt, Kim Herbert, Thomas Tull, Jon Spaihts, Richard P. Rubinstein, John Harrison, and Herbert W. Gain serving as executive producers and Kevin J. Anderson as creative consultant. Legendary CEO Joshua Grode confirmed in April 2019 that they plan to make a sequel, adding that \"there\\'s a logical place to stop the [first] movie before the book is over\".', 'title': 'chunk 0'})]\n",
            "start=257 end=270 text='Byron Merritt' sources=[DocumentSource(type='document', id='doc:0', document={'id': 'doc:0', 'snippet': 'Dune: Part Two was produced by Villeneuve, Mary Parent, and Cale Boyter, with Tanya Lapointe, Brian Herbert, Byron Merritt, Kim Herbert, Thomas Tull, Jon Spaihts, Richard P. Rubinstein, John Harrison, and Herbert W. Gain serving as executive producers and Kevin J. Anderson as creative consultant. Legendary CEO Joshua Grode confirmed in April 2019 that they plan to make a sequel, adding that \"there\\'s a logical place to stop the [first] movie before the book is over\".', 'title': 'chunk 0'})]\n",
            "start=272 end=283 text='Kim Herbert' sources=[DocumentSource(type='document', id='doc:0', document={'id': 'doc:0', 'snippet': 'Dune: Part Two was produced by Villeneuve, Mary Parent, and Cale Boyter, with Tanya Lapointe, Brian Herbert, Byron Merritt, Kim Herbert, Thomas Tull, Jon Spaihts, Richard P. Rubinstein, John Harrison, and Herbert W. Gain serving as executive producers and Kevin J. Anderson as creative consultant. Legendary CEO Joshua Grode confirmed in April 2019 that they plan to make a sequel, adding that \"there\\'s a logical place to stop the [first] movie before the book is over\".', 'title': 'chunk 0'})]\n",
            "start=285 end=296 text='Thomas Tull' sources=[DocumentSource(type='document', id='doc:0', document={'id': 'doc:0', 'snippet': 'Dune: Part Two was produced by Villeneuve, Mary Parent, and Cale Boyter, with Tanya Lapointe, Brian Herbert, Byron Merritt, Kim Herbert, Thomas Tull, Jon Spaihts, Richard P. Rubinstein, John Harrison, and Herbert W. Gain serving as executive producers and Kevin J. Anderson as creative consultant. Legendary CEO Joshua Grode confirmed in April 2019 that they plan to make a sequel, adding that \"there\\'s a logical place to stop the [first] movie before the book is over\".', 'title': 'chunk 0'})]\n",
            "start=298 end=319 text='Richard P. Rubinstein' sources=[DocumentSource(type='document', id='doc:0', document={'id': 'doc:0', 'snippet': 'Dune: Part Two was produced by Villeneuve, Mary Parent, and Cale Boyter, with Tanya Lapointe, Brian Herbert, Byron Merritt, Kim Herbert, Thomas Tull, Jon Spaihts, Richard P. Rubinstein, John Harrison, and Herbert W. Gain serving as executive producers and Kevin J. Anderson as creative consultant. Legendary CEO Joshua Grode confirmed in April 2019 that they plan to make a sequel, adding that \"there\\'s a logical place to stop the [first] movie before the book is over\".', 'title': 'chunk 0'})]\n",
            "start=321 end=334 text='John Harrison' sources=[DocumentSource(type='document', id='doc:0', document={'id': 'doc:0', 'snippet': 'Dune: Part Two was produced by Villeneuve, Mary Parent, and Cale Boyter, with Tanya Lapointe, Brian Herbert, Byron Merritt, Kim Herbert, Thomas Tull, Jon Spaihts, Richard P. Rubinstein, John Harrison, and Herbert W. Gain serving as executive producers and Kevin J. Anderson as creative consultant. Legendary CEO Joshua Grode confirmed in April 2019 that they plan to make a sequel, adding that \"there\\'s a logical place to stop the [first] movie before the book is over\".', 'title': 'chunk 0'})]\n",
            "start=340 end=355 text='Herbert W. Gain' sources=[DocumentSource(type='document', id='doc:0', document={'id': 'doc:0', 'snippet': 'Dune: Part Two was produced by Villeneuve, Mary Parent, and Cale Boyter, with Tanya Lapointe, Brian Herbert, Byron Merritt, Kim Herbert, Thomas Tull, Jon Spaihts, Richard P. Rubinstein, John Harrison, and Herbert W. Gain serving as executive producers and Kevin J. Anderson as creative consultant. Legendary CEO Joshua Grode confirmed in April 2019 that they plan to make a sequel, adding that \"there\\'s a logical place to stop the [first] movie before the book is over\".', 'title': 'chunk 0'})]\n",
            "start=367 end=387 text='executive producers.' sources=[DocumentSource(type='document', id='doc:0', document={'id': 'doc:0', 'snippet': 'Dune: Part Two was produced by Villeneuve, Mary Parent, and Cale Boyter, with Tanya Lapointe, Brian Herbert, Byron Merritt, Kim Herbert, Thomas Tull, Jon Spaihts, Richard P. Rubinstein, John Harrison, and Herbert W. Gain serving as executive producers and Kevin J. Anderson as creative consultant. Legendary CEO Joshua Grode confirmed in April 2019 that they plan to make a sequel, adding that \"there\\'s a logical place to stop the [first] movie before the book is over\".', 'title': 'chunk 0'})]\n",
            "start=388 end=405 text='Kevin J. Anderson' sources=[DocumentSource(type='document', id='doc:0', document={'id': 'doc:0', 'snippet': 'Dune: Part Two was produced by Villeneuve, Mary Parent, and Cale Boyter, with Tanya Lapointe, Brian Herbert, Byron Merritt, Kim Herbert, Thomas Tull, Jon Spaihts, Richard P. Rubinstein, John Harrison, and Herbert W. Gain serving as executive producers and Kevin J. Anderson as creative consultant. Legendary CEO Joshua Grode confirmed in April 2019 that they plan to make a sequel, adding that \"there\\'s a logical place to stop the [first] movie before the book is over\".', 'title': 'chunk 0'})]\n",
            "start=414 end=434 text='creative consultant.' sources=[DocumentSource(type='document', id='doc:0', document={'id': 'doc:0', 'snippet': 'Dune: Part Two was produced by Villeneuve, Mary Parent, and Cale Boyter, with Tanya Lapointe, Brian Herbert, Byron Merritt, Kim Herbert, Thomas Tull, Jon Spaihts, Richard P. Rubinstein, John Harrison, and Herbert W. Gain serving as executive producers and Kevin J. Anderson as creative consultant. Legendary CEO Joshua Grode confirmed in April 2019 that they plan to make a sequel, adding that \"there\\'s a logical place to stop the [first] movie before the book is over\".', 'title': 'chunk 0'})]\n"
          ]
        }
      ],
      "source": [
        "print(\"Citations that support the final answer:\")\n",
        "for cite in response.message.citations:\n",
        "    print(cite)"
      ]
    },
    {
      "cell_type": "code",
      "execution_count": 23,
      "metadata": {
        "colab": {
          "base_uri": "https://localhost:8080/"
        },
        "id": "IueXaIJggbOu",
        "outputId": "c816af51-74be-42c9-e94e-9820bbf95f79"
      },
      "outputs": [
        {
          "name": "stdout",
          "output_type": "stream",
          "text": [
            "*Dune: Part Two* is a 2024 American epic science fiction film[1] directed and co-produced by Denis Villeneuve[1], who co-wrote the screenplay with Jon Spaihts.[1] The film was produced by Villeneuve[0], Mary Parent[0], and Cale Boyter[0], with Tanya Lapointe[0], Brian Herbert[0], Byron Merritt[0], Kim Herbert[0], Thomas Tull[0], Richard P. Rubinstein[0], John Harrison[0], and Herbert W. Gain[0] serving as executive producers.[0] Kevin J. Anderson[0] was the creative consultant.[0]\n",
            "\n",
            "Source documents:\n",
            "[0] title: chunk 0, snippet: Dune: Part Two was produced by Villeneuve, Mary Parent, and Cale Boyter, with Tanya Lapointe, Brian Herbert, Byron Merritt, Kim Herbert, Thomas Tull, Jon Spaihts, Richard P. Rubinstein, John Harrison, and Herbert W. Gain serving as executive producers and Kevin J. Anderson as creative consultant. Legendary CEO Joshua Grode confirmed in April 2019 that they plan to make a sequel, adding that \"there's a logical place to stop the [first] movie before the book is over\".\n",
            "[1] title: chunk 1, snippet: Dune: Part Two is a 2024 American epic science fiction film directed and co-produced by Denis Villeneuve, who co-wrote the screenplay with Jon Spaihts. The sequel to Dune (2021), it is the second of a two-part adaptation of the 1965 novel Dune by Frank Herbert. It follows Paul Atreides as he unites with the Fremen people of the desert planet Arrakis to wage war against House Harkonnen. Timothée Chalamet, Rebecca Ferguson, Josh Brolin, Stellan Skarsgård, Dave Bautista, Zendaya, Charlotte Rampling, and Javier\n"
          ]
        }
      ],
      "source": [
        "def insert_inline_citations(text, citations, field='text'):\n",
        "    sorted_citations = sorted(citations, key=lambda c: c.start, reverse=True)\n",
        "    \n",
        "    for citation in sorted_citations:\n",
        "        source_ids = [source.id.split(':')[-1] for source in citation.sources]\n",
        "        citation_text = f\"[{','.join(source_ids)}]\"\n",
        "        text = text[:citation.end] + citation_text + text[citation.end:]\n",
        "    \n",
        "    return text\n",
        "\n",
        "def list_sources(citations, fields=['text']):\n",
        "    unique_sources = set()\n",
        "    for citation in citations:\n",
        "        for source in citation.sources:\n",
        "            source_data = tuple((field, source.document[field]) for field in fields if field in source.document)\n",
        "            unique_sources.add((source.id.split(':')[-1], source_data))\n",
        "    \n",
        "    footnotes = []\n",
        "    for source_id, source_data in sorted(unique_sources):\n",
        "        footnote = f\"[{source_id}] \" + \", \".join(f\"{key}: {value}\" for key, value in source_data)\n",
        "        footnotes.append(footnote)\n",
        "    \n",
        "    return \"\\n\".join(footnotes)\n",
        "\n",
        "# Use the functions\n",
        "cited_text = insert_inline_citations(response.message.content[0].text, response.message.citations)\n",
        "\n",
        "# Print the result with inline citations\n",
        "print(cited_text)\n",
        "\n",
        "# Print footnotes\n",
        "if response.message.citations:\n",
        "    print(\"\\nSource documents:\")\n",
        "    print(list_sources(response.message.citations, fields=['title','snippet']))"
      ]
    },
    {
      "cell_type": "code",
      "execution_count": 24,
      "metadata": {
        "id": "Kp4c_HkYIEn_"
      },
      "outputs": [
        {
          "name": "stdout",
          "output_type": "stream",
          "text": [
            "*Dune: Part Two* is a 2024 American epic science fiction film[1] directed and co-produced by Denis Villeneuve[1], who co-wrote the screenplay with Jon Spaihts.[1] The film was produced by Villeneuve[0], Mary Parent[0], and Cale Boyter[0], with Tanya Lapointe[0], Brian Herbert[0], Byron Merritt[0], Kim Herbert[0], Thomas Tull[0], Richard P. Rubinstein[0], John Harrison[0], and Herbert W. Gain[0] serving as executive producers.[0] Kevin J. Anderson[0] was the creative consultant.[0]\n",
            "\n",
            "Source documents:\n",
            "[0] snippet: Dune: Part Two was produced by Villeneuve, Mary Parent, and Cale Boyter, with Tanya Lapointe, Brian Herbert, Byron Merritt, Kim Herbert, Thomas Tull, Jon Spaihts, Richard P. Rubinstein, John Harrison, and Herbert W. Gain serving as executive producers and Kevin J. Anderson as creative consultant. Legendary CEO Joshua Grode confirmed in April 2019 that they plan to make a sequel, adding that \"there's a logical place to stop the [first] movie before the book is over\"., title: chunk 0\n",
            "[1] snippet: Dune: Part Two is a 2024 American epic science fiction film directed and co-produced by Denis Villeneuve, who co-wrote the screenplay with Jon Spaihts. The sequel to Dune (2021), it is the second of a two-part adaptation of the 1965 novel Dune by Frank Herbert. It follows Paul Atreides as he unites with the Fremen people of the desert planet Arrakis to wage war against House Harkonnen. Timothée Chalamet, Rebecca Ferguson, Josh Brolin, Stellan Skarsgård, Dave Bautista, Zendaya, Charlotte Rampling, and Javier, title: chunk 1\n"
          ]
        }
      ],
      "source": [
        "def insert_inline_citations(text, citations, field='text'):\n",
        "    sorted_citations = sorted(citations, key=lambda c: c.start, reverse=True)\n",
        "    \n",
        "    for citation in sorted_citations:\n",
        "        source_ids = [source.id.split(':')[-1] for source in citation.sources]\n",
        "        citation_text = f\"[{','.join(source_ids)}]\"\n",
        "        text = text[:citation.end] + citation_text + text[citation.end:]\n",
        "    \n",
        "    return text\n",
        "\n",
        "def list_sources(citations):\n",
        "    unique_sources = set()\n",
        "    for citation in citations:\n",
        "        for source in citation.sources:\n",
        "            source_data = tuple((key, value) for key, value in source.document.items() if key != 'id')\n",
        "            unique_sources.add((source.id.split(':')[-1], source_data))\n",
        "    \n",
        "    footnotes = []\n",
        "    for source_id, source_data in sorted(unique_sources):\n",
        "        footnote = f\"[{source_id}] \" + \", \".join(f\"{key}: {value}\" for key, value in source_data)\n",
        "        footnotes.append(footnote)\n",
        "    \n",
        "    return \"\\n\".join(footnotes)\n",
        "\n",
        "# Use the functions\n",
        "cited_text = insert_inline_citations(response.message.content[0].text, response.message.citations)\n",
        "\n",
        "# Print the result with inline citations\n",
        "print(cited_text)\n",
        "\n",
        "# Print footnotes\n",
        "if response.message.citations:\n",
        "    print(\"\\nSource documents:\")\n",
        "    print(list_sources(response.message.citations))"
      ]
    },
    {
      "cell_type": "code",
      "execution_count": null,
      "metadata": {},
      "outputs": [],
      "source": []
    }
  ],
  "metadata": {
    "colab": {
      "provenance": []
    },
    "kernelspec": {
      "display_name": "base",
      "language": "python",
      "name": "base"
    },
    "language_info": {
      "codemirror_mode": {
        "name": "ipython",
        "version": 3
      },
      "file_extension": ".py",
      "mimetype": "text/x-python",
      "name": "python",
      "nbconvert_exporter": "python",
      "pygments_lexer": "ipython3",
      "version": "3.11.4"
    }
  },
  "nbformat": 4,
  "nbformat_minor": 0
}
