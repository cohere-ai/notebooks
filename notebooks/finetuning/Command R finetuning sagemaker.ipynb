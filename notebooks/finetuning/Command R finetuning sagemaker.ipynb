{
 "cells": [
  {
   "cell_type": "markdown",
   "metadata": {},
   "source": [
    "## Finetune and deploy a custom Command-R model\n",
    "\n",
    "This sample notebook shows you how to finetune and deploy a custom Command-R model using Amazon SageMaker.\n",
    "\n",
    "> **Note**: This is a reference notebook and it cannot run unless you make changes suggested in the notebook.\n",
    "\n",
    "## Pre-requisites:\n",
    "1. **Note: This notebook contains elements which render correctly in Jupyter interface. Open this notebook from an Amazon SageMaker Notebook Instance or Amazon SageMaker Studio.**\n",
    "1. Ensure that IAM role used has **AmazonSageMakerFullAccess**\n",
    "1. To deploy this ML model successfully, ensure that:\n",
    "    1. Either your IAM role has these three permissions and you have authority to make AWS Marketplace subscriptions in the AWS account used: \n",
    "        1. **aws-marketplace:ViewSubscriptions**\n",
    "        1. **aws-marketplace:Unsubscribe**\n",
    "        1. **aws-marketplace:Subscribe**  \n",
    "    2. or your AWS account has a subscription to the packages for either [Cohere Command R 082024 Finetuning](https://aws.amazon.com/marketplace/pp/prodview-alpjcwhoq7pfk) or [Cohere Command R Finetuning](https://aws.amazon.com/marketplace/pp/prodview-2czs5tbao7b7c). If so, skip step: [Subscribe to the finetune algorithm](#1.-Subscribe-to-the-finetune-algorithm)\n",
    "\n",
    "## Contents:\n",
    "1. [Subscribe to the finetune algorithm](#1.-Subscribe-to-the-finetune-algorithm)\n",
    "2. [Upload data and finetune Command-R Model](#2.-Upload-data-and-finetune-Command-R)\n",
    "3. [Create an endpoint for inference with the custom model](#3.-Create-an-endpoint-for-inference-with-the-custom-model)\n",
    "   1. [Create an endpoint](#A.-Create-an-endpoint)\n",
    "   2. [Perform real-time inference](#B.-Perform-real-time-inference)\n",
    "4. [Clean-up](#4.-Clean-up)\n",
    "    1. [Delete the endpoint](#A.-Delete-the-endpoint)\n",
    "    2. [Unsubscribe to the listing (optional)](#Unsubscribe-to-the-listing-(optional))\n",
    "    \n",
    "\n",
    "## Usage instructions\n",
    "You can run this notebook one cell at a time (By using Shift+Enter for running a cell)."
   ]
  },
  {
   "cell_type": "markdown",
   "metadata": {},
   "source": [
    "## 1. Subscribe to the finetune algorithm"
   ]
  },
  {
   "cell_type": "markdown",
   "metadata": {},
   "source": [
    "To subscribe to the model algorithm:\n",
    "1. Open the algorithm listing page for either [Cohere Command R 082024 Finetuning](https://aws.amazon.com/marketplace/pp/prodview-alpjcwhoq7pfk) or [Cohere Command R Finetuning](https://aws.amazon.com/marketplace/pp/prodview-2czs5tbao7b7c)\n",
    "2. On the AWS Marketplace listing, click on the **Continue to Subscribe** button.\n",
    "3. On the **Subscribe to this software** page, review and click on **\"Accept Offer\"** if you and your organization agrees with EULA, pricing, and support terms. On the \"Configure and launch\" page, make sure ARN displayed in your region match with the ARN in the following cell."
   ]
  },
  {
   "cell_type": "code",
   "execution_count": null,
   "metadata": {
    "scrolled": true
   },
   "outputs": [],
   "source": [
    "!pip install \"cohere>=5.11.0\"\n",
    "\n",
    "import cohere\n",
    "import boto3\n",
    "import sagemaker as sage\n",
    "from sagemaker.s3 import S3Uploader"
   ]
  },
  {
   "cell_type": "markdown",
   "metadata": {},
   "source": [
    "The algorithm is available in the list of AWS regions specified below."
   ]
  },
  {
   "cell_type": "code",
   "execution_count": null,
   "metadata": {},
   "outputs": [],
   "source": [
    "region = boto3.Session().region_name\n",
    "\n",
    "# Command R 082024 Finetuning\n",
    "cohere_package = \"cohere-command-r-v2-ft-cf30836984573101bba9b820364893bc\"\n",
    "# Legacy package for Command R Finetuning\n",
    "# cohere_package = \"cohere-command-r-ft-v-0-1-2-bae2282f0f4a30bca8bc6fea9efeb7ca\"\n",
    "\n",
    "# Mapping for algorithms\n",
    "algorithm_map = {\n",
    "    \"us-east-1\": f\"arn:aws:sagemaker:us-east-1:865070037744:algorithm/{cohere_package}\",\n",
    "    \"us-east-2\": f\"arn:aws:sagemaker:us-east-2:057799348421:algorithm/{cohere_package}\",\n",
    "    \"us-west-2\": f\"arn:aws:sagemaker:us-west-2:594846645681:algorithm/{cohere_package}\",\n",
    "    \"eu-central-1\": f\"arn:aws:sagemaker:eu-central-1:446921602837:algorithm/{cohere_package}\",\n",
    "    \"ap-southeast-1\": f\"arn:aws:sagemaker:ap-southeast-1:192199979996:algorithm/{cohere_package}\",\n",
    "    \"ap-southeast-2\": f\"arn:aws:sagemaker:ap-southeast-2:666831318237:algorithm/{cohere_package}\",\n",
    "    \"ap-northeast-1\": f\"arn:aws:sagemaker:ap-northeast-1:977537786026:algorithm/{cohere_package}\",\n",
    "    \"ap-south-1\": f\"arn:aws:sagemaker:ap-south-1:077584701553:algorithm/{cohere_package}\",\n",
    "}\n",
    "if region not in algorithm_map.keys():\n",
    "    raise Exception(f\"Current boto3 session region {region} is not supported.\")\n",
    "\n",
    "arn = algorithm_map[region]"
   ]
  },
  {
   "cell_type": "markdown",
   "metadata": {},
   "source": [
    "## 2. Upload data and finetune Command-R\n",
    "\n",
    "Select a path on S3 to store the training and evaluation datasets and update the **s3_data_dir** below:"
   ]
  },
  {
   "cell_type": "code",
   "execution_count": null,
   "metadata": {},
   "outputs": [],
   "source": [
    "s3_data_dir = \"s3://...\"  # Do not add a trailing slash otherwise the upload will not work"
   ]
  },
  {
   "cell_type": "markdown",
   "metadata": {},
   "source": [
    "Upload sample training data to S3:\n",
    "\n",
    "### Note:\n",
    "\n",
    "You'll need your data in a .jsonl file that contains chat-formatted data. [Doc](https://docs.cohere.com/docs/chat-preparing-the-data#data-requirements)\n",
    "\n",
    "\n",
    "### Example:\n",
    "\n",
    "JSONL:\n",
    "```\n",
    "{\n",
    "  \"messages\": [\n",
    "    {\n",
    "      \"role\": \"System\",\n",
    "      \"content\": \"You are a chatbot trained to answer to my every question.\"\n",
    "    },\n",
    "    {\n",
    "      \"role\": \"User\",\n",
    "      \"content\": \"Hello\"\n",
    "    },\n",
    "    {\n",
    "      \"role\": \"Chatbot\",\n",
    "      \"content\": \"Greetings! How can I help you?\"\n",
    "    },\n",
    "    {\n",
    "      \"role\": \"User\",\n",
    "      \"content\": \"What makes a good running route?\"\n",
    "    },\n",
    "    {\n",
    "      \"role\": \"Chatbot\",\n",
    "      \"content\": \"A sidewalk-lined road is ideal so that you're up and off the road away from vehicular traffic.\"\n",
    "    }\n",
    "  ]\n",
    "}\n",
    "```\n"
   ]
  },
  {
   "cell_type": "code",
   "execution_count": null,
   "metadata": {},
   "outputs": [],
   "source": [
    "sess = sage.Session()\n",
    "# TODO[Optional]: change it to your data\n",
    "train_dataset = S3Uploader.upload(\"../data/scienceQA_train.jsonl\", s3_data_dir, sagemaker_session=sess)\n",
    "# optional eval dataset\n",
    "eval_dataset = S3Uploader.upload(\"../data/scienceQA_eval.jsonl\", s3_data_dir, sagemaker_session=sess)\n",
    "print(\"traint_dataset\", train_dataset)\n",
    "print(\"eval_dataset\", eval_dataset)"
   ]
  },
  {
   "cell_type": "markdown",
   "metadata": {},
   "source": [
    "**Note:** If eval dataset is absent, we will auto-split the training dataset into training and evaluation datasets with the ratio of 80:20.\n",
    "\n",
    "Each dataset must contain at least 1 examples. If an evaluation dataset is absent, training dataset must cointain at least 2 examples.\n",
    "\n",
    "We recommend using a dataset than contains at least 100 examples but a larger dataset is likely to yield high quality finetunes. Be aware that a larger dataset would mean that the time to finetune would also be longer."
   ]
  },
  {
   "cell_type": "markdown",
   "metadata": {},
   "source": [
    "Specify a directory on S3 where finetuned models should be stored. **Make sure you *do not reuse the same directory* across multiple runs.** "
   ]
  },
  {
   "cell_type": "code",
   "execution_count": null,
   "metadata": {},
   "outputs": [],
   "source": [
    "# TODO update this with a custom S3 path\n",
    "# DO NOT add a trailing slash at the end\n",
    "s3_models_dir = f\"s3://...\"  "
   ]
  },
  {
   "cell_type": "markdown",
   "metadata": {},
   "source": [
    "Create Cohere client:"
   ]
  },
  {
   "cell_type": "code",
   "execution_count": null,
   "metadata": {},
   "outputs": [],
   "source": [
    "co = cohere.SagemakerClient(aws_region=region)"
   ]
  },
  {
   "cell_type": "markdown",
   "metadata": {},
   "source": [
    "#### Optional: Define hyperparameters\n",
    "\n",
    "- `train_epochs`: Integer. This is the maximum number of training epochs to run for. Defaults to **1**\n",
    "\n",
    "| Default | Min | Max |\n",
    "| --- | --- | --- |\n",
    "| 1 | 1 | 10 |\n",
    "- `learning_rate`: Float. The initial learning rate to be used during training. Default to **0.0001**\n",
    "\n",
    "| Default | Min | Max |\n",
    "| --- | --- | --- |\n",
    "| 0.0001 | 0.000005 | 0.1 |\n",
    "- `train_batch_size`: Integer. The batch size used during training. Defaults to **16** for Command.\n",
    "\n",
    "| Default | Min | Max |\n",
    "| --- | --- | --- |\n",
    "| 16 | 8 | 32 |\n",
    "- `early_stopping_enabled`: Boolean. Enables early stopping. When set to true, the final model is the best model found based on the validation set. When set to false, the final model is the last model of training. Defaults to **true**.\n",
    "\n",
    "- `early_stopping_patience`: Integer. Stop training if the loss metric does not improve beyond 'early_stopping_threshold' for this many times of evaluation. Defaults to **10**\n",
    "\n",
    "| Default | Min | Max |\n",
    "| --- | --- | --- |\n",
    "| 10 | 1 | 15 |\n",
    "- `early_stopping_threshold`: Float. How much the loss must improve to prevent early stopping. Defaults to **0.001**.\n",
    "\n",
    "| Default | Min | Max |\n",
    "| --- | --- | --- |\n",
    "| 0.001 | 0.001 | 0.1 |\n",
    "\n",
    "If the algorithm is for **Command R 082024 Finetuning**, you have the option to define:\n",
    "- `lora_rank': Integer`. Lora adapter rank. Defaults to **32**\n",
    "\n",
    "| Default | Min | Max |\n",
    "| --- | --- | --- |\n",
    "| 32 | 8 | 32 |"
   ]
  },
  {
   "cell_type": "code",
   "execution_count": null,
   "metadata": {},
   "outputs": [],
   "source": [
    "# Example of how to pass hyperparameters to the fine-tuning job\n",
    "train_parameters = {\n",
    "    \"train_epochs\": 1,\n",
    "    \"early_stopping_patience\": 2,\n",
    "    \"early_stopping_threshold\": 0.001,\n",
    "    \"learning_rate\": 0.01,\n",
    "    \"train_batch_size\": 16,\n",
    "}"
   ]
  },
  {
   "cell_type": "markdown",
   "metadata": {},
   "source": [
    "Create fine-tuning jobs for the uploaded datasets. Add a field for `eval_data` if you have pre-split your dataset and uploaded both training and evaluation datasets to S3. You can use either `ml.p5d.48xlarge` or `ml.p4de.24xlarge` for Command R 082024 Finetuning and only `ml.p4de.24xlarge` for Command R Finetuning."
   ]
  },
  {
   "cell_type": "code",
   "execution_count": null,
   "metadata": {},
   "outputs": [],
   "source": [
    "finetune_name = \"test-finetune\"\n",
    "co.sagemaker_finetuning.create_finetune(arn=arn,\n",
    "    name=finetune_name,\n",
    "    train_data=train_dataset,\n",
    "    eval_data=eval_dataset,\n",
    "    s3_models_dir=s3_models_dir,\n",
    "    instance_type=\"ml.p4de.24xlarge\",\n",
    "    training_parameters=train_parameters,\n",
    "    role=\"ServiceRoleSagemaker\",\n",
    ")"
   ]
  },
  {
   "cell_type": "markdown",
   "metadata": {},
   "source": [
    "The finetuned weights for the above will be store in a tar file `{s3_models_dir}/test-finetune.tar.gz` where the file name is the same as the name used during the creation of the finetune."
   ]
  },
  {
   "cell_type": "markdown",
   "metadata": {},
   "source": [
    "## 3. Create an endpoint for inference with the custom model"
   ]
  },
  {
   "cell_type": "markdown",
   "metadata": {},
   "source": [
    "### A. Create an endpoint\n",
    "\n",
    "The Cohere AWS SDK provides a built-in method for creating an endpoint for inference. This will automatically deploy the model you finetuned earlier.\n",
    "\n",
    "> **Note**: You can use either `ml.p5d.48xlarge` or `ml.p4de.24xlarge` for Command R 082024 Finetuning and only `ml.p4de.24xlarge` for Command R Finetuning. The instance type must be identical to the one used in the finetune creation step.\n"
   ]
  },
  {
   "cell_type": "code",
   "execution_count": null,
   "metadata": {},
   "outputs": [],
   "source": [
    "endpoint_name=\"test-finetune\"\n",
    "co.sagemaker_finetuning.create_endpoint(arn=arn,\n",
    "        endpoint_name=endpoint_name,\n",
    "        s3_models_dir=s3_models_dir,\n",
    "        recreate=True,\n",
    "        instance_type=\"ml.p4de.24xlarge\",\n",
    "        role=\"ServiceRoleSagemaker\",\n",
    ")\n",
    "\n",
    "# If the endpoint is already created, you just need to connect to it\n",
    "co.sagemaker_finetuning.connect_to_endpoint(endpoint_name=endpoint_name)"
   ]
  },
  {
   "cell_type": "markdown",
   "metadata": {},
   "source": [
    "### B. Perform real-time inference\n",
    "\n",
    "Now, you can access all models deployed on the endpoint for inference:"
   ]
  },
  {
   "cell_type": "code",
   "execution_count": null,
   "metadata": {},
   "outputs": [],
   "source": [
    "message = \"Classify the following text as either very negative, negative, neutral, positive or very positive: mr. deeds is , as comedy goes , very silly -- and in the best way.\"\n",
    "\n",
    "result = co.sagemaker_finetuning.chat(message=message)\n",
    "print(result)"
   ]
  },
  {
   "cell_type": "markdown",
   "metadata": {},
   "source": [
    "#### [Optional] Now let's evaluate our finetuned model using the evaluation dataset. "
   ]
  },
  {
   "cell_type": "code",
   "execution_count": null,
   "metadata": {},
   "outputs": [],
   "source": [
    "import json\n",
    "from tqdm import tqdm\n",
    "total = 0\n",
    "correct = 0\n",
    "for line in tqdm(open('../data/scienceQA_eval.jsonl').readlines()):\n",
    "    total += 1\n",
    "    question_answer_json = json.loads(line)\n",
    "    question = question_answer_json[\"messages\"][0][\"content\"]\n",
    "    answer = question_answer_json[\"messages\"][1][\"content\"]\n",
    "    model_ans = co.sagemaker_finetuning.chat(message=question, temperature=0).text\n",
    "    if model_ans == answer:\n",
    "        correct +=1\n",
    "\n",
    "print(f\"Accuracy of finetuned model is %.3f\" % (correct / total))"
   ]
  },
  {
   "cell_type": "markdown",
   "metadata": {},
   "source": [
    "## 4. Clean-up"
   ]
  },
  {
   "cell_type": "markdown",
   "metadata": {},
   "source": [
    "### A. Delete the endpoint\n",
    "\n",
    "After you've successfully performed inference, you can delete the deployed endpoint to avoid being charged continuously. This can also be done via the Cohere AWS SDK:"
   ]
  },
  {
   "cell_type": "code",
   "execution_count": null,
   "metadata": {},
   "outputs": [],
   "source": [
    "co.delete_endpoint()\n",
    "co.close()"
   ]
  },
  {
   "cell_type": "markdown",
   "metadata": {},
   "source": [
    "## Unsubscribe to the listing (optional)\n",
    "\n",
    "If you would like to unsubscribe to the model package, follow these steps. Before you cancel the subscription, ensure that you do not have any [deployable models](https://console.aws.amazon.com/sagemaker/home#/models) created from the model package or using the algorithm. Note - You can find this information by looking at the container name associated with the model. \n",
    "\n",
    "**Steps to unsubscribe to product from AWS Marketplace**:\n",
    "1. Navigate to __Machine Learning__ tab on [__Your Software subscriptions page__](https://aws.amazon.com/marketplace/ai/library?productType=ml&ref_=mlmp_gitdemo_indust)\n",
    "2. Locate the listing that you want to cancel the subscription for, and then choose __Cancel Subscription__  to cancel the subscription.\n"
   ]
  }
 ],
 "metadata": {
  "kernelspec": {
   "display_name": "Python 3 (ipykernel)",
   "language": "python",
   "name": "python3"
  },
  "language_info": {
   "codemirror_mode": {
    "name": "ipython",
    "version": 3
   },
   "file_extension": ".py",
   "mimetype": "text/x-python",
   "name": "python",
   "nbconvert_exporter": "python",
   "pygments_lexer": "ipython3",
   "version": "3.10.14"
  },
  "vscode": {
   "interpreter": {
    "hash": "3b57b3736fb00bc0deb03789040183ddbda4c9eb8e8f6bef7ea4333bc64826af"
   }
  }
 },
 "nbformat": 4,
 "nbformat_minor": 4
}
