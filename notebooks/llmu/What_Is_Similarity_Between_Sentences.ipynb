{
 "cells": [
  {
   "cell_type": "markdown",
   "metadata": {},
   "source": [
    "<a target=\"_blank\" href=\"https://colab.research.google.com/github/cohere-ai/notebooks/blob/main/notebooks/What_Is_Similarity_Between_Sentences.ipynb\">\n",
    "  <img src=\"https://colab.research.google.com/assets/colab-badge.svg\" alt=\"Open In Colab\"/>\n",
    "</a>"
   ]
  },
  {
   "cell_type": "markdown",
   "metadata": {
    "id": "psRggLwvhi1E"
   },
   "source": [
    "# Similarity Between Words and Sentences\n",
    "\n",
    "Sentence embeddings are the bread and butter of language models, as they associate each sentence with a particular list of numbers (a vector), in a way that similar sentences give similar vectors. We can think of embeddings as a way to locate each sentence in space (a high dimensional space, but a space nonetheless), in a way that similar sentences are located close by. Once we have each sentence somewhere in space, it’s natural to think of distances between them. And an even more intuitive way to think of distances is to think of similarities, i.e., a score assigned to each pair of sentences, which is high when these sentences are similar, and low when they are different. The similarity is a very useful concept in large language models, as it can be used for search, for translation, for summarization, and in many other applications. \n",
    "\n",
    "In this notebook, we understand the intuition behind similarities between sentences, including dot product and cosine similarity.\n",
    "\n",
    "_Read the accompanying [blog post here](https://docs.cohere.com/docs/similarity-between-words-and-sentences)._"
   ]
  },
  {
   "cell_type": "markdown",
   "metadata": {},
   "source": [
    "## Overview\n",
    "\n",
    "We'll do the following steps:\n",
    "- **Step 1: Turn Text into Embeddings** - Use Cohere's Embed endpoint to get sentence embeddings.\n",
    "- **Step 2: Calculate Dot Products** - Calculate the dot products between each pair of sentence embeddings to understand similarity between them.\n",
    "- **Step 3: Calculate Cosine Similarities** - Use scikit-learn to get the cosine similarity for each pair of sentence embeddings."
   ]
  },
  {
   "cell_type": "markdown",
   "metadata": {},
   "source": [
    "## Setup\n",
    "\n",
    "We'll start by installing the tools we'll need and then importing them."
   ]
  },
  {
   "cell_type": "code",
   "execution_count": 1,
   "metadata": {},
   "outputs": [],
   "source": [
    "! pip install cohere -q"
   ]
  },
  {
   "cell_type": "code",
   "execution_count": 1,
   "metadata": {
    "id": "Zg5H7gd7V0Mu"
   },
   "outputs": [],
   "source": [
    "import cohere\n",
    "import numpy as np\n",
    "import seaborn as sns\n",
    "import altair as alt\n",
    "from sklearn.metrics.pairwise import cosine_similarity"
   ]
  },
  {
   "cell_type": "markdown",
   "metadata": {},
   "source": [
    "Fill in your Cohere API key in the next cell. To do this, begin by [signing up to Cohere](https://os.cohere.ai/) (for free!) if you haven't yet. Then get your API key [here](https://dashboard.cohere.com/api-keys)."
   ]
  },
  {
   "cell_type": "code",
   "execution_count": 3,
   "metadata": {},
   "outputs": [],
   "source": [
    "co = cohere.ClientV2(\"COHERE_API_KEY\") # Get your free API key: https://dashboard.cohere.com/api-keys"
   ]
  },
  {
   "cell_type": "markdown",
   "metadata": {
    "id": "4_YQVuAbf3Xh"
   },
   "source": [
    "## Step 1: Turn Text into Embeddings\n",
    "\n",
    "In this notebook, we'll work with three sentences and store them in a Python list `texts`."
   ]
  },
  {
   "cell_type": "code",
   "execution_count": 3,
   "metadata": {},
   "outputs": [],
   "source": [
    "texts = [\"I like to be in my house\", \n",
    "         \"I enjoy staying home\", \n",
    "         \"the isotope 238u decays to 206pb\"]"
   ]
  },
  {
   "cell_type": "markdown",
   "metadata": {},
   "source": [
    "To get the corresponding sentence embeddings, we call the [Embed endpoint](https://docs.cohere.com/reference/embed) with `co.embed()`. We supply three parameters:\n",
    "- `texts` - our list of sentences\n",
    "- `model` - we use `embed-english-v3.0`, Cohere's latest (at the time of writing) English-only embeddings model to generate the embeddings\n",
    "- `input_type` - we use `search_document` to indicate that we intend to use the embeddings for search use-cases\n",
    "\n",
    "You'll learn about these parameters in more detail in the [LLMU Module on Text Representation](https://docs.cohere.com/docs/intro-text-representation)."
   ]
  },
  {
   "cell_type": "code",
   "execution_count": 6,
   "metadata": {
    "id": "6HujlbFsIZjW"
   },
   "outputs": [],
   "source": [
    "response = co.embed(\n",
    "    texts=texts,\n",
    "    model='embed-english-v3.0',\n",
    "    input_type='search_document',\n",
    "    embedding_types=['float']\n",
    ")"
   ]
  },
  {
   "cell_type": "markdown",
   "metadata": {},
   "source": [
    "The embeddings are stored in the `embeddings` value of the response. After getting the embeddings, we separate them by sentence."
   ]
  },
  {
   "cell_type": "code",
   "execution_count": 7,
   "metadata": {
    "colab": {
     "base_uri": "https://localhost:8080/"
    },
    "id": "QIZoRxXVNPQY",
    "outputId": "9b73065b-098e-44e3-c21d-e30b3a0f9fe2"
   },
   "outputs": [
    {
     "name": "stdout",
     "output_type": "stream",
     "text": [
      "Embedding for sentence 1 [ 0.05075073  0.03753662 -0.02958679 ... -0.07366943 -0.00842285\n",
      " -0.01834106]\n",
      "Embedding for sentence 2 [ 0.04333496  0.05407715 -0.02453613 ... -0.06182861 -0.01983643\n",
      " -0.0096283 ]\n",
      "Embedding for sentence 3 [ 0.02383423  0.00695801 -0.04669189 ... -0.04006958 -0.02304077\n",
      "  0.01963806]\n"
     ]
    }
   ],
   "source": [
    "embeddings = response.embeddings.float\n",
    "\n",
    "[sentence1, sentence2, sentence3] = embeddings\n",
    "\n",
    "print(\"Embedding for sentence 1\", np.array(sentence1))\n",
    "print(\"Embedding for sentence 2\", np.array(sentence2))\n",
    "print(\"Embedding for sentence 3\", np.array(sentence3))"
   ]
  },
  {
   "cell_type": "markdown",
   "metadata": {
    "id": "9pR9yDy1ot17"
   },
   "source": [
    "Note that the embeddings are vectors (lists) of 1024 numbers, so they are truncated here (thus the dots in between).  One would expect that the vectors corresponding to sentences 1 and 2 are similar to each other and that both are different from the vector corresponding to sentence 3. However, from inspection, this is not very clear. We need to calculate some similarities to see if this is the case.  We will do that in the following two sections.\n",
    "\n",
    "## Step 2: Calculate Dot Products\n",
    "\n",
    "Let’s calculate the dot products between the three sentences to understand how similar they are to each other."
   ]
  },
  {
   "cell_type": "code",
   "execution_count": 8,
   "metadata": {
    "colab": {
     "base_uri": "https://localhost:8080/"
    },
    "id": "8b-FViGlJQLe",
    "outputId": "9eec0fc0-2f2c-43c6-c4ac-389e9ea671ee"
   },
   "outputs": [
    {
     "name": "stdout",
     "output_type": "stream",
     "text": [
      "Similarity between sentences 1 and 2: 0.8187172323456494\n",
      "Similarity between sentences 1 and 3: 0.1952170633623922\n",
      "Similarity between sentences 2 and 3: 0.1982665457613819\n"
     ]
    }
   ],
   "source": [
    "print(\"Similarity between sentences 1 and 2:\", np.dot(sentence1, sentence2))\n",
    "print(\"Similarity between sentences 1 and 3:\", np.dot(sentence1, sentence3))\n",
    "print(\"Similarity between sentences 2 and 3:\", np.dot(sentence2, sentence3))"
   ]
  },
  {
   "cell_type": "markdown",
   "metadata": {},
   "source": [
    "The similarity between sentences 1 and 2 (0.8188) is much larger than the similarities between the other pairs. This confirms our predictions.\n",
    "\n",
    "Just for consistency, let’s calculate the similarities between each sentence and itself, to confirm that a sentence and itself has the highest similarity score."
   ]
  },
  {
   "cell_type": "code",
   "execution_count": 9,
   "metadata": {
    "colab": {
     "base_uri": "https://localhost:8080/"
    },
    "id": "sb-MX-MdhlPj",
    "outputId": "4437d83b-7857-4dc3-d6cc-06d32b91aeb2"
   },
   "outputs": [
    {
     "name": "stdout",
     "output_type": "stream",
     "text": [
      "Similarity between sentences 1 and 1: 1.0001818411403132\n",
      "Similarity between sentences 2 and 2: 0.9997857473557472\n",
      "Similarity between sentences 3 and 3: 0.9998230785105999\n"
     ]
    }
   ],
   "source": [
    "print(\"Similarity between sentences 1 and 1:\", np.dot(sentence1, sentence1))\n",
    "print(\"Similarity between sentences 2 and 2:\", np.dot(sentence2, sentence2))\n",
    "print(\"Similarity between sentences 3 and 3:\", np.dot(sentence3, sentence3))"
   ]
  },
  {
   "cell_type": "markdown",
   "metadata": {},
   "source": [
    "This checks out—the similarity between a sentence and itself is around 1, which is higher than all the other similarities."
   ]
  },
  {
   "cell_type": "markdown",
   "metadata": {
    "id": "DWEpWsI0o8gn"
   },
   "source": [
    "## Step 3: Calculate Cosine Similarities\n",
    "\n",
    "We use the `cosine_similarity()` function from scikit-learn to measure cosine similarity between the three sentences."
   ]
  },
  {
   "cell_type": "code",
   "execution_count": 10,
   "metadata": {
    "colab": {
     "base_uri": "https://localhost:8080/"
    },
    "id": "D4ZkpwMSL_oH",
    "outputId": "08252157-d689-45af-9210-0802d2a073ed"
   },
   "outputs": [
    {
     "name": "stdout",
     "output_type": "stream",
     "text": [
      "Cosine similarity between sentences 1 and 2: 0.8187305165459495\n",
      "Cosine similarity between sentences 1 and 3: 0.19521658630446206\n",
      "Cosine similarity between sentences 2 and 3: 0.19830533175410783\n"
     ]
    }
   ],
   "source": [
    "print(\"Cosine similarity between sentences 1 and 2:\", cosine_similarity([sentence1], [sentence2])[0][0])\n",
    "print(\"Cosine similarity between sentences 1 and 3:\", cosine_similarity([sentence1], [sentence3])[0][0])\n",
    "print(\"Cosine similarity between sentences 2 and 3:\", cosine_similarity([sentence2], [sentence3])[0][0])"
   ]
  },
  {
   "cell_type": "markdown",
   "metadata": {},
   "source": [
    "Now let’s check the similarity between each sentence and itself. "
   ]
  },
  {
   "cell_type": "code",
   "execution_count": 11,
   "metadata": {
    "colab": {
     "base_uri": "https://localhost:8080/"
    },
    "id": "tZ7ls1JlkngY",
    "outputId": "8d28b53b-08f0-44dd-9498-671d1d35f27f"
   },
   "outputs": [
    {
     "name": "stdout",
     "output_type": "stream",
     "text": [
      "Cosine similarity between sentences 1 and 1: 1.0000000000000004\n",
      "Cosine similarity between sentences 2 and 2: 0.9999999999999996\n",
      "Cosine similarity between sentences 3 and 3: 0.9999999999999996\n"
     ]
    }
   ],
   "source": [
    "print(\"Cosine similarity between sentences 1 and 1:\", cosine_similarity([sentence1], [sentence1])[0][0])\n",
    "print(\"Cosine similarity between sentences 2 and 2:\", cosine_similarity([sentence2], [sentence2])[0][0])\n",
    "print(\"Cosine similarity between sentences 3 and 3:\", cosine_similarity([sentence3], [sentence3])[0][0])"
   ]
  },
  {
   "cell_type": "markdown",
   "metadata": {},
   "source": [
    "We also plot the results in a grid."
   ]
  },
  {
   "cell_type": "code",
   "execution_count": 12,
   "metadata": {
    "colab": {
     "base_uri": "https://localhost:8080/",
     "height": 457
    },
    "id": "sO3AxCUJq7AH",
    "outputId": "7118f5f8-7a78-4607-e31f-e08f4b23e5e3"
   },
   "outputs": [
    {
     "data": {
      "text/plain": [
       "[Text(0.5, 0, 'I like to be in my house'),\n",
       " Text(1.5, 0, 'I enjoy staying home'),\n",
       " Text(2.5, 0, 'the isotope 238u decays to 206pb')]"
      ]
     },
     "execution_count": 12,
     "metadata": {},
     "output_type": "execute_result"
    },
    {
     "data": {
      "image/png": "[encoded data removed]",
      "text/plain": [
       "<Figure size 640x480 with 2 Axes>"
      ]
     },
     "metadata": {},
     "output_type": "display_data"
    }
   ],
   "source": [
    "# Get pairwise dot product similarities\n",
    "dot_product_similarities = [[cosine_similarity([embeddings[i]], [embeddings[j]])[0][0] for i in range(len(embeddings))] for j in range(len(embeddings))]\n",
    "\n",
    "# Plot in 3x3 grid\n",
    "ax = sns.heatmap(dot_product_similarities, vmin=0, vmax=1,\n",
    "                 linewidths=1, linecolor='grey',\n",
    "                 xticklabels=texts,\n",
    "                 yticklabels=texts,\n",
    ")\n",
    "ax.set_xticklabels(labels=texts, rotation=45)"
   ]
  },
  {
   "cell_type": "markdown",
   "metadata": {},
   "source": [
    "Notice that the dot product and cosine distance give nearly identical values. The reason for this is that the embedding is normalized (meaning each vector has norm equal to 1). When the embedding is not normalized, the dot product and cosine distance would give different values."
   ]
  }
 ],
 "metadata": {
  "colab": {
   "provenance": []
  },
  "gpuClass": "standard",
  "kernelspec": {
   "display_name": "base",
   "language": "python",
   "name": "base"
  },
  "language_info": {
   "codemirror_mode": {
    "name": "ipython",
    "version": 3
   },
   "file_extension": ".py",
   "mimetype": "text/x-python",
   "name": "python",
   "nbconvert_exporter": "python",
   "pygments_lexer": "ipython3",
   "version": "3.11.4"
  },
  "vscode": {
   "interpreter": {
    "hash": "1fb8019e3560b882083e525615cf48e713d3a7345a15eb723d805e91aa410aac"
   }
  }
 },
 "nbformat": 4,
 "nbformat_minor": 1
}
