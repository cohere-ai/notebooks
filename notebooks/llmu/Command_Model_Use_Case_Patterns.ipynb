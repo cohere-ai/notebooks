{
  "cells": [
    {
      "cell_type": "markdown",
      "metadata": {
        "id": "VBl2lBqo2Csf"
      },
      "source": [
        "<a target=\"_blank\" href=\"https://colab.research.google.com/github/cohere-ai/notebooks/blob/main/notebooks/llmu/Command_Model_Use_Case_Patterns.ipynb\">\n",
        "  <img src=\"https://colab.research.google.com/assets/colab-badge.svg\" alt=\"Open In Colab\"/>\n",
        "</a>"
      ]
    },
    {
      "cell_type": "markdown",
      "metadata": {
        "id": "C74GOs2fs6hK"
      },
      "source": [
        "# Command Model Use Case Patterns"
      ]
    },
    {
      "cell_type": "markdown",
      "metadata": {
        "id": "1YFStK_W1JUD"
      },
      "source": [
        "Large language models (LLMs) like the Command model are general-purpose and can be applied in infinite ways, but if one can’t recognize the patterns where they can be useful, it can feel overwhelming.\n",
        "\n",
        "In this notebook, we’ll go through several broad use case categories for the Command model.\n",
        "\n",
        "Read the accompanying [article here](https://cohere.com/llmu/use-case-patterns)."
      ]
    },
    {
      "cell_type": "code",
      "execution_count": null,
      "metadata": {},
      "outputs": [],
      "source": [
        "! pip install cohere -q"
      ]
    },
    {
      "cell_type": "markdown",
      "metadata": {},
      "source": [
        "# Setup"
      ]
    },
    {
      "cell_type": "code",
      "execution_count": null,
      "metadata": {
        "colab": {
          "base_uri": "https://localhost:8080/",
          "height": 17
        },
        "id": "qpmsBwBaFSkp",
        "outputId": "6240628f-1035-4186-fa2a-1a80bbc720e3"
      },
      "outputs": [
        {
          "data": {
            "text/html": [
              "\n",
              "  <style>\n",
              "    pre {\n",
              "        white-space: pre-wrap;\n",
              "    }\n",
              "  </style>\n",
              "  "
            ],
            "text/plain": [
              "<IPython.core.display.HTML object>"
            ]
          },
          "metadata": {},
          "output_type": "display_data"
        }
      ],
      "source": [
        "import cohere\n",
        "co = cohere.ClientV2(\"COHERE_API_KEY\") # Get your free API key: https://dashboard.cohere.com/api-keys"
      ]
    },
    {
      "cell_type": "markdown",
      "metadata": {
        "id": "SV4ZkXbZnX8q"
      },
      "source": [
        "# Function to generate text"
      ]
    },
    {
      "cell_type": "markdown",
      "metadata": {
        "id": "h3eAX0ponbKH"
      },
      "source": [
        "Let’s define a text generation function that we'll use throughout this notebook."
      ]
    },
    {
      "cell_type": "code",
      "execution_count": 2,
      "metadata": {
        "colab": {
          "base_uri": "https://localhost:8080/",
          "height": 17
        },
        "id": "6rv9T2aJP1zS",
        "outputId": "aa9217b6-faa4-4505-f6d3-a9f318d13f39"
      },
      "outputs": [],
      "source": [
        "def generate_text(message, temperature):\n",
        "    # Generate the response by streaming it\n",
        "    response = co.chat_stream(model=\"command-r-plus-08-2024\",\n",
        "                              messages=[{'role':'user', 'content': message}],\n",
        "                              temperature=temperature)\n",
        "\n",
        "    for event in response:\n",
        "        if event.type == \"content-delta\":\n",
        "            print(event.delta.message.content.text, end=\"\")"
      ]
    },
    {
      "cell_type": "markdown",
      "metadata": {
        "id": "huil2jEmnwCk"
      },
      "source": [
        "# Define a text snippet for context"
      ]
    },
    {
      "cell_type": "markdown",
      "metadata": {
        "id": "nn-3n-nRntTW"
      },
      "source": [
        "Our examples will revolve around a company’s activities for launching a new wireless headphone product, such as getting the word out, managing customer interactions, and so on. For this, let’s define a text snippet containing the product description. We’ll be utilizing this snippet in several examples throughout."
      ]
    },
    {
      "cell_type": "code",
      "execution_count": 3,
      "metadata": {
        "colab": {
          "base_uri": "https://localhost:8080/",
          "height": 71
        },
        "id": "DJXcGzBYhfri",
        "outputId": "a82eafcd-5ae7-439a-c8b6-222f02babbac"
      },
      "outputs": [
        {
          "name": "stdout",
          "output_type": "stream",
          "text": [
            "The CO-1T is a wireless headphone product that uses Bluetooth technology to connect to your devices. It has a long battery life and can be quickly charged using the included USB cable. The headphone is lightweight and comfortable, ideal for long periods of use. It has a built-in microphone for making calls, and a button to control the volume. The CO-1T is a great choice for anyone looking for a wireless headphone product with great battery life.\n"
          ]
        }
      ],
      "source": [
        "product=\"\"\"The CO-1T is a wireless headphone product that uses Bluetooth technology to connect to your devices. \\\n",
        "It has a long battery life and can be quickly charged using the included USB cable. The headphone is \\\n",
        "lightweight and comfortable, ideal for long periods of use. It has a built-in microphone for making calls, \\\n",
        "and a button to control the volume. The CO-1T is a great choice for anyone looking for a wireless headphone \\\n",
        "product with great battery life.\"\"\"\n",
        "print(product)"
      ]
    },
    {
      "cell_type": "markdown",
      "metadata": {
        "id": "N7MkHhc7Vasb"
      },
      "source": [
        "# Writing"
      ]
    },
    {
      "cell_type": "markdown",
      "metadata": {
        "id": "P3uqafCkn42o"
      },
      "source": [
        "We’ll start with the most general type of use case, which is writing. Let’s say we’re building an application for users to enter some bullet points and get a complete email written. We can set up the prompt in the following way: create a variable for the user to input some text and merge that, together with the product description, into the main prompt.\n",
        "\n"
      ]
    },
    {
      "cell_type": "code",
      "execution_count": 4,
      "metadata": {
        "colab": {
          "base_uri": "https://localhost:8080/",
          "height": 321
        },
        "id": "mqSvO1rGnOfh",
        "outputId": "96ec2fbe-7882-4f15-b3ce-739552b100c7"
      },
      "outputs": [
        {
          "name": "stdout",
          "output_type": "stream",
          "text": [
            "Subject: Introducing the CO-1T: Your Ultimate Wireless Audio Companion\n",
            "\n",
            "Dear Valued Customers,\n",
            "\n",
            "We are thrilled to announce the launch of our newest innovation in wireless audio technology: the CO-1T headphones!\n",
            "\n",
            "As a brand dedicated to enhancing your daily audio experiences, we have crafted the CO-1T to be the ultimate companion for music lovers, remote workers, and anyone seeking a seamless wireless audio solution.\n",
            "\n",
            "**Unparalleled Convenience and Comfort:**\n",
            "Experience the freedom of Bluetooth connectivity with your devices, allowing you to move effortlessly throughout your day without tangled wires. The CO-1T boasts an impressive battery life, ensuring you can enjoy your music, podcasts, or calls for extended periods without interruption. And when it's time to recharge, the included USB cable gets you back to full power in no time!\n",
            "\n",
            "Designed with your comfort in mind, these headphones are lightweight and ergonomically structured, making them perfect for extended wear during work, travel, or leisure.\n",
            "\n",
            "**Seamless Communication:**\n",
            "Stay connected with the integrated microphone, enabling crystal-clear calls at the touch of a button. The intuitive controls also allow you to adjust the volume effortlessly, ensuring you're always in command of your audio experience.\n",
            "\n",
            "We believe the CO-1T will revolutionize the way you interact with your audio devices, offering a perfect blend of performance, convenience, and style.\n",
            "\n",
            "**Take Action and Experience the Difference:**\n",
            "Don't miss out on this exciting launch! Be among the first to upgrade your audio experience by ordering the CO-1T today. Visit our website's product page to learn more about its features and specifications and place your order with just a few clicks.\n",
            "\n",
            "**Need Assistance?**\n",
            "Our dedicated support team is here to help. If you have any questions or need guidance, feel free to reach out via our live chat feature on our website. Our experts are available to provide real-time assistance and ensure you have the best shopping experience.\n",
            "\n",
            "Thank you for choosing our brand, and we look forward to hearing your feedback on the CO-1T!\n",
            "\n",
            "Best regards,\n",
            "[Your Company Name] Marketing Team"
          ]
        }
      ],
      "source": [
        "user_input =\"\"\"\n",
        "- announce product launch\n",
        "- create a call to action\n",
        "- mention live chat for support\n",
        "\"\"\"\n",
        "\n",
        "prompt = f\"\"\"{product}\n",
        "Create an email about the product above mentioning the following:\n",
        "{user_input}\n",
        "\"\"\"\n",
        "\n",
        "generate_text(prompt, temperature=0.5)"
      ]
    },
    {
      "cell_type": "markdown",
      "metadata": {
        "id": "biRqvt-VWXtF"
      },
      "source": [
        "# Question Answering (Closed)"
      ]
    },
    {
      "cell_type": "markdown",
      "metadata": {
        "id": "myl3D7kioDmb"
      },
      "source": [
        "This use case is about answering a question that a user asks, be it in a single-turn, question answering scenario or a multi-turn, chatbot setting.\n",
        "\n"
      ]
    },
    {
      "cell_type": "markdown",
      "metadata": {
        "id": "8Oq6BJJcoGNY"
      },
      "source": [
        "Question answering can take place in either a closed or open setting. In a closed-book question answering setting, we rely on the model to answer questions based on the general knowledge from which it has been trained."
      ]
    },
    {
      "cell_type": "code",
      "execution_count": 5,
      "metadata": {
        "colab": {
          "base_uri": "https://localhost:8080/",
          "height": 606
        },
        "id": "3GD2nyk0uPHu",
        "outputId": "47aaed79-3134-4b6c-f187-56f528a67de7"
      },
      "outputs": [
        {
          "name": "stdout",
          "output_type": "stream",
          "text": [
            "When choosing a wireless headphone, there are several features you may want to consider to ensure a good user experience: \n",
            "\n",
            "- Sound Quality: This is arguably the most important feature. Look for headphones with a clear, balanced sound, good bass response, and clear highs. Noise cancellation or noise-isolation features can also enhance your listening experience by blocking out external noise. \n",
            "\n",
            "- Comfort: Headphones should be comfortable, especially if you plan on using them for extended periods. Look for headphones with soft, breathable ear pads and an adjustable headband for a secure yet comfortable fit. Over-ear or on-ear headphones tend to be more comfortable for long-term use than in-ear models. \n",
            "\n",
            "- Battery Life: Consider headphones with long battery life, ideally at least 15-20 hours of continuous playback. Some headphones also offer quick-charge features, giving you a few hours of playback from a short charge. It's also worth checking if the headphones can be used while charging, in case you forget to charge them. \n",
            "\n",
            "- Connectivity: Ensure the headphones use a current Bluetooth version (5.0 or above) for better connectivity, range, and power efficiency. Some headphones also offer multipoint pairing, which lets you connect to two devices simultaneously, like your phone and laptop. \n",
            "\n",
            "- Controls and Functionality: Easy-to-use controls are important for a seamless experience. Look for intuitive button layouts and the ability to control volume, playback, and calls directly from the headphones. Some models also offer touch controls or voice assistants, which some users may prefer. \n",
            "\n",
            "- Durability and Portability: Consider the build quality and materials used. Look for sturdy construction and, if you plan to use them outdoors or while exercising, some degree of water and sweat resistance. A carrying case is also a nice addition for portability and protection when not in use. \n",
            "\n",
            "- Price: Wireless headphones vary widely in price. Set a budget and look for the best combination of features within that range. Sometimes, spending a little more can get you significantly better quality and features. \n",
            "\n",
            "- Additional Features: Some headphones offer app support for customization, EQ settings, or firmware updates. Gaming-focused headphones might offer low-latency modes for better audio-visual sync. Also, consider any included accessories, like different sized ear tips or cables for wired listening. \n",
            "\n",
            "Remember to read reviews from trusted sources and, if possible, try the headphones on to ensure a good fit and comfort before making your final decision."
          ]
        }
      ],
      "source": [
        "user_input =\"What features should I consider when choosing a wireless headphone\"\n",
        "prompt = user_input\n",
        "\n",
        "generate_text(prompt, temperature=0.5)"
      ]
    },
    {
      "cell_type": "markdown",
      "metadata": {
        "id": "8CmGy0HpWXzy"
      },
      "source": [
        "# Question Answering (Open)"
      ]
    },
    {
      "cell_type": "markdown",
      "metadata": {
        "id": "nQvZ6DYgoP2U"
      },
      "source": [
        "In an open setting, we can get the model to refer to specific knowledge bases to help it do its job well. This way, we can design a system that can handle questions that require factual responses."
      ]
    },
    {
      "cell_type": "code",
      "execution_count": 6,
      "metadata": {
        "colab": {
          "base_uri": "https://localhost:8080/",
          "height": 35
        },
        "id": "L7Ir2LWNzgPZ",
        "outputId": "9592127f-8b9a-4cae-9e6a-c8af1bacab21"
      },
      "outputs": [
        {
          "name": "stdout",
          "output_type": "stream",
          "text": [
            "To control the sound levels on the CO-1T wireless headphones, simply use the button on the headphone to adjust the volume to your desired level."
          ]
        }
      ],
      "source": [
        "user_input =\"How do I control the sound levels\"\n",
        "\n",
        "prompt = f\"\"\"{product}\n",
        "Answer this question based on the context provided above: {user_input}\"\"\"\n",
        "\n",
        "generate_text(prompt, temperature=0)"
      ]
    },
    {
      "cell_type": "markdown",
      "metadata": {
        "id": "7ym6wmx8VYy4"
      },
      "source": [
        "# Brainstorming"
      ]
    },
    {
      "cell_type": "markdown",
      "metadata": {
        "id": "snxSrkHEoX4H"
      },
      "source": [
        "Another form of writing is brainstorming, where we want the model to generate a list of options based on a given prompt. This can be for writing outlines, generating ideas, providing critical analysis, and so on. This use case forces the model to go broad and cover different perspectives of a situation."
      ]
    },
    {
      "cell_type": "code",
      "execution_count": 8,
      "metadata": {
        "colab": {
          "base_uri": "https://localhost:8080/",
          "height": 196
        },
        "id": "qP9m1BKCvX3W",
        "outputId": "98659174-86e9-480e-8ebd-dff30d786d6d"
      },
      "outputs": [
        {
          "name": "stdout",
          "output_type": "stream",
          "text": [
            "Here is a list of troubleshooting steps to advise the customer to try and resolve the Bluetooth connection issue with the CO-1T wireless headphones:\n",
            "\n",
            "- Ensure Bluetooth is Enabled:\n",
            "   - Check that the Bluetooth function is turned on your device (phone, computer, or tablet).\n",
            "   - Confirm that your device's Bluetooth is visible or discoverable.\n",
            "\n",
            "- Device Compatibility:\n",
            "   - Verify that your device is compatible with the headphone's Bluetooth version.\n",
            "   - Sometimes, older device models may not be compatible with newer Bluetooth headphones, and vice versa.\n",
            "\n",
            "- Proximity:\n",
            "   - Make sure you are within range. Bluetooth has a limited range, so ensure that you are not too far from the device you are trying to connect to.\n",
            "\n",
            "- Restart Devices:\n",
            "   - Power cycle both your headphone and the device you are trying to pair it with. Sometimes, a fresh restart can reset any minor glitches that may be causing the connection issue.\n",
            "\n",
            "- Correct Pairing Procedure:\n",
            "   - Refer to the headphone's manual or quick start guide to ensure you are following the correct pairing procedure. There may be a specific sequence of button presses or holding the power button for a certain duration to enter pairing mode.\n",
            "\n",
            "- Multiple Devices:\n",
            "   - If you have previously connected the headphone to multiple devices, ensure that you have selected the correct device to connect to. Sometimes, Bluetooth devices may try to connect to the last known device, which can cause confusion if multiple devices are in range.\n",
            "\n",
            "- Update Headphone Firmware (if applicable):\n",
            "   - Check the manufacturer's website or support page to see if there are any firmware updates available for your headphone model. Updated firmware can sometimes improve stability and connectivity.\n",
            "\n",
            "- Reset Headphone:\n",
            "   - As a last resort, try resetting your headphone to its factory settings and then attempt to reconnect.\n",
            "\n",
            "- Contact Customer Support:\n",
            "   - If all else fails, advise the customer to contact the manufacturer's customer support team, as there may be a warranty claim or further advanced troubleshooting that can be performed.\n",
            "\n",
            "By following these steps, the customer should be able to resolve most common Bluetooth connection issues with their CO-1T wireless headphones."
          ]
        }
      ],
      "source": [
        "user_input =\"I can't get the Bluetooth connection working\"\n",
        "prompt = f\"\"\"{product}\n",
        "A customer provided the following complaint about this product: {user_input}.\n",
        "Provide a bulleted list of possible ways to troubleshoot so we can advise the customer accordingly.\n",
        "\"\"\"\n",
        "\n",
        "generate_text(prompt, temperature=0.1)"
      ]
    },
    {
      "cell_type": "markdown",
      "metadata": {
        "id": "lHgDOw_YVZqq"
      },
      "source": [
        "# Transforming"
      ]
    },
    {
      "cell_type": "markdown",
      "metadata": {
        "id": "VJbHkIwdobwn"
      },
      "source": [
        "The first thing that comes to mind when thinking about generative models is their ability to write a fresh piece of text, but one aspect that is rather understated is their ability to synthesize an existing piece of text.\n",
        "\n",
        "One example is transforming a passage of text into a different form, making it reusable for different purposes."
      ]
    },
    {
      "cell_type": "code",
      "execution_count": 9,
      "metadata": {
        "colab": {
          "base_uri": "https://localhost:8080/",
          "height": 410
        },
        "id": "T7VksEa4hvUV",
        "outputId": "034ed6de-260b-403f-dfed-1f97c9a00c2f"
      },
      "outputs": [
        {
          "name": "stdout",
          "output_type": "stream",
          "text": [
            "Here is a list of frequently asked questions about the CO-1T wireless headphones: \n",
            "\n",
            "**Q: How do the CO-1T headphones connect to my devices?**\n",
            "A: The CO-1T headphones utilize Bluetooth technology to establish a wireless connection with your devices, such as your phone, tablet, or laptop. \n",
            "\n",
            "**Q: What is the battery life of the CO-1T headphones?**\n",
            "A: Offering a long battery life, the CO-1T headphones provide extended periods of use without frequent charging. \n",
            "\n",
            "**Q: How do I charge the CO-1T headphones?**\n",
            "A: These headphones can be quickly and conveniently charged using the included USB cable. \n",
            "\n",
            "**Q: Are the CO-1T headphones comfortable for extended wear?**\n",
            "A: Yes, they are designed with your comfort in mind. The lightweight construction of the CO-1T headphones ensures they remain comfortable even during long periods of use. \n",
            "\n",
            "**Q: Can I make calls with the CO-1T headphones?**\n",
            "A: Absolutely. The built-in microphone allows you to easily take calls, providing a seamless transition from listening to music to taking a phone call. \n",
            "\n",
            "**Q: How do I control the volume on the CO-1T headphones?**\n",
            "A: There is a dedicated button on the headphones that allows you to adjust the volume to your preferred level. \n",
            "\n",
            "**Q: Who should consider purchasing the CO-1T headphones?**\n",
            "A: The CO-1T headphones are an ideal choice for anyone seeking wireless headphones with superior battery life, comfort, and convenience. They combine ease of use with functionality, making them a great option for those who value both performance and comfort. \n",
            "\n",
            "Feel free to ask any further questions about the CO-1T wireless headphones, and I can provide additional details or answers to common queries."
          ]
        }
      ],
      "source": [
        "prompt =f\"\"\"Turn the following product description into a list of frequently asked questions (FAQ).\n",
        "\n",
        "Product description: {product}\n",
        "\"\"\"\n",
        "generate_text(prompt, temperature=0)"
      ]
    },
    {
      "cell_type": "markdown",
      "metadata": {
        "id": "lXZ5CMUJVZJ-"
      },
      "source": [
        "# Summarizing"
      ]
    },
    {
      "cell_type": "markdown",
      "metadata": {
        "id": "IB3OmRxbogL5"
      },
      "source": [
        "One popular use case for synthesizing text is summarization. Here we take a long passage of text and summarize it to its essence. These can be articles, conversation transcripts, reports, meeting notes, and so on.\n",
        "\n"
      ]
    },
    {
      "cell_type": "code",
      "execution_count": 10,
      "metadata": {
        "colab": {
          "base_uri": "https://localhost:8080/",
          "height": 17
        },
        "id": "ePESFJCRdtec",
        "outputId": "3b55666f-6a73-4c88-ce34-1e380772e9aa"
      },
      "outputs": [],
      "source": [
        "user_input =\"\"\"Customer reviews of the CO-1T wireless headphones:\n",
        "\n",
        "\"The CO-1T is a great pair of headphones! The design is sleek and modern, and the headphones are \\\n",
        "very comfortable to wear. The sound quality is excellent, and I can hear every detail of my music. \\\n",
        "The built-in microphone means I can make calls without having to take my phone out of my pocket. I \\\n",
        "highly recommend the CO-1T to anyone looking for a great pair of wireless headphones!\"\n",
        "\n",
        "\"I'm very disappointed with the CO-1T. The design is nice, but the battery life is terrible. I can \\\n",
        "only use them for a few hours before they need to be recharged. This is very inconvenient, and I'm \\\n",
        "not sure if I can recommend them to anyone.\"\n",
        "\n",
        "\"The CO-1T is a mixed bag. The speaker quality is great, but the built-in microphone's quality is \\\n",
        "poor. I can hear every detail of my music, but my voice sounds distorted when I make calls. The \\\n",
        "design is nice, and the headphones are comfortable to wear, but the battery life is only average. \\\n",
        "I'm not sure if I can recommend them to anyone.\"\n",
        "\"\"\""
      ]
    },
    {
      "cell_type": "code",
      "execution_count": 11,
      "metadata": {
        "colab": {
          "base_uri": "https://localhost:8080/",
          "height": 88
        },
        "id": "jhiPxQH642PL",
        "outputId": "f2694273-6d3a-4e57-8c09-baccdd3e92b1"
      },
      "outputs": [
        {
          "name": "stdout",
          "output_type": "stream",
          "text": [
            "The CO-1T wireless headphones have received mixed reviews from customers. While the design and comfort of the headphones are generally praised, there are some concerns about the battery life and microphone quality. Some users have been disappointed with the short battery life, finding it inconvenient, while others have found the microphone's distortion an issue. However, the sound quality of the speakers and the modern, sleek design have been well-received. Overall, the CO-1T headphones seem to be a mixed bag, with some notable advantages and disadvantages that potential buyers should consider."
          ]
        }
      ],
      "source": [
        "prompt = f\"\"\"Summarize the following.\n",
        "\n",
        "{user_input}\n",
        "\"\"\"\n",
        "\n",
        "generate_text(prompt, temperature=0)"
      ]
    },
    {
      "cell_type": "markdown",
      "metadata": {
        "id": "UaPZNikOVoyV"
      },
      "source": [
        "# Rewriting"
      ]
    },
    {
      "cell_type": "markdown",
      "metadata": {
        "id": "uDzG7eiXojGF"
      },
      "source": [
        "Rewriting text is another useful use case where you need to modify some aspects of the text while maintaining its overall meaning."
      ]
    },
    {
      "cell_type": "code",
      "execution_count": 12,
      "metadata": {
        "colab": {
          "base_uri": "https://localhost:8080/",
          "height": 106
        },
        "id": "M6UlpY_en3V_",
        "outputId": "a6ba58e1-56f6-4b80-8c8e-bea87c329c1d"
      },
      "outputs": [
        {
          "name": "stdout",
          "output_type": "stream",
          "text": [
            "Here's a revised version: \n",
            "\n",
            "\"The CO-1T wireless headphones are the perfect study buddy for any college student. With Bluetooth connectivity, you can easily connect to your devices and switch between them seamlessly. The long-lasting battery life means you can listen all day without worrying about charging, and the quick charge feature and included USB cable give you that extra boost when you need it.\n",
            "\n",
            "These headphones are designed with your comfort in mind, ensuring you can focus without distractions. The lightweight build and comfortable fit make those long study sessions a breeze, and the built-in microphone lets you take calls and manage your music without having to reach for your phone. The volume control button gives you easy, instant control. \n",
            "\n",
            "The CO-1T headphones are a no-brainer for any student who wants to stay connected and focused. With their great battery life and comfortable design, you can stay in the zone and keep the music going.\" \n",
            "\n",
            "This revised version highlights the convenience and comfort of the CO-1T headphones, which are key features for busy college students who need to focus on their studies and manage their time effectively."
          ]
        }
      ],
      "source": [
        "user_input = \"college students\"\n",
        "\n",
        "prompt = f\"\"\"Create a version of this product description that's tailored towards {user_input}.\n",
        "\n",
        "{product}\"\"\"\n",
        "\n",
        "generate_text(prompt, temperature=0.5)"
      ]
    },
    {
      "cell_type": "markdown",
      "metadata": {
        "id": "VvrU1cNVVo6s"
      },
      "source": [
        "# Extracting"
      ]
    },
    {
      "cell_type": "markdown",
      "metadata": {
        "id": "xTBRKc2LomfC"
      },
      "source": [
        "In information extraction, we leverage the model’s ability to capture the context of a piece of text to extract the right information as specified by the prompt."
      ]
    },
    {
      "cell_type": "code",
      "execution_count": 13,
      "metadata": {
        "colab": {
          "base_uri": "https://localhost:8080/",
          "height": 71
        },
        "id": "qLiKCYEX5LQj",
        "outputId": "5cf50c4b-130d-4c1e-bf54-1f4d7fcd1370"
      },
      "outputs": [
        {
          "name": "stdout",
          "output_type": "stream",
          "text": [
            "- Product: CO-1T\n",
            "- Refund Reason: Poor battery life\n",
            "- Pick-up Address: 171 John Street, Toronto, ON, M5T 1X2"
          ]
        }
      ],
      "source": [
        "user_input =\"\"\"I am writing to request a refund for a recent CO-1T purchase I made on your platform. \\\n",
        "Unfortunately, the produce has not met my expectations due to its poor battery life. \\\n",
        "Please arrange for the pick-up at this address: to 171 John Street, Toronto ON, M5T 1X2.\"\"\"\n",
        "\n",
        "prompt =f\"\"\"Extract the product, refund reason and pick-up address from this email:\n",
        "\n",
        "{user_input}\n",
        "\"\"\"\n",
        "\n",
        "generate_text(prompt, temperature=0)"
      ]
    },
    {
      "cell_type": "markdown",
      "metadata": {},
      "source": [
        "A more robust approach for handling text extraction is to use the structured output generation feature of the API. You can specify a JSON schema that the model will match when generating its response."
      ]
    },
    {
      "cell_type": "code",
      "execution_count": 16,
      "metadata": {},
      "outputs": [
        {
          "name": "stdout",
          "output_type": "stream",
          "text": [
            "{\n",
            "  \"product\": \"CO-1T\",\n",
            "  \"refund_reason\": \"Poor battery life\",\n",
            "  \"pickup_address\": \"171 John Street, Toronto, ON M5T 1X2\"\n",
            "}\n"
          ]
        }
      ],
      "source": [
        "prompt =f\"\"\"Extract as JSON the product, refund reason and pick-up address from this email:\n",
        "\n",
        "{user_input}\n",
        "\"\"\"\n",
        "\n",
        "response = co.chat(\n",
        "  model=\"command-r-plus\",\n",
        "  messages=[cohere.UserMessage(content=prompt)],\n",
        "  response_format={\n",
        "    \"type\": \"json_object\",\n",
        "    \"schema\": {\n",
        "      \"type\": \"object\",\n",
        "      \"required\": [\"product\", \"refund_reason\", \"pickup_address\"],\n",
        "      \"properties\": {\n",
        "        \"product\": { \"type\": \"string\" },\n",
        "        \"refund_reason\": { \"type\": \"string\" },\n",
        "        \"pickup_address\": { \"type\": \"string\" }\n",
        "      }\n",
        "    }\n",
        "  })\n",
        "  \n",
        "print(response.message.content[0]['text'])"
      ]
    },
    {
      "cell_type": "markdown",
      "metadata": {
        "id": "q4r37vhEW0zZ"
      },
      "source": [
        "# Classifying"
      ]
    },
    {
      "cell_type": "markdown",
      "metadata": {
        "id": "BQcDpD8AotJn"
      },
      "source": [
        "One of the most widely deployed use cases in NLP is text classification. Here, the task is to classify a piece of text into one of a few predefined classes."
      ]
    },
    {
      "cell_type": "markdown",
      "metadata": {
        "id": "VBF46p9Aoxyd"
      },
      "source": [
        "## Chat endpoint"
      ]
    },
    {
      "cell_type": "code",
      "execution_count": 6,
      "metadata": {
        "colab": {
          "base_uri": "https://localhost:8080/",
          "height": 35
        },
        "id": "DEFJDkZI0t4h",
        "outputId": "a0c76a54-4437-40dd-daf5-c49ef510e8bb"
      },
      "outputs": [
        {
          "name": "stdout",
          "output_type": "stream",
          "text": [
            "Support."
          ]
        }
      ],
      "source": [
        "user_input =\"The battery drains fast\"\n",
        "\n",
        "prompt =f\"\"\"The following is a user message to a customer support agent.\n",
        "Classify the message into one of the following categories: Order, Support, or Refunds.\n",
        "\n",
        "{user_input}\n",
        "\"\"\"\n",
        "\n",
        "generate_text(prompt, temperature=0)"
      ]
    },
    {
      "cell_type": "markdown",
      "metadata": {
        "id": "CRyqSajqtQXu"
      },
      "source": [
        "## Classify endpoint (a more streamlined option)"
      ]
    },
    {
      "cell_type": "markdown",
      "metadata": {
        "id": "HKmtCdvKo27p"
      },
      "source": [
        "Alternatively, the Classify endpoint provides a simple API for running text classification. The endpoint leverages Cohere’s embeddings models and makes it easy to add training examples and even create custom models that are specifically tailored to your task."
      ]
    },
    {
      "cell_type": "code",
      "execution_count": 7,
      "metadata": {
        "colab": {
          "base_uri": "https://localhost:8080/",
          "height": 35
        },
        "id": "onisNMS4HI-H",
        "outputId": "25071dd8-00e5-41aa-dffb-f1fababfce8b"
      },
      "outputs": [
        {
          "name": "stdout",
          "output_type": "stream",
          "text": [
            "Support\n"
          ]
        }
      ],
      "source": [
        "from cohere import ClassifyExample\n",
        "\n",
        "response = co.classify(\n",
        "  inputs=[user_input],\n",
        "  examples=[ClassifyExample(text=\"I can\\'t connect to the bluetooth\", label=\"Support\"),\n",
        "            ClassifyExample(text=\"Why is max volume so low\", label=\"Support\"),\n",
        "            ClassifyExample(text=\"When will my order arrive\", label=\"Order\"),\n",
        "            ClassifyExample(text=\"How much is the shipping cost\", label=\"Order\"),\n",
        "            ClassifyExample(text=\"What is your refund policy\", label=\"Refunds\"),\n",
        "            ClassifyExample(text=\"How do I return my product\", label=\"Refunds\")])\n",
        "print(response.classifications[0].predictions[0])"
      ]
    }
  ],
  "metadata": {
    "colab": {
      "provenance": [],
      "toc_visible": true
    },
    "kernelspec": {
      "display_name": "base",
      "language": "python",
      "name": "base"
    },
    "language_info": {
      "codemirror_mode": {
        "name": "ipython",
        "version": 3
      },
      "file_extension": ".py",
      "mimetype": "text/x-python",
      "name": "python",
      "nbconvert_exporter": "python",
      "pygments_lexer": "ipython3",
      "version": "3.11.4"
    }
  },
  "nbformat": 4,
  "nbformat_minor": 0
}
