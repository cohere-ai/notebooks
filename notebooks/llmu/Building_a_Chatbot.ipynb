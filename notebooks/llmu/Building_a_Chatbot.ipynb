{
 "cells": [
  {
   "cell_type": "markdown",
   "metadata": {},
   "source": [
    "<a target=\"_blank\" href=\"https://colab.research.google.com/github/cohere-ai/notebooks/blob/main/notebooks/llmu/Building_a_Chatbot.ipynb\">\n",
    "  <img src=\"https://colab.research.google.com/assets/colab-badge.svg\" alt=\"Open In Colab\"/>\n",
    "</a>"
   ]
  },
  {
   "cell_type": "markdown",
   "metadata": {
    "id": "OnKdawu1MnkN"
   },
   "source": [
    "# Building a Chatbot"
   ]
  },
  {
   "cell_type": "markdown",
   "metadata": {
    "id": "CnKxQnzDMczK"
   },
   "source": [
    "In this notebook, you’ll build a chatbot using Cohere’s Chat endpoint. By the end of this notebook, you’ll be able to build a simple chatbot that can respond to user messages and maintain the context of the conversation.\n",
    "\n",
    "*Read the accompanying [blog post here](https://docs.cohere.com/docs/building-a-chatbot).*"
   ]
  },
  {
   "cell_type": "markdown",
   "metadata": {},
   "source": [
    "## Overview"
   ]
  },
  {
   "cell_type": "markdown",
   "metadata": {},
   "source": [
    "We'll do the following steps:\n",
    "- **Step 1: Quickstart** - Learn the quickest and easiest way to call the Chat endpoint.\n",
    "- **Step 2: Adding a preamble** - Steer a chatbot's response toward certain styles, personas, or other characteristics.\n",
    "- **Step 3: Streaming the response** - Display a chatbot's response incrementally as it is generated, as opposed to waiting for the entire response to be completed.\n",
    "- **Step 4: Building the Chat History** - Explore two different options for getting the chatbot to maintain the context of the conversation."
   ]
  },
  {
   "cell_type": "markdown",
   "metadata": {},
   "source": [
    "## Setup\n",
    "\n",
    "We'll start by installing the tools we'll need and then importing them."
   ]
  },
  {
   "cell_type": "code",
   "execution_count": 1,
   "metadata": {},
   "outputs": [],
   "source": [
    "! pip install cohere -q"
   ]
  },
  {
   "cell_type": "code",
   "execution_count": null,
   "metadata": {},
   "outputs": [],
   "source": [
    "import cohere\n",
    "co = cohere.ClientV2(\"COHERE_API_KEY\") # Get your free API key: https://dashboard.cohere.com/api-keys"
   ]
  },
  {
   "cell_type": "markdown",
   "metadata": {
    "id": "P6YrR6WeO_O-"
   },
   "source": [
    "## Step 1: Quickstart\n",
    "\n",
    "To get started with Chat, we add a user message to the `messages` parameter and define the model type in the `model` parameter. We then call the Chat endpoint through the client we created earlier.\n",
    "\n",
    "The response contains several objects. For simplicity, what we want right now is the `text` object.\n",
    "\n",
    "Here's an example of the assistant responding to a new hire's query asking for help to make introductions."
   ]
  },
  {
   "cell_type": "code",
   "execution_count": 27,
   "metadata": {
    "colab": {
     "base_uri": "https://localhost:8080/"
    },
    "id": "Y0oUFu9hO23P",
    "outputId": "1504ef60-cccd-4a9b-f708-ea4f23404af7"
   },
   "outputs": [
    {
     "name": "stdout",
     "output_type": "stream",
     "text": [
      "Here's a draft of an introduction message for your new colleagues at Co1t:\n",
      "\n",
      "\"Hello everyone!\n",
      "\n",
      "My name is [Your Name], and I am thrilled to introduce myself as the newest member of the Co1t team! Starting a new journey at a startup has been an exciting prospect, and I am eager to contribute to the company's success.\n",
      "\n",
      "A little about myself: I have a background in [Your Educational or Professional Background], and my expertise lies in [Your Skills or Areas of Expertise]. I am passionate about [Mention any relevant interests or hobbies related to the startup's industry]. I believe that my experience and enthusiasm will allow me to quickly integrate into the dynamic culture here.\n",
      "\n",
      "I am looking forward to meeting and collaborating with all of you. As a team, I am confident that we can achieve great milestones and create innovative solutions together. Please feel free to reach out if you need any assistance or if you'd like to grab a coffee and chat! I'm all for building strong connections and fostering a supportive work environment.\n",
      "\n",
      "Let's make Co1t a thriving and impactful startup!\n",
      "\n",
      "Best regards,\n",
      "[Your Name]\"\n",
      "\n",
      "Feel free to customize and add more personal details to make the introduction more engaging and reflective of your personality. Good luck on your first day, and congratulations on joining the new venture!\n"
     ]
    }
   ],
   "source": [
    "# Add the user message\n",
    "message = \"I'm joining a new startup called Co1t today. Could you help me write an introduction message for my teammates.\"\n",
    "\n",
    "# Generate the response\n",
    "response = co.chat(model=\"command-r-plus-08-2024\",\n",
    "                   messages=[{'role':'user', 'content': message}])\n",
    "\n",
    "print(response.message.content[0].text)"
   ]
  },
  {
   "cell_type": "markdown",
   "metadata": {},
   "source": [
    "## Step 2: Creating a custom system message"
   ]
  },
  {
   "cell_type": "markdown",
   "metadata": {
    "id": "TogMI9nkPCer"
   },
   "source": [
    "Optionally, you can add a system message to help steer a chatbot’s response toward certain characteristics.\n",
    "\n",
    "For example, if we want the chatbot to adopt a formal style, the preamble can be used to encourage the generation of more business-like and professional responses.\n",
    "\n",
    "The recommended approach is to use two H2 Markdown headers: \"Task and Context\" and \"Style Guide\" in the exact order.\n",
    "\n",
    "In the example below, the preamble provides context for the assistant's task (task and context) and encourages the generation of rhymes as much as possible (style guide)."
   ]
  },
  {
   "cell_type": "code",
   "execution_count": 28,
   "metadata": {
    "colab": {
     "base_uri": "https://localhost:8080/"
    },
    "id": "h_a4AhLbO-KF",
    "outputId": "93741452-f257-43e1-969f-344ae9ec91bd"
   },
   "outputs": [
    {
     "name": "stdout",
     "output_type": "stream",
     "text": [
      "Here's a little note, to make a grand entrance,\n",
      "Welcome, dear colleague, to Co1t's brilliance!\n",
      "\n",
      "I'm thrilled to join this team, a fresh face, so bright,\n",
      "Excited to contribute and learn with all my might.\n",
      "\n",
      "Let's connect and collaborate, a partnership so rare,\n",
      "Together, we'll conquer challenges, and success we'll share.\n",
      "\n",
      "Feel free to reach out, any time, any day,\n",
      "Let's chat and get to know each other in our own way.\n",
      "\n",
      "A new adventure awaits, so let's make it grand,\n",
      "Looking forward to being part of this amazing band!\n"
     ]
    }
   ],
   "source": [
    "# Add the user message\n",
    "message = \"I'm joining a new startup called Co1t today. Could you help me write an introduction message for my teammates.\"\n",
    "\n",
    "# Create a custom system message\n",
    "system_message=\"\"\"## Task and Context\n",
    "You are an assistant who assist new employees of Co1t with their first week.\n",
    "\n",
    "## Style Guide\n",
    "Try to speak in rhymes as much as possible. Be professional.\"\"\"\n",
    "\n",
    "# Add the messages\n",
    "messages = [{'role': 'system', 'content': system_message},\n",
    "            {'role': 'user', 'content': message}]\n",
    "\n",
    "# Generate the response\n",
    "response = co.chat(model=\"command-r-plus-08-2024\",\n",
    "                   messages=messages)\n",
    "\n",
    "print(response.message.content[0].text)"
   ]
  },
  {
   "cell_type": "markdown",
   "metadata": {
    "id": "vGZdMxt0PHhI"
   },
   "source": [
    "## Step 3: Streaming the response\n",
    "\n",
    "The Chat endpoint also provides streaming support. In a streamed response, the endpoint would return a response object for each token as it is being generated. This means you can display the text incrementally without having to wait for the full completion.\n",
    "\n",
    "To activate it, use `co.chat_stream()` instead of `co.chat()`.\n",
    "\n",
    "In streaming mode, the endpoint will generate a series of objects. To get the actual text contents, we take objects whose `event_type` is `text-generation`."
   ]
  },
  {
   "cell_type": "code",
   "execution_count": 29,
   "metadata": {
    "colab": {
     "base_uri": "https://localhost:8080/"
    },
    "id": "UGgXs5AtPEme",
    "outputId": "33ca5c3d-4cc7-49cc-c1ed-22936f1eef3d"
   },
   "outputs": [
    {
     "name": "stdout",
     "output_type": "stream",
     "text": [
      "Here's a draft of an introduction message for your new colleagues at Co1t:\n",
      "\n",
      "\"Hello everyone!\n",
      "\n",
      "My name is [Your Name], and I am thrilled to introduce myself as the newest member of the Co1t team! Starting my journey with you all today, I am excited to be a part of this innovative startup and contribute to its success.\n",
      "\n",
      "A little about myself: I have [mention your professional background or relevant experience], and I am passionate about [list some of your interests or skills related to the startup's industry]. I believe my expertise in [specific skill or knowledge area] will be a valuable asset to the company's growth.\n",
      "\n",
      "I am eager to collaborate with each of you and learn from your unique perspectives. As a firm believer in the power of teamwork, I am confident that together, we can achieve great milestones and create something extraordinary.\n",
      "\n",
      "Looking forward to getting to know you all, brainstorming ideas, and tackling the challenges ahead as a united front. Feel free to reach out if you'd like to connect and discuss any projects or just to say hi!\n",
      "\n",
      "Let's make Co1t a thriving success story!\n",
      "\n",
      "Best regards,\n",
      "[Your Name]\"\n",
      "\n",
      "Feel free to customize and add any personal touches to make the message align perfectly with your personality and the company's culture. Good luck on your first day, and congratulations on joining Co1t!"
     ]
    }
   ],
   "source": [
    "# Add the user message\n",
    "message = \"I'm joining a new startup called Co1t today. Could you help me write an introduction message for my teammates.\"\n",
    "\n",
    "# Generate the response by streaming it\n",
    "response = co.chat_stream(model=\"command-r-plus-08-2024\",\n",
    "                          messages=[{'role':'user', 'content': message}])\n",
    "\n",
    "for event in response:\n",
    "    if event.type == \"content-delta\":\n",
    "        print(event.delta.message.content.text, end=\"\")"
   ]
  },
  {
   "cell_type": "markdown",
   "metadata": {
    "id": "9Jd3fjC5PPI5"
   },
   "source": [
    "## Step 4: Build the conversation memory"
   ]
  },
  {
   "cell_type": "markdown",
   "metadata": {},
   "source": [
    "At the core of a conversation is a multi-turn dialog between the user and the chatbot. This requires the chatbot to have the state (or “memory”) of all the previous turns to maintain the state of the conversation.\n",
    "\n",
    "Let's start with the first turn in the conversation.\n",
    "\n",
    "Here, we are also adding a custom system message for generating concise response, just to keep the outputs brief for this tutorial."
   ]
  },
  {
   "cell_type": "code",
   "execution_count": 31,
   "metadata": {},
   "outputs": [
    {
     "name": "stdout",
     "output_type": "stream",
     "text": [
      "\"Hi everyone, I'm thrilled to join Co1t as a new team member, and I look forward to collaborating and contributing to our shared success!\"\n"
     ]
    }
   ],
   "source": [
    "# Add the user message\n",
    "message = \"I'm joining a new startup called Co1t today. Could you help me write an introduction message for my teammates.\"\n",
    "\n",
    "# Create a custom system message\n",
    "system_message=\"\"\"## Task and Context\n",
    "Generate concise responses, with maximum one-sentence.\"\"\"\n",
    "\n",
    "# Add the messages\n",
    "messages = [{'role': 'system', 'content': system_message},\n",
    "            {'role': 'user', 'content': message}]\n",
    "\n",
    "# Generate the response\n",
    "response = co.chat(model=\"command-r-plus-08-2024\",\n",
    "                   messages=messages)\n",
    "\n",
    "print(response.message.content[0].text)"
   ]
  },
  {
   "cell_type": "markdown",
   "metadata": {},
   "source": [
    "Now, we want the model to refine the earlier response. This requires the next generation to have access to the state, or memory, of the conversation.\n",
    "\n",
    "To do this, we append the `message` object from the previous response to the `messages` list.\n",
    "\n",
    "Then we append the next user message to the `messages` list.\n",
    "\n",
    "Looking at the response, we see that the model is able to get the context from the chat history. The model is able to capture that \"it\" in the user message refers to the introduction message it had generated earlier."
   ]
  },
  {
   "cell_type": "code",
   "execution_count": 32,
   "metadata": {},
   "outputs": [
    {
     "name": "stdout",
     "output_type": "stream",
     "text": [
      "\"Hey there, super excited to be a part of the Co1t family! Can't wait to meet you all and dive into some awesome projects together!\"\n"
     ]
    }
   ],
   "source": [
    "# Append the previous response\n",
    "messages.append({'role': 'assistant', 'content': response.message.content})\n",
    "\n",
    "# Add the user message\n",
    "message = \"Make it more upbeat and conversational.\"\n",
    "\n",
    "# Append the user message\n",
    "messages.append({'role': 'user', 'content': message})\n",
    "\n",
    "# Generate the response with the current chat history as the context\n",
    "response = co.chat(model=\"command-r-plus-08-2024\",\n",
    "                   messages=messages)\n",
    "\n",
    "print(response.message.content[0].text)"
   ]
  },
  {
   "cell_type": "markdown",
   "metadata": {},
   "source": [
    "You can continue doing this for any number of turns by repeating the same steps of appending the chatbot and user messages."
   ]
  },
  {
   "cell_type": "code",
   "execution_count": 33,
   "metadata": {},
   "outputs": [
    {
     "name": "stdout",
     "output_type": "stream",
     "text": [
      "\"Hey [Manager's Name], just wanted to express my excitement about starting at Co1t today, and I'm grateful for the opportunity to work with you and the team!\"\n"
     ]
    }
   ],
   "source": [
    "# Append the previous response\n",
    "messages.append({'role': 'assistant', 'content': response.message.content})\n",
    "\n",
    "# Add the user message\n",
    "message = \"Thanks. Could you create another one for my DM to my manager.\"\n",
    "\n",
    "# Append the user message\n",
    "messages.append({'role': 'user', 'content': message})\n",
    "\n",
    "# Generate the response with the current chat history as the context\n",
    "response = co.chat(model=\"command-r-plus-08-2024\",\n",
    "                   messages=messages)\n",
    "\n",
    "print(response.message.content[0].text)"
   ]
  },
  {
   "cell_type": "markdown",
   "metadata": {},
   "source": [
    "To look at the current chat history, you can print the `messages` list."
   ]
  },
  {
   "cell_type": "code",
   "execution_count": 34,
   "metadata": {},
   "outputs": [
    {
     "name": "stdout",
     "output_type": "stream",
     "text": [
      "{'role': 'system', 'content': '## Task and Context\\nGenerate concise responses, with maximum one-sentence.'} \n",
      "\n",
      "{'role': 'user', 'content': \"I'm joining a new startup called Co1t today. Could you help me write an introduction message for my teammates.\"} \n",
      "\n",
      "{'role': 'assistant', 'content': [TextAssistantMessageResponseContentItem(type='text', text='\"Hi everyone, I\\'m thrilled to join Co1t as a new team member, and I look forward to collaborating and contributing to our shared success!\"')]} \n",
      "\n",
      "{'role': 'user', 'content': 'Make it more upbeat and conversational.'} \n",
      "\n",
      "{'role': 'assistant', 'content': [TextAssistantMessageResponseContentItem(type='text', text='\"Hey there, super excited to be a part of the Co1t family! Can\\'t wait to meet you all and dive into some awesome projects together!\"')]} \n",
      "\n",
      "{'role': 'user', 'content': 'Thanks. Could you create another one for my DM to my manager.'} \n",
      "\n",
      "{'role': 'assistant', 'content': [TextAssistantMessageResponseContentItem(type='text', text='\"Hey [Manager\\'s Name], just wanted to express my excitement about starting at Co1t today, and I\\'m grateful for the opportunity to work with you and the team!\"')]} \n",
      "\n"
     ]
    }
   ],
   "source": [
    "# Append the previous response\n",
    "messages.append({'role': 'assistant', 'content': response.message.content})\n",
    "# View the chat history\n",
    "for message in messages:\n",
    "    print(message,\"\\n\")"
   ]
  },
  {
   "cell_type": "code",
   "execution_count": null,
   "metadata": {},
   "outputs": [],
   "source": []
  }
 ],
 "metadata": {
  "colab": {
   "provenance": []
  },
  "kernelspec": {
   "display_name": "base",
   "language": "python",
   "name": "base"
  },
  "language_info": {
   "codemirror_mode": {
    "name": "ipython",
    "version": 3
   },
   "file_extension": ".py",
   "mimetype": "text/x-python",
   "name": "python",
   "nbconvert_exporter": "python",
   "pygments_lexer": "ipython3",
   "version": "3.11.4"
  }
 },
 "nbformat": 4,
 "nbformat_minor": 1
}
