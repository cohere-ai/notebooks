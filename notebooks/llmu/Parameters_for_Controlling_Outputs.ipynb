{
 "cells": [
  {
   "cell_type": "markdown",
   "metadata": {},
   "source": [
    "<a target=\"_blank\" href=\"https://colab.research.google.com/github/cohere-ai/notebooks/blob/main/notebooks/llmu/Parameters_for_Controlling_Outputs.ipynb\">\n",
    "  <img src=\"https://colab.research.google.com/assets/colab-badge.svg\" alt=\"Open In Colab\"/>\n",
    "</a>"
   ]
  },
  {
   "cell_type": "markdown",
   "metadata": {},
   "source": [
    "# Parameters for Controlling Outputs\n",
    "\n",
    "In this notebook, you’ll learn about the parameters you can use to control the Chat endpoint's outputs.\n",
    "\n",
    "*Read the accompanying [blog post here](https://docs.cohere.com/docs/parameters-for-controlling-outputs).*"
   ]
  },
  {
   "cell_type": "markdown",
   "metadata": {},
   "source": [
    "## Overview"
   ]
  },
  {
   "cell_type": "markdown",
   "metadata": {},
   "source": [
    "The notebook has 2 sections:\n",
    "- **Model Type** - Select a variation of the Command model.\n",
    "- **Randomness** - Use the `temperature` parameter to control the level of randomness of the model."
   ]
  },
  {
   "cell_type": "markdown",
   "metadata": {},
   "source": [
    "## Setup"
   ]
  },
  {
   "cell_type": "markdown",
   "metadata": {},
   "source": [
    "We'll start by installing the tools we'll need and then importing them."
   ]
  },
  {
   "cell_type": "code",
   "execution_count": 1,
   "metadata": {
    "colab": {
     "base_uri": "https://localhost:8080/"
    },
    "id": "z49_e7Ma2IgU",
    "outputId": "877c1228-c424-433f-d22c-1565c8445d35"
   },
   "outputs": [],
   "source": [
    "! pip install cohere -q"
   ]
  },
  {
   "cell_type": "markdown",
   "metadata": {},
   "source": [
    "Fill in your Cohere API key in the next cell. To do this, begin by [signing up to Cohere](https://os.cohere.ai/) (for free!) if you haven't yet. Then get your API key [here](https://dashboard.cohere.com/api-keys)."
   ]
  },
  {
   "cell_type": "code",
   "execution_count": 1,
   "metadata": {},
   "outputs": [],
   "source": [
    "import cohere\n",
    "co = cohere.ClientV2(\"COHERE_API_KEY\") # Get your free API key: https://dashboard.cohere.com/api-keys"
   ]
  },
  {
   "cell_type": "markdown",
   "metadata": {},
   "source": [
    "## Model Type\n",
    "\n",
    "When calling the Chat endpoint, use the `model` parameter to choose from several variations of the Command model. In the example, we select [Command R+ 08-2024](https://docs.cohere.com/docs/command-r-plus)."
   ]
  },
  {
   "cell_type": "code",
   "execution_count": 2,
   "metadata": {},
   "outputs": [
    {
     "name": "stdout",
     "output_type": "stream",
     "text": [
      "Hello! How can I help you today?\n"
     ]
    }
   ],
   "source": [
    "# Add the user message\n",
    "message = \"Hello.\"\n",
    "\n",
    "# Generate the response\n",
    "response = co.chat(model=\"command-r-plus-08-2024\",\n",
    "                   messages=[{'role':'user', 'content': message}])\n",
    "\n",
    "print(response.message.content[0].text)"
   ]
  },
  {
   "cell_type": "markdown",
   "metadata": {
    "id": "Df4lLD-P3aj_"
   },
   "source": [
    "Often, you’ll need to control the level of randomness of the output. You can control this using a few parameters.\n",
    "\n",
    "The most commonly used parameter is `temperature`, which is a number used to tune the degree of randomness. You can enter values between 0.0 to 1.0.\n",
    "\n",
    "A lower temperature gives more predictable outputs, and a higher temperature gives more \"creative\" outputs.\n",
    "\n",
    "Here's an example of setting `temperature` to 0."
   ]
  },
  {
   "cell_type": "code",
   "execution_count": 3,
   "metadata": {},
   "outputs": [
    {
     "name": "stdout",
     "output_type": "stream",
     "text": [
      "1: Enthusiastic Historian.\n",
      "\n",
      "2: Enthusiastic Historian.\n",
      "\n",
      "3: Enthusiastic Historian.\n",
      "\n"
     ]
    }
   ],
   "source": [
    "# Add the user message\n",
    "message = \"I like learning about the industrial revolution and how it shapes the modern world. How can I introduce myself in two words.\"\n",
    "\n",
    "# Generate the response multiple times by specifying a low temperature value\n",
    "for idx in range(3):\n",
    "    response = co.chat(model=\"command-r-plus-08-2024\",\n",
    "                       messages=[{'role':'user', 'content': message}],\n",
    "                       temperature=0)\n",
    "\n",
    "    print(f\"{idx+1}: {response.message.content[0].text}\\n\")"
   ]
  },
  {
   "cell_type": "markdown",
   "metadata": {},
   "source": [
    "And here's an example of setting `temperature` to 1."
   ]
  },
  {
   "cell_type": "code",
   "execution_count": 7,
   "metadata": {},
   "outputs": [
    {
     "name": "stdout",
     "output_type": "stream",
     "text": [
      "1: Here are two words to introduce yourself based on your interest:\n",
      "\n",
      "**Revolutionary Historian**\n",
      "\n",
      "This introduction captures your passion for the Industrial Revolution and its impact on history. It suggests that you have a deep understanding and appreciation for this transformative era, which revolutionized industries and societies worldwide.\n",
      "\n",
      "2: Two words that could describe you could be:\n",
      "\n",
      "**History Enthusiast**\n",
      "\n",
      "3: History Enthusiast.\n",
      "\n"
     ]
    }
   ],
   "source": [
    "# Add the user message\n",
    "message = \"I like learning about the industrial revolution and how it shapes the modern world. How can I introduce myself in two words.\"\n",
    "\n",
    "# Generate the response multiple times by specifying a high temperature value\n",
    "for idx in range(3):\n",
    "    response = co.chat(model=\"command-r-plus-08-2024\",\n",
    "                       messages=[{'role':'user', 'content': message}],\n",
    "                       temperature=1)\n",
    "\n",
    "    print(f\"{idx+1}: {response.message.content[0].text}\\n\")"
   ]
  },
  {
   "cell_type": "code",
   "execution_count": null,
   "metadata": {},
   "outputs": [],
   "source": []
  }
 ],
 "metadata": {
  "colab": {
   "provenance": [],
   "toc_visible": true
  },
  "kernelspec": {
   "display_name": "base",
   "language": "python",
   "name": "base"
  },
  "language_info": {
   "codemirror_mode": {
    "name": "ipython",
    "version": 3
   },
   "file_extension": ".py",
   "mimetype": "text/x-python",
   "name": "python",
   "nbconvert_exporter": "python",
   "pygments_lexer": "ipython3",
   "version": "3.11.4"
  }
 },
 "nbformat": 4,
 "nbformat_minor": 1
}
