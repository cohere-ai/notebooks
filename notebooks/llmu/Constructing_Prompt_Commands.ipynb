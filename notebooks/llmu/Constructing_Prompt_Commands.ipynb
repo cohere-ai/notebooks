{
  "cells": [
    {
      "cell_type": "markdown",
      "metadata": {
        "id": "8zk41AOxHDRJ"
      },
      "source": [
        "<a target=\"_blank\" href=\"https://colab.research.google.com/github/cohere-ai/notebooks/blob/main/notebooks/llmu/Constructing_Prompt_Commands.ipynb\">\n",
        "  <img src=\"https://colab.research.google.com/assets/colab-badge.svg\" alt=\"Open In Colab\"/>\n",
        "</a>"
      ]
    },
    {
      "cell_type": "markdown",
      "metadata": {
        "id": "kqO87yLG6peE"
      },
      "source": [
        "# Constructing Prompts for the Command Model"
      ]
    },
    {
      "cell_type": "markdown",
      "metadata": {
        "id": "Ld3HJTuBsRsv"
      },
      "source": [
        "Prompts can be as simple as a one-liner, or they can be as complex as multiple layers of specific information. The more specific your command is, the more likely you will get exactly what you need from the model.\n",
        "\n",
        "We’ll look at some tips and ideas for constructing the commands in your prompt to help you get to your intended outcome.\n",
        "\n",
        "Read the accompanying [article here](https://cohere.com/llmu/constructing-prompts)."
      ]
    },
    {
      "cell_type": "markdown",
      "metadata": {
        "id": "IKqOwwW6kxg5"
      },
      "source": [
        "# Setup"
      ]
    },
    {
      "cell_type": "code",
      "execution_count": 3,
      "metadata": {
        "id": "z49_e7Ma2IgU"
      },
      "outputs": [],
      "source": [
        "! pip install cohere -q"
      ]
    },
    {
      "cell_type": "markdown",
      "metadata": {},
      "source": [
        "# Setup"
      ]
    },
    {
      "cell_type": "code",
      "execution_count": null,
      "metadata": {},
      "outputs": [],
      "source": [
        "import cohere\n",
        "co = cohere.ClientV2(\"COHERE_API_KEY\") # Get your free API key: https://dashboard.cohere.com/api-keys"
      ]
    },
    {
      "cell_type": "markdown",
      "metadata": {
        "id": "Ms0iYHLADZdx"
      },
      "source": [
        "# Function to generate text"
      ]
    },
    {
      "cell_type": "markdown",
      "metadata": {
        "id": "mIpaglobni_M"
      },
      "source": [
        "Let’s define a text generation function that we'll use throughout this notebook."
      ]
    },
    {
      "cell_type": "code",
      "execution_count": 3,
      "metadata": {
        "id": "3F5rb6Pj2mHq"
      },
      "outputs": [],
      "source": [
        "def generate_text(message, temperature):\n",
        "    # Generate the response by streaming it\n",
        "    response = co.chat_stream(model=\"command-r-plus-08-2024\",\n",
        "                              messages=[{'role':'user', 'content': message}],\n",
        "                              temperature=temperature)\n",
        "\n",
        "    for event in response:\n",
        "        if event.type == \"content-delta\":\n",
        "            print(event.delta.message.content.text, end=\"\")"
      ]
    },
    {
      "cell_type": "markdown",
      "metadata": {
        "id": "ZMhfcQc4yg8r"
      },
      "source": [
        "# Instruction"
      ]
    },
    {
      "cell_type": "markdown",
      "metadata": {
        "id": "dpUeCr7VlLy6"
      },
      "source": [
        "At its core, prompting a Command model is about sending an instruction to a text generation model and getting a response back. Hence, the smallest unit of a perfectly complete prompt is a short line of instruction to the model."
      ]
    },
    {
      "cell_type": "code",
      "execution_count": 4,
      "metadata": {
        "colab": {
          "base_uri": "https://localhost:8080/",
          "height": 142
        },
        "id": "-EJx_8i4zTQ-",
        "outputId": "2a68084b-fcab-453c-95ad-e3d1f2f65269"
      },
      "outputs": [
        {
          "name": "stdout",
          "output_type": "stream",
          "text": [
            "Sure! Here is a creative product description for the wireless headphone product named the CO-1T: \n",
            "\n",
            "**CO-1T Wireless Headphones: Immerse Yourself in Pure Audio Bliss**\n",
            "\n",
            "Step into the future of audio with the CO-1T wireless headphones, your ultimate sonic companion. Crafted with precision and an unwavering attention to detail, these headphones are an ode to the perfect marriage of style and function. The CO-1T is designed to elevate your listening experience, taking you on an auditory journey like no other.\n",
            "\n",
            "**Unparalleled Sound Quality**\n",
            "\n",
            "Immerse yourself in a rich tapestry of sound, where every note resonates with crystal clarity. Our custom-tuned drivers deliver a powerful acoustic performance, ensuring a balanced and dynamic range that brings your music to life. Experience deep, thumping bass that pulsates through your veins, crisp mids, and soaring highs that linger long after the song has ended.\n",
            "\n",
            "**Liberating Wireless Freedom**\n",
            "\n",
            "Bid farewell to tangled cords and embrace the wireless revolution. The CO-1T connects seamlessly to your device, offering uninterrupted audio streaming from up to 30 feet away. With a stable Bluetooth 5.0 connection, you're free to move and groove without missing a beat. And when you're on the go, the sleek carrying case ensures effortless portability and quick charging, keeping you connected wherever your adventures take you.\n",
            "\n",
            "**Ergonomic Design for Extended Comfort**\n",
            "\n",
            "We understand that true immersion means losing yourself in the experience, so we've crafted the CO-1T with your comfort in mind. The ergonomic design ensures a secure and comfortable fit, allowing you to wear them for extended periods without fatigue. The soft, cushioned ear pads gently envelope your ears, creating a seal that blocks out ambient noise, so it's just you and your favorite tunes.\n",
            "\n",
            "**Intuitive Touch Controls**\n",
            "\n",
            "The CO-1T wireless headphones offer effortless control right at your fingertips. With intuitive touch sensors, you can seamlessly play, pause, skip tracks, and adjust volume with a simple tap or swipe. Answer calls with crystal-clear clarity, thanks to the built-in microphone, and activate your favorite voice assistant with a touch, keeping you connected and in control, all without reaching for your device.\n",
            "\n",
            "**Aesthetic Appeal, Uncompromised**\n",
            "\n",
            "More than just a listening device, the CO-1T is a fashion statement. The sleek and minimalist design language ensures these headphones complement any style, from casual to professional. Choose from a range of eye-catching colors to match your unique personality and taste. The CO-1T is proof that form and function can coexist harmoniously.\n",
            "\n",
            "**Long-Lasting Battery Life**\n",
            "\n",
            "Say goodbye to constant charging woes. The CO-1T wireless headphones offer an impressive battery life of up to 24 hours on a single charge, ensuring you stay connected throughout the day. And when you need a quick energy boost, the fast-charging feature provides up to 3 hours of playback time with just a 15-minute charge, so you're never far from your favorite tunes.\n",
            "\n",
            "**Your Audio, Your Way**\n",
            "\n",
            "Tailor your listening experience to your unique preferences with the CO-1T companion app. Fine-tune the EQ settings to match your favorite genres, create custom presets, and discover a whole new world of audio enhancements. The app also provides helpful tutorials, firmware updates, and exclusive content to ensure you get the most out of your headphones.\n",
            "\n",
            "**The CO-1T Promise**\n",
            "\n",
            "We are committed to delivering an exceptional audio experience, and that promise extends beyond the headphones themselves. The CO-1T wireless headphones come with a one-year warranty, ensuring your peace of mind. Should you ever need assistance, our dedicated customer support team is always ready to help, ensuring your CO-1T journey is nothing short of exceptional.\n",
            "\n",
            "Elevate your audio game with the CO-1T wireless headphones. It's time to unlock a whole new world of immersive listening."
          ]
        }
      ],
      "source": [
        "user_input = \"a wireless headphone product named the CO-1T\"\n",
        "prompt = f\"\"\"Write a creative product description for {user_input}\"\"\"\n",
        "\n",
        "generate_text(prompt, temperature=0.5)"
      ]
    },
    {
      "cell_type": "markdown",
      "metadata": {
        "id": "lOR8iuPtzOi_"
      },
      "source": [
        "# Specifics"
      ]
    },
    {
      "cell_type": "markdown",
      "metadata": {
        "id": "xks4t5_3lQ4_"
      },
      "source": [
        "A simple and short prompt can get you started, but in most cases, you’ll need to add specificity to your instructions."
      ]
    },
    {
      "cell_type": "markdown",
      "metadata": {
        "id": "v2tp7SCjUUGZ"
      },
      "source": [
        "### Single paragraph"
      ]
    },
    {
      "cell_type": "code",
      "execution_count": 5,
      "metadata": {
        "colab": {
          "base_uri": "https://localhost:8080/",
          "height": 178
        },
        "id": "WtSlvOirygmV",
        "outputId": "a15ccefa-4911-43d0-9a66-04a932a1c91c"
      },
      "outputs": [
        {
          "name": "stdout",
          "output_type": "stream",
          "text": [
            "Introducing the CO-1T Wireless Headphones: Your New Sanctuary from Distractions\n",
            "\n",
            "As a software developer, you know that focus is key. In noisy offices, where concentration can be hard to find, the CO-1T Wireless Headphones are your secret weapon. With these headphones, you can create your own personal sanctuary of calm and productivity, no matter the chaos around you.\n",
            "\n",
            "**Bluetooth Freedom:**\n",
            "First and foremost, the CO-1T offers Bluetooth connectivity, freeing you from the tangle of wires. No more feeling tethered to your desk; move freely, take that call away from your screen, and stay connected up to 10 meters away. \n",
            "\n",
            "**Crystal Clear Audio:** \n",
            "Experience superior sound quality with our custom-tuned drivers, delivering crisp, clear audio. Whether you're on a call or listening to music, every word and note is rendered with precision and clarity, ensuring you don't miss a beat. \n",
            "\n",
            "**Active Noise Cancellation:** \n",
            "Our advanced active noise cancellation technology blocks out distractions, letting you focus on the task at hand. The world around you fades away, leaving you immersed in your work, your music, or your call. \n",
            "\n",
            "**Fast Charging:** \n",
            "Time is precious, and we know you can't afford to be without your headphones. That's why the CO-1T headphones offer fast charging. Just 10 minutes of charging gives you up to 2 hours of playtime, ensuring you're never caught off guard. A full charge provides an impressive 24 hours of playtime, enough to power you through those long workdays and beyond. \n",
            "\n",
            "**Comfortable Design:** \n",
            "We understand that long hours demand comfort. That's why we've designed the CO-1T with soft, breathable ear cushions that gently envelop your ears, ensuring all-day comfort. The adjustable headband provides a secure, personalized fit, so you can wear them with ease from morning to night. \n",
            "\n",
            "**Easy Controls:** \n",
            "Seamlessly switch between your music and calls with intuitive, easy-to-use controls. The built-in microphone ensures that you can take calls with crystal-clear clarity, and the intuitive touch controls let you adjust volume, skip tracks, and answer calls with a simple tap. \n",
            "\n",
            "The CO-1T Wireless Headphones are the ultimate tool for software developers seeking focus and calm in their busy, noisy environments. So, create your sanctuary, block out the distractions, and let your productivity soar. \n",
            "\n",
            "Your headphones, your sanctuary."
          ]
        }
      ],
      "source": [
        "user_input_product = \"a wireless headphone product named the CO-1T\"\n",
        "user_input_keywords = '\"bluetooth\", \"wireless\", \"fast charging\"'\n",
        "user_input_customer = \"a software developer who works in noisy offices\"\n",
        "user_input_describe = \"benefits of this product\"\n",
        "\n",
        "prompt = f\"\"\"Write a creative product description for {user_input_product}\n",
        "with the keywords {user_input_keywords} for {user_input_customer}, and describe {user_input_describe}.\"\"\"\n",
        "\n",
        "generate_text(prompt, temperature=0.5)"
      ]
    },
    {
      "cell_type": "markdown",
      "metadata": {
        "id": "TZltmtYoUY_i"
      },
      "source": [
        "### Structured"
      ]
    },
    {
      "cell_type": "markdown",
      "metadata": {
        "id": "e1V8MaOzlVAh"
      },
      "source": [
        "In the example above, we pack the additional details of the prompt in a single paragraph. Alternatively, we can also compose it to be more structured, like so:"
      ]
    },
    {
      "cell_type": "code",
      "execution_count": 6,
      "metadata": {
        "colab": {
          "base_uri": "https://localhost:8080/",
          "height": 321
        },
        "id": "mARUjKT0zeVY",
        "outputId": "a09b5a1a-65ad-472d-a847-255a69323f11"
      },
      "outputs": [
        {
          "name": "stdout",
          "output_type": "stream",
          "text": [
            "Escape the chaos of your office and enter a world of focus with the CO-1T wireless headphones. These headphones are specifically designed for software developers like yourself who need peace and quiet to write code and troubleshoot. With a busy work environment, the last thing you need is the hassle and restriction of tangled wires. The CO-1T headphones offer a seamless Bluetooth connection, providing you with true wireless freedom. No more feeling tethered to your desk—move around the office freely and stay connected to your tasks without any distractions.\n",
            " \n",
            " One of the standout features of the CO-1T headphones is their fast-charging capability. A quick 10-minute charge gives you up to 4 hours of playtime, ensuring you're never without your focus-inducing soundtrack. Need to block out the noise completely? The active noise cancellation feature does just that, allowing you to immerse yourself in your work and forget the chaos around you. When you need to collaborate, the built-in microphone has you covered, providing clear and crisp call quality.\n",
            " \n",
            " The benefits of the CO-1T wireless headphones are clear: freedom, focus, and flexibility. Free yourself from distractions and immerse yourself in a world tailored to your productivity. With these headphones, you can create your own quiet workspace, no matter how noisy your office is."
          ]
        }
      ],
      "source": [
        "user_input_product = \"a wireless headphone product named the CO-1T\"\n",
        "user_input_keywords = '\"bluetooth\", \"wireless\", \"fast charging\"'\n",
        "user_input_customer = \"a software developer who works in noisy offices\"\n",
        "user_input_describe = \"benefits of this product\"\n",
        "\n",
        "prompt = f\"\"\"Write a creative product description for {user_input_product}.\n",
        "Keywords: {user_input_keywords}\n",
        "Audience: {user_input_customer}\n",
        "Describe: {user_input_describe}\"\"\"\n",
        "\n",
        "generate_text(prompt, temperature=0.5)"
      ]
    },
    {
      "cell_type": "markdown",
      "metadata": {
        "id": "LYexg4Fc1NiC"
      },
      "source": [
        "# Context"
      ]
    },
    {
      "cell_type": "markdown",
      "metadata": {
        "id": "guVdc3ZildZP"
      },
      "source": [
        "While LLMs excel in text generation tasks, they struggle in context-aware scenarios. In real applications, being able to add context to a prompt is key because this is what enables personalized generative AI for a team or company. It makes many use cases possible, such as intelligent assistants, customer support, and productivity tools, that retrieve the right information from a wide range of sources and add it to the prompt."
      ]
    },
    {
      "cell_type": "markdown",
      "metadata": {
        "id": "x5SeWgap1bHL"
      },
      "source": [
        "### Without Context"
      ]
    },
    {
      "cell_type": "code",
      "execution_count": 7,
      "metadata": {
        "colab": {
          "base_uri": "https://localhost:8080/",
          "height": 499
        },
        "id": "qn_TF3kD1X1h",
        "outputId": "285fdcf4-076c-4b84-e3fe-107bea32fee2"
      },
      "outputs": [
        {
          "name": "stdout",
          "output_type": "stream",
          "text": [
            "The CO-1T wireless headphone is an innovative and feature-rich audio device designed for immersive listening experiences. Here are its key features: \n",
            "\n",
            "- Superior Sound Quality: CO-1T headphones deliver exceptional audio performance with clear and powerful sound. Enhanced bass response and crisp treble ensure an enjoyable listening experience across various music genres. \n",
            "\n",
            "- Active Noise Cancellation (ANC): Advanced ANC technology effectively blocks out unwanted background noise, allowing you to focus on your music, podcasts, or calls without distractions. You can fully immerse yourself in your audio world, even in noisy environments. \n",
            "\n",
            "- Transparency Mode: This mode uses the headphone's built-in microphones to amplify ambient sounds, ensuring you remain aware of your surroundings. It's ideal for situations where you need to be attentive, like when walking on busy streets or waiting for important announcements. \n",
            "\n",
            "- Long-lasting Battery Life: The CO-1T offers impressive battery performance, providing up to 30 hours of continuous playback on a single charge with ANC turned on. Even with heavy usage, you can rely on these headphones to keep the music going throughout the day. \n",
            "\n",
            "- Fast Charging: A quick 10-minute charge gives you up to 5 hours of listening time, ensuring you're never without your music for long. \n",
            "\n",
            "- Comfortable Design: The headphones feature soft, padded earcups and an adjustable headband for a comfortable fit, making them ideal for extended listening sessions. \n",
            "\n",
            "- Touch Controls: Easy-to-use touch controls on the earcups let you adjust volume, play/pause music, answer calls, and activate voice assistants with simple gestures. \n",
            "\n",
            "- Multipoint Connection: Connect to two devices simultaneously and seamlessly switch between them. This feature is handy when you want to connect to both your phone and laptop without constantly pairing and unpairing. \n",
            "\n",
            "- Voice Assistant Integration: Seamlessly access popular voice assistants like Siri and Google Assistant with a simple touch, allowing for hands-free control and added convenience. \n",
            "\n",
            "- Foldable Design: The headphones fold down to a compact size, making them easy to carry and store in the included hard case. \n",
            "\n",
            "- Bluetooth 5.0: Ensures a stable and reliable wireless connection with reduced audio latency and improved power efficiency. \n",
            "\n",
            "The CO-1T wireless headphones offer a comprehensive set of features that cater to modern audio enthusiasts, providing an exceptional blend of sound quality, convenience, and flexibility."
          ]
        }
      ],
      "source": [
        "user_input =\"What are the key features of the CO-1T wireless headphone\"\n",
        "prompt = user_input\n",
        "\n",
        "generate_text(prompt, temperature=0)"
      ]
    },
    {
      "cell_type": "markdown",
      "metadata": {
        "id": "I6PNX9TC1fIv"
      },
      "source": [
        "### With Context"
      ]
    },
    {
      "cell_type": "code",
      "execution_count": 8,
      "metadata": {
        "colab": {
          "base_uri": "https://localhost:8080/",
          "height": 53
        },
        "id": "HeSNBlxu1nLd",
        "outputId": "89dc8ab1-dd6b-4fc9-b592-197cab187698"
      },
      "outputs": [
        {
          "name": "stdout",
          "output_type": "stream",
          "text": [
            "The key features of the CO-1T wireless headphones are: \n",
            "\n",
            "- Noise-canceling capabilities: This feature allows the user to block out surrounding chaos and work or relax in peace, making it ideal for busy offices or commutes. \n",
            "\n",
            "- Fast-charging capacity: The CO-1T headphones can quickly charge, ensuring they are ready for use whenever needed and providing an efficient and convenient way to keep the headphones powered. \n",
            "\n",
            "- Wireless Bluetooth connectivity: With Bluetooth, the headphones offer a seamless and wire-free listening experience, giving the user freedom of movement and ease of use. \n",
            "\n",
            "- Partnership-designed: These headphones are designed in partnership with software developers who work in busy, chaotic environments, ensuring the product is tailored to the needs of those seeking a quiet, focused work environment. \n",
            "\n",
            "The CO-1T headphones seem to be a great option for anyone seeking a peaceful and productive day, offering a break from the overwhelming noise of the world."
          ]
        }
      ],
      "source": [
        "context = f\"\"\"Think back to the last time you were working without any distractions in the office. That's right...I bet it's been a while.\n",
        "\n",
        "With the newly improved CO-1T noise-cancelling Bluetooth headphones, you can work in peace all day. Designed in partnership with software developers who work around the mayhem of tech startups, these headphones are finally the break you've been waiting for.\n",
        "\n",
        "With fast charging capacity and wireless Bluetooth connectivity, the CO-1T is the easy breezy way to get through your day without being overwhelmed by the chaos of the world.\"\"\"\n",
        "\n",
        "user_input = \"What are the key features of the CO-1T wireless headphone\"\n",
        "\n",
        "prompt = f\"\"\"Given the information above, answer this question: {user_input}\n",
        "\n",
        "{context}\"\"\"\n",
        "\n",
        "generate_text(prompt, temperature=0)"
      ]
    },
    {
      "cell_type": "markdown",
      "metadata": {
        "id": "oPUjDfEg00-m"
      },
      "source": [
        "# Examples"
      ]
    },
    {
      "cell_type": "markdown",
      "metadata": {
        "id": "XhzAj8Z3lkXo"
      },
      "source": [
        "All our prompts so far use what is called zero-shot prompting, which means that we are providing instruction without any example. But in many cases, it is extremely helpful to provide examples to the model to guide its response. This is called few-shot prompting.\n",
        "\n"
      ]
    },
    {
      "cell_type": "markdown",
      "metadata": {
        "id": "PyoklM3--BQV"
      },
      "source": [
        "### Without Examples (Zero-Shot)"
      ]
    },
    {
      "cell_type": "code",
      "execution_count": 9,
      "metadata": {
        "colab": {
          "base_uri": "https://localhost:8080/",
          "height": 35
        },
        "id": "9BbLgfCd7wCF",
        "outputId": "969e0e54-b3d8-47a9-e142-442aafdec156"
      },
      "outputs": [
        {
          "name": "stdout",
          "output_type": "stream",
          "text": [
            "Sure! I have drafted the following message: \n",
            "\n",
            "\"Hey Alison! I was wondering if you could pick me up tonight so we can go to the concert together. Let me know if that works for you!\" \n",
            "\n",
            "Would you like to revise the message before I send it?"
          ]
        }
      ],
      "source": [
        "prompt=\"\"\"Turn the following message to a virtual assistant into the correct action:\n",
        "Send a message to Alison to ask if she can pick me up tonight to go to the concert together\"\"\"\n",
        "\n",
        "generate_text(prompt, temperature=0)"
      ]
    },
    {
      "cell_type": "markdown",
      "metadata": {
        "id": "Wl6TcH0f-Dec"
      },
      "source": [
        "### With Examples (Few-Shot)"
      ]
    },
    {
      "cell_type": "code",
      "execution_count": 10,
      "metadata": {
        "colab": {
          "base_uri": "https://localhost:8080/",
          "height": 35
        },
        "id": "UznDzM5G8Anc",
        "outputId": "f51db9e4-a41e-4be6-d2a1-6405bb549a24"
      },
      "outputs": [
        {
          "name": "stdout",
          "output_type": "stream",
          "text": [
            "Action: Can you pick me up tonight so we can go to the concert together?"
          ]
        }
      ],
      "source": [
        "user_input = \"Send a message to Alison to ask if she can pick me up tonight to go to the concert together\"\n",
        "\n",
        "prompt=f\"\"\"Turn the following message to a virtual assistant into the correct action:\n",
        "\n",
        "Message: Ask my aunt if she can go to the JDRF Walk with me October 6th\n",
        "Action: can you go to the jdrf walk with me october 6th\n",
        "\n",
        "Message: Ask Eliza what should I bring to the wedding tomorrow\n",
        "Action: what should I bring to the wedding tomorrow\n",
        "\n",
        "Message: Send message to supervisor that I am sick and will not be in today\n",
        "Action: I am sick and will not be in today\n",
        "\n",
        "Message: {user_input}\n",
        "Action:\"\"\"\n",
        "\n",
        "generate_text(prompt, temperature=0)"
      ]
    },
    {
      "cell_type": "markdown",
      "metadata": {
        "id": "6xZAMOYYl9tg"
      },
      "source": [
        "# Chain of Thought"
      ]
    },
    {
      "cell_type": "markdown",
      "metadata": {
        "id": "CPd5NFy-l6bn"
      },
      "source": [
        "One specific way to provide examples in a prompt is to show responses that include a reasoning step. This way, we are asking the model to “think” first rather than going straight to the response."
      ]
    },
    {
      "cell_type": "markdown",
      "metadata": {
        "id": "1gKI42UbNmsO"
      },
      "source": [
        "### Without Examples"
      ]
    },
    {
      "cell_type": "code",
      "execution_count": 25,
      "metadata": {
        "colab": {
          "base_uri": "https://localhost:8080/"
        },
        "id": "gunqEO1KhrUG",
        "outputId": "4224a762-7620-4a50-83ad-0011d3a3d92c"
      },
      "outputs": [
        {
          "name": "stdout",
          "output_type": "stream",
          "text": [
            "There are 14 red balls in the box.\n",
            "\n",
            "The box originally had 5 red balls, as half of the 10 balls were red. With the addition of 4 more red balls, the total number of red balls becomes 9. Therefore, there are 14 red balls in the box."
          ]
        }
      ],
      "source": [
        "prompt=f\"\"\"Q: Roger has 5 tennis balls. He buys 2 more cans of tennis balls. Each can has 3 tennis balls. \\\n",
        "How many tennis balls does he have now?\n",
        "A: The answer is 11.\n",
        "---\n",
        "Q: The cafeteria had 23 apples. If they used 20 to make lunch and bought 6 more, how many apples do they have?\n",
        "A: The answer is 9.\n",
        "---\n",
        "Q: A box has 10 balls and a half of the balls are red balls. How many red balls are in the box if 4 red balls are added?\n",
        "A:\"\"\"\n",
        "\n",
        "generate_text(prompt, temperature=0)"
      ]
    },
    {
      "cell_type": "markdown",
      "metadata": {
        "id": "Uim2wOX0NuLc"
      },
      "source": [
        "### With Examples"
      ]
    },
    {
      "cell_type": "code",
      "execution_count": 28,
      "metadata": {
        "colab": {
          "base_uri": "https://localhost:8080/"
        },
        "id": "iT7mW_diOHHu",
        "outputId": "9f895612-bd76-4c21-f6a5-ae0dfe7145dd"
      },
      "outputs": [
        {
          "name": "stdout",
          "output_type": "stream",
          "text": [
            "Initially, there are 12 x 1/2 = 6 red balls in the box. After adding 4 red balls, there are 6 + 4 = 10 red balls. So, there are 10 red balls in the box."
          ]
        }
      ],
      "source": [
        "prompt=f\"\"\"Q: Roger has 5 tennis balls. He buys 2 more cans of tennis balls. Each can has 3 tennis balls. \\\n",
        "How many tennis balls does he have now?\n",
        "A: Roger started with 5 balls. 2 cans of 3 tennis balls each is 6 tennis balls. 5 + 6 = 11. \\\n",
        "The answer is 11.\n",
        "---\n",
        "Q: The cafeteria had 23 apples. If they used 20 to make lunch and bought 6 more, how many apples do they have?\n",
        "A: The cafeteria started with 23 apples. They used 20 to make lunch, so they have 23 - 20 = 3 apples. They bought 6 more apples, so they have 3 + 6 = 9 apples. \\\n",
        "The answer is 9.\n",
        "---\n",
        "Q: A box has 12 balls and a half of the balls are red balls. How many red balls are in the box if 4 red balls are added?\n",
        "A:\"\"\"\n",
        "\n",
        "generate_text(prompt, temperature=0)"
      ]
    },
    {
      "cell_type": "markdown",
      "metadata": {
        "id": "RvTwyE0J3bgw"
      },
      "source": [
        "# Format"
      ]
    },
    {
      "cell_type": "markdown",
      "metadata": {
        "id": "2jDfyweJmKc2"
      },
      "source": [
        "We can also get the model to generate responses in a certain format. Let’s look at a couple of them: markdown tables and JSON strings."
      ]
    },
    {
      "cell_type": "markdown",
      "metadata": {
        "id": "dlGb8YCS-H5H"
      },
      "source": [
        "### Table Format"
      ]
    },
    {
      "cell_type": "code",
      "execution_count": 30,
      "metadata": {
        "colab": {
          "base_uri": "https://localhost:8080/",
          "height": 106
        },
        "id": "mtFvXfOi8wfz",
        "outputId": "88fa6654-4fa3-4c60-fd0e-ed0efdd68e88"
      },
      "outputs": [
        {
          "name": "stdout",
          "output_type": "stream",
          "text": [
            "| Invoice Number | Merchant Name | Account Number |\n",
            "| --- | --- | --- |\n",
            "| INVOICE #0521 | ALLBIRDS | XXX3846 |\n",
            "| INVOICE #6781 | SHOPPERS | XXX9877 |\n",
            "| INVOICE #0777 | CN TOWER | XXX3846 |"
          ]
        }
      ],
      "source": [
        "prompt=\"\"\"Turn the following information into a table with columns Invoice Number, Merchant Name, and Account Number.\n",
        "Bank Invoice: INVOICE #0521 MERCHANT ALLBIRDS ACC XXX3846\n",
        "Bank Invoice: INVOICE #6781 MERCHANT SHOPPERS ACC XXX9877\n",
        "Bank Invoice: INVOICE #0777 MERCHANT CN TOWER ACC XXX3846\n",
        "\"\"\"\n",
        "\n",
        "generate_text(prompt, temperature=0)"
      ]
    },
    {
      "cell_type": "markdown",
      "metadata": {
        "id": "grTLFunv-KCB"
      },
      "source": [
        "### JSON Format"
      ]
    },
    {
      "cell_type": "code",
      "execution_count": 31,
      "metadata": {
        "colab": {
          "base_uri": "https://localhost:8080/",
          "height": 356
        },
        "id": "3JzPmh9E9O9F",
        "outputId": "6a1ae434-31e7-4c29-b13d-37be5aee8d9c"
      },
      "outputs": [
        {
          "name": "stdout",
          "output_type": "stream",
          "text": [
            "```json\n",
            "[\n",
            "    {\n",
            "        \"Invoice Number\": \"INVOICE #0521\",\n",
            "        \"Merchant Name\": \"ALLBIRDS\",\n",
            "        \"Account Number\": \"XXX3846\"\n",
            "    },\n",
            "    {\n",
            "        \"Invoice Number\": \"INVOICE #6781\",\n",
            "        \"Merchant Name\": \"SHOPPERS\",\n",
            "        \"Account Number\": \"XXX9877\"\n",
            "    },\n",
            "    {\n",
            "        \"Invoice Number\": \"INVOICE #0777\",\n",
            "        \"Merchant Name\": \"CN TOWER\",\n",
            "        \"Account Number\": \"XXX3846\"\n",
            "    }\n",
            "]\n",
            "```"
          ]
        }
      ],
      "source": [
        "prompt=\"\"\"Turn the following information into a JSON string with the following keys: Invoice Number, Merchant Name, and Account Number.\n",
        "Bank Invoice: INVOICE #0521 MERCHANT ALLBIRDS ACC XXX3846\n",
        "Bank Invoice: INVOICE #6781 MERCHANT SHOPPERS ACC XXX9877\n",
        "Bank Invoice: INVOICE #0777 MERCHANT CN TOWER ACC XXX3846\n",
        "\"\"\"\n",
        "\n",
        "generate_text(prompt, temperature=0)"
      ]
    },
    {
      "cell_type": "markdown",
      "metadata": {
        "id": "Df4lLD-P3aj_"
      },
      "source": [
        "# Steps"
      ]
    },
    {
      "cell_type": "markdown",
      "metadata": {
        "id": "8O7f5E0FmW7S"
      },
      "source": [
        "To steer the model toward generating higher-quality responses, it can be helpful to add instructions for the model to generate intermediate steps before generating the final output. The information generated during these steps helps enrich the model’s context before it generates the final response."
      ]
    },
    {
      "cell_type": "markdown",
      "metadata": {
        "id": "McRoWYXzxxTS"
      },
      "source": [
        "### Without Steps"
      ]
    },
    {
      "cell_type": "code",
      "execution_count": 36,
      "metadata": {
        "colab": {
          "base_uri": "https://localhost:8080/",
          "height": 463
        },
        "id": "lSnOS2kkALZj",
        "outputId": "ba85c10e-daf2-4401-995a-3307ff583478"
      },
      "outputs": [
        {
          "name": "stdout",
          "output_type": "stream",
          "text": [
            "Here's a startup idea for the education industry:\n",
            "\n",
            "**Personalized Learning Platform**\n",
            "\n",
            "The idea is to create an online platform that offers personalized learning experiences for students. The platform would use advanced algorithms and machine learning techniques to adapt to the unique needs and learning style of each student.\n",
            "\n",
            "Here's how it could work:\n",
            "\n",
            "- **Assessment:** When a student signs up, they take an initial assessment to determine their current knowledge and skill level in a particular subject. The platform also evaluates their learning preferences, such as visual, auditory, or kinesthetic learning.\n",
            "- **Personalized Curriculum:** Based on the assessment results, the platform generates a personalized curriculum for each student. This curriculum adapts as the student progresses, ensuring that the content and pace of learning are tailored to their individual needs.\n",
            "- **Interactive Content:** The platform offers a variety of interactive content types, including videos, simulations, games, and virtual reality experiences, to engage students and cater to different learning styles.\n",
            "- **Real-time Feedback:** The system provides immediate feedback to students as they complete assignments and quizzes, helping them understand their strengths and weaknesses and allowing them to adjust their learning strategies accordingly.\n",
            "- **Adaptive Practice:** The platform uses spaced repetition and adaptive learning techniques to reinforce concepts and ensure that students retain information over time.\n",
            "- **Teacher Support:** In addition to the personalized learning experience, the platform provides teachers with tools to track student progress, identify areas of improvement, and offer additional support and resources as needed.\n",
            "- **Collaborative Features:** Students can also interact with their peers through discussion forums, study groups, and collaborative projects, fostering a sense of community and allowing them to learn from each other.\n",
            "\n",
            "The key advantage of this startup idea is its ability to personalize the learning experience for each student, ensuring that they receive education tailored to their unique needs and learning style. This can lead to improved academic performance, increased engagement, and a more enjoyable learning journey.\n",
            "\n",
            "To monetize the platform, you could consider subscription models for students or schools, offering different tiers of access and support. Partnerships with educational institutions and companies that provide interactive learning content could also be explored.\n",
            "\n",
            "This startup idea leverages technology to revolutionize the way students learn, making education more effective, engaging, and accessible to all."
          ]
        }
      ],
      "source": [
        "user_input = \"education\"\n",
        "\n",
        "prompt = f\"\"\"Generate a startup idea for this industry: {user_input}\"\"\"\n",
        "\n",
        "generate_text(prompt, temperature=0.5)"
      ]
    },
    {
      "cell_type": "markdown",
      "metadata": {
        "id": "nUfEbk8-xzLi"
      },
      "source": [
        "### With Steps"
      ]
    },
    {
      "cell_type": "code",
      "execution_count": 37,
      "metadata": {
        "colab": {
          "base_uri": "https://localhost:8080/",
          "height": 392
        },
        "id": "aJ6TM2JS-gFG",
        "outputId": "2ac18a82-152d-4db2-92e5-fd9a2b6fd3e0"
      },
      "outputs": [
        {
          "name": "stdout",
          "output_type": "stream",
          "text": [
            "Industry: Education\n",
            "\n",
            "The Problem: Students often struggle to retain information and stay engaged during traditional lecture-based learning sessions. This can lead to lower academic performance and a lack of interest in the subject matter. The challenge is to make learning more interactive, immersive, and engaging to improve knowledge retention and academic outcomes.\n",
            "\n",
            "Audience: This startup idea targets two primary audiences. The first is students in middle school, high school, and college who are looking for alternative and more effective ways to learn and retain information. The second audience is educational institutions and teachers who are always seeking innovative methods to enhance their teaching practices and improve student engagement and outcomes.\n",
            "\n",
            "Startup Idea: Immersive Learning Experiences\n",
            "\n",
            "The startup idea is to create an educational platform that offers immersive and interactive learning experiences to students. The platform will utilize virtual reality (VR) and augmented reality (AR) technologies to develop interactive and engaging learning modules across various subjects.\n",
            "\n",
            "Here's how it works:\n",
            "\n",
            "- Students will be able to access the platform and choose from a range of interactive learning experiences tailored to different subjects and topics.\n",
            "- Each learning module will be designed to be highly immersive and interactive. For example, a history lesson might involve a VR reconstruction of an ancient battlefield, allowing students to explore and interact with the environment while learning about key historical events.\n",
            "- The platform will also incorporate gamification elements, such as quests, challenges, and leaderboards, to encourage student engagement and create a fun learning environment.\n",
            "- The learning experiences will be developed in collaboration with subject matter experts and educators to ensure accuracy and pedagogical effectiveness.\n",
            "- Teachers will also have the ability to customize and adapt the modules to suit the specific needs of their classrooms.\n",
            "\n",
            "By using immersive technologies and interactive storytelling, the startup will transform passive learners into active participants, greatly enhancing knowledge retention and making learning an enjoyable experience.\n",
            "\n",
            "Startup Name: ImmerseEdu"
          ]
        }
      ],
      "source": [
        "user_input = \"education\"\n",
        "\n",
        "prompt = f\"\"\"Generate a startup idea for this industry: {user_input}\n",
        "First, describe the problem to be solved.\n",
        "Next, describe the target audience of this startup idea.\n",
        "Next, describe the startup idea and how it solves the problem for the target audience.\n",
        "Next, provide a name for the given startup.\n",
        "\n",
        "Use the following format:\n",
        "Industry: <the given industry>\n",
        "The Problem: <the given problem>\n",
        "Audience: <the given target audience>\n",
        "Startup Idea: <the given idea>\n",
        "Startup Name: <the given name>\"\"\"\n",
        "\n",
        "generate_text(prompt, temperature=0.9)"
      ]
    }
  ],
  "metadata": {
    "colab": {
      "collapsed_sections": [
        "IKqOwwW6kxg5"
      ],
      "provenance": [],
      "toc_visible": true
    },
    "kernelspec": {
      "display_name": "base",
      "language": "python",
      "name": "base"
    },
    "language_info": {
      "codemirror_mode": {
        "name": "ipython",
        "version": 3
      },
      "file_extension": ".py",
      "mimetype": "text/x-python",
      "name": "python",
      "nbconvert_exporter": "python",
      "pygments_lexer": "ipython3",
      "version": "3.11.4"
    }
  },
  "nbformat": 4,
  "nbformat_minor": 0
}
