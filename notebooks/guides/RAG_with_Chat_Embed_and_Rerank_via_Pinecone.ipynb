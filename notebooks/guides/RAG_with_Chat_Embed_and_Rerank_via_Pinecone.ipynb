{
    "cells": [
        {
            "cell_type": "markdown",
            "metadata": {},
            "source": [
                "This file has been moved to https://github.com/cohere-ai/cohere-developer-experience/blob/main/notebooks/RAG_with_Chat_Embed_and_Rerank_via_Pinecone.ipynb."
            ]
        }
    ],
    "metadata": {
        "language_info": {
            "name": "python"
        }
    },
    "nbformat": 4,
    "nbformat_minor": 2
}