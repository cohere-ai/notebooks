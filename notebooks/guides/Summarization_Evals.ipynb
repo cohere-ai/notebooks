{
  "cells": [
    {
      "cell_type": "markdown",
      "metadata": {
        "id": "LplM9PSe8djM"
      },
      "source": [
        "# Summarization Evals\n",
        "\n",
        "In this cookbook, we will be demonstrating an approach we use for evaluating summarization tasks using LLM evaluation.\n",
        "\n",
        "### Table of contents:\n",
        "1. [Get started](#start)\n",
        "2. [Construct the evaluation dataset](#dataset)\n",
        "3. [Build the evaluation framework](#eval-framework)\n",
        "5. [Run evaluations](#run-evals)"
      ]
    },
    {
      "cell_type": "markdown",
      "metadata": {
        "id": "6SfEhd3O74--"
      },
      "source": [
        "<a id=\"start\"></a>\n",
        "<a name=\"start\"></a>\n",
        "## Get Started\n",
        "\n",
        "You'll need a Cohere API key to run this notebook. If you don't have a key, head to https://cohere.com/ to generate your key."
      ]
    },
    {
      "cell_type": "code",
      "execution_count": 1,
      "metadata": {
        "id": "H2TfKiPM3a6f"
      },
      "outputs": [],
      "source": [
        "# %%capture\n",
        "!pip install cohere datasets --quiet"
      ]
    },
    {
      "cell_type": "code",
      "execution_count": 2,
      "metadata": {
        "id": "J1HzGqnY74bj"
      },
      "outputs": [],
      "source": [
        "import json\n",
        "import random\n",
        "import re\n",
        "from typing import List, Optional\n",
        "\n",
        "import cohere\n",
        "from getpass import getpass\n",
        "from datasets import load_dataset\n",
        "import pandas as pd\n",
        "\n",
        "# Set up Cohere client\n",
        "co_api_key = getpass(\"Enter your Cohere API key: \")\n",
        "co_model = \"command-r\"\n",
        "co = cohere.Client(api_key=co_api_key)"
      ]
    },
    {
      "cell_type": "markdown",
      "metadata": {
        "id": "dEN21GS913wo"
      },
      "source": [
        "As test data, we'll use transcripts from the [QMSum dataset](https://github.com/Yale-LILY/QMSum). Note that in addition to the transcripts, this dataset also contains reference summaries -- we will use only the transcripts as our approach is reference-free."
      ]
    },
    {
      "cell_type": "code",
      "execution_count": 3,
      "metadata": {
        "id": "1JfU70r113wo"
      },
      "outputs": [
        {
          "data": {
            "application/vnd.jupyter.widget-view+json": {
              "model_id": "97a7a77756614778a3d9af18eb0a7d5e",
              "version_major": 2,
              "version_minor": 0
            },
            "text/plain": [
              "Generating train split:   0%|          | 0/1095 [00:00<?, ? examples/s]"
            ]
          },
          "metadata": {},
          "output_type": "display_data"
        },
        {
          "data": {
            "application/vnd.jupyter.widget-view+json": {
              "model_id": "9049a017cbe84f51a68537727680c183",
              "version_major": 2,
              "version_minor": 0
            },
            "text/plain": [
              "Generating validation split:   0%|          | 0/237 [00:00<?, ? examples/s]"
            ]
          },
          "metadata": {},
          "output_type": "display_data"
        },
        {
          "data": {
            "application/vnd.jupyter.widget-view+json": {
              "model_id": "d5a2863509b34d8db728e63157ed89a8",
              "version_major": 2,
              "version_minor": 0
            },
            "text/plain": [
              "Generating test split:   0%|          | 0/244 [00:00<?, ? examples/s]"
            ]
          },
          "metadata": {},
          "output_type": "display_data"
        }
      ],
      "source": [
        "qmsum = load_dataset(\"MocktaiLEngineer/qmsum-processed\", split=\"validation\")\n",
        "transcripts = [x for x in qmsum[\"meeting_transcript\"] if x is not None]"
      ]
    },
    {
      "cell_type": "markdown",
      "metadata": {
        "id": "3U58iKz213wo"
      },
      "source": [
        "<a id=\"dataset\"></a>\n",
        "<a name=\"dataset\"></a>\n",
        "## Construct the evaluation dataset\n",
        "\n",
        "We are interested in evaluating summarization in real-world, enterprise use cases, which typically have two distinguishing features as compared to academic summarization benchmarks:\n",
        "- Enterprise use cases often focus on specific summarization objectives, e.g. \"summarize action items\".\n",
        "- Enterprise use cases often feature specific instruction constraints, e.g. \"summarize in bullets with each bullet under 20 words\".\n",
        "\n",
        "Therefore, we must first create a dataset that contains diverse summarization prompts. We will do this programmatically by building prompts from their components, as defined below:\n",
        "- Prompt = text (e.g. transcript to be summarized) + instruction\n",
        "- Instruction = instruction objective (e.g. \"summarize action items\") + modifiers\n",
        "- Modifiers = format/length modifiers (e.g. \"use bullets\") + style/tone modifiers (e.g. \"do not mention names\") + ...\n",
        "\n",
        "First, we define the prompt that combines the text and instructions. Here, we use a very basic prompt:"
      ]
    },
    {
      "cell_type": "code",
      "execution_count": 5,
      "metadata": {
        "id": "2Bj2I0If13wp"
      },
      "outputs": [],
      "source": [
        "prompt_template = \"\"\"## meeting transcript\n",
        "{transcript}\n",
        "\n",
        "## instructions\n",
        "{instructions}\"\"\""
      ]
    },
    {
      "cell_type": "markdown",
      "metadata": {
        "id": "vc33XZLL13wp"
      },
      "source": [
        "Next, we build the instructions. Because each instruction may have a different objective and modifiers, we track them using metadata. This will later be required for evaluation (i.e. to know what the prompt is asking)."
      ]
    },
    {
      "cell_type": "code",
      "execution_count": 6,
      "metadata": {
        "id": "4uMI5VXm13wp"
      },
      "outputs": [],
      "source": [
        "# In this cookbook, we will only consider the following 2 objectives and 4 format/length modifiers\n",
        "\n",
        "instruction_objectives = {\n",
        "    \"general_summarization\": \"Summarize the meeting based on the transcript.\",\n",
        "    \"action_items\": \"What are the follow-up items based on the meeting transcript?\",\n",
        "}\n",
        "\n",
        "# Note that not all format/length modifiers are compatible with all objectives. For example, action\n",
        "# items are best suited for bullet format.\n",
        "format_length_modifiers = {\n",
        "    \"paragraphs_short\": {\n",
        "        \"text\": \"In paragraph form, output your response. Use at least 10 words and at most 50 words in total.\",\n",
        "        \"objectives\": [\"general_summarization\"],\n",
        "        \"eval_metadata\": {\n",
        "            \"format\": \"paragraphs\",\n",
        "            \"min_length\": 10,\n",
        "            \"max_length\": 50,\n",
        "        },\n",
        "    },\n",
        "    \"paragraphs_medium\": {\n",
        "        \"text\": \"Return the answer in the form of paragraphs. Make sure your answer is between 50 and 200 words long.\",\n",
        "        \"objectives\": [\"general_summarization\"],\n",
        "        \"eval_metadata\": {\n",
        "            \"format\": \"paragraphs\",\n",
        "            \"min_length\": 50,\n",
        "            \"max_length\": 200,\n",
        "        },\n",
        "    },\n",
        "    \"bullets_short_3\": {\n",
        "        \"text\": \"Format your answer in the form of bullets. Use exactly 3 bullets. Each bullet should be at least 10 words and at most 20 words.\",\n",
        "        \"objectives\": [\"general_summarization\", \"action_items\"],\n",
        "        \"eval_metadata\": {\n",
        "            \"format\": \"bullets\",\n",
        "            \"number\": 3,\n",
        "            \"min_length\": 10,\n",
        "            \"max_length\": 20,\n",
        "        },\n",
        "    },\n",
        "    \"bullets_medium_2\": {\n",
        "        \"text\": \"In bullets, output your response. Make sure to use exactly 2 bullets. Make sure each bullet is between 20 and 80 words long.\",\n",
        "        \"objectives\": [\"general_summarization\", \"action_items\"],\n",
        "        \"eval_metadata\": {\n",
        "            \"format\": \"bullets\",\n",
        "            \"number\": 2,\n",
        "            \"min_length\": 20,\n",
        "            \"max_length\": 80,\n",
        "        },\n",
        "    },\n",
        "}"
      ]
    },
    {
      "cell_type": "markdown",
      "metadata": {
        "id": "u0dqBqxO13wq"
      },
      "source": [
        "Let's combine the objectives and format/length modifiers to finish building the instructions."
      ]
    },
    {
      "cell_type": "code",
      "execution_count": 7,
      "metadata": {
        "colab": {
          "base_uri": "https://localhost:8080/"
        },
        "id": "qMTxDOL713wq",
        "outputId": "e854d1bf-0ea7-41cd-b385-98294d19472e"
      },
      "outputs": [
        {
          "name": "stdout",
          "output_type": "stream",
          "text": [
            "[\n",
            "    {\n",
            "        \"instruction\": \"Summarize the meeting based on the transcript. In paragraph form, output your response. Use at least 10 words and at most 50 words in total.\",\n",
            "        \"eval_metadata\": {\n",
            "            \"format\": \"paragraphs\",\n",
            "            \"min_length\": 10,\n",
            "            \"max_length\": 50\n",
            "        },\n",
            "        \"objective\": \"general_summarization\"\n",
            "    },\n",
            "    {\n",
            "        \"instruction\": \"Summarize the meeting based on the transcript. Return the answer in the form of paragraphs. Make sure your answer is between 50 and 200 words long.\",\n",
            "        \"eval_metadata\": {\n",
            "            \"format\": \"paragraphs\",\n",
            "            \"min_length\": 50,\n",
            "            \"max_length\": 200\n",
            "        },\n",
            "        \"objective\": \"general_summarization\"\n",
            "    }\n",
            "]\n"
          ]
        }
      ],
      "source": [
        "instructions = []\n",
        "for obj_name, obj_text in instruction_objectives.items():\n",
        "    for mod_data in format_length_modifiers.values():\n",
        "        for mod_obj in mod_data[\"objectives\"]:\n",
        "            if mod_obj == obj_name:\n",
        "                instruction = {\n",
        "                        \"instruction\": f\"{obj_text} {mod_data['text']}\",\n",
        "                        \"eval_metadata\": mod_data[\"eval_metadata\"],\n",
        "                        \"objective\": obj_name,\n",
        "                    }\n",
        "                instructions.append(instruction)\n",
        "\n",
        "# View the first two instructions\n",
        "print(json.dumps(instructions[:2], indent=4))"
      ]
    },
    {
      "cell_type": "markdown",
      "metadata": {
        "id": "1MeNfW-m13wr"
      },
      "source": [
        "Finally, let's build the final prompts by semi-randomly pairing the instructions with transcripts from the QMSum dataset."
      ]
    },
    {
      "cell_type": "code",
      "execution_count": 8,
      "metadata": {
        "id": "LYTMTFAm13wr"
      },
      "outputs": [],
      "source": [
        "data = pd.DataFrame(instructions)\n",
        "\n",
        "# Randomly shuffle the top 25% of transcripts by length, then assign them to the data\n",
        "transcripts = sorted(transcripts, key=lambda x: len(x), reverse=True)[:int(len(transcripts) * 0.25)]\n",
        "random.seed(42)\n",
        "random.shuffle(transcripts)\n",
        "data[\"transcript\"] = transcripts[:len(data)]\n",
        "\n",
        "# Build the prompt\n",
        "data[\"prompt\"] = data.apply(lambda x: prompt_template.format(transcript=x[\"transcript\"], instructions=x[\"instruction\"]), axis=1)"
      ]
    },
    {
      "cell_type": "code",
      "execution_count": 9,
      "metadata": {
        "id": "igP0-oHN13wr"
      },
      "outputs": [],
      "source": [
        "# (Optional) Let's also check the token lengths of our prompts.\n",
        "data[\"transcript_token_len\"] = [len(x) for x in co.batch_tokenize(data[\"transcript\"].tolist(), model=co_model)]"
      ]
    },
    {
      "cell_type": "code",
      "execution_count": 10,
      "metadata": {
        "colab": {
          "base_uri": "https://localhost:8080/"
        },
        "id": "CbPVxiuV13wr",
        "outputId": "bc9e9cf6-31c0-4404-f43f-fdfb5679cd56"
      },
      "outputs": [
        {
          "name": "stdout",
          "output_type": "stream",
          "text": [
            "## meeting transcript\n",
            "PhD F: As opposed to the rest of us \n",
            "PhD D: Well comment OK I I remind that me my first objective eh in the project is to to study difference parameters to to find a a good solution to detect eh the overlapping zone in eh speech recorded But eh tsk comment ehhh comment In that way comment I I I begin to to study and to analyze the ehn the recorded speech eh the different session to to find and to locate and to mark eh the the different overlapping zone And eh so eh I was eh I am transcribing the the first session and I I have found eh eh one thousand acoustic events eh besides the overlapping zones eh I I I mean the eh breaths eh aspiration eh eh talk eh eh clap eh comment I do not know what is the different names eh you use to to name the the pause n speech \n",
            "Grad G: Oh I do not think we ve been doing it at that level of detail So \n",
            "PhD D: Eh I I I do I do not need to to to mmm to m to label the the different acoustic but I prefer because eh I would like to to study if eh I I will find eh eh a good eh parameters eh to detect overlapping I would like to to to test these parameters eh with the another eh eh acoustic events to nnn to eh to find what is the ehm the false eh the false eh hypothesis eh nnn which eh are produced when we use the the ehm this eh parameter eh I mean pitch eh eh difference eh feature \n",
            "PhD A: You know I think some of these that are the nonspeech overlapping events may be difficult even for humans to tell that there s two there I mean if it s a tapping sound you would not necessarily or you know something like that it would be it might be hard to know that it was two separate events \n",
            "Grad G: Well You were not talking about just overlaps were you ? You were just talking about acoustic events \n",
            "PhD D: I I I I t I t I talk eh about eh acoustic events in general but eh my my objective eh will be eh to study eh overlapping zone Eh ? comment n Eh in twelve minutes I found eh eh one thousand acoustic events \n",
            "Professor E: How many overlaps were there in it ? No no how many of them were the overlaps of speech though ? \n",
            "PhD D: How many ? Eh almost eh three hundred eh in one session in five eh in forty five minutes Alm Three hundred overlapping zone With the overlapping zone overlapping speech speech what eh different duration \n",
            "Postdoc B: Does this ? So if you had an overlap involving three people how many times was that counted ? \n",
            "PhD D: three people two people Eh I would like to consider eh one people with difference noise eh in the background be \n",
            "Professor E: No no but I think what she s asking is pause if at some particular for some particular stretch you had three people talking instead of two did you call that one event ? \n",
            "PhD D: Oh Oh I consider one event eh for th for that eh for all the zone This th I I I con I consider I consider eh an acoustic event the overlapping zone the period where three speaker or eh are talking together \n",
            "Grad G: So let s say me and Jane are talking at the same time and then Liz starts talking also over all of us How many events would that be ? \n",
            "PhD D: So I do not understand \n",
            "Grad G: So two people are talking comment and then a third person starts talking Is there an event right here ? \n",
            "PhD D: Eh no No no For me is the overlapping zone because because you you have s you have more one eh more one voice eh eh produced in a in in a moment \n",
            "Grad G: So i if two or more people are talking \n",
            "Professor E: OK So I think We just wanted to understand how you are defining it So then in the region between since there there is some continuous region in between regions where there is only one person speaking And one contiguous region like that you are calling an event Is it Are you calling the beginning or the end of it the event or are you calling the entire length of it the event ? \n",
            "PhD D: I consider the the nnn the nnn nnn eh the entirety eh eh all all the time there were the voice has overlapped This is the idea But eh I I do not distinguish between the the numbers of eh speaker I m not considering eh the the ehm eh the fact of eh eh for example what did you say ? Eh at first eh eh two talkers are eh speaking and eh eh a third person eh join to to that For me it s eh it s eh all overlap zone with eh several numbers of speakers is eh eh the same acoustic event Wi but without any mark between the zone of the overlapping zone with two speakers eh speaking together and the zone with the three speakers \n",
            "Postdoc B: That would j just be one \n",
            "PhD D: Eh with eh a beginning mark and the ending mark Because eh for me is the is the zone with eh some kind of eh distortion the spectral I do not mind By the moment by the moment \n",
            "Grad G: Well but But you could imagine that three people talking has a different spectral characteristic than two \n",
            "PhD D: I I do not but eh but eh I have to study comment What will happen in a general way \n",
            "Grad G: So You had to start somewhere \n",
            "PhD C: So there s a lot of overlap \n",
            "PhD D: I I do not know what eh will will happen with the \n",
            "Grad G: That s a lot of overlap \n",
            "Professor E: So again that s that s three three hundred in forty five minutes that are that are speakers just speakers \n",
            "Postdoc B: But a a a th \n",
            "Professor E: So that s about eight per minute \n",
            "Postdoc B: But a thousand events in twelve minutes that s \n",
            "PhD C: But that can include taps \n",
            "Postdoc B: Well but a thousand taps in eight minutes is a l in twelve minutes is a lot \n",
            "PhD D: I I con I consider I consider acoustic events eh the silent too \n",
            "Grad G: Silence starting or silence ending \n",
            "PhD D: silent ground to bec to detect eh because I consider acoustic event all the things are not eh speech In ge in in in a general point of view \n",
            "Professor E: OK so how many of those thousand were silence ? \n",
            "PhD F: Not speech not speech or too much speech \n",
            "Professor E: Right So how many of those thousand were silence silent sections ? \n",
            "PhD D: silent I I I I do not I I have not the eh I I would like to to do a stylistic study\n",
            "\n",
            "## instructions\n",
            "Summarize the meeting based on the transcript. In paragraph form, output your response. Use at least 10 words and at most 50 words in total.\n"
          ]
        }
      ],
      "source": [
        "# Let's examine one of the prompts\n",
        "print(data[\"prompt\"][0])"
      ]
    },
    {
      "cell_type": "markdown",
      "metadata": {
        "id": "tDamVDyP13wr"
      },
      "source": [
        "<a id=\"eval-framework\"></a>\n",
        "<a name=\"eval-framework\"></a>\n",
        "## Build the evaluation framework\n",
        "\n",
        "We now setup the tools we will use for evaluation.\n",
        "\n",
        "We use three criteria that are graded using LLMs:\n",
        "- Completeness: checks if the summary includes all the important information from the original text that it should include\n",
        "- Correctness: checks if there are any hallucinations or factual inaccuracies in the summary\n",
        "- Conciseness: checks if the summary includes any unnecessary information or wordiness\n",
        "\n",
        "In this cookbook, we will use Command-R to grade the completions. However, note that in practice, we typically use an ensemble of multiple LLM evaluators to reduce any bias."
      ]
    },
    {
      "cell_type": "code",
      "execution_count": 12,
      "metadata": {
        "id": "KGQQp2Yd13wr"
      },
      "outputs": [],
      "source": [
        "# LLM evaluation uses an LLM to grade the completion. We pass the original prompt, completion, and a\n",
        "# criteria to the LLM, and it returns a score between 1 and 5. We will use the following template as\n",
        "# the grading prompt.\n",
        "\n",
        "grading_prompt_template = \"\"\"You are an AI grader that given a prompt, a completion, and a criterion, grades the completion based on the prompt and criterion. Below is a prompt, a completion, and a criterion with which to grade the completion. You need to respond according to the criterion instructions.\n",
        "\n",
        "PROMPT:\n",
        "{prompt}\n",
        "\n",
        "COMPLETION:\n",
        "{completion}\n",
        "\n",
        "CRITERION:\n",
        "{criteria}\n",
        "\n",
        "Do not provide an explanation or respond with additional text. Only respond with the final score in the format SCORE: <final_score>\n",
        "\n",
        "SCORE:\"\"\"\n",
        "\n",
        "\n",
        "criteria_completeness = \"\"\"Please judge the above completion on whether or not all the completion fully addresses the task posed in the prompt. The completion should contain all the information that is asked for by the prompt while also upholding the constraints mentioned in the prompt. Please return a grade between 1 and 5, where 1 means the completion does not address the prompt at all, 2 means the completion mostly does not address the prompt, 3 is neutral, 4 means the completion mostly addresses the prompt, and 5 means the completion fully addresses the prompt.\"\"\"\n",
        "\n",
        "criteria_correctness = \"\"\"Please judge the above completion on whether or not all information was derived from the prompt and that no information is false. Return a grade between 1 and 5, where 1 means the answers are entirely untruthful relative to the prompt, 2 means the answers are somewhat untruthful relative to the prompt, 3 means neutral, 4 means the answers are somewhat truthful relative to the prompt, and 5 means the answers are entirely truthful relative to the prompt. Evaluate only the truthfulness of the answers, not whether or not they capture all the relevant information in the prompt.\"\"\"\n",
        "\n",
        "criteria_conciseness = \"\"\"Please judge the above completion on whether or not the completion contains any unnecessary information or wordiness that does not help answer the specific instruction given in the prompt. Return a grade between 1 and 5, where 1 means the completion contains many unnecessary details and wordiness that do not answer the specific instruction given in the prompt, 2 means the completion contains some unnecessary details or wordiness, 3 means neutral, 4 means the completion contains few unnecessary details or wordiness, and 5 means the completion contains only necessary details that answer the specific instruction given in the prompt.\"\"\"\n",
        "\n",
        "\n",
        "def score_llm(prompt: str, completion: str, criteria: str) -> int:\n",
        "    \"\"\"\n",
        "    Score a completion based on a prompt and a criterion using LLM Because we\n",
        "    grade all completions on a scale of 1-5, we will normalize the scores by 5 so that the final score\n",
        "    is between 0 and 1.\n",
        "    \"\"\"\n",
        "    grading_prompt = grading_prompt_template.format(\n",
        "        prompt=prompt, completion=completion, criteria=criteria\n",
        "    )\n",
        "    # Use Cohere to grade the completion\n",
        "    completion = co.chat(message=grading_prompt, model=co_model, temperature=0.2).text\n",
        "\n",
        "    ### Alternatively, use OpenAI to grade the completion (requires key)\n",
        "    # import openai\n",
        "    # completion = openai.OpenAI(api_key=\"INSERT OPENAI KEY HERE\").chat.completions.create(\n",
        "    #     model=\"gpt-4\",\n",
        "    #     messages=[{\"role\": \"user\", \"content\": grading_prompt}],\n",
        "    #     temperature=0.2,\n",
        "    # ).choices[0].message.content\n",
        "\n",
        "    # Extract the score from the completion\n",
        "    score = float(re.search(r\"[12345]\", completion).group()) / 5\n",
        "    return score"
      ]
    },
    {
      "cell_type": "markdown",
      "metadata": {
        "id": "22dEEsXt13wr"
      },
      "source": [
        "In addition, we have two criteria that are graded programmatically:\n",
        "- Format: checks if the summary follows the format (e.g. bullets) that was requested in the prompt\n",
        "- Length: checks if the summary follows the length that was requested in the prompt."
      ]
    },
    {
      "cell_type": "code",
      "execution_count": 13,
      "metadata": {
        "id": "i1niSoI-13wr"
      },
      "outputs": [],
      "source": [
        "# Non-LLM checks\n",
        "\n",
        "def score_format(completion: str, format_type: str) -> int:\n",
        "    \"\"\"\n",
        "    Returns 1 if the completion is in the correct format, 0 otherwise.\n",
        "    \"\"\"\n",
        "    if format_type == \"paragraphs\":\n",
        "        return int(_is_only_paragraphs(completion))\n",
        "    elif format_type == \"bullets\":\n",
        "        return int(_is_only_bullets(completion))\n",
        "    return 0\n",
        "\n",
        "def score_length(\n",
        "    completion: str,\n",
        "    format_type: str,\n",
        "    min_val: int,\n",
        "    max_val: int,\n",
        "    number: Optional[int] = None\n",
        ") -> int:\n",
        "    \"\"\"\n",
        "    Returns 1 if the completion has the correct length for the given format, 0 otherwise. This\n",
        "    includes both word count and number of items (optional).\n",
        "    \"\"\"\n",
        "    # Split into items (each bullet for bullets or each paragraph for paragraphs)\n",
        "    if format_type == \"bullets\":\n",
        "        items = _extract_markdown_bullets(completion, include_bullet=False)\n",
        "    elif format_type == \"paragraphs\":\n",
        "        items = completion.split(\"\\n\")\n",
        "\n",
        "    # Strip whitespace and remove empty items\n",
        "    items = [item for item in items if item.strip() != \"\"]\n",
        "\n",
        "    # Check number of items if provided\n",
        "    if number is not None and len(items) != number:\n",
        "        return 0\n",
        "\n",
        "    # Check length of each item\n",
        "    for item in items:\n",
        "        num_words = item.strip().split()\n",
        "        if min_val is None and len(num_words) > max_val:\n",
        "            return 0\n",
        "        elif max_val is None and len(num_words) < min_val:\n",
        "            return 0\n",
        "        elif not min_val <= len(num_words) <= max_val:\n",
        "            return 0\n",
        "    return 1\n",
        "\n",
        "\n",
        "def _is_only_bullets(text: str) -> bool:\n",
        "    \"\"\"\n",
        "    Returns True if text is only markdown bullets.\n",
        "    \"\"\"\n",
        "    bullets = _extract_markdown_bullets(text, include_bullet=True)\n",
        "\n",
        "    for bullet in bullets:\n",
        "        text = text.replace(bullet, \"\")\n",
        "\n",
        "    return text.strip() == \"\"\n",
        "\n",
        "\n",
        "def _is_only_paragraphs(text: str) -> bool:\n",
        "    \"\"\"\n",
        "    Returns True if text is only paragraphs (no bullets).\n",
        "    \"\"\"\n",
        "    bullets = _extract_markdown_bullets(text, include_bullet=True)\n",
        "\n",
        "    return len(bullets) == 0\n",
        "\n",
        "\n",
        "def _extract_markdown_bullets(text: str, include_bullet: bool = False) -> List[str]:\n",
        "    \"\"\"\n",
        "    Extracts markdown bullets from text as a list. If include_bullet is True, the bullet will be\n",
        "    included in the output. The list of accepted bullets is: -, *, +, •, and any number followed by\n",
        "    a period.\n",
        "    \"\"\"\n",
        "    if include_bullet:\n",
        "        return re.findall(r\"^[ \\t]*(?:[-*+•]|[\\d]+\\.).*\\w+.*$\", text, flags=re.MULTILINE)\n",
        "    return re.findall(r\"^[ \\t]*(?:[-*+•]|[\\d]+\\.)(.*\\w+.*)$\", text, flags=re.MULTILINE)\n"
      ]
    },
    {
      "cell_type": "markdown",
      "metadata": {
        "id": "kBpk-GTe13ws"
      },
      "source": [
        "<a id=\"run-evals\"></a>\n",
        "<a name=\"run-evals\"></a>\n",
        "## Run evaluations\n",
        "\n",
        "Now that we have our evaluation dataset and defined our evaluation functions, let's run evaluations!\n",
        "\n",
        "First, we generate completions to be graded. We will use Cohere's [Command-R](https://huggingface.co/CohereForAI/c4ai-command-r-v01) model, boasting a context length of 128K."
      ]
    },
    {
      "cell_type": "code",
      "execution_count": 14,
      "metadata": {
        "id": "HzbOQmWE13ws"
      },
      "outputs": [],
      "source": [
        "completions = []\n",
        "for prompt in data[\"prompt\"]:\n",
        "    completion = co.chat(message=prompt, model=\"command-r\", temperature=0.2).text\n",
        "    completions.append(completion)\n",
        "\n",
        "data[\"completion\"] = completions"
      ]
    },
    {
      "cell_type": "code",
      "execution_count": 15,
      "metadata": {
        "colab": {
          "base_uri": "https://localhost:8080/"
        },
        "id": "JbVA8_Xr13ws",
        "outputId": "cebab3f2-4b02-4044-978e-3ae3ae2efa2d"
      },
      "outputs": [
        {
          "name": "stdout",
          "output_type": "stream",
          "text": [
            "PhD D is transcribing recorded sessions to locate overlapping speech zones and categorizing them as acoustic events. The team discusses the parameters PhD D should use and how to define these events, considering the number of speakers and silence.\n"
          ]
        }
      ],
      "source": [
        "# Let's look at the completion for the example prompt we showed earlier\n",
        "print(data[\"completion\"][0])"
      ]
    },
    {
      "cell_type": "markdown",
      "metadata": {
        "id": "6fWjuruK13ws"
      },
      "source": [
        "Let's grade the completions using our LLM and non-LLM checks."
      ]
    },
    {
      "cell_type": "code",
      "execution_count": 16,
      "metadata": {
        "id": "6XesZHCN13ws"
      },
      "outputs": [],
      "source": [
        "# Score format\n",
        "data[\"format_score\"] = data.apply(\n",
        "    lambda x: score_format(x[\"completion\"], x[\"eval_metadata\"][\"format\"]), axis=1\n",
        ")\n",
        "\n",
        "# Score length\n",
        "data[\"length_score\"] = data.apply(\n",
        "    lambda x: score_length(\n",
        "        x[\"completion\"],\n",
        "        x[\"eval_metadata\"][\"format\"],\n",
        "        x[\"eval_metadata\"].get(\"min_length\"),\n",
        "        x[\"eval_metadata\"].get(\"max_length\"),\n",
        "    ),\n",
        "    axis=1,\n",
        ")\n",
        "\n",
        "# Score completeness\n",
        "data[\"completeness_score\"] = data.apply(\n",
        "    lambda x: score_llm(x[\"prompt\"], x[\"completion\"], criteria_completeness), axis=1\n",
        ")\n",
        "\n",
        "# Score correctness\n",
        "data[\"correctness_score\"] = data.apply(\n",
        "    lambda x: score_llm(x[\"prompt\"], x[\"completion\"], criteria_correctness), axis=1\n",
        ")\n",
        "\n",
        "# Score conciseness\n",
        "data[\"conciseness_score\"] = data.apply(\n",
        "    lambda x: score_llm(x[\"prompt\"], x[\"completion\"], criteria_conciseness), axis=1\n",
        ")"
      ]
    },
    {
      "cell_type": "code",
      "execution_count": 25,
      "metadata": {
        "colab": {
          "base_uri": "https://localhost:8080/",
          "height": 657
        },
        "id": "4gJypAVI13ws",
        "outputId": "67aae9c3-02eb-4a1f-efcb-ba6c4781d18c"
      },
      "outputs": [
        {
          "data": {
            "text/html": [
              "<div>\n",
              "<style scoped>\n",
              "    .dataframe tbody tr th:only-of-type {\n",
              "        vertical-align: middle;\n",
              "    }\n",
              "\n",
              "    .dataframe tbody tr th {\n",
              "        vertical-align: top;\n",
              "    }\n",
              "\n",
              "    .dataframe thead th {\n",
              "        text-align: right;\n",
              "    }\n",
              "</style>\n",
              "<table border=\"1\" class=\"dataframe\">\n",
              "  <thead>\n",
              "    <tr style=\"text-align: right;\">\n",
              "      <th></th>\n",
              "      <th>instruction</th>\n",
              "      <th>eval_metadata</th>\n",
              "      <th>objective</th>\n",
              "      <th>transcript</th>\n",
              "      <th>prompt</th>\n",
              "      <th>transcript_token_len</th>\n",
              "      <th>completion</th>\n",
              "      <th>format_score</th>\n",
              "      <th>length_score</th>\n",
              "      <th>completeness_score</th>\n",
              "      <th>correctness_score</th>\n",
              "      <th>conciseness_score</th>\n",
              "    </tr>\n",
              "  </thead>\n",
              "  <tbody>\n",
              "    <tr>\n",
              "      <th>0</th>\n",
              "      <td>Summarize the meeting based on the transcript....</td>\n",
              "      <td>{'format': 'paragraphs', 'min_length': 10, 'ma...</td>\n",
              "      <td>general_summarization</td>\n",
              "      <td>PhD F: As opposed to the rest of us \\nPhD D: W...</td>\n",
              "      <td>## meeting transcript\\nPhD F: As opposed to th...</td>\n",
              "      <td>1378</td>\n",
              "      <td>PhD D is transcribing recorded sessions to loc...</td>\n",
              "      <td>1</td>\n",
              "      <td>1</td>\n",
              "      <td>0.8</td>\n",
              "      <td>1.0</td>\n",
              "      <td>0.8</td>\n",
              "    </tr>\n",
              "    <tr>\n",
              "      <th>1</th>\n",
              "      <td>Summarize the meeting based on the transcript....</td>\n",
              "      <td>{'format': 'paragraphs', 'min_length': 50, 'ma...</td>\n",
              "      <td>general_summarization</td>\n",
              "      <td>Lynne Neagle AM: Thank you very much And the n...</td>\n",
              "      <td>## meeting transcript\\nLynne Neagle AM: Thank ...</td>\n",
              "      <td>1649</td>\n",
              "      <td>The discussion focused on the impact of COVID1...</td>\n",
              "      <td>1</td>\n",
              "      <td>1</td>\n",
              "      <td>0.8</td>\n",
              "      <td>1.0</td>\n",
              "      <td>0.8</td>\n",
              "    </tr>\n",
              "    <tr>\n",
              "      <th>2</th>\n",
              "      <td>Summarize the meeting based on the transcript....</td>\n",
              "      <td>{'format': 'bullets', 'number': 3, 'min_length...</td>\n",
              "      <td>general_summarization</td>\n",
              "      <td>Industrial Designer: Yep So we are to mainly d...</td>\n",
              "      <td>## meeting transcript\\nIndustrial Designer: Ye...</td>\n",
              "      <td>1100</td>\n",
              "      <td>- The team is designing a remote control with ...</td>\n",
              "      <td>1</td>\n",
              "      <td>0</td>\n",
              "      <td>0.8</td>\n",
              "      <td>1.0</td>\n",
              "      <td>0.8</td>\n",
              "    </tr>\n",
              "    <tr>\n",
              "      <th>3</th>\n",
              "      <td>Summarize the meeting based on the transcript....</td>\n",
              "      <td>{'format': 'bullets', 'number': 2, 'min_length...</td>\n",
              "      <td>general_summarization</td>\n",
              "      <td>Industrial Designer: Mm I think one of the ver...</td>\n",
              "      <td>## meeting transcript\\nIndustrial Designer: Mm...</td>\n",
              "      <td>2618</td>\n",
              "      <td>- The team discusses the target demographic fo...</td>\n",
              "      <td>1</td>\n",
              "      <td>1</td>\n",
              "      <td>0.8</td>\n",
              "      <td>1.0</td>\n",
              "      <td>0.8</td>\n",
              "    </tr>\n",
              "    <tr>\n",
              "      <th>4</th>\n",
              "      <td>What are the follow-up items based on the meet...</td>\n",
              "      <td>{'format': 'bullets', 'number': 3, 'min_length...</td>\n",
              "      <td>action_items</td>\n",
              "      <td>Marketing: so a lot of people have to be able ...</td>\n",
              "      <td>## meeting transcript\\nMarketing: so a lot of ...</td>\n",
              "      <td>2286</td>\n",
              "      <td>- Investigate how the remote will interact wit...</td>\n",
              "      <td>1</td>\n",
              "      <td>1</td>\n",
              "      <td>0.8</td>\n",
              "      <td>1.0</td>\n",
              "      <td>0.8</td>\n",
              "    </tr>\n",
              "    <tr>\n",
              "      <th>5</th>\n",
              "      <td>What are the follow-up items based on the meet...</td>\n",
              "      <td>{'format': 'bullets', 'number': 2, 'min_length...</td>\n",
              "      <td>action_items</td>\n",
              "      <td>Project Manager: Alright So finance And we wil...</td>\n",
              "      <td>## meeting transcript\\nProject Manager: Alrigh...</td>\n",
              "      <td>1965</td>\n",
              "      <td>- The project manager will send the updated de...</td>\n",
              "      <td>1</td>\n",
              "      <td>1</td>\n",
              "      <td>0.8</td>\n",
              "      <td>1.0</td>\n",
              "      <td>0.8</td>\n",
              "    </tr>\n",
              "  </tbody>\n",
              "</table>\n",
              "</div>"
            ],
            "text/plain": [
              "                                         instruction  \\\n",
              "0  Summarize the meeting based on the transcript....   \n",
              "1  Summarize the meeting based on the transcript....   \n",
              "2  Summarize the meeting based on the transcript....   \n",
              "3  Summarize the meeting based on the transcript....   \n",
              "4  What are the follow-up items based on the meet...   \n",
              "5  What are the follow-up items based on the meet...   \n",
              "\n",
              "                                       eval_metadata              objective  \\\n",
              "0  {'format': 'paragraphs', 'min_length': 10, 'ma...  general_summarization   \n",
              "1  {'format': 'paragraphs', 'min_length': 50, 'ma...  general_summarization   \n",
              "2  {'format': 'bullets', 'number': 3, 'min_length...  general_summarization   \n",
              "3  {'format': 'bullets', 'number': 2, 'min_length...  general_summarization   \n",
              "4  {'format': 'bullets', 'number': 3, 'min_length...           action_items   \n",
              "5  {'format': 'bullets', 'number': 2, 'min_length...           action_items   \n",
              "\n",
              "                                          transcript  \\\n",
              "0  PhD F: As opposed to the rest of us \\nPhD D: W...   \n",
              "1  Lynne Neagle AM: Thank you very much And the n...   \n",
              "2  Industrial Designer: Yep So we are to mainly d...   \n",
              "3  Industrial Designer: Mm I think one of the ver...   \n",
              "4  Marketing: so a lot of people have to be able ...   \n",
              "5  Project Manager: Alright So finance And we wil...   \n",
              "\n",
              "                                              prompt  transcript_token_len  \\\n",
              "0  ## meeting transcript\\nPhD F: As opposed to th...                  1378   \n",
              "1  ## meeting transcript\\nLynne Neagle AM: Thank ...                  1649   \n",
              "2  ## meeting transcript\\nIndustrial Designer: Ye...                  1100   \n",
              "3  ## meeting transcript\\nIndustrial Designer: Mm...                  2618   \n",
              "4  ## meeting transcript\\nMarketing: so a lot of ...                  2286   \n",
              "5  ## meeting transcript\\nProject Manager: Alrigh...                  1965   \n",
              "\n",
              "                                          completion  format_score  \\\n",
              "0  PhD D is transcribing recorded sessions to loc...             1   \n",
              "1  The discussion focused on the impact of COVID1...             1   \n",
              "2  - The team is designing a remote control with ...             1   \n",
              "3  - The team discusses the target demographic fo...             1   \n",
              "4  - Investigate how the remote will interact wit...             1   \n",
              "5  - The project manager will send the updated de...             1   \n",
              "\n",
              "   length_score  completeness_score  correctness_score  conciseness_score  \n",
              "0             1                 0.8                1.0                0.8  \n",
              "1             1                 0.8                1.0                0.8  \n",
              "2             0                 0.8                1.0                0.8  \n",
              "3             1                 0.8                1.0                0.8  \n",
              "4             1                 0.8                1.0                0.8  \n",
              "5             1                 0.8                1.0                0.8  "
            ]
          },
          "execution_count": 25,
          "metadata": {},
          "output_type": "execute_result"
        }
      ],
      "source": [
        "# Let's examine the final evaluation results\n",
        "data"
      ]
    },
    {
      "cell_type": "markdown",
      "metadata": {
        "id": "9bOUjcce13ws"
      },
      "source": [
        "Finally, let's print the average scores per critiera."
      ]
    },
    {
      "cell_type": "code",
      "execution_count": 28,
      "metadata": {
        "colab": {
          "base_uri": "https://localhost:8080/",
          "height": 598
        },
        "id": "J_MeQOWX13ws",
        "outputId": "8cedc547-6311-4700-c873-5dbbcbc6f52d"
      },
      "outputs": [
        {
          "name": "stdout",
          "output_type": "stream",
          "text": [
            "format_score          1.000000\n",
            "length_score          0.833333\n",
            "completeness_score    0.800000\n",
            "correctness_score     1.000000\n",
            "conciseness_score     0.800000\n",
            "dtype: float64\n"
          ]
        }
      ],
      "source": [
        "avg_scores = data[[\"format_score\", \"length_score\", \"completeness_score\", \"correctness_score\", \"conciseness_score\"]].mean()\n",
        "print(avg_scores)"
      ]
    }
  ],
  "metadata": {
    "colab": {
      "provenance": []
    },
    "kernelspec": {
      "display_name": "Python 3",
      "name": "python3"
    },
    "language_info": {
      "codemirror_mode": {
        "name": "ipython",
        "version": 3
      },
      "file_extension": ".py",
      "mimetype": "text/x-python",
      "name": "python",
      "nbconvert_exporter": "python",
      "pygments_lexer": "ipython3",
      "version": "3.11.5"
    }
  },
  "nbformat": 4,
  "nbformat_minor": 0
}
