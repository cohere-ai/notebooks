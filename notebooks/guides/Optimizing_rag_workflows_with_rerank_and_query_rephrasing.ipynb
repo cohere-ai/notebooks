{
    "cells": [
        {
            "cell_type": "markdown",
            "metadata": {},
            "source": [
                "This file has been moved to https://github.com/cohere-ai/cohere-developer-experience/blob/main/notebooks/Optimizing_rag_workflows_with_rerank_and_query_rephrasing.ipynb."
            ]
        }
    ],
    "metadata": {
        "language_info": {
            "name": "python"
        }
    },
    "nbformat": 4,
    "nbformat_minor": 2
}