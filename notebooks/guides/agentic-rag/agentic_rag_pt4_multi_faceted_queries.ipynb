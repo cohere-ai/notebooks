{
 "cells": [
  {
   "cell_type": "markdown",
   "metadata": {},
   "source": [
    "<a target=\"_blank\" href=\"https://colab.research.google.com/github/cohere-ai/notebooks/blob/main/notebooks/guides/agentic-rag/agentic_rag_pt4_multi_faceted_queries.ipynb\">\n",
    "  <img src=\"https://colab.research.google.com/assets/colab-badge.svg\" alt=\"Open In Colab\"/>\n",
    "</a>"
   ]
  },
  {
   "cell_type": "markdown",
   "metadata": {},
   "source": [
    "# Generating Multi-Faceted Queries"
   ]
  },
  {
   "cell_type": "markdown",
   "metadata": {},
   "source": [
    "Consider a RAG system that needs to search through a large database of code examples and tutorials. A user might ask for \"Python examples using the chat endpoint\" or \"JavaScript tutorials for text summarization\".\n",
    "\n",
    "In a basic RAG setup, these queries would be passed as-is to a search function, potentially missing important context or failing to leverage the structured nature of the data. For example, the code examples database might consist of metadata such as the programming language, the created time, the tech stack used, and so on.\n",
    "\n",
    "It would be great if we could design a system that could leverage this metadata as a filter to retrieve only the relevant results.\n",
    "\n",
    "We can achieve this using a tool use approach. Here, we can build a system that generates multi-faceted queries to capture the full intent of a user's request. This allows for more precise and relevant results by utilizing the semi-structured nature of the data.\n",
    "\n",
    "Here are some examples of how this approach can be applied:\n",
    "1. E-commerce product searches: Filtering by price range, category, brand, customer ratings, and availability.\n",
    "2. Academic research databases: Narrowing results by publication year, field of study, citation count, and peer-review status.\n",
    "3. Job search platforms: Refining job listings by location, experience level, salary range, and required skills.\n",
    "\n",
    "In this tutorial, we'll cover:\n",
    "- Defining the function for data querying\n",
    "- Creating the tool for generating multi-faceted queries\n",
    "- Building an agent for performing multi-faceted queries\n",
    "- Running the agent\n",
    "\n",
    "We'll build an agent that helps developers find relevant code examples and tutorials for using Cohere."
   ]
  },
  {
   "cell_type": "markdown",
   "metadata": {},
   "source": [
    "## Setup\n",
    "\n",
    "To get started, first we need to install the `cohere` library and create a Cohere client."
   ]
  },
  {
   "cell_type": "code",
   "execution_count": null,
   "metadata": {},
   "outputs": [],
   "source": [
    "! pip install cohere -qq"
   ]
  },
  {
   "cell_type": "code",
   "execution_count": 1,
   "metadata": {},
   "outputs": [],
   "source": [
    "import json\n",
    "import os\n",
    "import cohere\n",
    "\n",
    "co = cohere.ClientV2(\"COHERE_API_KEY\") # Get your free API key: https://dashboard.cohere.com/api-keys"
   ]
  },
  {
   "cell_type": "markdown",
   "metadata": {},
   "source": [
    "## Defining the function for data querying"
   ]
  },
  {
   "cell_type": "markdown",
   "metadata": {},
   "source": [
    "We'll remove the other tools from Part 1 and just use one – `search_code_examples`.\n",
    "\n",
    "Now, instead of just the `query` parameter, we'll add two more parameters: `programming_language` and `endpoints`:\n",
    "- `programming_language`: The programming language of the code example or tutorial.\n",
    "- `endpoints`: The Cohere endpoints used in the code example or tutorial.\n",
    "\n",
    "We'll use these parameters as the metadata to filter the code examples and tutorials.\n",
    "\n",
    "Let's rename the function to `search_code_examples_detailed` to reflect this change.\n",
    "\n",
    "And as in Part 1, for simplicity, we create `query` as just a mock parameter and no actual search logic will be performed based on it."
   ]
  },
  {
   "cell_type": "markdown",
   "metadata": {},
   "source": [
    "**IMPORTANT:**\n",
    "\n",
    "The source code for tool definitions can be [found here](https://github.com/cohere-ai/notebooks/blob/main/notebooks/guides/agentic-rag/tool_def.py). Make sure to have the `tool_def.py` file in the same directory as this notebook for the imports to work correctly."
   ]
  },
  {
   "cell_type": "code",
   "execution_count": null,
   "metadata": {},
   "outputs": [],
   "source": [
    "from tool_def import (\n",
    "    search_code_examples_detailed,\n",
    "    search_code_examples_detailed_tool,\n",
    ")"
   ]
  },
  {
   "cell_type": "code",
   "execution_count": 2,
   "metadata": {},
   "outputs": [],
   "source": [
    "functions_map = {\n",
    "    \"search_code_examples_detailed\": search_code_examples_detailed,\n",
    "}"
   ]
  },
  {
   "cell_type": "markdown",
   "metadata": {},
   "source": [
    "## Creating the tool for generating multi-faceted queries"
   ]
  },
  {
   "cell_type": "markdown",
   "metadata": {},
   "source": [
    "With the `search_code_examples` modified, we now need to modify the tool definition as well. Here, we are adding the two new properties to the tool definition:\n",
    "- `programming_language`: This is a string property which we provide a list of options for the model to choose from. We do this by adding \"Possible enum values\" to the description, which in our case is `py, js`.\n",
    "- `endpoints`: We want the model to be able to choose from more than one endpoint, and so here we define an array property. When defining an array property, we need to specify the type of the items in the array using the `items` key, which in our case is `string`. We also provide a list of endpoint options for the model to choose from, which is `chat, embed, rerank, classify`.\n",
    "\n",
    "We make only the `query` parameter required, while the other two parameters are optional."
   ]
  },
  {
   "cell_type": "code",
   "execution_count": 3,
   "metadata": {},
   "outputs": [],
   "source": [
    "tools = [search_code_examples_detailed_tool]"
   ]
  },
  {
   "cell_type": "markdown",
   "metadata": {},
   "source": [
    "## Building an agent for performing multi-faceted queries"
   ]
  },
  {
   "cell_type": "markdown",
   "metadata": {},
   "source": [
    "Next, let's create a `run_agent` function to run the agentic RAG workflow, the same as in Part 1.\n",
    "\n",
    "The only change we are making here is to make the system message simpler and more specific since the agent now only has one tool."
   ]
  },
  {
   "cell_type": "code",
   "execution_count": 4,
   "metadata": {},
   "outputs": [],
   "source": [
    "system_message=\"\"\"## Task and Context\n",
    "You are an assistant who helps developers find code examples and tutorials on using Cohere.\"\"\""
   ]
  },
  {
   "cell_type": "code",
   "execution_count": 5,
   "metadata": {},
   "outputs": [],
   "source": [
    "model = \"command-r-plus-08-2024\"\n",
    "\n",
    "def run_agent(query, messages=None):\n",
    "    if messages is None:\n",
    "        messages = []\n",
    "        \n",
    "    if \"system\" not in {m.get(\"role\") for m in messages}:\n",
    "        messages.append({\"role\": \"system\", \"content\": system_message})\n",
    "    \n",
    "    # Step 1: get user message\n",
    "    print(f\"QUESTION:\\n{query}\")\n",
    "    print(\"=\"*50)\n",
    "    \n",
    "    messages.append({\"role\": \"user\", \"content\": query})\n",
    "\n",
    "    # Step 2: Generate tool calls (if any)\n",
    "    response = co.chat(\n",
    "        model=model,\n",
    "        messages=messages,\n",
    "        tools=tools,\n",
    "        temperature=0.1\n",
    "    )\n",
    "\n",
    "    while response.message.tool_calls:\n",
    "        \n",
    "        print(\"TOOL PLAN:\")\n",
    "        print(response.message.tool_plan,\"\\n\")\n",
    "        print(\"TOOL CALLS:\")\n",
    "        for tc in response.message.tool_calls:\n",
    "            print(f\"Tool name: {tc.function.name} | Parameters: {tc.function.arguments}\")\n",
    "        print(\"=\"*50)\n",
    "\n",
    "        messages.append({\"role\": \"assistant\", \"tool_calls\": response.message.tool_calls, \"tool_plan\": response.message.tool_plan})        \n",
    "        \n",
    "        # Step 3: Get tool results\n",
    "        for tc in response.message.tool_calls:\n",
    "            tool_result = functions_map[tc.function.name](**json.loads(tc.function.arguments))\n",
    "            tool_content = []\n",
    "            for data in tool_result:\n",
    "                tool_content.append({\"type\": \"document\", \"document\": {\"data\": json.dumps(data)}})\n",
    "                # Optional: add an \"id\" field in the \"document\" object, otherwise IDs are auto-generated\n",
    "            messages.append({\"role\": \"tool\", \"tool_call_id\": tc.id, \"content\": tool_content})\n",
    "        \n",
    "        # Step 4: Generate response and citations \n",
    "        response = co.chat(\n",
    "            model=model,\n",
    "            messages=messages,\n",
    "            tools=tools,\n",
    "            temperature=0.1\n",
    "        )\n",
    "    \n",
    "    messages.append({\"role\": \"assistant\", \"content\": response.message.content[0].text})\n",
    "        \n",
    "    # Print final response\n",
    "    print(\"RESPONSE:\")\n",
    "    print(response.message.content[0].text)\n",
    "    print(\"=\"*50)\n",
    "    \n",
    "    # Print citations (if any)\n",
    "    verbose_source = False # Change to True to display the contents of a source\n",
    "    if response.message.citations:\n",
    "        print(\"CITATIONS:\\n\")\n",
    "        for citation in response.message.citations:\n",
    "            print(f\"Start: {citation.start}| End:{citation.end}| Text:'{citation.text}' \")\n",
    "            print(\"Sources:\")\n",
    "            for idx, source in enumerate(citation.sources):\n",
    "                print(f\"{idx+1}. {source.id}\")\n",
    "                if verbose_source:\n",
    "                    print(f\"{source.tool_output}\")\n",
    "            print(\"\\n\")\n",
    "                    \n",
    "    return messages"
   ]
  },
  {
   "cell_type": "markdown",
   "metadata": {},
   "source": [
    "## Running the agent"
   ]
  },
  {
   "cell_type": "markdown",
   "metadata": {},
   "source": [
    "Let's start with a broad query about \"RAG code examples\".\n",
    "\n",
    "Since it's broad, this query shouldn't require any metadata filtering.\n",
    "\n",
    "And this is shown by the agent's response, which provides only one parameter, `query`, in its tool call."
   ]
  },
  {
   "cell_type": "code",
   "execution_count": 8,
   "metadata": {},
   "outputs": [
    {
     "name": "stdout",
     "output_type": "stream",
     "text": [
      "QUESTION:\n",
      "Do you have any RAG code examples\n",
      "==================================================\n",
      "TOOL PLAN:\n",
      "I will search for RAG code examples. \n",
      "\n",
      "TOOL CALLS:\n",
      "Tool name: search_code_examples_detailed | Parameters: {\"query\":\"RAG\"}\n",
      "==================================================\n",
      "RESPONSE:\n",
      "Yes, we have a code example for RAG with Chat Embed and Rerank via Pinecone.\n",
      "==================================================\n",
      "CITATIONS:\n",
      "\n",
      "Start: 32| End:76| Text:'RAG with Chat Embed and Rerank via Pinecone.' \n",
      "Sources:\n",
      "1. search_code_examples_detailed_bqm9ww9cp4nw:2\n",
      "\n",
      "\n"
     ]
    }
   ],
   "source": [
    "messages = run_agent(\"Do you have any RAG code examples\")\n",
    "# Tool name: search_code_examples | Parameters: {\"query\":\"RAG code examples\"}"
   ]
  },
  {
   "cell_type": "markdown",
   "metadata": {},
   "source": [
    "Let's try a more specific query about \"javascript tutorials on text summarization\". \n",
    "\n",
    "This time, the agent uses the `programming_language` parameter and passed the value `js` to it."
   ]
  },
  {
   "cell_type": "code",
   "execution_count": 10,
   "metadata": {},
   "outputs": [
    {
     "name": "stdout",
     "output_type": "stream",
     "text": [
      "QUESTION:\n",
      "Javascript tutorials on summarization\n",
      "==================================================\n",
      "TOOL PLAN:\n",
      "I will search for 'summarization' in the 'js' programming language. \n",
      "\n",
      "TOOL CALLS:\n",
      "Tool name: search_code_examples_detailed | Parameters: {\"programming_language\":\"js\",\"query\":\"summarization\"}\n",
      "==================================================\n",
      "RESPONSE:\n",
      "Here is a tutorial on building a Chrome extension to summarize web pages using JavaScript.\n",
      "==================================================\n",
      "CITATIONS:\n",
      "\n",
      "Start: 22| End:72| Text:'building a Chrome extension to summarize web pages' \n",
      "Sources:\n",
      "1. search_code_examples_detailed_hf9rv18987vp:0\n",
      "\n",
      "\n"
     ]
    }
   ],
   "source": [
    "messages = run_agent(\"Javascript tutorials on summarization\")\n",
    "# Tool name: search_code_examples | Parameters: {\"programming_language\":\"js\",\"query\":\"...\"}"
   ]
  },
  {
   "cell_type": "markdown",
   "metadata": {},
   "source": [
    "Let's now try a query that involves filtering based on the endpoints. Here, the user asks for \"code examples of using embed and rerank endpoints\".\n",
    "\n",
    "And since we have set up the `endpoints` parameter to be an array, the agent is able to call the tool with a list of endpoints as its argument."
   ]
  },
  {
   "cell_type": "code",
   "execution_count": 11,
   "metadata": {},
   "outputs": [
    {
     "name": "stdout",
     "output_type": "stream",
     "text": [
      "QUESTION:\n",
      "Code examples of using embed and rerank endpoints.\n",
      "==================================================\n",
      "TOOL PLAN:\n",
      "I will search for code examples of using the embed and rerank endpoints. \n",
      "\n",
      "TOOL CALLS:\n",
      "Tool name: search_code_examples_detailed | Parameters: {\"endpoints\":[\"embed\",\"rerank\"],\"query\":\"embed and rerank\"}\n",
      "==================================================\n",
      "RESPONSE:\n",
      "Here are some code examples of using the embed and rerank endpoints:\n",
      "- Wikipedia Semantic Search with Cohere Embedding Archives\n",
      "- RAG With Chat Embed and Rerank via Pinecone\n",
      "- Build Chatbots That Know Your Business with MongoDB and Cohere\n",
      "==================================================\n",
      "CITATIONS:\n",
      "\n",
      "Start: 71| End:127| Text:'Wikipedia Semantic Search with Cohere Embedding Archives' \n",
      "Sources:\n",
      "1. search_code_examples_detailed_d3br7bwd05bp:0\n",
      "\n",
      "\n",
      "Start: 130| End:173| Text:'RAG With Chat Embed and Rerank via Pinecone' \n",
      "Sources:\n",
      "1. search_code_examples_detailed_d3br7bwd05bp:1\n",
      "\n",
      "\n",
      "Start: 176| End:238| Text:'Build Chatbots That Know Your Business with MongoDB and Cohere' \n",
      "Sources:\n",
      "1. search_code_examples_detailed_d3br7bwd05bp:2\n",
      "\n",
      "\n"
     ]
    }
   ],
   "source": [
    "messages = run_agent(\"Code examples of using embed and rerank endpoints.\")\n",
    "\n",
    "# Tool name: search_code_examples | Parameters: {\"endpoints\":[\"embed\",\"rerank\"],\"query\":\"...\"}"
   ]
  },
  {
   "cell_type": "markdown",
   "metadata": {},
   "source": [
    "Finally, let's try a query that involves filtering based on both the programming language and the endpoints. Here, the user asks for \"Python examples of using the chat endpoint\".\n",
    "\n",
    "And the agent correctly uses both parameters to query the code examples."
   ]
  },
  {
   "cell_type": "code",
   "execution_count": 12,
   "metadata": {},
   "outputs": [
    {
     "name": "stdout",
     "output_type": "stream",
     "text": [
      "QUESTION:\n",
      "Python examples of using the chat endpoint.\n",
      "==================================================\n",
      "TOOL PLAN:\n",
      "I will search for Python examples of using the chat endpoint. \n",
      "\n",
      "TOOL CALLS:\n",
      "Tool name: search_code_examples_detailed | Parameters: {\"endpoints\":[\"chat\"],\"programming_language\":\"py\",\"query\":\"Python examples of using the chat endpoint\"}\n",
      "==================================================\n",
      "RESPONSE:\n",
      "Here are some Python examples of using the chat endpoint:\n",
      "- Calendar Agent with Native Multi Step Tool\n",
      "- RAG With Chat Embed and Rerank via Pinecone\n",
      "- Build Chatbots That Know Your Business with MongoDB and Cohere\n",
      "==================================================\n",
      "CITATIONS:\n",
      "\n",
      "Start: 60| End:102| Text:'Calendar Agent with Native Multi Step Tool' \n",
      "Sources:\n",
      "1. search_code_examples_detailed_kp25g4k49ej5:0\n",
      "\n",
      "\n",
      "Start: 105| End:148| Text:'RAG With Chat Embed and Rerank via Pinecone' \n",
      "Sources:\n",
      "1. search_code_examples_detailed_kp25g4k49ej5:2\n",
      "\n",
      "\n",
      "Start: 151| End:213| Text:'Build Chatbots That Know Your Business with MongoDB and Cohere' \n",
      "Sources:\n",
      "1. search_code_examples_detailed_kp25g4k49ej5:3\n",
      "\n",
      "\n"
     ]
    }
   ],
   "source": [
    "messages = run_agent(\"Python examples of using the chat endpoint.\")\n",
    "\n",
    "#Tool name: search_code_examples | Parameters: {\"endpoints\":[\"chat\"],\"programming_language\":\"py\",\"query\":\"...\"}"
   ]
  },
  {
   "cell_type": "markdown",
   "metadata": {},
   "source": [
    "## Summary\n",
    "\n",
    "In this tutorial, we learned about:\n",
    "- How to define the function for data querying\n",
    "- How to create the tool for generating multi-faceted queries\n",
    "- How to build an agent for performing multi-faceted queries\n",
    "- How to run the agentw\n",
    "\n",
    "By implementing multi-faceted queries over semi-structured data, we've enhanced our RAG system to handle more specific and targeted searches. This approach allows for better utilization of metadata and more precise filtering of results, which is particularly useful when dealing with large collections of code examples and tutorials.\n",
    "\n",
    "While this tutorial demonstrates how to work with semi-structured data, the agentic RAG approach can be applied to structured data as well. That means we can build agents that can translate natural language queries into queries for tables or relational databases.\n",
    "\n",
    "In Part 5, we'll learn how to perform RAG over structured data (tables)."
   ]
  },
  {
   "cell_type": "markdown",
   "metadata": {},
   "source": []
  }
 ],
 "metadata": {
  "kernelspec": {
   "display_name": "base",
   "language": "python",
   "name": "base"
  },
  "language_info": {
   "codemirror_mode": {
    "name": "ipython",
    "version": 3
   },
   "file_extension": ".py",
   "mimetype": "text/x-python",
   "name": "python",
   "nbconvert_exporter": "python",
   "pygments_lexer": "ipython3",
   "version": "3.11.4"
  }
 },
 "nbformat": 4,
 "nbformat_minor": 2
}
