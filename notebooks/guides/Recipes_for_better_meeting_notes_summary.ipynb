{
    "cells": [
        {
            "cell_type": "markdown",
            "metadata": {},
            "source": [
                "This file has been moved to https://github.com/cohere-ai/cohere-developer-experience/blob/main/notebooks/Recipes_for_better_meeting_notes_summary.ipynb."
            ]
        }
    ],
    "metadata": {
        "language_info": {
            "name": "python"
        }
    },
    "nbformat": 4,
    "nbformat_minor": 2
}