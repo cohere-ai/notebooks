{
  "nbformat": 4,
  "nbformat_minor": 0,
  "metadata": {
    "colab": {
      "provenance": []
    },
    "kernelspec": {
      "name": "python3",
      "display_name": "Python 3"
    },
    "language_info": {
      "name": "python"
    }
  },
  "cells": [
    {
      "cell_type": "markdown",
      "source": [
        "# Imports"
      ],
      "metadata": {
        "id": "LEqiJcuiw6A-"
      }
    },
    {
      "cell_type": "code",
      "execution_count": 4,
      "metadata": {
        "id": "Xx2jWV9iu_PS",
        "colab": {
          "base_uri": "https://localhost:8080/"
        },
        "outputId": "f062389a-0862-4481-e24e-7db6eb5348e5"
      },
      "outputs": [
        {
          "output_type": "stream",
          "name": "stdout",
          "text": [
            "\u001b[?25l   \u001b[90m━━━━━━━━━━━━━━━━━━━━━━━━━━━━━━━━━━━━━━━━\u001b[0m \u001b[32m0.0/222.4 kB\u001b[0m \u001b[31m?\u001b[0m eta \u001b[36m-:--:--\u001b[0m\r\u001b[2K   \u001b[91m━━━━━━━━━━━━━━━━━━━━━━━━━━━━━━━━━━━━━━\u001b[0m\u001b[91m╸\u001b[0m\u001b[90m━\u001b[0m \u001b[32m215.0/222.4 kB\u001b[0m \u001b[31m8.3 MB/s\u001b[0m eta \u001b[36m0:00:01\u001b[0m\r\u001b[2K   \u001b[90m━━━━━━━━━━━━━━━━━━━━━━━━━━━━━━━━━━━━━━━━\u001b[0m \u001b[32m222.4/222.4 kB\u001b[0m \u001b[31m4.7 MB/s\u001b[0m eta \u001b[36m0:00:00\u001b[0m\n",
            "\u001b[2K   \u001b[90m━━━━━━━━━━━━━━━━━━━━━━━━━━━━━━━━━━━━━━━━\u001b[0m \u001b[32m139.2/139.2 kB\u001b[0m \u001b[31m8.4 MB/s\u001b[0m eta \u001b[36m0:00:00\u001b[0m\n",
            "\u001b[2K   \u001b[90m━━━━━━━━━━━━━━━━━━━━━━━━━━━━━━━━━━━━━━━━\u001b[0m \u001b[32m3.1/3.1 MB\u001b[0m \u001b[31m44.4 MB/s\u001b[0m eta \u001b[36m0:00:00\u001b[0m\n",
            "\u001b[2K   \u001b[90m━━━━━━━━━━━━━━━━━━━━━━━━━━━━━━━━━━━━━━━━\u001b[0m \u001b[32m76.4/76.4 kB\u001b[0m \u001b[31m4.7 MB/s\u001b[0m eta \u001b[36m0:00:00\u001b[0m\n",
            "\u001b[2K   \u001b[90m━━━━━━━━━━━━━━━━━━━━━━━━━━━━━━━━━━━━━━━━\u001b[0m \u001b[32m77.9/77.9 kB\u001b[0m \u001b[31m5.5 MB/s\u001b[0m eta \u001b[36m0:00:00\u001b[0m\n",
            "\u001b[2K   \u001b[90m━━━━━━━━━━━━━━━━━━━━━━━━━━━━━━━━━━━━━━━━\u001b[0m \u001b[32m12.5/12.5 MB\u001b[0m \u001b[31m81.8 MB/s\u001b[0m eta \u001b[36m0:00:00\u001b[0m\n",
            "\u001b[2K   \u001b[90m━━━━━━━━━━━━━━━━━━━━━━━━━━━━━━━━━━━━━━━━\u001b[0m \u001b[32m82.7/82.7 kB\u001b[0m \u001b[31m5.0 MB/s\u001b[0m eta \u001b[36m0:00:00\u001b[0m\n",
            "\u001b[2K   \u001b[90m━━━━━━━━━━━━━━━━━━━━━━━━━━━━━━━━━━━━━━━━\u001b[0m \u001b[32m58.3/58.3 kB\u001b[0m \u001b[31m3.5 MB/s\u001b[0m eta \u001b[36m0:00:00\u001b[0m\n",
            "\u001b[?25h"
          ]
        }
      ],
      "source": [
        "!pip install cohere --q --disable-pip-version-check"
      ]
    },
    {
      "cell_type": "markdown",
      "source": [
        "# Utils"
      ],
      "metadata": {
        "id": "bvY1DcVHBhQp"
      }
    },
    {
      "cell_type": "code",
      "source": [
        "def print_tool_calls(tool_calls):\n",
        "    # Determine the message based on the number of tool calls\n",
        "    if len(tool_calls) > 1:\n",
        "        print(\"The model suggests making Parallel Queries:\")\n",
        "    else:\n",
        "        print(\"The model suggests making a single tool call:\")\n",
        "\n",
        "    for i, tool_call in enumerate(tool_calls):\n",
        "        # If there's more than one tool call, separate each with a header\n",
        "        if len(tool_calls) > 1:\n",
        "            print(f\"== Parallel Tool Call #{i+1}\")\n",
        "\n",
        "        # Print the tool call name and \"with this code:\" on the same line\n",
        "        if tool_call.name == 'python_interpreter':\n",
        "            print(f\"{tool_call.name} with this code:\")\n",
        "            code = tool_call.parameters.get('code', '')\n",
        "            print(\"\\n\".join(f\"  {line}\" for line_num, line in enumerate(code.splitlines())))\n",
        "        else:\n",
        "            # For non-python_interpreter tool calls, just print the parameters\n",
        "            print(f\"{tool_call.name}\")\n",
        "            print(f\"{tool_call.parameters}\")\n"
      ],
      "metadata": {
        "id": "fecUdUFTBh-P"
      },
      "execution_count": 2,
      "outputs": []
    },
    {
      "cell_type": "code",
      "source": [
        "def print_step(step):\n",
        "  print(f\"\\n\\n\\033[1;34m == STEP {step+1} \\033[0m\\n\")  # Blue bold for step header\n",
        "\n",
        "def print_plan(text):\n",
        "  print(f\"\\033[1;32mThe plan is:\\033[0m \\033[1m{text}\\033[0m\\n\")  # Green bold for \"The plan is\" and bold for the plan text\n",
        "\n",
        "def print_final_answer(text):\n",
        "  print(f\"\\n\\n \\033[1;32mThe final answer is:\\033[0m \\033[1m{text}\\033[0m\\n\")  # Green bold for \"The plan is\" and bold for the plan text\n",
        "\n",
        "def print_tool_results(tool_results):\n",
        "    print(f\"\\033[1;35mtool_results:\\033[0m \\033[1m{tool_result['outputs']}\\033[0m\")  # Magenta bold for \"tool_results\" and bold for outputs\n"
      ],
      "metadata": {
        "id": "J3_Av0ZgZ5A4"
      },
      "execution_count": 3,
      "outputs": []
    },
    {
      "cell_type": "markdown",
      "source": [
        "# Define Tools for the RAG Agent: a web search engine and a python interpreter"
      ],
      "metadata": {
        "id": "STPRtUN0w90-"
      }
    },
    {
      "cell_type": "markdown",
      "source": [
        "A web search engine, accessible through an API"
      ],
      "metadata": {
        "id": "uvAynOO8yzk7"
      }
    },
    {
      "cell_type": "code",
      "source": [
        "!pip install tavily-python --q --disable-pip-version-check\n",
        "from tavily import TavilyClient\n",
        "tavily_client = TavilyClient(api_key=\"***\")"
      ],
      "metadata": {
        "id": "f8Ij6RA9y53T",
        "colab": {
          "base_uri": "https://localhost:8080/"
        },
        "outputId": "bf54548d-47c4-4679-9abb-0a4c67e475e3"
      },
      "execution_count": 5,
      "outputs": [
        {
          "output_type": "stream",
          "name": "stdout",
          "text": [
            "\u001b[?25l   \u001b[90m━━━━━━━━━━━━━━━━━━━━━━━━━━━━━━━━━━━━━━━━\u001b[0m \u001b[32m0.0/1.1 MB\u001b[0m \u001b[31m?\u001b[0m eta \u001b[36m-:--:--\u001b[0m\r\u001b[2K   \u001b[91m━━━━━━━━━━━━\u001b[0m\u001b[91m╸\u001b[0m\u001b[90m━━━━━━━━━━━━━━━━━━━━━━━━━━━\u001b[0m \u001b[32m0.3/1.1 MB\u001b[0m \u001b[31m9.9 MB/s\u001b[0m eta \u001b[36m0:00:01\u001b[0m\r\u001b[2K   \u001b[91m━━━━━━━━━━━━━━━━━━━━━━━━━━━━━━━━━━━━━━━\u001b[0m\u001b[91m╸\u001b[0m \u001b[32m1.1/1.1 MB\u001b[0m \u001b[31m19.5 MB/s\u001b[0m eta \u001b[36m0:00:01\u001b[0m\r\u001b[2K   \u001b[90m━━━━━━━━━━━━━━━━━━━━━━━━━━━━━━━━━━━━━━━━\u001b[0m \u001b[32m1.1/1.1 MB\u001b[0m \u001b[31m14.0 MB/s\u001b[0m eta \u001b[36m0:00:00\u001b[0m\n",
            "\u001b[?25h"
          ]
        }
      ]
    },
    {
      "cell_type": "code",
      "source": [
        "# here's a web search engine\n",
        "def web_search(query: str) -> list[dict]:\n",
        "  response = tavily_client.search(query, max_results=3)['results']\n",
        "  return response"
      ],
      "metadata": {
        "id": "twWePRd8u_1M"
      },
      "execution_count": 6,
      "outputs": []
    },
    {
      "cell_type": "code",
      "source": [
        "# the LLM is equipped with a description of the web search engine\n",
        "web_search_tool = {\n",
        "  \"name\": \"web_search\",\n",
        "  \"description\": \"Returns a list of relevant document snippets for a textual query retrieved from the internet\",\n",
        "  \"parameter_definitions\": {\n",
        "    \"query\": {\n",
        "      \"description\": \"Query to search the internet with\",\n",
        "      \"type\": \"str\",\n",
        "      \"required\": True\n",
        "    }\n",
        "  }\n",
        "}\n"
      ],
      "metadata": {
        "id": "AnJU33BeznUS"
      },
      "execution_count": 7,
      "outputs": []
    },
    {
      "cell_type": "markdown",
      "source": [
        "A Python interpreter, which can be used by the RAG Agent to write code and/or to access a spreadsheet"
      ],
      "metadata": {
        "id": "oUfmGjrj0xD4"
      }
    },
    {
      "cell_type": "code",
      "source": [
        "# here's a python console, which can be used to access the spreadsheet, but also more generally to code and plot stuff\n",
        "import io, contextlib\n",
        "def python_interpreter(code: str) -> list[dict]:\n",
        "    output = io.StringIO()\n",
        "    try:\n",
        "        # Redirect stdout to capture print statements\n",
        "        with contextlib.redirect_stdout(output):\n",
        "            exec(code, globals())\n",
        "    except Exception as e:\n",
        "        return [{\n",
        "            \"error\": str(e),\n",
        "            \"executed_code\": code\n",
        "        }]\n",
        "    # Get stdout\n",
        "    return [{\n",
        "  \t\t\"console_output\": output.getvalue(),\n",
        "      \"executed_code\": code\n",
        "  \t}]\n",
        "\n"
      ],
      "metadata": {
        "id": "7g2gBVfJ458s"
      },
      "execution_count": 8,
      "outputs": []
    },
    {
      "cell_type": "code",
      "source": [
        "# the LLM is equipped with a description of a python console\n",
        "python_interpreter_tool = {\n",
        "  \"name\": \"python_interpreter\",\n",
        "  \"description\": \"Executes python code and returns the result. The code runs in a static sandbox without internet access and without interactive mode, so print output or save output to a file.\",\n",
        "  \"parameter_definitions\": {\n",
        "    \"code\": {\n",
        "      \"description\": \"Python code to execute\",\n",
        "      \"type\": \"str\",\n",
        "      \"required\": True\n",
        "    }\n",
        "  }\n",
        "}\n"
      ],
      "metadata": {
        "id": "js1gKH-DznSC"
      },
      "execution_count": 9,
      "outputs": []
    },
    {
      "cell_type": "code",
      "source": [
        "# Display the first few rows of the dataset\n",
        "import pandas as pd\n",
        "file_path = './spotify_dataset.csv'\n",
        "spotify_data = pd.read_csv(file_path)\n",
        "spotify_data.head(3)"
      ],
      "metadata": {
        "id": "ViDr-GYnY-hA",
        "colab": {
          "base_uri": "https://localhost:8080/",
          "height": 228
        },
        "outputId": "b890e694-a337-45d9-e961-d9c120be503e"
      },
      "execution_count": 11,
      "outputs": [
        {
          "output_type": "execute_result",
          "data": {
            "text/plain": [
              "                            track_name    artist(s)_name  artist_count  \\\n",
              "0  Seven (feat. Latto) (Explicit Ver.)  Latto, Jung Kook             2   \n",
              "1                                 LALA       Myke Towers             1   \n",
              "2                              vampire    Olivia Rodrigo             1   \n",
              "\n",
              "   released_year  released_month  released_day  in_spotify_playlists  \\\n",
              "0           2023               7            14                   553   \n",
              "1           2023               3            23                  1474   \n",
              "2           2023               6            30                  1397   \n",
              "\n",
              "   in_spotify_charts      streams  in_apple_playlists  ...  key   mode  \\\n",
              "0                147  141381703.0                  43  ...    B  Major   \n",
              "1                 48  133716286.0                  48  ...   C#  Major   \n",
              "2                113  140003974.0                  94  ...    F  Major   \n",
              "\n",
              "   danceability valence  energy acousticness instrumentalness  liveness  \\\n",
              "0            80      89      83           31                0         8   \n",
              "1            71      61      74            7                0        10   \n",
              "2            51      32      53           17                0        31   \n",
              "\n",
              "   speechiness  release_date  \n",
              "0            4    2023-07-14  \n",
              "1            4    2023-03-23  \n",
              "2            6    2023-06-30  \n",
              "\n",
              "[3 rows x 25 columns]"
            ],
            "text/html": [
              "\n",
              "  <div id=\"df-80c82e64-5675-4fbb-b6aa-4fc3d18130a9\" class=\"colab-df-container\">\n",
              "    <div>\n",
              "<style scoped>\n",
              "    .dataframe tbody tr th:only-of-type {\n",
              "        vertical-align: middle;\n",
              "    }\n",
              "\n",
              "    .dataframe tbody tr th {\n",
              "        vertical-align: top;\n",
              "    }\n",
              "\n",
              "    .dataframe thead th {\n",
              "        text-align: right;\n",
              "    }\n",
              "</style>\n",
              "<table border=\"1\" class=\"dataframe\">\n",
              "  <thead>\n",
              "    <tr style=\"text-align: right;\">\n",
              "      <th></th>\n",
              "      <th>track_name</th>\n",
              "      <th>artist(s)_name</th>\n",
              "      <th>artist_count</th>\n",
              "      <th>released_year</th>\n",
              "      <th>released_month</th>\n",
              "      <th>released_day</th>\n",
              "      <th>in_spotify_playlists</th>\n",
              "      <th>in_spotify_charts</th>\n",
              "      <th>streams</th>\n",
              "      <th>in_apple_playlists</th>\n",
              "      <th>...</th>\n",
              "      <th>key</th>\n",
              "      <th>mode</th>\n",
              "      <th>danceability</th>\n",
              "      <th>valence</th>\n",
              "      <th>energy</th>\n",
              "      <th>acousticness</th>\n",
              "      <th>instrumentalness</th>\n",
              "      <th>liveness</th>\n",
              "      <th>speechiness</th>\n",
              "      <th>release_date</th>\n",
              "    </tr>\n",
              "  </thead>\n",
              "  <tbody>\n",
              "    <tr>\n",
              "      <th>0</th>\n",
              "      <td>Seven (feat. Latto) (Explicit Ver.)</td>\n",
              "      <td>Latto, Jung Kook</td>\n",
              "      <td>2</td>\n",
              "      <td>2023</td>\n",
              "      <td>7</td>\n",
              "      <td>14</td>\n",
              "      <td>553</td>\n",
              "      <td>147</td>\n",
              "      <td>141381703.0</td>\n",
              "      <td>43</td>\n",
              "      <td>...</td>\n",
              "      <td>B</td>\n",
              "      <td>Major</td>\n",
              "      <td>80</td>\n",
              "      <td>89</td>\n",
              "      <td>83</td>\n",
              "      <td>31</td>\n",
              "      <td>0</td>\n",
              "      <td>8</td>\n",
              "      <td>4</td>\n",
              "      <td>2023-07-14</td>\n",
              "    </tr>\n",
              "    <tr>\n",
              "      <th>1</th>\n",
              "      <td>LALA</td>\n",
              "      <td>Myke Towers</td>\n",
              "      <td>1</td>\n",
              "      <td>2023</td>\n",
              "      <td>3</td>\n",
              "      <td>23</td>\n",
              "      <td>1474</td>\n",
              "      <td>48</td>\n",
              "      <td>133716286.0</td>\n",
              "      <td>48</td>\n",
              "      <td>...</td>\n",
              "      <td>C#</td>\n",
              "      <td>Major</td>\n",
              "      <td>71</td>\n",
              "      <td>61</td>\n",
              "      <td>74</td>\n",
              "      <td>7</td>\n",
              "      <td>0</td>\n",
              "      <td>10</td>\n",
              "      <td>4</td>\n",
              "      <td>2023-03-23</td>\n",
              "    </tr>\n",
              "    <tr>\n",
              "      <th>2</th>\n",
              "      <td>vampire</td>\n",
              "      <td>Olivia Rodrigo</td>\n",
              "      <td>1</td>\n",
              "      <td>2023</td>\n",
              "      <td>6</td>\n",
              "      <td>30</td>\n",
              "      <td>1397</td>\n",
              "      <td>113</td>\n",
              "      <td>140003974.0</td>\n",
              "      <td>94</td>\n",
              "      <td>...</td>\n",
              "      <td>F</td>\n",
              "      <td>Major</td>\n",
              "      <td>51</td>\n",
              "      <td>32</td>\n",
              "      <td>53</td>\n",
              "      <td>17</td>\n",
              "      <td>0</td>\n",
              "      <td>31</td>\n",
              "      <td>6</td>\n",
              "      <td>2023-06-30</td>\n",
              "    </tr>\n",
              "  </tbody>\n",
              "</table>\n",
              "<p>3 rows × 25 columns</p>\n",
              "</div>\n",
              "    <div class=\"colab-df-buttons\">\n",
              "\n",
              "  <div class=\"colab-df-container\">\n",
              "    <button class=\"colab-df-convert\" onclick=\"convertToInteractive('df-80c82e64-5675-4fbb-b6aa-4fc3d18130a9')\"\n",
              "            title=\"Convert this dataframe to an interactive table.\"\n",
              "            style=\"display:none;\">\n",
              "\n",
              "  <svg xmlns=\"http://www.w3.org/2000/svg\" height=\"24px\" viewBox=\"0 -960 960 960\">\n",
              "    <path d=\"M120-120v-720h720v720H120Zm60-500h600v-160H180v160Zm220 220h160v-160H400v160Zm0 220h160v-160H400v160ZM180-400h160v-160H180v160Zm440 0h160v-160H620v160ZM180-180h160v-160H180v160Zm440 0h160v-160H620v160Z\"/>\n",
              "  </svg>\n",
              "    </button>\n",
              "\n",
              "  <style>\n",
              "    .colab-df-container {\n",
              "      display:flex;\n",
              "      gap: 12px;\n",
              "    }\n",
              "\n",
              "    .colab-df-convert {\n",
              "      background-color: #E8F0FE;\n",
              "      border: none;\n",
              "      border-radius: 50%;\n",
              "      cursor: pointer;\n",
              "      display: none;\n",
              "      fill: #1967D2;\n",
              "      height: 32px;\n",
              "      padding: 0 0 0 0;\n",
              "      width: 32px;\n",
              "    }\n",
              "\n",
              "    .colab-df-convert:hover {\n",
              "      background-color: #E2EBFA;\n",
              "      box-shadow: 0px 1px 2px rgba(60, 64, 67, 0.3), 0px 1px 3px 1px rgba(60, 64, 67, 0.15);\n",
              "      fill: #174EA6;\n",
              "    }\n",
              "\n",
              "    .colab-df-buttons div {\n",
              "      margin-bottom: 4px;\n",
              "    }\n",
              "\n",
              "    [theme=dark] .colab-df-convert {\n",
              "      background-color: #3B4455;\n",
              "      fill: #D2E3FC;\n",
              "    }\n",
              "\n",
              "    [theme=dark] .colab-df-convert:hover {\n",
              "      background-color: #434B5C;\n",
              "      box-shadow: 0px 1px 3px 1px rgba(0, 0, 0, 0.15);\n",
              "      filter: drop-shadow(0px 1px 2px rgba(0, 0, 0, 0.3));\n",
              "      fill: #FFFFFF;\n",
              "    }\n",
              "  </style>\n",
              "\n",
              "    <script>\n",
              "      const buttonEl =\n",
              "        document.querySelector('#df-80c82e64-5675-4fbb-b6aa-4fc3d18130a9 button.colab-df-convert');\n",
              "      buttonEl.style.display =\n",
              "        google.colab.kernel.accessAllowed ? 'block' : 'none';\n",
              "\n",
              "      async function convertToInteractive(key) {\n",
              "        const element = document.querySelector('#df-80c82e64-5675-4fbb-b6aa-4fc3d18130a9');\n",
              "        const dataTable =\n",
              "          await google.colab.kernel.invokeFunction('convertToInteractive',\n",
              "                                                    [key], {});\n",
              "        if (!dataTable) return;\n",
              "\n",
              "        const docLinkHtml = 'Like what you see? Visit the ' +\n",
              "          '<a target=\"_blank\" href=https://colab.research.google.com/notebooks/data_table.ipynb>data table notebook</a>'\n",
              "          + ' to learn more about interactive tables.';\n",
              "        element.innerHTML = '';\n",
              "        dataTable['output_type'] = 'display_data';\n",
              "        await google.colab.output.renderOutput(dataTable, element);\n",
              "        const docLink = document.createElement('div');\n",
              "        docLink.innerHTML = docLinkHtml;\n",
              "        element.appendChild(docLink);\n",
              "      }\n",
              "    </script>\n",
              "  </div>\n",
              "\n",
              "\n",
              "<div id=\"df-6b7a8a1f-24e1-477c-9eaf-6bc8102fb59a\">\n",
              "  <button class=\"colab-df-quickchart\" onclick=\"quickchart('df-6b7a8a1f-24e1-477c-9eaf-6bc8102fb59a')\"\n",
              "            title=\"Suggest charts\"\n",
              "            style=\"display:none;\">\n",
              "\n",
              "<svg xmlns=\"http://www.w3.org/2000/svg\" height=\"24px\"viewBox=\"0 0 24 24\"\n",
              "     width=\"24px\">\n",
              "    <g>\n",
              "        <path d=\"M19 3H5c-1.1 0-2 .9-2 2v14c0 1.1.9 2 2 2h14c1.1 0 2-.9 2-2V5c0-1.1-.9-2-2-2zM9 17H7v-7h2v7zm4 0h-2V7h2v10zm4 0h-2v-4h2v4z\"/>\n",
              "    </g>\n",
              "</svg>\n",
              "  </button>\n",
              "\n",
              "<style>\n",
              "  .colab-df-quickchart {\n",
              "      --bg-color: #E8F0FE;\n",
              "      --fill-color: #1967D2;\n",
              "      --hover-bg-color: #E2EBFA;\n",
              "      --hover-fill-color: #174EA6;\n",
              "      --disabled-fill-color: #AAA;\n",
              "      --disabled-bg-color: #DDD;\n",
              "  }\n",
              "\n",
              "  [theme=dark] .colab-df-quickchart {\n",
              "      --bg-color: #3B4455;\n",
              "      --fill-color: #D2E3FC;\n",
              "      --hover-bg-color: #434B5C;\n",
              "      --hover-fill-color: #FFFFFF;\n",
              "      --disabled-bg-color: #3B4455;\n",
              "      --disabled-fill-color: #666;\n",
              "  }\n",
              "\n",
              "  .colab-df-quickchart {\n",
              "    background-color: var(--bg-color);\n",
              "    border: none;\n",
              "    border-radius: 50%;\n",
              "    cursor: pointer;\n",
              "    display: none;\n",
              "    fill: var(--fill-color);\n",
              "    height: 32px;\n",
              "    padding: 0;\n",
              "    width: 32px;\n",
              "  }\n",
              "\n",
              "  .colab-df-quickchart:hover {\n",
              "    background-color: var(--hover-bg-color);\n",
              "    box-shadow: 0 1px 2px rgba(60, 64, 67, 0.3), 0 1px 3px 1px rgba(60, 64, 67, 0.15);\n",
              "    fill: var(--button-hover-fill-color);\n",
              "  }\n",
              "\n",
              "  .colab-df-quickchart-complete:disabled,\n",
              "  .colab-df-quickchart-complete:disabled:hover {\n",
              "    background-color: var(--disabled-bg-color);\n",
              "    fill: var(--disabled-fill-color);\n",
              "    box-shadow: none;\n",
              "  }\n",
              "\n",
              "  .colab-df-spinner {\n",
              "    border: 2px solid var(--fill-color);\n",
              "    border-color: transparent;\n",
              "    border-bottom-color: var(--fill-color);\n",
              "    animation:\n",
              "      spin 1s steps(1) infinite;\n",
              "  }\n",
              "\n",
              "  @keyframes spin {\n",
              "    0% {\n",
              "      border-color: transparent;\n",
              "      border-bottom-color: var(--fill-color);\n",
              "      border-left-color: var(--fill-color);\n",
              "    }\n",
              "    20% {\n",
              "      border-color: transparent;\n",
              "      border-left-color: var(--fill-color);\n",
              "      border-top-color: var(--fill-color);\n",
              "    }\n",
              "    30% {\n",
              "      border-color: transparent;\n",
              "      border-left-color: var(--fill-color);\n",
              "      border-top-color: var(--fill-color);\n",
              "      border-right-color: var(--fill-color);\n",
              "    }\n",
              "    40% {\n",
              "      border-color: transparent;\n",
              "      border-right-color: var(--fill-color);\n",
              "      border-top-color: var(--fill-color);\n",
              "    }\n",
              "    60% {\n",
              "      border-color: transparent;\n",
              "      border-right-color: var(--fill-color);\n",
              "    }\n",
              "    80% {\n",
              "      border-color: transparent;\n",
              "      border-right-color: var(--fill-color);\n",
              "      border-bottom-color: var(--fill-color);\n",
              "    }\n",
              "    90% {\n",
              "      border-color: transparent;\n",
              "      border-bottom-color: var(--fill-color);\n",
              "    }\n",
              "  }\n",
              "</style>\n",
              "\n",
              "  <script>\n",
              "    async function quickchart(key) {\n",
              "      const quickchartButtonEl =\n",
              "        document.querySelector('#' + key + ' button');\n",
              "      quickchartButtonEl.disabled = true;  // To prevent multiple clicks.\n",
              "      quickchartButtonEl.classList.add('colab-df-spinner');\n",
              "      try {\n",
              "        const charts = await google.colab.kernel.invokeFunction(\n",
              "            'suggestCharts', [key], {});\n",
              "      } catch (error) {\n",
              "        console.error('Error during call to suggestCharts:', error);\n",
              "      }\n",
              "      quickchartButtonEl.classList.remove('colab-df-spinner');\n",
              "      quickchartButtonEl.classList.add('colab-df-quickchart-complete');\n",
              "    }\n",
              "    (() => {\n",
              "      let quickchartButtonEl =\n",
              "        document.querySelector('#df-6b7a8a1f-24e1-477c-9eaf-6bc8102fb59a button');\n",
              "      quickchartButtonEl.style.display =\n",
              "        google.colab.kernel.accessAllowed ? 'block' : 'none';\n",
              "    })();\n",
              "  </script>\n",
              "</div>\n",
              "\n",
              "    </div>\n",
              "  </div>\n"
            ],
            "application/vnd.google.colaboratory.intrinsic+json": {
              "type": "dataframe",
              "variable_name": "spotify_data"
            }
          },
          "metadata": {},
          "execution_count": 11
        }
      ]
    },
    {
      "cell_type": "markdown",
      "source": [
        "Utils"
      ],
      "metadata": {
        "id": "d8cJcr04FPLq"
      }
    },
    {
      "cell_type": "code",
      "source": [
        "functions_map = {\n",
        "    \"web_search\": web_search,\n",
        "    \"python_interpreter\": python_interpreter,\n",
        "}"
      ],
      "metadata": {
        "id": "TkHaocFYznQK"
      },
      "execution_count": 12,
      "outputs": []
    },
    {
      "cell_type": "code",
      "source": [],
      "metadata": {
        "id": "GW-nb0GLY3z-"
      },
      "execution_count": null,
      "outputs": []
    },
    {
      "cell_type": "markdown",
      "source": [
        "# Cohere model to power Agentic RAG"
      ],
      "metadata": {
        "id": "DfUAJHJQ1oZE"
      }
    },
    {
      "cell_type": "code",
      "source": [
        "import cohere\n",
        "co = cohere.Client(api_key=\"***\")\n",
        "model = \"command-r-08-2024\""
      ],
      "metadata": {
        "id": "-QJ-p0U_znIz"
      },
      "execution_count": 14,
      "outputs": []
    },
    {
      "cell_type": "markdown",
      "source": [
        "# Let's look at a complex user query"
      ],
      "metadata": {
        "id": "ELeYGx9V19lc"
      }
    },
    {
      "cell_type": "code",
      "source": [
        "message = \"\"\"What's the age and citizenship of the artists who had the top 3 most streamed songs on Spotify in 2023?\n",
        "\n",
        "You have access to a dataset with information about Spotify songs from the past 10 years, located at ./spotify_dataset.csv.\n",
        "You also have access to the internet.\n",
        "You must use the dataset when you can, and if stuck you can use the internet.\n",
        "Remember to inspect the dataset to understand its structure before trying to query it. Take it step by step.\n",
        "\"\"\""
      ],
      "metadata": {
        "id": "_z1hDzpBu_zU"
      },
      "execution_count": 15,
      "outputs": []
    },
    {
      "cell_type": "markdown",
      "source": [
        "### Get the model plan"
      ],
      "metadata": {
        "id": "NaNQqYtUxJDq"
      }
    },
    {
      "cell_type": "code",
      "source": [
        "response = co.chat(\n",
        "    model=model,\n",
        "    message=message,\n",
        "    tools=[web_search_tool,python_interpreter_tool],\n",
        "    temperature=0,\n",
        ")\n",
        "\n",
        "print(response.text)"
      ],
      "metadata": {
        "colab": {
          "base_uri": "https://localhost:8080/"
        },
        "id": "eSwY4wJTIOui",
        "outputId": "fbf6c543-a901-48a6-e209-e5728987501d"
      },
      "execution_count": 16,
      "outputs": [
        {
          "output_type": "stream",
          "name": "stdout",
          "text": [
            "I will first inspect the dataset to understand its structure and identify the relevant columns for the query. Then, I will write and execute Python code to filter the data for the top 3 most streamed songs on Spotify in 2023 and extract the age and citizenship of the artists.\n"
          ]
        }
      ]
    },
    {
      "cell_type": "markdown",
      "source": [
        "### Let the model make as many steps of (parallel) tool calling, retrieval, self-reflection, before answering"
      ],
      "metadata": {
        "id": "33NMLBHexMfY"
      }
    },
    {
      "cell_type": "code",
      "source": [
        "step = 0\n",
        "\n",
        "while response.tool_calls:\n",
        "\n",
        "    # Step id\n",
        "    print_step(step)\n",
        "\n",
        "    # The model plan\n",
        "    print_plan(response.text)\n",
        "\n",
        "    # Tool calls suggested by the model\n",
        "    print_tool_calls(response.tool_calls)\n",
        "\n",
        "    # Execute the tool calls\n",
        "    tool_results = []\n",
        "    for tool_call in response.tool_calls:\n",
        "        outputs = functions_map[tool_call.name](**tool_call.parameters)\n",
        "        tool_result = {\"call\": tool_call, \"outputs\": outputs}\n",
        "        tool_results.append(tool_result)\n",
        "        print_tool_results(tool_result['outputs'])\n",
        "\n",
        "    # Let the model decide the next step: calling more tools? or answering?\n",
        "    response = co.chat(\n",
        "        model=model,\n",
        "        message=\"\",\n",
        "        chat_history=response.chat_history,\n",
        "        tools=[web_search_tool,python_interpreter_tool],\n",
        "        tool_results=tool_results,\n",
        "        temperature=0,\n",
        "    )\n",
        "\n",
        "    step+=1\n",
        "\n",
        "# print final answer\n",
        "print_final_answer(response.text)\n"
      ],
      "metadata": {
        "colab": {
          "base_uri": "https://localhost:8080/"
        },
        "id": "bMa7_gO6u_vl",
        "outputId": "5b8334cb-f6e1-4ecd-da0e-aa3a943b7d32"
      },
      "execution_count": 17,
      "outputs": [
        {
          "output_type": "stream",
          "name": "stdout",
          "text": [
            "\n",
            "\n",
            "\u001b[1;34m == STEP 1 \u001b[0m\n",
            "\n",
            "\u001b[1;32mThe plan is:\u001b[0m \u001b[1mI will first inspect the dataset to understand its structure and identify the relevant columns for the query. Then, I will write and execute Python code to filter the data for the top 3 most streamed songs on Spotify in 2023 and extract the age and citizenship of the artists.\u001b[0m\n",
            "\n",
            "The model suggests making a single tool call:\n",
            "python_interpreter with this code:\n",
            "  import pandas as pd\n",
            "  \n",
            "  # Load the dataset\n",
            "  df = pd.read_csv(\"./spotify_dataset.csv\")\n",
            "  \n",
            "  # Check the structure of the dataset\n",
            "  print(df.info())\n",
            "  print(df.head())\n",
            "\u001b[1;35mtool_results:\u001b[0m \u001b[1m[{'console_output': \"<class 'pandas.core.frame.DataFrame'>\\nRangeIndex: 952 entries, 0 to 951\\nData columns (total 25 columns):\\n #   Column                Non-Null Count  Dtype  \\n---  ------                --------------  -----  \\n 0   track_name            952 non-null    object \\n 1   artist(s)_name        952 non-null    object \\n 2   artist_count          952 non-null    int64  \\n 3   released_year         952 non-null    int64  \\n 4   released_month        952 non-null    int64  \\n 5   released_day          952 non-null    int64  \\n 6   in_spotify_playlists  952 non-null    int64  \\n 7   in_spotify_charts     952 non-null    int64  \\n 8   streams               952 non-null    float64\\n 9   in_apple_playlists    952 non-null    int64  \\n 10  in_apple_charts       952 non-null    int64  \\n 11  in_deezer_playlists   952 non-null    object \\n 12  in_deezer_charts      952 non-null    int64  \\n 13  in_shazam_charts      902 non-null    object \\n 14  bpm                   952 non-null    int64  \\n 15  key                   857 non-null    object \\n 16  mode                  952 non-null    object \\n 17  danceability          952 non-null    int64  \\n 18  valence               952 non-null    int64  \\n 19  energy                952 non-null    int64  \\n 20  acousticness          952 non-null    int64  \\n 21  instrumentalness      952 non-null    int64  \\n 22  liveness              952 non-null    int64  \\n 23  speechiness           952 non-null    int64  \\n 24  release_date          952 non-null    object \\ndtypes: float64(1), int64(17), object(7)\\nmemory usage: 186.1+ KB\\nNone\\n                            track_name    artist(s)_name  artist_count  \\\\\\n0  Seven (feat. Latto) (Explicit Ver.)  Latto, Jung Kook             2   \\n1                                 LALA       Myke Towers             1   \\n2                              vampire    Olivia Rodrigo             1   \\n3                         Cruel Summer      Taylor Swift             1   \\n4                       WHERE SHE GOES         Bad Bunny             1   \\n\\n   released_year  released_month  released_day  in_spotify_playlists  \\\\\\n0           2023               7            14                   553   \\n1           2023               3            23                  1474   \\n2           2023               6            30                  1397   \\n3           2019               8            23                  7858   \\n4           2023               5            18                  3133   \\n\\n   in_spotify_charts      streams  in_apple_playlists  ...  key   mode  \\\\\\n0                147  141381703.0                  43  ...    B  Major   \\n1                 48  133716286.0                  48  ...   C#  Major   \\n2                113  140003974.0                  94  ...    F  Major   \\n3                100  800840817.0                 116  ...    A  Major   \\n4                 50  303236322.0                  84  ...    A  Minor   \\n\\n   danceability valence  energy acousticness instrumentalness  liveness  \\\\\\n0            80      89      83           31                0         8   \\n1            71      61      74            7                0        10   \\n2            51      32      53           17                0        31   \\n3            55      58      72           11                0        11   \\n4            65      23      80           14               63        11   \\n\\n   speechiness  release_date  \\n0            4    2023-07-14  \\n1            4    2023-03-23  \\n2            6    2023-06-30  \\n3           15    2019-08-23  \\n4            6    2023-05-18  \\n\\n[5 rows x 25 columns]\\n\", 'executed_code': 'import pandas as pd\\n\\n# Load the dataset\\ndf = pd.read_csv(\"./spotify_dataset.csv\")\\n\\n# Check the structure of the dataset\\nprint(df.info())\\nprint(df.head())'}]\u001b[0m\n",
            "\n",
            "\n",
            "\u001b[1;34m == STEP 2 \u001b[0m\n",
            "\n",
            "\u001b[1;32mThe plan is:\u001b[0m \u001b[1mThe dataset contains the following relevant columns:\n",
            "- track_name\n",
            "- artist(s)_name\n",
            "- released_year\n",
            "- streams\n",
            "\n",
            "I will now write and execute Python code to filter the data for the top 3 most streamed songs on Spotify in 2023 and extract the age and citizenship of the artists. I will assume that the age and citizenship information is not available in the dataset and will use web search to find this information.\u001b[0m\n",
            "\n",
            "The model suggests making a single tool call:\n",
            "python_interpreter with this code:\n",
            "  import pandas as pd\n",
            "  \n",
            "  # Load the dataset\n",
            "  df = pd.read_csv(\"./spotify_dataset.csv\")\n",
            "  \n",
            "  # Filter for songs released in 2023\n",
            "  df_2023 = df[df[\"released_year\"] == 2023]\n",
            "  \n",
            "  # Sort the data by streams in descending order and select the top 3\n",
            "  top_3_songs = df_2023.sort_values(by=\"streams\", ascending=False).head(3)\n",
            "  \n",
            "  # Print the track names and artists\n",
            "  print(\"Top 3 most streamed songs on Spotify in 2023:\")\n",
            "  for index, row in top_3_songs.iterrows():\n",
            "      print(f\"Track: {row['track_name']}\")\n",
            "      print(f\"Artist(s): {row['artist(s)_name']}\")\n",
            "      print(\"\\n\")\n",
            "\u001b[1;35mtool_results:\u001b[0m \u001b[1m[{'console_output': 'Top 3 most streamed songs on Spotify in 2023:\\nTrack: Flowers\\nArtist(s): Miley Cyrus\\n\\n\\nTrack: Ella Baila Sola\\nArtist(s): Eslabon Armado, Peso Pluma\\n\\n\\nTrack: Shakira: Bzrp Music Sessions, Vol. 53\\nArtist(s): Shakira, Bizarrap\\n\\n\\n', 'executed_code': 'import pandas as pd\\n\\n# Load the dataset\\ndf = pd.read_csv(\"./spotify_dataset.csv\")\\n\\n# Filter for songs released in 2023\\ndf_2023 = df[df[\"released_year\"] == 2023]\\n\\n# Sort the data by streams in descending order and select the top 3\\ntop_3_songs = df_2023.sort_values(by=\"streams\", ascending=False).head(3)\\n\\n# Print the track names and artists\\nprint(\"Top 3 most streamed songs on Spotify in 2023:\")\\nfor index, row in top_3_songs.iterrows():\\n    print(f\"Track: {row[\\'track_name\\']}\")\\n    print(f\"Artist(s): {row[\\'artist(s)_name\\']}\")\\n    print(\"\\\\n\")'}]\u001b[0m\n",
            "\n",
            "\n",
            "\u001b[1;34m == STEP 3 \u001b[0m\n",
            "\n",
            "\u001b[1;32mThe plan is:\u001b[0m \u001b[1mThe top 3 most streamed songs on Spotify in 2023 are:\n",
            "1. Flowers by Miley Cyrus\n",
            "2. Ella Baila Sola by Eslabon Armado and Peso Pluma\n",
            "3. Shakira: Bzrp Music Sessions, Vol. 53 by Shakira and Bizarrap\n",
            "\n",
            "I will now use web search to find the age and citizenship of these artists.\u001b[0m\n",
            "\n",
            "The model suggests making Parallel Queries:\n",
            "== Parallel Tool Call #1\n",
            "web_search\n",
            "{'query': 'Miley Cyrus age and citizenship'}\n",
            "== Parallel Tool Call #2\n",
            "web_search\n",
            "{'query': 'Eslabon Armado age and citizenship'}\n",
            "== Parallel Tool Call #3\n",
            "web_search\n",
            "{'query': 'Peso Pluma age and citizenship'}\n",
            "== Parallel Tool Call #4\n",
            "web_search\n",
            "{'query': 'Shakira age and citizenship'}\n",
            "== Parallel Tool Call #5\n",
            "web_search\n",
            "{'query': 'Bizarrap age and citizenship'}\n",
            "\u001b[1;35mtool_results:\u001b[0m \u001b[1m[{'title': 'Miley Cyrus Bio, Age, Parents, Siblings, Boyfriend ... | FamousIntel', 'url': 'https://famousintel.com/miley-cyrus/', 'content': \"Miley Cyrus Age and Birthday. Cyrus is 29 years old as of 2021. She was born Miley Ray Cyrus on 23 November 1992 in Franklin, Tennessee, United States. She celebrates her birthday on 23 November every year. Miley Cyrus Real Name. Why did Miley change her name? Her parents' hopes for her future were reflected in her birth name, Destiny Hope.\", 'score': 0.9721516, 'raw_content': None}, {'title': 'Miley Cyrus - Biography | IMDb', 'url': 'https://www.imdb.com/name/nm1415323/bio/', 'content': \"Miley Cyrus. Actress: Hannah Montana. Miley Ray Cyrus was born Destiny Hope Cyrus on November 23, 1992 in Franklin, Tennessee and raised in Thompson's Station, Tennessee to Tish Cyrus & Billy Ray Cyrus. She has five siblings - two half-brothers, a half-sister, and a younger brother and sister. Her parents named her because they hoped she would achieve greatness. Her childhood nickname, Smiley ...\", 'score': 0.32402146, 'raw_content': None}, {'title': 'Miley Cyrus | Biography, TV Shows, Songs, & Facts | Britannica', 'url': 'https://www.britannica.com/biography/Miley-Cyrus', 'content': 'Meanwhile, Cyrus continued to record under her own name for the EP The Time of Our Lives (2009), which featured the hit “Party in the U.S.A.,” and the full-length album Can’t Be Tamed (2010). She then veered away from the mainstream with Miley Cyrus & Her Dead Petz (2015), a collection of loosely psychedelic songs recorded in large part with the rock band the Flaming Lips and made available for free on the Internet. In 2005 Cyrus auditioned for the lead role in Hannah Montana, a Disney Channel series about a girl who leads a double life as a normal middle-school student and, with the help of a blonde wig, as a glamorous pop singer. Cyrus was a coach on the television singing competition The Voice in 2016–17, and she costarred with Woody Allen and Elaine May in Allen’s six-episode TV series Crisis in Six Scenes (2016). The show debuted the following year (featuring Billy Ray as her TV dad) and became an immediate sensation, scoring record ratings for cable television and turning the 13-year-old into a bona fide star.', 'score': 0.27845296, 'raw_content': None}]\u001b[0m\n",
            "\u001b[1;35mtool_results:\u001b[0m \u001b[1m[{'title': 'Pedro Tova - Age, Eslabon Armado, Song & Brother - Biography', 'url': 'https://biographyhost.com/p/pedro-tovar.html', 'content': 'Age 22 Years, 1 Months ; ... Eslabon Armado, a California-based musical band, meaning \"linked chain,\" was initially formed in 2017. Alongside the lead vocalist Pedro Tovar, the band\\'s other members include Bryan Tovar, also his brother, responsible for bass and bajoloche, and Gabriel Hidalgo, responsible for harmony and background vocals. ...', 'score': 0.9812389, 'raw_content': None}, {'title': 'Eslabon Armado - Wikipedia', 'url': 'https://en.wikipedia.org/wiki/Eslabon_Armado', 'content': 'Eslabon Armado is an American regional Mexican group from Patterson, California formed in 2017. The group consists of Pedro Tovar (lead vocals), Brian Tovar (bass), Damian Pacheco ( twelve-string guitar ), and Ulises González (acoustic guitar), with González joining in 2021 after Hidalgo left the group in 2020, with the Tovar brothers being ...', 'score': 0.9803562, 'raw_content': None}, {'title': \"Eslabón Armado Helped Make Musica Mexicana History. What's Next?\", 'url': 'https://www.rollingstone.com/music/music-features/eslabon-armado-new-song-la-fresa-interview-exclusive-1234838542/', 'content': 'The 21-year-old singer is the voice behind Eslabón Armado, one of the biggest bands in the booming música Mexicana scene. This year, Eslabón Armado released Desvelado, a follow up to their 2022 ...', 'score': 0.98020524, 'raw_content': None}]\u001b[0m\n",
            "\u001b[1;35mtool_results:\u001b[0m \u001b[1m[{'title': \"Peso Pluma's height, age, real name, parents, nationality and net worth\", 'url': 'https://www.msn.com/en-za/news/other/peso-plumas-height-age-real-name-parents-nationality-and-net-worth/ar-AA1klboL', 'content': 'Peso Pluma, whose real name is Hassan Emilio Kabande Laija, is 24 years of age as of 2023. He was born in Zapopan, just outside of Guadalajara in Mexico, on 15 June 1999, but moved to San Antonio ...', 'score': 0.9932288, 'raw_content': None}, {'title': 'Who is Peso Pluma? His real name, age, height, nationality, and more', 'url': 'https://wegotthiscovered.com/celebrities/who-is-peso-pluma-his-real-name-age-height-nationality-and-more/', 'content': 'Peso Pluma was born on June 15, 1999, so he is currently 24 years old. At such a young age, it is extremely impressive that he has gained mainstream success as an international artist.', 'score': 0.9856077, 'raw_content': None}, {'title': \"Peso Pluma's height, age, real name, parents, nationality\", 'url': 'https://www.legit.ng/ask-legit/biographies/1560619-peso-plumas-height-age-real-parents-nationality/', 'content': \"Die Antwoord's Yolandi Visser: age, husband, children, net worth. Peso Pluma's height is 5 feet 7 inches or 170 centimetres. He is a Mexican-born singer and songwriter best known for his hit tracks, including Ella Baila Sola, LADY GAGA and El Belicon. He is the founder of Double P Records.\", 'score': 0.92656994, 'raw_content': None}]\u001b[0m\n",
            "\u001b[1;35mtool_results:\u001b[0m \u001b[1m[{'title': \"Shakira's Age, Height & Nationality: Background & Stats - Heavy.com\", 'url': 'https://heavy.com/entertainment/2020/02/shakira-age-height-nationality-how-old/', 'content': 'Shakira was born on February 2, 1977, making her 43 years old today. The Latin pop star stands at 5-foot-2-inches tall and has been dating Gerard Piqué since 2011.', 'score': 0.684264, 'raw_content': None}, {'title': \"Discover Shakira's Nationality: Colombian Citizenship And Lebanese ...\", 'url': 'https://astroinsightz.com/what-is-the-nationality-of-shakira/', 'content': 'Born Shakira Isabel Mebarak Ripoll on February 2, 1977, in Barranquilla, Colombia, Shakira showed an early passion for music. Growing up in a middle-class family, she was exposed to a diverse array of musical genres, from traditional Colombian folk music to rock and roll. At the tender age of eight, Shakira wrote her first song, showcasing her ...', 'score': 0.52010024, 'raw_content': None}, {'title': 'Shakira | Biography, Songs, Full Name, & Facts | Britannica', 'url': 'https://www.britannica.com/biography/Shakira', 'content': 'At that year’s Latin Grammy Awards, she captured song-of-the-year and record-of-the-year awards for the single “La tortura,” and Fijación oral, vol. 1 was named album of the year as well as best female pop vocal album; it also won a Grammy Award for best Latin rock/alternative album. Her later albums included Shakira (2014), which featured a duet with Rihanna, and El Dorado (2017), winner of the Grammy Award for best Latin pop album and the Latin Grammy for best contemporary pop vocal album. In addition, El Dorado featured the single “La bicicleta,” a duet with Carlos Vives that won Latin Grammys for best record of the year and best song of the year. Shakira continued her crossover success in 2005 with the release of the Spanish-language Fijación oral, vol. 1 in June and the English-language Oral Fixation, Vol. 2 in November. Shakira (born February 2, 1977, Barranquilla, Colombia) Colombian musician who achieved success in both Spanish- and English-speaking markets and by the early 2000s was one of the most successful Latin American recording artists.\\n', 'score': 0.2849738, 'raw_content': None}]\u001b[0m\n",
            "\u001b[1;35mtool_results:\u001b[0m \u001b[1m[{'title': 'Bizarrap Bio, Age, Height, Producer, Youtuber, Net Worth', 'url': 'https://marriedbiography.com/bizarrap-biography/', 'content': 'Bizarrap: Bio, Age, Parents, Education, Ethnicity Gonzalo Julián Conde , better known as Bizarrap, was born on August 29, 1998 , in Ramos Meja, Argentina. As of 2023, he is 25 years old and a naturalized Argentine citizen who professes Catholicism.', 'score': 0.9979888, 'raw_content': None}, {'title': 'Bizarrap - Wikipedia', 'url': 'https://en.wikipedia.org/wiki/Bizarrap', 'content': 'Bizarrap. Gonzalo Julián Conde (born 29 August 1998), known professionally as Bizarrap, is an Argentine DJ and producer. He specializes in EDM, Latin trap and Latin hip hop. He is known for his Bzrp Music Sessions, a series of independent tracks which he records with a wide variety of artists. [1] He was nominated for a Latin Grammy Award for ...', 'score': 0.9613165, 'raw_content': None}, {'title': 'Everything we know about record producer Bizarrap - HOLA.com', 'url': 'https://www.hola.com/us/celebrities/20230117341614/who-is-bizarrap/', 'content': 'Meet Bizarrap: The composer and record producer topping the charts alongside Shakira The 24-year-old artist began his musical career in 2017 in his native hometown. Shirley Gomez .', 'score': 0.8451773, 'raw_content': None}]\u001b[0m\n",
            "\n",
            "\n",
            " \u001b[1;32mThe final answer is:\u001b[0m \u001b[1mHere is the age and citizenship of the artists who had the top 3 most streamed songs on Spotify in 2023:\n",
            "\n",
            "1. Miley Cyrus:\n",
            "- Age: 30 (born 23 November 1992)\n",
            "- Citizenship: American\n",
            "\n",
            "2. Eslabon Armado:\n",
            "- Age: 21-22\n",
            "- Citizenship: American\n",
            "\n",
            "3. Peso Pluma:\n",
            "- Age: 24 (born 15 June 1999)\n",
            "- Citizenship: Mexican\n",
            "\n",
            "4. Shakira:\n",
            "- Age: 45 (born 2 February 1977)\n",
            "- Citizenship: Colombian\n",
            "\n",
            "5. Bizarrap:\n",
            "- Age: 25 (born 29 August 1998)\n",
            "- Citizenship: Argentine\u001b[0m\n",
            "\n"
          ]
        }
      ]
    },
    {
      "cell_type": "code",
      "source": [],
      "metadata": {
        "id": "wriemcrmIRyV"
      },
      "execution_count": null,
      "outputs": []
    }
  ]
}