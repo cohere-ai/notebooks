{
 "cells": [
  {
   "cell_type": "markdown",
   "metadata": {},
   "source": [
    "<a target=\"_blank\" href=\"https://colab.research.google.com/github/cohere-ai/notebooks/blob/main/notebooks/guides/getting-started/v2/tutorial_pt5_v2.ipynb\">\n",
    "  <img src=\"https://colab.research.google.com/assets/colab-badge.svg\" alt=\"Open In Colab\"/>\n",
    "</a>"
   ]
  },
  {
   "cell_type": "markdown",
   "metadata": {},
   "source": [
    "# Reranking"
   ]
  },
  {
   "cell_type": "markdown",
   "metadata": {},
   "source": [
    "Reranking is a technique that leverages embeddings as the last stage of a retrieval process, and is especially useful in RAG systems.\n",
    "\n",
    "We can rerank results from semantic search as well as any other search systems such as lexical search. This means that companies can retain an existing keyword-based (also called “lexical”) or semantic search system for the first-stage retrieval and integrate the Rerank endpoint in the second-stage reranking.\n",
    "\n",
    "In this tutorial, you'll learn about:\n",
    "- Reranking lexical/semantic search results\n",
    "- Reranking semi-structured data\n",
    "- Reranking tabular data\n",
    "- Multilingual reranking\n",
    "\n",
    "You'll learn these by building an onboarding assistant for new hires."
   ]
  },
  {
   "cell_type": "markdown",
   "metadata": {},
   "source": [
    "## Setup\n",
    "\n",
    "To get started, first we need to install the `cohere` library and create a Cohere client."
   ]
  },
  {
   "cell_type": "code",
   "execution_count": 1,
   "metadata": {},
   "outputs": [],
   "source": [
    "# pip install cohere\n",
    "\n",
    "import cohere\n",
    "\n",
    "co = cohere.ClientV2(api_key=\"COHERE_API_KEY\") # Get your free API key: https://dashboard.cohere.com/api-keys"
   ]
  },
  {
   "cell_type": "markdown",
   "metadata": {},
   "source": [
    "## Reranking lexical/semantic search results"
   ]
  },
  {
   "cell_type": "markdown",
   "metadata": {},
   "source": [
    "Rerank requires just a single line of code to implement.\n",
    "\n",
    "Suppose we have a list of search results of an FAQ list, which can come from semantic, lexical, or any other types of search systems. But this list may not be optimally ranked for relevance to the user query.\n",
    "\n",
    "This is where Rerank can help. We call the endpoint using `co.rerank()` and pass the following arguments:\n",
    "- `query`: The user query\n",
    "- `documents`: The list of documents\n",
    "- `top_n`: The top reranked documents to select\n",
    "- `model`: We choose Rerank English 3"
   ]
  },
  {
   "cell_type": "code",
   "execution_count": 2,
   "metadata": {},
   "outputs": [],
   "source": [
    "# Define the documents\n",
    "faqs_short = [\n",
    "    {\"text\": \"Reimbursing Travel Expenses: Easily manage your travel expenses by submitting them through our finance tool. Approvals are prompt and straightforward.\"},\n",
    "    {\"text\": \"Working from Abroad: Working remotely from another country is possible. Simply coordinate with your manager and ensure your availability during core hours.\"},\n",
    "    {\"text\": \"Health and Wellness Benefits: We care about your well-being and offer gym memberships, on-site yoga classes, and comprehensive health insurance.\"},\n",
    "    {\"text\": \"Performance Reviews Frequency: We conduct informal check-ins every quarter and formal performance reviews twice a year.\"}\n",
    "]"
   ]
  },
  {
   "cell_type": "code",
   "execution_count": 3,
   "metadata": {},
   "outputs": [
    {
     "name": "stdout",
     "output_type": "stream",
     "text": [
      "id='2fa5bc0d-28aa-4c99-8355-7de78dbf3c86' results=[RerankResponseResultsItem(document=None, index=2, relevance_score=0.01798621), RerankResponseResultsItem(document=None, index=3, relevance_score=8.463939e-06)] meta=ApiMeta(api_version=ApiMetaApiVersion(version='1', is_deprecated=None, is_experimental=None), billed_units=ApiMetaBilledUnits(input_tokens=None, output_tokens=None, search_units=1.0, classifications=None), tokens=None, warnings=None)\n"
     ]
    }
   ],
   "source": [
    "# Add the user query\n",
    "query = \"Are there fitness-related perks?\"\n",
    "\n",
    "# Rerank the documents\n",
    "results = co.rerank(query=query,\n",
    "                    documents=faqs_short,\n",
    "                    top_n=2,\n",
    "                    model='rerank-english-v3.0')\n",
    "\n",
    "print(results)"
   ]
  },
  {
   "cell_type": "code",
   "execution_count": 4,
   "metadata": {},
   "outputs": [
    {
     "name": "stdout",
     "output_type": "stream",
     "text": [
      "Rank: 1\n",
      "Score: 0.01798621\n",
      "Document: {'text': 'Health and Wellness Benefits: We care about your well-being and offer gym memberships, on-site yoga classes, and comprehensive health insurance.'}\n",
      "\n",
      "Rank: 2\n",
      "Score: 8.463939e-06\n",
      "Document: {'text': 'Performance Reviews Frequency: We conduct informal check-ins every quarter and formal performance reviews twice a year.'}\n",
      "\n"
     ]
    }
   ],
   "source": [
    "# Display the reranking results\n",
    "def return_results(results, documents):    \n",
    "    for idx, result in enumerate(results.results):\n",
    "        print(f\"Rank: {idx+1}\") \n",
    "        print(f\"Score: {result.relevance_score}\")\n",
    "        print(f\"Document: {documents[result.index]}\\n\")\n",
    "    \n",
    "return_results(results, faqs_short)"
   ]
  },
  {
   "cell_type": "markdown",
   "metadata": {},
   "source": [
    "Further reading:\n",
    "- [Rerank endpoint API reference](https://docs.cohere.com/reference/rerank)\n",
    "- [Documentation on Rerank](https://docs.cohere.com/docs/overview)\n",
    "- [Documentation on Rerank fine-tuning](https://docs.cohere.com/docs/rerank-fine-tuning)\n",
    "- [Documentation on Rerank best practices](https://docs.cohere.com/docs/reranking-best-practices)\n",
    "- [LLM University module on Text Representation](https://cohere.com/llmu#text-representation)"
   ]
  },
  {
   "cell_type": "markdown",
   "metadata": {},
   "source": [
    "## Reranking semi-structured data"
   ]
  },
  {
   "cell_type": "markdown",
   "metadata": {},
   "source": [
    "The Rerank 3 model supports multi-aspect and semi-structured data like emails, invoices, JSON documents, code, and tables. By setting the rank fields, you can select which fields the model should consider for reranking.\n",
    "\n",
    "In the following example, we'll use an email data example. It is a semi-stuctured data that contains a number of fields – `from`, `to`, `date`, `subject`, and `text`. \n",
    "\n",
    "Suppose the new hire now wants to search for any emails about check-in sessions. Let's pretend we have a list of 5 emails retrieved from the email provider's API.\n",
    "\n",
    "To perform reranking over semi-structured data, we add an additional parameter, `rank_fields`, which contains the list of available fields.\n",
    "\n",
    "The model will rerank based on order of the fields passed in. For example, given rank_fields=['title','author','text'], the model will rerank using the values in title, author, and text sequentially. "
   ]
  },
  {
   "cell_type": "code",
   "execution_count": 5,
   "metadata": {},
   "outputs": [],
   "source": [
    "# Define the documents\n",
    "emails = [\n",
    "    {\"from\": \"hr@co1t.com\", \"to\": \"david@co1t.com\", \"date\": \"2024-06-24\", \"subject\": \"A Warm Welcome to Co1t!\", \"text\": \"We are delighted to welcome you to the team! As you embark on your journey with us, you'll find attached an agenda to guide you through your first week.\"},\n",
    "    {\"from\": \"it@co1t.com\", \"to\": \"david@co1t.com\", \"date\": \"2024-06-24\", \"subject\": \"Setting Up Your IT Needs\", \"text\": \"Greetings! To ensure a seamless start, please refer to the attached comprehensive guide, which will assist you in setting up all your work accounts.\"},\n",
    "    {\"from\": \"john@co1t.com\", \"to\": \"david@co1t.com\", \"date\": \"2024-06-24\", \"subject\": \"First Week Check-In\", \"text\": \"Hello! I hope you're settling in well. Let's connect briefly tomorrow to discuss how your first week has been going. Also, make sure to join us for a welcoming lunch this Thursday at noon—it's a great opportunity to get to know your colleagues!\"}\n",
    "]"
   ]
  },
  {
   "cell_type": "code",
   "execution_count": 6,
   "metadata": {},
   "outputs": [
    {
     "name": "stdout",
     "output_type": "stream",
     "text": [
      "Rank: 1\n",
      "Score: 0.1979091\n",
      "Document: {'from': 'john@co1t.com', 'to': 'david@co1t.com', 'date': '2024-06-24', 'subject': 'First Week Check-In', 'text': \"Hello! I hope you're settling in well. Let's connect briefly tomorrow to discuss how your first week has been going. Also, make sure to join us for a welcoming lunch this Thursday at noon—it's a great opportunity to get to know your colleagues!\"}\n",
      "\n",
      "Rank: 2\n",
      "Score: 9.535461e-05\n",
      "Document: {'from': 'hr@co1t.com', 'to': 'david@co1t.com', 'date': '2024-06-24', 'subject': 'A Warm Welcome to Co1t!', 'text': \"We are delighted to welcome you to the team! As you embark on your journey with us, you'll find attached an agenda to guide you through your first week.\"}\n",
      "\n"
     ]
    }
   ],
   "source": [
    "# Add the user query\n",
    "query = \"Any email about check ins?\"\n",
    "\n",
    "# Rerank the documents\n",
    "results = co.rerank(query=query,\n",
    "                    documents=emails,\n",
    "                    top_n=2,\n",
    "                    model='rerank-english-v3.0',\n",
    "                    rank_fields=[\"from\", \"to\", \"date\", \"subject\", \"body\"])\n",
    "\n",
    "return_results(results, emails)"
   ]
  },
  {
   "cell_type": "markdown",
   "metadata": {},
   "source": [
    "## Reranking tabular data"
   ]
  },
  {
   "cell_type": "markdown",
   "metadata": {},
   "source": [
    "Many enterprises rely on tabular data, such as relational databases, CSVs, and Excel. To perform reranking, you can transform a dataframe into a list of JSON records and use Rerank 3's JSON capabilities to rank them.\n",
    "\n",
    "Here's an example of reranking a CSV file that contains employee information."
   ]
  },
  {
   "cell_type": "code",
   "execution_count": 7,
   "metadata": {},
   "outputs": [
    {
     "name": "stderr",
     "output_type": "stream",
     "text": [
      "/Users/meor/anaconda3/lib/python3.11/site-packages/pandas/core/arrays/masked.py:60: UserWarning: Pandas requires version '1.3.6' or newer of 'bottleneck' (version '1.3.5' currently installed).\n",
      "  from pandas.core import (\n"
     ]
    },
    {
     "data": {
      "text/html": [
       "<div>\n",
       "<style scoped>\n",
       "    .dataframe tbody tr th:only-of-type {\n",
       "        vertical-align: middle;\n",
       "    }\n",
       "\n",
       "    .dataframe tbody tr th {\n",
       "        vertical-align: top;\n",
       "    }\n",
       "\n",
       "    .dataframe thead th {\n",
       "        text-align: right;\n",
       "    }\n",
       "</style>\n",
       "<table border=\"1\" class=\"dataframe\">\n",
       "  <thead>\n",
       "    <tr style=\"text-align: right;\">\n",
       "      <th></th>\n",
       "      <th>name</th>\n",
       "      <th>role</th>\n",
       "      <th>join_date</th>\n",
       "      <th>email</th>\n",
       "      <th>status</th>\n",
       "    </tr>\n",
       "  </thead>\n",
       "  <tbody>\n",
       "    <tr>\n",
       "      <th>0</th>\n",
       "      <td>Rebecca Lee</td>\n",
       "      <td>Senior Software Engineer</td>\n",
       "      <td>2024-07-01</td>\n",
       "      <td>rebecca@co1t.com</td>\n",
       "      <td>Full-time</td>\n",
       "    </tr>\n",
       "    <tr>\n",
       "      <th>1</th>\n",
       "      <td>Emma Williams</td>\n",
       "      <td>Product Designer</td>\n",
       "      <td>2024-06-15</td>\n",
       "      <td>emma@co1t.com</td>\n",
       "      <td>Full-time</td>\n",
       "    </tr>\n",
       "    <tr>\n",
       "      <th>2</th>\n",
       "      <td>Michael Jones</td>\n",
       "      <td>Marketing Manager</td>\n",
       "      <td>2024-05-20</td>\n",
       "      <td>michael@co1t.com</td>\n",
       "      <td>Full-time</td>\n",
       "    </tr>\n",
       "    <tr>\n",
       "      <th>3</th>\n",
       "      <td>Amelia Thompson</td>\n",
       "      <td>Sales Representative</td>\n",
       "      <td>2024-05-20</td>\n",
       "      <td>amelia@co1t.com</td>\n",
       "      <td>Part-time</td>\n",
       "    </tr>\n",
       "    <tr>\n",
       "      <th>4</th>\n",
       "      <td>Ethan Davis</td>\n",
       "      <td>Product Designer</td>\n",
       "      <td>2024-05-25</td>\n",
       "      <td>ethan@co1t.com</td>\n",
       "      <td>Contractor</td>\n",
       "    </tr>\n",
       "  </tbody>\n",
       "</table>\n",
       "</div>"
      ],
      "text/plain": [
       "              name                      role   join_date             email  \\\n",
       "0      Rebecca Lee  Senior Software Engineer  2024-07-01  rebecca@co1t.com   \n",
       "1    Emma Williams          Product Designer  2024-06-15     emma@co1t.com   \n",
       "2    Michael Jones         Marketing Manager  2024-05-20  michael@co1t.com   \n",
       "3  Amelia Thompson      Sales Representative  2024-05-20   amelia@co1t.com   \n",
       "4      Ethan Davis          Product Designer  2024-05-25    ethan@co1t.com   \n",
       "\n",
       "       status  \n",
       "0   Full-time  \n",
       "1   Full-time  \n",
       "2   Full-time  \n",
       "3   Part-time  \n",
       "4  Contractor  "
      ]
     },
     "execution_count": 7,
     "metadata": {},
     "output_type": "execute_result"
    }
   ],
   "source": [
    "import pandas as pd\n",
    "from io import StringIO\n",
    "\n",
    "# Create a demo CSV file\n",
    "data = \"\"\"name,role,join_date,email,status\n",
    "Rebecca Lee,Senior Software Engineer,2024-07-01,rebecca@co1t.com,Full-time\n",
    "Emma Williams,Product Designer,2024-06-15,emma@co1t.com,Full-time\n",
    "Michael Jones,Marketing Manager,2024-05-20,michael@co1t.com,Full-time\n",
    "Amelia Thompson,Sales Representative,2024-05-20,amelia@co1t.com,Part-time\n",
    "Ethan Davis,Product Designer,2024-05-25,ethan@co1t.com,Contractor\"\"\"\n",
    "data_csv = StringIO(data)\n",
    "\n",
    "# Load the CSV file\n",
    "df = pd.read_csv(data_csv)\n",
    "df.head()"
   ]
  },
  {
   "cell_type": "code",
   "execution_count": 8,
   "metadata": {},
   "outputs": [
    {
     "name": "stdout",
     "output_type": "stream",
     "text": [
      "Rank: 1\n",
      "Score: 0.986828\n",
      "Document: {'name': 'Emma Williams', 'role': 'Product Designer', 'join_date': '2024-06-15', 'email': 'emma@co1t.com', 'status': 'Full-time'}\n",
      "\n"
     ]
    }
   ],
   "source": [
    "# Define the documents and rank fields\n",
    "employees = df.to_dict('records')\n",
    "rank_fields = df.columns.tolist()\n",
    "\n",
    "# Add the user query\n",
    "query = \"Any full-time product designers who joined recently?\"\n",
    "\n",
    "# Rerank the documents\n",
    "results = co.rerank(query=query,\n",
    "                    documents=employees,\n",
    "                    top_n=1,\n",
    "                    model='rerank-english-v3.0',\n",
    "                    rank_fields=rank_fields)\n",
    "\n",
    "return_results(results, employees)\n"
   ]
  },
  {
   "cell_type": "markdown",
   "metadata": {},
   "source": [
    "## Multilingual reranking"
   ]
  },
  {
   "cell_type": "markdown",
   "metadata": {},
   "source": [
    "The Rerank endpoint also supports multilingual semantic search via the `rerank-multilingual-...` models. This means you can perform semantic search on texts in different languages.\n",
    "\n",
    "In the example below, we repeat the steps of performing reranking with one difference – changing the model type to a multilingual one. Here, we use the `rerank-multilingual-v3.0` model. Here, we are reranking the FAQ list using an Arabic query."
   ]
  },
  {
   "cell_type": "code",
   "execution_count": 9,
   "metadata": {},
   "outputs": [
    {
     "name": "stdout",
     "output_type": "stream",
     "text": [
      "Rank: 1\n",
      "Score: 0.42232594\n",
      "Document: {'text': 'Health and Wellness Benefits: We care about your well-being and offer gym memberships, on-site yoga classes, and comprehensive health insurance.'}\n",
      "\n",
      "Rank: 2\n",
      "Score: 0.00025118678\n",
      "Document: {'text': 'Performance Reviews Frequency: We conduct informal check-ins every quarter and formal performance reviews twice a year.'}\n",
      "\n"
     ]
    }
   ],
   "source": [
    "# Define the query\n",
    "query = \"هل هناك مزايا تتعلق باللياقة البدنية؟\" # Are there fitness benefits?\n",
    "\n",
    "# Rerank the documents\n",
    "results = co.rerank(query=query,\n",
    "                    documents=faqs_short,\n",
    "                    top_n=2,\n",
    "                    model='rerank-multilingual-v3.0')\n",
    "\n",
    "return_results(results, faqs_short)"
   ]
  },
  {
   "cell_type": "markdown",
   "metadata": {},
   "source": [
    "## Conclusion"
   ]
  },
  {
   "cell_type": "markdown",
   "metadata": {},
   "source": [
    "In this tutorial, you learned about:\n",
    "- How to rerank lexical/semantic search results\n",
    "- How to rerank semi-structured data\n",
    "- How to rerank tabular data\n",
    "- How to perform Multilingual reranking\n",
    "\n",
    "We have now seen two critical components of a powerful search system - semantic search, or dense retrieval (Part 4) and reranking (Part 5). These building blocks are essential for implementing RAG solutions.\n",
    "\n",
    "In Part 6, you will learn how to implement RAG."
   ]
  }
 ],
 "metadata": {
  "kernelspec": {
   "display_name": "base",
   "language": "python",
   "name": "base"
  },
  "language_info": {
   "codemirror_mode": {
    "name": "ipython",
    "version": 3
   },
   "file_extension": ".py",
   "mimetype": "text/x-python",
   "name": "python",
   "nbconvert_exporter": "python",
   "pygments_lexer": "ipython3",
   "version": "3.11.4"
  }
 },
 "nbformat": 4,
 "nbformat_minor": 2
}
