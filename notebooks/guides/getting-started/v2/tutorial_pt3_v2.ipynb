{
 "cells": [
  {
   "cell_type": "markdown",
   "metadata": {},
   "source": [
    "<a target=\"_blank\" href=\"https://colab.research.google.com/github/cohere-ai/notebooks/blob/main/notebooks/guides/getting-started/v2/tutorial_pt3_v2.ipynb\">\n",
    "  <img src=\"https://colab.research.google.com/assets/colab-badge.svg\" alt=\"Open In Colab\"/>\n",
    "</a>"
   ]
  },
  {
   "cell_type": "markdown",
   "metadata": {},
   "source": [
    "# Chatbots"
   ]
  },
  {
   "cell_type": "markdown",
   "metadata": {},
   "source": [
    "As its name implies, the Chat endpoint enables developers to build chatbots that can handle conversations. At the core of a conversation is a multi-turn dialog between the user and the chatbot. This requires the chatbot to have the state (or “memory”) of all the previous turns to maintain the state of the conversation.\n",
    "\n",
    "In this tutorial, you'll learn about:\n",
    "- Creating a custom preamble\n",
    "- Creating a single-turn conversation\n",
    "- Building the conversation memory\n",
    "- Running a multi-turn conversation\n",
    "- Viewing the chat history\n",
    "\n",
    "You'll learn these by building an onboarding assistant for new hires."
   ]
  },
  {
   "cell_type": "markdown",
   "metadata": {},
   "source": [
    "## Setup\n",
    "\n",
    "To get started, first we need to install the `cohere` library and create a Cohere client."
   ]
  },
  {
   "cell_type": "code",
   "execution_count": 1,
   "metadata": {},
   "outputs": [],
   "source": [
    "# pip install cohere\n",
    "\n",
    "import cohere\n",
    "\n",
    "co = cohere.ClientV2(api_key\"COHERE_API_KEY\") # Get your free API key: https://dashboard.cohere.com/api-keys"
   ]
  },
  {
   "cell_type": "markdown",
   "metadata": {},
   "source": [
    "## Creating a custom preamble"
   ]
  },
  {
   "cell_type": "markdown",
   "metadata": {},
   "source": [
    "A conversation starts with a system message, or a preamble, to help steer a chatbot’s response toward certain characteristics.\n",
    "\n",
    "For example, if we want the chatbot to adopt a formal style, the preamble can be used to encourage the generation of more business-like and professional responses.\n",
    "\n",
    "The recommended approach is to use two H2 Markdown headers: \"Task and Context\" and \"Style Guide\" in the exact order.\n",
    "\n",
    "In the example below, the preamble provides context for the assistant's task (task and context) and encourages the generation of rhymes as much as possible (style guide)."
   ]
  },
  {
   "cell_type": "code",
   "execution_count": 2,
   "metadata": {},
   "outputs": [
    {
     "name": "stdout",
     "output_type": "stream",
     "text": [
      "Sure, here's a rhyme to break the ice,\n",
      "A warm welcome to the team, so nice,\n",
      "\n",
      "Hi, I'm [Your Name], a new face,\n",
      "Ready to join the Co1t space,\n",
      "\n",
      "A journey begins, a path unknown,\n",
      "But together we'll make our mark, a foundation stone,\n",
      "\n",
      "Excited to learn and contribute my part,\n",
      "Let's create, innovate, and leave a lasting art,\n",
      "\n",
      "Looking forward to our adventures yet untold,\n",
      "With teamwork and passion, let's achieve our goals!\n",
      "\n",
      "Cheers to a great start!\n",
      "Your enthusiastic new mate.\n"
     ]
    }
   ],
   "source": [
    "# Add the user message\n",
    "message = \"I'm joining a new startup called Co1t today. Could you help me write a short introduction message to my teammates.\"\n",
    "\n",
    "# Create a custom system message\n",
    "system_message=\"\"\"## Task and Context\n",
    "You are an assistant who assist new employees of Co1t with their first week.\n",
    "\n",
    "## Style Guide\n",
    "Try to speak in rhymes as much as possible. Be professional.\"\"\"\n",
    "\n",
    "# Add the messages\n",
    "messages = [{\"role\": \"system\", \"content\": system_message},\n",
    "            {\"role\": \"user\", \"content\": message}]\n",
    "\n",
    "# Generate the response\n",
    "response = co.chat(model=\"command-r-plus-08-2024\",\n",
    "                   messages=messages)\n",
    "\n",
    "print(response.message.content[0].text)"
   ]
  },
  {
   "cell_type": "markdown",
   "metadata": {},
   "source": [
    "Further reading:\n",
    "- [Documentation on preambles](https://docs.cohere.com/docs/preambles)"
   ]
  },
  {
   "cell_type": "markdown",
   "metadata": {},
   "source": [
    "## Starting the first conversation turn"
   ]
  },
  {
   "cell_type": "markdown",
   "metadata": {},
   "source": [
    "Let's start with the first conversation turn.\n",
    "\n",
    "Here, we are also adding a custom preamble or system message for generating a concise response, just to keep the outputs brief for this tutorial."
   ]
  },
  {
   "cell_type": "code",
   "execution_count": 3,
   "metadata": {},
   "outputs": [
    {
     "name": "stdout",
     "output_type": "stream",
     "text": [
      "\"Hello, teammates! I'm thrilled to join the Co1t family today and looking forward to getting to know you all and contributing to our shared success.\"\n"
     ]
    }
   ],
   "source": [
    "# Add the user message\n",
    "message = \"I'm joining a new startup called Co1t today. Could you help me write a short introduction message to my teammates.\"\n",
    "\n",
    "# Create a custom system message\n",
    "system_message=\"\"\"## Task and Context\n",
    "Generate concise responses, with maximum one-sentence.\"\"\"\n",
    "\n",
    "# Add the messages\n",
    "messages = [{\"role\": \"system\", \"content\": system_message},\n",
    "            {\"role\": \"user\", \"content\": message}]\n",
    "\n",
    "# Generate the response\n",
    "response = co.chat(model=\"command-r-plus-08-2024\",\n",
    "                   messages=messages)\n",
    "\n",
    "print(response.message.content[0].text)"
   ]
  },
  {
   "cell_type": "markdown",
   "metadata": {},
   "source": [
    "## Building the conversation memory"
   ]
  },
  {
   "cell_type": "markdown",
   "metadata": {},
   "source": [
    "Now, we want the model to refine the earlier response. This requires the next generation to have access to the state, or memory, of the conversation.\n",
    "\n",
    "To do this, we append the `messages` with the model's previous response using the `assistant` role.\n",
    "\n",
    "Next, we also append a new user message (for the second turn) to the `messages` list.\n",
    "\n",
    "Looking at the response, we see that the model is able to get the context from the chat history. The model is able to capture that \"it\" in the user message refers to the introduction message it had generated earlier."
   ]
  },
  {
   "cell_type": "code",
   "execution_count": 4,
   "metadata": {},
   "outputs": [
    {
     "name": "stdout",
     "output_type": "stream",
     "text": [
      "\"Hey, future Co1t buddies! Stoked to join this awesome team, let's get to know each other and make some startup magic together!\"\n"
     ]
    }
   ],
   "source": [
    "# Append the previous response\n",
    "messages.append({'role' : 'assistant', 'content': response.message.content[0].text})\n",
    "\n",
    "# Add the user message\n",
    "message = \"Make it more upbeat and conversational.\"\n",
    "\n",
    "# Append the user message\n",
    "messages.append({\"role\": \"user\", \"content\": message})\n",
    "\n",
    "# Generate the response with the current chat history as the context\n",
    "response = co.chat(model=\"command-r-plus-08-2024\",\n",
    "                   messages=messages)\n",
    "\n",
    "print(response.message.content[0].text)"
   ]
  },
  {
   "cell_type": "markdown",
   "metadata": {},
   "source": [
    "Further reading:\n",
    "- [Documentation on using the Chat endpoint](https://docs.cohere.com/docs/chat-api)"
   ]
  },
  {
   "cell_type": "markdown",
   "metadata": {},
   "source": [
    "## Running a multi-turn conversation"
   ]
  },
  {
   "cell_type": "markdown",
   "metadata": {},
   "source": [
    "\n",
    "You can continue doing this for any number of turns by continuing to append the chatbot's response and the new user message to the `messages` list."
   ]
  },
  {
   "cell_type": "code",
   "execution_count": 5,
   "metadata": {},
   "outputs": [
    {
     "name": "stdout",
     "output_type": "stream",
     "text": [
      "\"Hi, boss! So excited to dive into my new role at Co1t and eager to learn from your mentorship and guidance. Let's crush it!\"\n"
     ]
    }
   ],
   "source": [
    "# Append the previous response\n",
    "messages.append({\"role\": \"assistant\", \"content\": response.message.content[0].text})\n",
    "\n",
    "# Add the user message\n",
    "message = \"Thanks. Could you create another one for my DM to my manager.\"\n",
    "\n",
    "# Append the user message\n",
    "messages.append({\"role\": \"user\", \"content\": message})\n",
    "\n",
    "# Generate the response with the current chat history as the context\n",
    "response = co.chat(model=\"command-r-plus-08-2024\",\n",
    "                   messages=messages)\n",
    "\n",
    "print(response.message.content[0].text)"
   ]
  },
  {
   "cell_type": "markdown",
   "metadata": {},
   "source": [
    "## Viewing the chat history"
   ]
  },
  {
   "cell_type": "markdown",
   "metadata": {},
   "source": [
    "To look at the current chat history, you can print the `messages` list, which contains a list of `user` and `assistant` turns in the same sequence as they were created."
   ]
  },
  {
   "cell_type": "code",
   "execution_count": 6,
   "metadata": {},
   "outputs": [
    {
     "name": "stdout",
     "output_type": "stream",
     "text": [
      "{'role': 'system', 'content': '## Task and Context\\nGenerate concise responses, with maximum one-sentence.'} \n",
      "\n",
      "{'role': 'user', 'content': \"I'm joining a new startup called Co1t today. Could you help me write a short introduction message to my teammates.\"} \n",
      "\n",
      "{'role': 'assistant', 'content': '\"Hello, teammates! I\\'m thrilled to join the Co1t family today and looking forward to getting to know you all and contributing to our shared success.\"'} \n",
      "\n",
      "{'role': 'user', 'content': 'Make it more upbeat and conversational.'} \n",
      "\n",
      "{'role': 'assistant', 'content': '\"Hey, future Co1t buddies! Stoked to join this awesome team, let\\'s get to know each other and make some startup magic together!\"'} \n",
      "\n",
      "{'role': 'user', 'content': 'Thanks. Could you create another one for my DM to my manager.'} \n",
      "\n",
      "{'role': 'assistant', 'content': '\"Hi, boss! So excited to dive into my new role at Co1t and eager to learn from your mentorship and guidance. Let\\'s crush it!\"'} \n",
      "\n"
     ]
    }
   ],
   "source": [
    "# Append the previous response\n",
    "messages.append({\"role\": \"assistant\", \"content\": response.message.content[0].text})\n",
    "\n",
    "# View the chat history\n",
    "for message in messages:\n",
    "    print(message,\"\\n\")"
   ]
  },
  {
   "cell_type": "markdown",
   "metadata": {},
   "source": [
    "## Conclusion"
   ]
  },
  {
   "cell_type": "markdown",
   "metadata": {},
   "source": [
    "In this tutorial, you learned about:\n",
    "- How to create a custom preamble\n",
    "- How to create a single-turn conversation\n",
    "- How to build the conversation memory\n",
    "- How to run a multi-turn conversation\n",
    "- How to view the chat history\n",
    "\n",
    "You will use the same method for running a multi-turn conversation when you learn about other use cases such as RAG (Part 6) and tool use (Part 7).\n",
    "\n",
    "But to fully leverage these other capabilities, you will need another type of language model that generates text representations, or embeddings.\n",
    "\n",
    "In Part 4, you will learn how text embeddings can power an important use case for RAG, which is semantic search."
   ]
  },
  {
   "cell_type": "markdown",
   "metadata": {},
   "source": []
  }
 ],
 "metadata": {
  "kernelspec": {
   "display_name": "base",
   "language": "python",
   "name": "base"
  },
  "language_info": {
   "codemirror_mode": {
    "name": "ipython",
    "version": 3
   },
   "file_extension": ".py",
   "mimetype": "text/x-python",
   "name": "python",
   "nbconvert_exporter": "python",
   "pygments_lexer": "ipython3",
   "version": "3.11.4"
  }
 },
 "nbformat": 4,
 "nbformat_minor": 2
}
