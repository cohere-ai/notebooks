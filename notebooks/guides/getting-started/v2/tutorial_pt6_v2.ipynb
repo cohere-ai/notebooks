{
 "cells": [
  {
   "cell_type": "markdown",
   "metadata": {},
   "source": [
    "# RAG"
   ]
  },
  {
   "cell_type": "markdown",
   "metadata": {},
   "source": [
    "The Chat endpoint provides comprehensive support for various text generation use cases, including retrieval-augmented generation (RAG). \n",
    "\n",
    "While LLMs are good at maintaining the context of the conversation and generating responses, they can be prone to hallucinate and include factually incorrect or incomplete information in their responses.\n",
    "\n",
    "RAG enables a model to access and utilize supplementary information from external documents, thereby improving the accuracy of its responses.\n",
    "\n",
    "When using RAG with the Chat endpoint, these responses are backed by fine-grained citations linking to the source documents. This makes the responses easily verifiable.\n",
    "\n",
    "In this tutorial, you'll learn about:\n",
    "- Basic RAG\n",
    "- Search query generation\n",
    "- Retrieval with Embed\n",
    "- Reranking with Rerank\n",
    "- Response and citation generation\n",
    "\n",
    "You'll learn these by building an onboarding assistant for new hires."
   ]
  },
  {
   "cell_type": "markdown",
   "metadata": {},
   "source": [
    "## Setup\n",
    "\n",
    "To get started, first we need to install the `cohere` library and create a Cohere client."
   ]
  },
  {
   "cell_type": "code",
   "execution_count": 26,
   "metadata": {},
   "outputs": [],
   "source": [
    "\n",
    "# pip install cohere\n",
    "\n",
    "import cohere\n",
    "import numpy as np\n",
    "import json\n",
    "from typing import List\n",
    "\n",
    "co = cohere.ClientV2(api_key=\"YOUR_COHERE_API_KEY\") # Get your free API key: https://dashboard.cohere.com/api-keys"
   ]
  },
  {
   "cell_type": "markdown",
   "metadata": {},
   "source": [
    "## Basic RAG\n"
   ]
  },
  {
   "cell_type": "markdown",
   "metadata": {},
   "source": [
    "To see how RAG works, let's define the documents that the application has access to. We'll use a short list of documents consisting of internal FAQs about the fictitious company Co1t (in production, these documents are massive).\n",
    "\n",
    "In this example, each document is a dictionary with one field, `text`. But we can define any number of fields we want, depending on the nature of the documents. For example, emails could contain `title` and `text` fields."
   ]
  },
  {
   "cell_type": "code",
   "execution_count": 3,
   "metadata": {},
   "outputs": [],
   "source": [
    "documents = [\n",
    "    {\"text\": \"Reimbursing Travel Expenses: Easily manage your travel expenses by submitting them through our finance tool. Approvals are prompt and straightforward.\"},\n",
    "    {\"text\": \"Working from Abroad: Working remotely from another country is possible. Simply coordinate with your manager and ensure your availability during core hours.\"},\n",
    "    {\"text\": \"Health and Wellness Benefits: We care about your well-being and offer gym memberships, on-site yoga classes, and comprehensive health insurance.\"}\n",
    "]"
   ]
  },
  {
   "cell_type": "markdown",
   "metadata": {},
   "source": [
    "To use these documents, we create a `user` message containing two content fields:\n",
    "- `content` for the user's query.\n",
    "- `documents` for storing all the documents.\n",
    "\n",
    "The `documents` field consists of a list of dictionaries where each dictionary represents a document. A document can have different fields depending on its nature, such as `title`, `text`, `url`, etc. Optionally, you can also pass your own IDs for each document using the `id` field. Otherwise, the API will automatically generate the IDs based on the documents position in the list.\n",
    "\n",
    "We then pass this to the `messages` parameter in the Chat endpoint call. This tells the model to run in RAG-mode and use these documents in its response.\n",
    "\n",
    "Let's create a query asking about the company's support for personal well-being, which is not going to be available to the model based on the data its trained on. It will need to use external documents.\n",
    "\n",
    "RAG introduces additional objects in the Chat response. One of them is `citations`, which contains details about:\n",
    "- specific text spans from the retrieved documents on which the response is grounded.\n",
    "- the documents referenced in the citations."
   ]
  },
  {
   "cell_type": "code",
   "execution_count": 4,
   "metadata": {},
   "outputs": [
    {
     "name": "stdout",
     "output_type": "stream",
     "text": [
      "Yes, we offer gym memberships, on-site yoga classes, and comprehensive health insurance.\n",
      "\n",
      "CITATIONS:\n",
      "start=14 end=29 text='gym memberships' sources=[Source_Document(id='doc:0:2', document={'id': 'doc:0:2', 'text': 'Health and Wellness Benefits: We care about your well-being and offer gym memberships, on-site yoga classes, and comprehensive health insurance.'}, type='document')] \n",
      "\n",
      "start=31 end=51 text='on-site yoga classes' sources=[Source_Document(id='doc:0:2', document={'id': 'doc:0:2', 'text': 'Health and Wellness Benefits: We care about your well-being and offer gym memberships, on-site yoga classes, and comprehensive health insurance.'}, type='document')] \n",
      "\n",
      "start=57 end=88 text='comprehensive health insurance.' sources=[Source_Document(id='doc:0:2', document={'id': 'doc:0:2', 'text': 'Health and Wellness Benefits: We care about your well-being and offer gym memberships, on-site yoga classes, and comprehensive health insurance.'}, type='document')] \n",
      "\n"
     ]
    }
   ],
   "source": [
    "# Add the user query\n",
    "query = \"Are there health benefits?\"\n",
    "\n",
    "## OPTIONAL: Define document IDs\n",
    "# for i, doc in enumerate(documents):\n",
    "#     doc['id'] = str(i)\n",
    "\n",
    "# Add the user message containing the query and documents\n",
    "messages = [{'role': 'user', 'content': query, \"documents\": documents}]\n",
    "\n",
    "# Generate the response\n",
    "response = co.chat(model=\"command-r-plus\",\n",
    "                   messages=messages)\n",
    "\n",
    "# Display the response\n",
    "print(response.message.content[0].text)\n",
    "\n",
    "# Display the citations and source documents\n",
    "if response.message.citations:\n",
    "    print(\"\\nCITATIONS:\")\n",
    "    for citation in response.message.citations:\n",
    "        print(citation, \"\\n\")"
   ]
  },
  {
   "cell_type": "markdown",
   "metadata": {},
   "source": [
    "## Search query generation"
   ]
  },
  {
   "cell_type": "markdown",
   "metadata": {},
   "source": [
    "The previous example showed how to get started with RAG, and in particular, the augmented generation portion of RAG. But as its name implies, RAG consists of other steps, such as retrieval. \n",
    "\n",
    "In a basic RAG application, the steps involved are:\n",
    "\n",
    "- Transforming the user message into search queries\n",
    "- Retrieving relevant documents for a given search query\n",
    "- Generating the response and citations\n",
    "\n",
    "Let's now look at the first step—search query generation. The chatbot needs to generate an optimal set of search queries to use for retrieval. \n",
    "\n",
    "There are different possible approaches to this. In this example, we'll take a tool use approach.\n",
    "\n",
    "Here, we build a tool that takes a user query and returns a list of relevant document snippets for that query. The tool can generate one or multiple search queries depending on the user query.\n",
    "\n",
    "We'll not do a detailed walkthrough of tool use here as we'll do that in the next tutorial, which is a dedicated tutorial on tool use."
   ]
  },
  {
   "cell_type": "code",
   "execution_count": 37,
   "metadata": {},
   "outputs": [],
   "source": [
    "def generate_search_queries(message: str) -> List[str]:\n",
    "    \n",
    "    tools = [{\n",
    "        \"type\": \"function\",\n",
    "        \"function\": {\n",
    "            \"name\": \"document_search\",\n",
    "            \"description\" : \"Searches for textual documents based on a user query.\",\n",
    "            \"parameters\": {\n",
    "            \"type\": \"object\",\n",
    "            \"properties\": {\n",
    "                \"query\": {\"type\": \"string\", \"description\": \"The search query\"}\n",
    "            },\n",
    "            \"required\": [\"query\"]\n",
    "            }\n",
    "        }\n",
    "    }]\n",
    "        \n",
    "    response = co.chat(\n",
    "        model=\"command-r\",\n",
    "        messages=[{\"role\": \"user\", \"content\": message}],\n",
    "        tools=tools\n",
    "    )\n",
    "    \n",
    "    search_queries = []\n",
    "    \n",
    "    if response.message.tool_calls:\n",
    "        res = response.message\n",
    "        documents = []\n",
    "        for tc in res.tool_calls:\n",
    "            query = json.loads(tc.function.arguments)[\"query\"]\n",
    "            search_queries.append(query)\n",
    "        \n",
    "    return search_queries"
   ]
  },
  {
   "cell_type": "markdown",
   "metadata": {},
   "source": [
    "In the example below, the tool breaks down the user message into two separate queries."
   ]
  },
  {
   "cell_type": "code",
   "execution_count": 38,
   "metadata": {},
   "outputs": [
    {
     "name": "stdout",
     "output_type": "stream",
     "text": [
      "['stay connected with the company', 'team events']\n"
     ]
    }
   ],
   "source": [
    "query = \"How to stay connected with the company and do you organize team events?\"\n",
    "queries_for_search = generate_search_queries(query)\n",
    "print(queries_for_search)"
   ]
  },
  {
   "cell_type": "markdown",
   "metadata": {},
   "source": [
    "And in the example below, the tool decides that one query is sufficient."
   ]
  },
  {
   "cell_type": "code",
   "execution_count": 39,
   "metadata": {},
   "outputs": [
    {
     "name": "stdout",
     "output_type": "stream",
     "text": [
      "['working hours flexibility']\n"
     ]
    }
   ],
   "source": [
    "query = \"How flexible are the working hours\"\n",
    "queries_for_search = generate_search_queries(query)\n",
    "print(queries_for_search)"
   ]
  },
  {
   "cell_type": "markdown",
   "metadata": {},
   "source": [
    "## Retrieval with Embed"
   ]
  },
  {
   "cell_type": "markdown",
   "metadata": {},
   "source": [
    "Given the search query, we need a way to retrieve the most relevant documents from a large collection of documents.\n",
    "\n",
    "This is where we can leverage text embeddings through the Embed endpoint. It enables semantic search, which lets us to compare the semantic meaning of the documents and the query. It solves the problem faced by the more traditional approach of lexical search, which is great at finding keyword matches, but struggles at capturing the context or meaning of a piece of text.\n",
    "\n",
    "The Embed endpoint takes in texts as input and returns embeddings as output.\n",
    "\n",
    "First, we need to embed the documents to search from. We call the Embed endpoint using `co.embed()` and pass the following arguments:\n",
    "\n",
    "- `model`: Here we choose `embed-english-v3.0`, which generates embeddings of size 1024\n",
    "- `input_type`: We choose `search_document` to ensure the model treats these as the documents (instead of the query) for search\n",
    "- `texts`: The list of texts (the FAQs)"
   ]
  },
  {
   "cell_type": "code",
   "execution_count": 8,
   "metadata": {},
   "outputs": [],
   "source": [
    "# Define the documents\n",
    "faqs_long = [\n",
    "    {\"text\": \"Joining Slack Channels: You will receive an invite via email. Be sure to join relevant channels to stay informed and engaged.\"},\n",
    "    {\"text\": \"Finding Coffee Spots: For your caffeine fix, head to the break room's coffee machine or cross the street to the café for artisan coffee.\"},\n",
    "    {\"text\": \"Team-Building Activities: We foster team spirit with monthly outings and weekly game nights. Feel free to suggest new activity ideas anytime!\"},\n",
    "    {\"text\": \"Working Hours Flexibility: We prioritize work-life balance. While our core hours are 9 AM to 5 PM, we offer flexibility to adjust as needed.\"},\n",
    "    {\"text\": \"Side Projects Policy: We encourage you to pursue your passions. Just be mindful of any potential conflicts of interest with our business.\"},\n",
    "    {\"text\": \"Reimbursing Travel Expenses: Easily manage your travel expenses by submitting them through our finance tool. Approvals are prompt and straightforward.\"},\n",
    "    {\"text\": \"Working from Abroad: Working remotely from another country is possible. Simply coordinate with your manager and ensure your availability during core hours.\"},\n",
    "    {\"text\": \"Health and Wellness Benefits: We care about your well-being and offer gym memberships, on-site yoga classes, and comprehensive health insurance.\"},\n",
    "    {\"text\": \"Performance Reviews Frequency: We conduct informal check-ins every quarter and formal performance reviews twice a year.\"},\n",
    "    {\"text\": \"Proposing New Ideas: Innovation is welcomed! Share your brilliant ideas at our weekly team meetings or directly with your team lead.\"},\n",
    "]\n",
    "\n",
    "# Embed the documents\n",
    "doc_emb = co.embed(\n",
    "            model=\"embed-english-v3.0\",\n",
    "            input_type=\"search_document\",\n",
    "            texts=[doc['text'] for doc in faqs_long]).embeddings\n"
   ]
  },
  {
   "cell_type": "markdown",
   "metadata": {},
   "source": [
    "Next, we add a query, which asks about how to get to know the team.\n",
    "\n",
    "We choose `search_query` as the `input_type` to ensure the model treats this as the query (instead of the documents) for search."
   ]
  },
  {
   "cell_type": "code",
   "execution_count": 14,
   "metadata": {},
   "outputs": [
    {
     "name": "stdout",
     "output_type": "stream",
     "text": [
      "Search query:  how to get to know teammates\n"
     ]
    }
   ],
   "source": [
    "# Add the user query\n",
    "query = \"How to get to know my teammates\"\n",
    "\n",
    "# Generate the search query\n",
    "# Note: For simplicity, we are assuming only one query generated. For actual implementations, you will need to perform search for each query.\n",
    "queries_for_search = generate_search_queries(query)[0]\n",
    "print(\"Search query: \", queries_for_search)\n",
    "\n",
    "# Embed the search query\n",
    "query_emb = co.embed(\n",
    "    model=\"embed-english-v3.0\",\n",
    "    input_type=\"search_query\",\n",
    "    texts=[queries_for_search]).embeddings\n"
   ]
  },
  {
   "cell_type": "markdown",
   "metadata": {},
   "source": [
    "Now, we want to search for the most relevant documents to the query. For this, we make use of the `numpy` library to compute the similarity between each query-document pair using the dot product approach.\n",
    "\n",
    "Each query-document pair returns a score, which represents how similar the pair are. We then sort these scores in descending order and select the top most similar pairs, which we choose 5 (this is an arbitrary choice, you can choose any number).\n",
    "\n",
    "Here, we show the most relevant documents with their similarity scores."
   ]
  },
  {
   "cell_type": "code",
   "execution_count": 15,
   "metadata": {},
   "outputs": [
    {
     "name": "stdout",
     "output_type": "stream",
     "text": [
      "Rank: 1\n",
      "Score: 0.34212792245283796\n",
      "Document: {'text': 'Team-Building Activities: We foster team spirit with monthly outings and weekly game nights. Feel free to suggest new activity ideas anytime!'}\n",
      "\n",
      "Rank: 2\n",
      "Score: 0.2883222063024371\n",
      "Document: {'text': 'Proposing New Ideas: Innovation is welcomed! Share your brilliant ideas at our weekly team meetings or directly with your team lead.'}\n",
      "\n",
      "Rank: 3\n",
      "Score: 0.278128283997032\n",
      "Document: {'text': 'Joining Slack Channels: You will receive an invite via email. Be sure to join relevant channels to stay informed and engaged.'}\n",
      "\n",
      "Rank: 4\n",
      "Score: 0.19474858706643985\n",
      "Document: {'text': \"Finding Coffee Spots: For your caffeine fix, head to the break room's coffee machine or cross the street to the café for artisan coffee.\"}\n",
      "\n",
      "Rank: 5\n",
      "Score: 0.13713692506528824\n",
      "Document: {'text': 'Side Projects Policy: We encourage you to pursue your passions. Just be mindful of any potential conflicts of interest with our business.'}\n",
      "\n"
     ]
    }
   ],
   "source": [
    "# Compute dot product similarity and display results\n",
    "n = 5\n",
    "scores = np.dot(query_emb, np.transpose(doc_emb))[0]\n",
    "max_idx = np.argsort(-scores)[:n]\n",
    "\n",
    "retrieved_documents = [faqs_long[item] for item in max_idx]\n",
    "\n",
    "for rank, idx in enumerate(max_idx):\n",
    "    print(f\"Rank: {rank+1}\")\n",
    "    print(f\"Score: {scores[idx]}\")\n",
    "    print(f\"Document: {retrieved_documents[rank]}\\n\")\n"
   ]
  },
  {
   "cell_type": "markdown",
   "metadata": {},
   "source": [
    "Reranking can boost the results from semantic or lexical search further. The Rerank endpoint takes a list of search results and reranks them according to the most relevant documents to a query. This requires just a single line of code to implement.\n",
    "\n",
    "We call the endpoint using `co.rerank()` and pass the following arguments:\n",
    "\n",
    "- `query`: The user query\n",
    "- `documents`: The list of documents we get from the semantic search results\n",
    "- `top_n`: The top reranked documents to select\n",
    "- `model`: We choose Rerank English 3\n",
    "\n",
    "Looking at the results, we see that the given a query about getting to know the team, the document that talks about joining Slack channels is now ranked higher (1st) compared to earlier (3rd).\n",
    "\n",
    "Here we select `top_n` to be 2, which will be the documents we will pass next for response generation."
   ]
  },
  {
   "cell_type": "code",
   "execution_count": 16,
   "metadata": {},
   "outputs": [
    {
     "name": "stdout",
     "output_type": "stream",
     "text": [
      "Rank: 1\n",
      "Score: 0.0020507434\n",
      "Document: {'text': 'Joining Slack Channels: You will receive an invite via email. Be sure to join relevant channels to stay informed and engaged.'}\n",
      "\n",
      "Rank: 2\n",
      "Score: 0.0014158706\n",
      "Document: {'text': 'Team-Building Activities: We foster team spirit with monthly outings and weekly game nights. Feel free to suggest new activity ideas anytime!'}\n",
      "\n"
     ]
    }
   ],
   "source": [
    "# Rerank the documents\n",
    "results = co.rerank(query=queries_for_search,\n",
    "                    documents=retrieved_documents,\n",
    "                    top_n=2,\n",
    "                    model='rerank-english-v3.0')\n",
    "\n",
    "# Display the reranking results\n",
    "for idx, result in enumerate(results.results):\n",
    "    print(f\"Rank: {idx+1}\") \n",
    "    print(f\"Score: {result.relevance_score}\")\n",
    "    print(f\"Document: {retrieved_documents[result.index]}\\n\")\n",
    "    \n",
    "reranked_documents = [retrieved_documents[result.index] for result in results.results]"
   ]
  },
  {
   "cell_type": "markdown",
   "metadata": {},
   "source": [
    "Finally we reach the step that we saw in the earlier `Basic RAG` section.\n",
    "\n",
    "To use these documents, we create a `user` message containing two content types:\n",
    "- `text` for the user's query.\n",
    "- `document` for storing all the documents.\n",
    "\n",
    "We then pass this to the `messages` parameter in the Chat endpoint call. This tells the model to run in RAG-mode and use these documents in its response.\n",
    "\n",
    "The response is then generated based on the the query and the documents retrieved.\n",
    "\n",
    "RAG introduces additional objects in the Chat response. One of them is `citations`, which contains details about:\n",
    "- specific text spans from the retrieved documents on which the response is grounded.\n",
    "- the documents referenced in the citations."
   ]
  },
  {
   "cell_type": "code",
   "execution_count": 24,
   "metadata": {},
   "outputs": [
    {
     "name": "stdout",
     "output_type": "stream",
     "text": [
      "You can get to know your teammates by joining your company's Slack channels and taking part in team-building activities. You will receive an invite to join relevant Slack channels via email. Your company also organises monthly outings and weekly game nights to foster team spirit.\n",
      "\n",
      "CITATIONS:\n",
      "start=38 end=75 text=\"joining your company's Slack channels\" sources=[Source_Document(id='doc:0:0', document={'id': 'doc:0:0', 'text': 'Joining Slack Channels: You will receive an invite via email. Be sure to join relevant channels to stay informed and engaged.'}, type='document')] \n",
      "\n",
      "start=95 end=120 text='team-building activities.' sources=[Source_Document(id='doc:0:1', document={'id': 'doc:0:1', 'text': 'Team-Building Activities: We foster team spirit with monthly outings and weekly game nights. Feel free to suggest new activity ideas anytime!'}, type='document')] \n",
      "\n",
      "start=130 end=190 text='receive an invite to join relevant Slack channels via email.' sources=[Source_Document(id='doc:0:0', document={'id': 'doc:0:0', 'text': 'Joining Slack Channels: You will receive an invite via email. Be sure to join relevant channels to stay informed and engaged.'}, type='document')] \n",
      "\n",
      "start=219 end=280 text='monthly outings and weekly game nights to foster team spirit.' sources=[Source_Document(id='doc:0:1', document={'id': 'doc:0:1', 'text': 'Team-Building Activities: We foster team spirit with monthly outings and weekly game nights. Feel free to suggest new activity ideas anytime!'}, type='document')] \n",
      "\n"
     ]
    }
   ],
   "source": [
    "# Add the user message containing the query and documents\n",
    "messages = [{'role': 'user', 'content': query, \"documents\": reranked_documents}]\n",
    "\n",
    "# Generate the response\n",
    "response = co.chat(model=\"command-r-plus\",\n",
    "                   messages=messages)\n",
    "\n",
    "# Display the response\n",
    "print(response.message.content[0].text)\n",
    "\n",
    "# Display the citations and source documents\n",
    "if response.message.citations:\n",
    "    print(\"\\nCITATIONS:\")\n",
    "    for citation in response.message.citations:\n",
    "        print(citation, \"\\n\")"
   ]
  },
  {
   "cell_type": "code",
   "execution_count": null,
   "metadata": {},
   "outputs": [],
   "source": []
  }
 ],
 "metadata": {
  "kernelspec": {
   "display_name": "base",
   "language": "python",
   "name": "base"
  },
  "language_info": {
   "codemirror_mode": {
    "name": "ipython",
    "version": 3
   },
   "file_extension": ".py",
   "mimetype": "text/x-python",
   "name": "python",
   "nbconvert_exporter": "python",
   "pygments_lexer": "ipython3",
   "version": "3.11.4"
  }
 },
 "nbformat": 4,
 "nbformat_minor": 2
}
