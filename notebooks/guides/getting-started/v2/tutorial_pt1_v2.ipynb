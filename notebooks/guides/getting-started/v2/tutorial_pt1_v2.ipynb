{
 "cells": [
  {
   "cell_type": "markdown",
   "metadata": {},
   "source": [
    "# Cohere Tutorial\n",
    "\n",
    "#### Build your first Cohere application: An onboarding assistant for new hires"
   ]
  },
  {
   "cell_type": "markdown",
   "metadata": {},
   "source": [
    "Welcome to the Cohere tutorial – a hands-on introduction to Cohere!\n",
    "\n",
    "In this tutorial, you will learn how to use the Cohere API, specifically three endpoints: Chat, Embed, and Rerank.\n",
    "\n",
    "This tutorial is split over seven parts, with each part focusing on one use case, as follows:\n",
    "\n",
    "- Part 1: Installation and Setup (Pre-requisite)\n",
    "- Part 2: Text Generation\n",
    "- Part 3: Chatbots\n",
    "- Part 4: Semantic Search\n",
    "- Part 5: Reranking\n",
    "- Part 6: Retrieval-Augmented Generation (RAG)\n",
    "- Part 7: Agents with Tool Use\n",
    "\n",
    "You'll learn about these use cases by building an onboarding assistant that helps new hires onboard to a fictitious company called Co1t. The assistant can help write introductions, answer user questions about the company, search for information from e-mails, and create meeting appointments.\n",
    "\n",
    "We recommend that you follow the parts sequentially. However, feel free to skip to specific parts if you want (apart from Part 1, which is a pre-requisite) because each part also works as a standalone tutorial.\n",
    "\n",
    "Total Duration: ~15 minutes"
   ]
  },
  {
   "cell_type": "markdown",
   "metadata": {},
   "source": [
    "## Installation and Setup"
   ]
  },
  {
   "cell_type": "markdown",
   "metadata": {},
   "source": [
    "The Cohere platform lets developers access large language model (LLM) capabilities with a few lines of code. These LLMs can solve a broad spectrum of natural language use cases, including classification, semantic search, paraphrasing, summarization, and content generation.\n",
    "\n",
    "Cohere's models can be accessed through the playground, SDK, and CLI tool. We support SDKs in four different languages: Python, Typescript, Java, and Go.\n",
    "\n",
    "This tutorial uses the Python SDK and accesses the models through the Cohere platform.\n",
    "\n",
    "To get started, first install the Cohere Python SDK."
   ]
  },
  {
   "cell_type": "code",
   "execution_count": null,
   "metadata": {},
   "outputs": [],
   "source": [
    "! pip install -U cohere"
   ]
  },
  {
   "cell_type": "markdown",
   "metadata": {},
   "source": [
    "Next, we'll import the `cohere` library and create a client to be used throughout the examples. We create a client by passing the Cohere API key as an argument. To get an API key, [sign up with Cohere](https://dashboard.cohere.com/welcome/register) and get the API key [from the dashboard](https://dashboard.cohere.com/api-keys)."
   ]
  },
  {
   "cell_type": "code",
   "execution_count": 2,
   "metadata": {},
   "outputs": [],
   "source": [
    "import cohere\n",
    "\n",
    "co = cohere.ClientV2(api_key=\"YOUR_COHERE_API_KEY\") # Get your free API key: https://dashboard.cohere.com/api-keys"
   ]
  },
  {
   "cell_type": "markdown",
   "metadata": {},
   "source": [
    "# Accessing Cohere from Other Platforms"
   ]
  },
  {
   "cell_type": "markdown",
   "metadata": {},
   "source": [
    "The Cohere platform is the fastest way to access Cohere's models and get started.\n",
    "\n",
    "However, if you prefer other options, you can access Cohere's models through other platforms such as Amazon Bedrock, Amazon SageMaker, Azure AI Studio, and Oracle Cloud Infrastructure (OCI) Generative AI Service.\n",
    "\n",
    "Read this documentation on [Cohere SDK cloud platform compatibility](https://docs.cohere.com/docs/cohere-works-everywhere)."
   ]
  },
  {
   "cell_type": "markdown",
   "metadata": {},
   "source": [
    "## Amazon Bedrock"
   ]
  },
  {
   "cell_type": "markdown",
   "metadata": {},
   "source": [
    "The following is how you can create a Cohere client on Amazon Bedrock.\n",
    "\n",
    "For further information, read this documentation on [Cohere on Bedrock](https://docs.cohere.com/docs/cohere-on-aws#amazon-bedrock)."
   ]
  },
  {
   "cell_type": "code",
   "execution_count": null,
   "metadata": {},
   "outputs": [],
   "source": [
    "import cohere\n",
    "\n",
    "co = cohere.BedrockClient(\n",
    "    aws_region=\"...\",\n",
    "    aws_access_key=\"...\",\n",
    "    aws_secret_key=\"...\",\n",
    "    aws_session_token=\"...\",\n",
    ")"
   ]
  },
  {
   "cell_type": "markdown",
   "metadata": {},
   "source": [
    "## Amazon SageMaker"
   ]
  },
  {
   "cell_type": "markdown",
   "metadata": {},
   "source": [
    "The following is how you can create a Cohere client on Amazon SageMaker.\n",
    "\n",
    "For further information, read this documentation on [Cohere on SageMaker](https://docs.cohere.com/docs/cohere-on-aws#amazon-sagemaker)."
   ]
  },
  {
   "cell_type": "code",
   "execution_count": null,
   "metadata": {},
   "outputs": [],
   "source": [
    "import cohere\n",
    "\n",
    "co = cohere.SagemakerClient(\n",
    "    aws_region=\"us-east-1\",\n",
    "    aws_access_key=\"...\",\n",
    "    aws_secret_key=\"...\",\n",
    "    aws_session_token=\"...\",\n",
    ")"
   ]
  },
  {
   "cell_type": "markdown",
   "metadata": {},
   "source": [
    "## Microsoft Azure"
   ]
  },
  {
   "cell_type": "markdown",
   "metadata": {},
   "source": [
    "The following is how you can create a Cohere client on Microsoft Azure.\n",
    "\n",
    "For further information, read this documentation on [Cohere on Azure](https://docs.cohere.com/docs/cohere-on-microsoft-azure)."
   ]
  },
  {
   "cell_type": "code",
   "execution_count": null,
   "metadata": {},
   "outputs": [],
   "source": [
    "import cohere\n",
    "\n",
    "co = cohere.Client(\n",
    "  api_key=\"...\",\n",
    "  base_url=\"...\",\n",
    ")"
   ]
  },
  {
   "cell_type": "markdown",
   "metadata": {},
   "source": [
    "In Part 2, we'll get started with the first use case - text generation."
   ]
  }
 ],
 "metadata": {
  "kernelspec": {
   "display_name": "base",
   "language": "python",
   "name": "base"
  },
  "language_info": {
   "codemirror_mode": {
    "name": "ipython",
    "version": 3
   },
   "file_extension": ".py",
   "mimetype": "text/x-python",
   "name": "python",
   "nbconvert_exporter": "python",
   "pygments_lexer": "ipython3",
   "version": "3.11.4"
  }
 },
 "nbformat": 4,
 "nbformat_minor": 2
}
